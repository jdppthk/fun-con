{
 "cells": [
  {
   "cell_type": "code",
   "execution_count": 4,
   "metadata": {},
   "outputs": [],
   "source": [
    "import numpy as np\n",
    "import pandas as pd\n",
    "import os\n",
    "import matplotlib.pyplot as plt\n",
    "%matplotlib inline"
   ]
  },
  {
   "cell_type": "code",
   "execution_count": 5,
   "metadata": {},
   "outputs": [],
   "source": [
    "from swdb_2018_neuropixels.ephys_nwb_adapter import NWB_adapter    "
   ]
  },
  {
   "cell_type": "code",
   "execution_count": 6,
   "metadata": {},
   "outputs": [],
   "source": [
    "drive_path = '/data/dynamic-brain-workshop/visual_coding_neuropixels'"
   ]
  },
  {
   "cell_type": "code",
   "execution_count": 7,
   "metadata": {},
   "outputs": [],
   "source": [
    "manifest_file = os.path.join(drive_path,'ephys_manifest.csv')\n",
    "expt_info_df = pd.read_csv(manifest_file)\n",
    "multi_probe_expt_info = expt_info_df[expt_info_df.experiment_type == 'multi_probe']\n",
    "multi_probe_example = 1 # index to row in multi_probe_expt_info\n",
    "multi_probe_filename  = multi_probe_expt_info.iloc[multi_probe_example]['nwb_filename']\n",
    "nwb_file = os.path.join(drive_path,multi_probe_filename)\n",
    "data_set = NWB_adapter(nwb_file)"
   ]
  },
  {
   "cell_type": "code",
   "execution_count": 8,
   "metadata": {},
   "outputs": [],
   "source": [
    "from downsampling_module import downsample_images"
   ]
  },
  {
   "cell_type": "code",
   "execution_count": 9,
   "metadata": {},
   "outputs": [],
   "source": [
    "nat_scenes = np.load('natural_scenes.npy')"
   ]
  },
  {
   "cell_type": "code",
   "execution_count": 10,
   "metadata": {},
   "outputs": [],
   "source": [
    "ds_nat_scenes = np.array(downsample_images(nat_scenes, 25, 25))\n",
    "ds_nat_scenes = ds_nat_scenes*(1.0/255.0)"
   ]
  },
  {
   "cell_type": "code",
   "execution_count": 11,
   "metadata": {},
   "outputs": [
    {
     "name": "stdout",
     "output_type": "stream",
     "text": [
      "(118, 36, 46)\n"
     ]
    },
    {
     "data": {
      "text/plain": [
       "<matplotlib.colorbar.Colorbar at 0x7f395bb1a9d0>"
      ]
     },
     "execution_count": 11,
     "metadata": {},
     "output_type": "execute_result"
    },
    {
     "data": {
      "image/png": "[encoded data removed]",
      "text/plain": [
       "<Figure size 432x288 with 2 Axes>"
      ]
     },
     "metadata": {},
     "output_type": "display_data"
    }
   ],
   "source": [
    "print(ds_nat_scenes.shape)\n",
    "plt.imshow(ds_nat_scenes[7], cmap='gray')\n",
    "plt.colorbar()"
   ]
  },
  {
   "cell_type": "code",
   "execution_count": 12,
   "metadata": {},
   "outputs": [],
   "source": [
    "from downsampling_module import flatten_images"
   ]
  },
  {
   "cell_type": "code",
   "execution_count": 13,
   "metadata": {},
   "outputs": [],
   "source": [
    "flattened_image_list = flatten_images(np.array(ds_nat_scenes))"
   ]
  },
  {
   "cell_type": "code",
   "execution_count": 14,
   "metadata": {},
   "outputs": [
    {
     "data": {
      "text/plain": [
       "<matplotlib.image.AxesImage at 0x7f3958265a10>"
      ]
     },
     "execution_count": 14,
     "metadata": {},
     "output_type": "execute_result"
    },
    {
     "data": {
      "image/png": "[encoded data removed]",
      "text/plain": [
       "<Figure size 432x288 with 1 Axes>"
      ]
     },
     "metadata": {},
     "output_type": "display_data"
    }
   ],
   "source": [
    "plt.imshow(flattened_image_list[7].reshape(36,46), cmap='gray')"
   ]
  },
  {
   "cell_type": "code",
   "execution_count": 15,
   "metadata": {},
   "outputs": [],
   "source": [
    "stim_table = data_set.get_stimulus_table('natural_scenes')"
   ]
  },
  {
   "cell_type": "code",
   "execution_count": 16,
   "metadata": {},
   "outputs": [],
   "source": [
    "def get_frame_at_time(time, stim_table):\n",
    "    starts = stim_table.start.values\n",
    "    idx = np.searchsorted(starts, time)-1\n",
    "    return(stim_table.iloc[idx].values[2])"
   ]
  },
  {
   "cell_type": "code",
   "execution_count": 17,
   "metadata": {},
   "outputs": [],
   "source": [
    "def get_stim_time_array(stim_table, tns_start, tns_end, bin_len, flattened_image_list):\n",
    "    T = int(np.floor((tns_end - tns_start)/bin_len))\n",
    "    time_array = np.linspace(tns_start,tns_end,T)\n",
    "    stim_array = []\n",
    "    for idx, time_point in enumerate(time_array):\n",
    "        stim_index = get_frame_at_time(time_point, stim_table)\n",
    "        stim_array.append(flattened_image_list[int(stim_index)])\n",
    "    return(stim_array, time_array)\n",
    "\n",
    "# def get_stim_time_arrays_imgs(stim_table, bin_len, flattened_image_list, imgs, nums):\n",
    "#     time_arrays = []\n",
    "#     stim_arrays = []\n",
    "#     for num in nums:\n",
    "#         stim_array = []\n",
    "#         for img in imgs:\n",
    "#             for i in range(num):   \n",
    "    "
   ]
  },
  {
   "cell_type": "code",
   "execution_count": 92,
   "metadata": {},
   "outputs": [
    {
     "name": "stdout",
     "output_type": "stream",
     "text": [
      "(112,)\n"
     ]
    },
    {
     "data": {
      "image/png": "[encoded data removed]",
      "text/plain": [
       "<Figure size 432x288 with 1 Axes>"
      ]
     },
     "metadata": {},
     "output_type": "display_data"
    }
   ],
   "source": [
    "print np.unique(stim_table.frame.values[:300]).shape\n",
    "a = plt.hist(stim_table.frame.values[:300],bins=118)"
   ]
  },
  {
   "cell_type": "code",
   "execution_count": 19,
   "metadata": {},
   "outputs": [
    {
     "name": "stdout",
     "output_type": "stream",
     "text": [
      "112\n",
      "5908.725920000001\n",
      "5984.037139999999\n"
     ]
    }
   ],
   "source": [
    "bin_len = 0.001\n",
    "num_stim_rows = 300\n",
    "imgs = np.unique(stim_table.frame.values[:num_stim_rows])\n",
    "print len(imgs)\n",
    "tns_start = stim_table.iloc[0].values[0]\n",
    "tns_end = stim_table.iloc[num_stim_rows].values[1]\n",
    "print(tns_start)\n",
    "print(tns_end)"
   ]
  },
  {
   "cell_type": "code",
   "execution_count": 20,
   "metadata": {},
   "outputs": [
    {
     "name": "stdout",
     "output_type": "stream",
     "text": [
      "5908.725920000001\n",
      "5984.037139999999\n"
     ]
    }
   ],
   "source": [
    "[stim_array, time_array] = get_stim_time_array(stim_table,tns_start,tns_end,bin_len,flattened_image_list)\n",
    "print(tns_start)\n",
    "print(tns_end)"
   ]
  },
  {
   "cell_type": "code",
   "execution_count": 21,
   "metadata": {},
   "outputs": [
    {
     "name": "stdout",
     "output_type": "stream",
     "text": [
      "(75311, 1656)\n",
      "(75311,)\n"
     ]
    }
   ],
   "source": [
    "print(np.shape(stim_array))\n",
    "\n",
    "print(np.shape(time_array))\n"
   ]
  },
  {
   "cell_type": "code",
   "execution_count": 22,
   "metadata": {},
   "outputs": [
    {
     "name": "stdout",
     "output_type": "stream",
     "text": [
      "5908.725920000001\n",
      "5984.037139999999\n",
      "(75311,)\n"
     ]
    }
   ],
   "source": [
    "# print(time_array.shape)\n",
    "# print(np.array(stim_array).shape)\n",
    "\n",
    "# time_array_short = time_array[0:len(time_array)/4]\n",
    "# stim_array_short = stim_array[:,:len(time_array)/4]\n",
    "# print(time_array_short.shape)\n",
    "# print(np.array(stim_array_short).shape)\n",
    "\n",
    "tns_start = time_array[0]\n",
    "tns_end = time_array[-1]\n",
    "print(tns_start)\n",
    "print(tns_end)\n",
    "\n",
    "print(time_array.shape)\n"
   ]
  },
  {
   "cell_type": "code",
   "execution_count": 23,
   "metadata": {},
   "outputs": [],
   "source": [
    "def bin_spikes(data_set,bin_len,t_start,t_final,probes=None,regions=None):\n",
    "    if probes is None:\n",
    "        probes = data_set.probe_list\n",
    "    if regions is None:\n",
    "        regions = data_set.unit_df.structure.unique()\n",
    "    \n",
    "    #gather cells from desired regions and probes into cell_table\n",
    "    use_cells = False\n",
    "    for probe in probes:\n",
    "        for region in regions:\n",
    "            use_cells |= (data_set.unit_df.probe==probe) & (data_set.unit_df.structure==region)\n",
    "    cell_table = data_set.unit_df[use_cells]\n",
    "    \n",
    "    N = len(cell_table)     #number of cells\n",
    "    T = int(np.floor((t_final-t_start)/bin_len)) #number of time bins\n",
    "    binned_spikes = np.zeros((N,T)) # binned_spikes[i,j] is the number of spikes from neuron i in time bin j\n",
    "\n",
    "    #for each cell in the table, add each spike to the appropriate bin\n",
    "    i = 0\n",
    "    for z,cell in cell_table.iterrows(): \n",
    "        for spike_time in data_set.spike_times[cell['probe']][cell['unit_id']]:\n",
    "            t = int(np.floor((spike_time-t_start)/bin_len))\n",
    "            if (t >=0) & (t<T):\n",
    "                binned_spikes[i,t] += 1\n",
    "        i+=1    \n",
    "    return (binned_spikes, cell_table)"
   ]
  },
  {
   "cell_type": "code",
   "execution_count": 24,
   "metadata": {},
   "outputs": [],
   "source": [
    "(binned_spikes, cell_table) = bin_spikes(data_set,bin_len,tns_start,tns_end,regions=['VISp'])"
   ]
  },
  {
   "cell_type": "code",
   "execution_count": 25,
   "metadata": {},
   "outputs": [
    {
     "data": {
      "text/plain": [
       "(71, 75311)"
      ]
     },
     "execution_count": 25,
     "metadata": {},
     "output_type": "execute_result"
    }
   ],
   "source": [
    "binned_spikes.shape"
   ]
  },
  {
   "cell_type": "code",
   "execution_count": 26,
   "metadata": {},
   "outputs": [
    {
     "data": {
      "text/plain": [
       "[<matplotlib.lines.Line2D at 0x7f395802bd90>]"
      ]
     },
     "execution_count": 26,
     "metadata": {},
     "output_type": "execute_result"
    },
    {
     "data": {
      "image/png": "[encoded data removed]",
      "text/plain": [
       "<Figure size 432x288 with 1 Axes>"
      ]
     },
     "metadata": {},
     "output_type": "display_data"
    }
   ],
   "source": [
    "k = 25\n",
    "cell_idxs = np.argsort(binned_spikes.sum(axis=1))\n",
    "reduced_binned_spikes = binned_spikes[cell_idxs[-k:],:]\n",
    "plt.plot(binned_spikes.sum(axis=1)[cell_idxs])"
   ]
  },
  {
   "cell_type": "code",
   "execution_count": 27,
   "metadata": {},
   "outputs": [
    {
     "data": {
      "text/plain": [
       "(25, 75311)"
      ]
     },
     "execution_count": 27,
     "metadata": {},
     "output_type": "execute_result"
    }
   ],
   "source": [
    "reduced_binned_spikes.shape"
   ]
  },
  {
   "cell_type": "code",
   "execution_count": 48,
   "metadata": {},
   "outputs": [],
   "source": [
    "def construct_GLM_mat(flat_stimulus, binned_spikes, d_stim, d_spk):\n",
    "    (N,T) = binned_spikes.shape # N is number of neurons, T is number of time bins\n",
    "#     print(\"N,T\", (N,T))\n",
    "    (M,T) = flat_stimulus.shape # M is the size of a stimulus\n",
    "#     print(\"M,T\", (M,T))\n",
    "    X_dsn = np.empty((T-d_stim,M*d_stim+N*d_spk))\n",
    "    d_max = max(d_stim,d_spk)\n",
    "    for t in range(T-d_max):\n",
    "        X_dsn[t,:M*d_stim] = np.fliplr(flat_stimulus[:,t+d_max-d_stim:t+d_max]).reshape((1,-1))  #stimulus inputs\n",
    "        X_dsn[t,M*d_stim:] = np.fliplr(binned_spikes[:,t+d_max-d_spk:t+d_max]).reshape((1,-1)) #spike inputs\n",
    "    return X_dsn    \n"
   ]
  },
  {
   "cell_type": "code",
   "execution_count": 29,
   "metadata": {},
   "outputs": [],
   "source": [
    "import keras\n",
    "from keras import backend as K\n",
    "from keras.models import Model\n",
    "from keras.layers import Input\n",
    "from keras import Sequential\n",
    "from keras.layers import Dense, Lambda\n",
    "from keras.regularizers import Regularizer\n",
    "from keras.callbacks import ModelCheckpoint\n",
    "import os\n",
    "os.environ[\"CUDA_DEVICE_ORDER\"] = \"PCI_BUS_ID\"   # see issue #152\n",
    "os.environ[\"CUDA_VISIBLE_DEVICES\"] = \"\"\n",
    "\n",
    "def GLM_network_fit(stimulus,spikes,d_stim, d_spk,bin_len,f='exp',priors=None,L1=None):\n",
    "    N = spikes.shape[0]\n",
    "#     print(\"N\", N)\n",
    "    M = stimulus.shape[0]\n",
    "#     print(\"M\", M)\n",
    "    F = np.empty((N,M,d_stim)) # stimulus filters\n",
    "    W = np.empty((N,N,d_spk))  # spike train filters\n",
    "    b = np.empty((N,)) # biases\n",
    "    losses = np.empty((N,))\n",
    "    models = []\n",
    "    fs = {'exp':K.exp}\n",
    "    Xdsn = construct_GLM_mat(stimulus,spikes, d_stim, d_spk)\n",
    "    for i in range(N):\n",
    "        y = spikes[i,max(d_stim,d_spk):]\n",
    "        # construct GLM model and return fit\n",
    "        model = Sequential()\n",
    "        model.add(Dense(1,input_dim = Xdsn.shape[1],use_bias=True))\n",
    "        model.add(Lambda(lambda x: fs[f](x)*bin_len))\n",
    "        model.compile(loss = 'poisson',optimizer = keras.optimizers.adam(lr=5e-5))\n",
    "#        checkpointer = ModelCheckpoint(filepath='weights.hdf5', verbose=1, save_best_only=False)\n",
    "        model.fit(x=Xdsn,y=y,batch_size=5000,epochs=6,verbose=2)\n",
    "        p = model.get_weights()[0]\n",
    "        F[i,:,:] = p[:M*d_stim].reshape((M,d_stim))\n",
    "        W[i,:,:] = p[M*d_stim:].reshape((N,d_spk))\n",
    "        b[i] = model.get_weights()[1]\n",
    "#         losses[i] = model.evaluate(x=Xdsn,y=y,verbose=0)\n",
    "        models.append(model)\n",
    "    return (F,W,b,losses,models)\n"
   ]
  },
  {
   "cell_type": "code",
   "execution_count": 30,
   "metadata": {},
   "outputs": [
    {
     "name": "stdout",
     "output_type": "stream",
     "text": [
      "Epoch 1/6\n",
      " - 54s - loss: 0.0421\n",
      "Epoch 2/6\n",
      " - 55s - loss: 0.0422\n",
      "Epoch 3/6\n",
      " - 55s - loss: 0.0420\n",
      "Epoch 4/6\n",
      " - 56s - loss: 0.0424\n",
      "Epoch 5/6\n",
      " - 54s - loss: 0.0415\n",
      "Epoch 6/6\n",
      " - 54s - loss: 0.0415\n",
      "Epoch 1/6\n",
      " - 56s - loss: 0.0444\n",
      "Epoch 2/6\n",
      " - 54s - loss: 0.0426\n",
      "Epoch 3/6\n",
      " - 54s - loss: 0.0426\n",
      "Epoch 4/6\n",
      " - 54s - loss: 0.0427\n",
      "Epoch 5/6\n",
      " - 54s - loss: 0.0424\n",
      "Epoch 6/6\n",
      " - 55s - loss: 0.0422\n",
      "Epoch 1/6\n",
      " - 55s - loss: 0.0450\n",
      "Epoch 2/6\n",
      " - 54s - loss: 0.0442\n",
      "Epoch 3/6\n",
      " - 54s - loss: 0.0441\n",
      "Epoch 4/6\n",
      " - 57s - loss: 0.0434\n",
      "Epoch 5/6\n",
      " - 54s - loss: 0.0433\n",
      "Epoch 6/6\n",
      " - 54s - loss: 0.0439\n",
      "Epoch 1/6\n",
      " - 57s - loss: 0.0504\n",
      "Epoch 2/6\n",
      " - 54s - loss: 0.0491\n",
      "Epoch 3/6\n",
      " - 54s - loss: 0.0478\n",
      "Epoch 4/6\n",
      " - 55s - loss: 0.0479\n",
      "Epoch 5/6\n",
      " - 55s - loss: 0.0477\n",
      "Epoch 6/6\n",
      " - 55s - loss: 0.0472\n",
      "Epoch 1/6\n",
      " - 53s - loss: 0.0524\n",
      "Epoch 2/6\n",
      " - 54s - loss: 0.0511\n",
      "Epoch 3/6\n",
      " - 54s - loss: 0.0512\n",
      "Epoch 4/6\n",
      " - 54s - loss: 0.0509\n",
      "Epoch 5/6\n",
      " - 54s - loss: 0.0512\n",
      "Epoch 6/6\n",
      " - 56s - loss: 0.0505\n",
      "Epoch 1/6\n",
      " - 53s - loss: 0.0564\n",
      "Epoch 2/6\n",
      " - 54s - loss: 0.0535\n",
      "Epoch 3/6\n",
      " - 54s - loss: 0.0537\n",
      "Epoch 4/6\n",
      " - 57s - loss: 0.0525\n",
      "Epoch 5/6\n",
      " - 54s - loss: 0.0522\n",
      "Epoch 6/6\n",
      " - 54s - loss: 0.0521\n",
      "Epoch 1/6\n",
      " - 54s - loss: 0.0561\n",
      "Epoch 2/6\n",
      " - 54s - loss: 0.0541\n",
      "Epoch 3/6\n",
      " - 55s - loss: 0.0542\n",
      "Epoch 4/6\n",
      " - 54s - loss: 0.0538\n",
      "Epoch 5/6\n",
      " - 55s - loss: 0.0538\n",
      "Epoch 6/6\n",
      " - 58s - loss: 0.0536\n",
      "Epoch 1/6\n",
      " - 54s - loss: 0.0628\n",
      "Epoch 2/6\n",
      " - 54s - loss: 0.0589\n",
      "Epoch 3/6\n",
      " - 55s - loss: 0.0573\n",
      "Epoch 4/6\n",
      " - 53s - loss: 0.0568\n",
      "Epoch 5/6\n",
      " - 54s - loss: 0.0565\n",
      "Epoch 6/6\n",
      " - 54s - loss: 0.0572\n",
      "Epoch 1/6\n",
      " - 56s - loss: 0.0623\n",
      "Epoch 2/6\n",
      " - 53s - loss: 0.0604\n",
      "Epoch 3/6\n",
      " - 54s - loss: 0.0600\n",
      "Epoch 4/6\n",
      " - 56s - loss: 0.0600\n",
      "Epoch 5/6\n",
      " - 54s - loss: 0.0600\n",
      "Epoch 6/6\n",
      " - 56s - loss: 0.0597\n",
      "Epoch 1/6\n",
      " - 60s - loss: 0.0681\n",
      "Epoch 2/6\n",
      " - 54s - loss: 0.0638\n",
      "Epoch 3/6\n",
      " - 54s - loss: 0.0630\n",
      "Epoch 4/6\n",
      " - 56s - loss: 0.0632\n",
      "Epoch 5/6\n",
      " - 59s - loss: 0.0627\n",
      "Epoch 6/6\n",
      " - 54s - loss: 0.0630\n",
      "Epoch 1/6\n",
      " - 55s - loss: 0.0655\n",
      "Epoch 2/6\n",
      " - 54s - loss: 0.0636\n",
      "Epoch 3/6\n",
      " - 54s - loss: 0.0639\n",
      "Epoch 4/6\n",
      " - 58s - loss: 0.0635\n",
      "Epoch 5/6\n",
      " - 55s - loss: 0.0632\n",
      "Epoch 6/6\n",
      " - 55s - loss: 0.0636\n",
      "Epoch 1/6\n",
      " - 55s - loss: 0.0680\n",
      "Epoch 2/6\n",
      " - 55s - loss: 0.0649\n",
      "Epoch 3/6\n",
      " - 55s - loss: 0.0643\n",
      "Epoch 4/6\n",
      " - 53s - loss: 0.0637\n",
      "Epoch 5/6\n",
      " - 54s - loss: 0.0637\n",
      "Epoch 6/6\n",
      " - 55s - loss: 0.0634\n",
      "Epoch 1/6\n",
      " - 57s - loss: 0.0711\n",
      "Epoch 2/6\n",
      " - 54s - loss: 0.0657\n",
      "Epoch 3/6\n",
      " - 56s - loss: 0.0650\n",
      "Epoch 4/6\n",
      " - 53s - loss: 0.0649\n",
      "Epoch 5/6\n",
      " - 54s - loss: 0.0647\n",
      "Epoch 6/6\n",
      " - 55s - loss: 0.0659\n",
      "Epoch 1/6\n",
      " - 54s - loss: 0.0752\n",
      "Epoch 2/6\n",
      " - 56s - loss: 0.0717\n",
      "Epoch 3/6\n",
      " - 54s - loss: 0.0717\n",
      "Epoch 4/6\n",
      " - 54s - loss: 0.0722\n",
      "Epoch 5/6\n",
      " - 55s - loss: 0.0710\n",
      "Epoch 6/6\n",
      " - 59s - loss: 0.0706\n",
      "Epoch 1/6\n",
      " - 54s - loss: 0.0737\n",
      "Epoch 2/6\n",
      " - 55s - loss: 0.0713\n",
      "Epoch 3/6\n",
      " - 56s - loss: 0.0712\n",
      "Epoch 4/6\n",
      " - 53s - loss: 0.0708\n",
      "Epoch 5/6\n",
      " - 59s - loss: 0.0712\n",
      "Epoch 6/6\n",
      " - 54s - loss: 0.0703\n",
      "Epoch 1/6\n",
      " - 55s - loss: 0.0782\n",
      "Epoch 2/6\n",
      " - 56s - loss: 0.0743\n",
      "Epoch 3/6\n",
      " - 54s - loss: 0.0744\n",
      "Epoch 4/6\n",
      " - 55s - loss: 0.0747\n",
      "Epoch 5/6\n",
      " - 56s - loss: 0.0758\n",
      "Epoch 6/6\n",
      " - 54s - loss: 0.0737\n",
      "Epoch 1/6\n",
      " - 55s - loss: 0.0811\n",
      "Epoch 2/6\n",
      " - 56s - loss: 0.0778\n",
      "Epoch 3/6\n",
      " - 55s - loss: 0.0777\n",
      "Epoch 4/6\n",
      " - 54s - loss: 0.0775\n",
      "Epoch 5/6\n",
      " - 54s - loss: 0.0774\n",
      "Epoch 6/6\n",
      " - 54s - loss: 0.0773\n",
      "Epoch 1/6\n",
      " - 54s - loss: 0.0904\n",
      "Epoch 2/6\n",
      " - 54s - loss: 0.0822\n",
      "Epoch 3/6\n",
      " - 55s - loss: 0.0822\n",
      "Epoch 4/6\n",
      " - 56s - loss: 0.0818\n",
      "Epoch 5/6\n",
      " - 54s - loss: 0.0812\n",
      "Epoch 6/6\n",
      " - 55s - loss: 0.0809\n",
      "Epoch 1/6\n",
      " - 60s - loss: 0.0946\n",
      "Epoch 2/6\n",
      " - 54s - loss: 0.0863\n",
      "Epoch 3/6\n",
      " - 54s - loss: 0.0855\n",
      "Epoch 4/6\n",
      " - 56s - loss: 0.0858\n",
      "Epoch 5/6\n",
      " - 56s - loss: 0.0848\n",
      "Epoch 6/6\n",
      " - 55s - loss: 0.0844\n",
      "Epoch 1/6\n",
      " - 55s - loss: 0.1015\n",
      "Epoch 2/6\n",
      " - 55s - loss: 0.0885\n",
      "Epoch 3/6\n",
      " - 55s - loss: 0.0867\n",
      "Epoch 4/6\n",
      " - 55s - loss: 0.0860\n",
      "Epoch 5/6\n",
      " - 55s - loss: 0.0859\n",
      "Epoch 6/6\n",
      " - 55s - loss: 0.0850\n",
      "Epoch 1/6\n",
      " - 55s - loss: 0.0917\n",
      "Epoch 2/6\n",
      " - 55s - loss: 0.0880\n",
      "Epoch 3/6\n",
      " - 58s - loss: 0.0870\n",
      "Epoch 4/6\n",
      " - 54s - loss: 0.0878\n",
      "Epoch 5/6\n",
      " - 55s - loss: 0.0868\n",
      "Epoch 6/6\n",
      " - 56s - loss: 0.0865\n",
      "Epoch 1/6\n",
      " - 55s - loss: 0.1032\n",
      "Epoch 2/6\n",
      " - 55s - loss: 0.1005\n",
      "Epoch 3/6\n",
      " - 54s - loss: 0.0992\n",
      "Epoch 4/6\n",
      " - 54s - loss: 0.0990\n",
      "Epoch 5/6\n",
      " - 55s - loss: 0.0992\n",
      "Epoch 6/6\n",
      " - 59s - loss: 0.0993\n",
      "Epoch 1/6\n",
      " - 54s - loss: 0.1265\n",
      "Epoch 2/6\n",
      " - 55s - loss: 0.1139\n",
      "Epoch 3/6\n",
      " - 59s - loss: 0.1122\n",
      "Epoch 4/6\n",
      " - 57s - loss: 0.1118\n",
      "Epoch 5/6\n",
      " - 55s - loss: 0.1109\n",
      "Epoch 6/6\n",
      " - 56s - loss: 0.1108\n",
      "Epoch 1/6\n",
      " - 60s - loss: 0.1423\n",
      "Epoch 2/6\n",
      " - 54s - loss: 0.1251\n",
      "Epoch 3/6\n",
      " - 55s - loss: 0.1234\n",
      "Epoch 4/6\n",
      " - 56s - loss: 0.1228\n",
      "Epoch 5/6\n",
      " - 58s - loss: 0.1225\n",
      "Epoch 6/6\n",
      " - 55s - loss: 0.1224\n",
      "Epoch 1/6\n",
      " - 56s - loss: 0.1943\n",
      "Epoch 2/6\n",
      " - 54s - loss: 0.1750\n",
      "Epoch 3/6\n",
      " - 55s - loss: 0.1727\n",
      "Epoch 4/6\n",
      " - 56s - loss: 0.1713\n",
      "Epoch 5/6\n",
      " - 55s - loss: 0.1709\n",
      "Epoch 6/6\n",
      " - 55s - loss: 0.1706\n"
     ]
    }
   ],
   "source": [
    "d = 40\n",
    "(F, W, b, losses, models) = GLM_network_fit(np.array(stim_array).T,reduced_binned_spikes,d,d, bin_len)"
   ]
  },
  {
   "cell_type": "code",
   "execution_count": 32,
   "metadata": {},
   "outputs": [],
   "source": [
    "np.savez('net_fit1',F=F,W=W,b=b,losses=losses)"
   ]
  },
  {
   "cell_type": "code",
   "execution_count": 99,
   "metadata": {},
   "outputs": [
    {
     "name": "stdout",
     "output_type": "stream",
     "text": [
      "43\n"
     ]
    }
   ],
   "source": [
    "print len(stim_table[(stim_table.frame==img_inds[-2])&(stim_table.index>=num_stim_rows)])"
   ]
  },
  {
   "cell_type": "code",
   "execution_count": 100,
   "metadata": {},
   "outputs": [
    {
     "name": "stdout",
     "output_type": "stream",
     "text": [
      "0.8125\n"
     ]
    }
   ],
   "source": [
    "def evaluate_network(stimulus,spikes, d_stim, d_spk, models):\n",
    "    N = spikes.shape[0]\n",
    "    loss = 0\n",
    "    Xdsn = construct_GLM_mat(stimulus,spikes, d_stim, d_spk)\n",
    "    for i in range(N):\n",
    "        y = spikes[i,max(d_stim,d_spk):]\n",
    "        loss += models[i].evaluate(x=Xdsn, y=y, batch_size = 100000000, verbose=0)\n",
    "    return loss\n",
    "\n",
    "val_per_img = 40\n",
    "num_correct = 0\n",
    "n_img_val = 2\n",
    "img_inds = np.argsort(np.bincount(stim_table[stim_table.frame>=0].frame.values[:num_stim_rows].astype(int)))[-n_img_val:]\n",
    "for img in imgs[img_inds]:\n",
    "    for i in range(val_per_img):\n",
    "        t_start = stim_table[(stim_table.index>num_stim_rows) & (stim_table.frame==img)].start.values[i]\n",
    "        t_end = stim_table[(stim_table.index>num_stim_rows) & (stim_table.frame==img)].end.values[i]\n",
    "        (binned_spikes, _) = bin_spikes(data_set,bin_len,t_start,t_end,regions=['VISp'])\n",
    "        reduced_binned_spikes = binned_spikes[cell_idxs[-k:],:]\n",
    "        T = reduced_binned_spikes.shape[1]\n",
    "        losses = []\n",
    "        for check_img in imgs[img_inds]:\n",
    "            flat_stimulus = np.tile(np.expand_dims(flattened_image_list[int(check_img)],1),(1,T)) #flatten check_img for the right number of time points\n",
    "            losses.append(evaluate_network(flat_stimulus,reduced_binned_spikes,d,d,models))\n",
    "        if imgs[img_inds[np.argmin(losses)]] == img:\n",
    "            num_correct += 1\n",
    "accuracy = num_correct*1.0/(val_per_img*n_img_val)\n",
    "print accuracy"
   ]
  },
  {
   "cell_type": "code",
   "execution_count": 94,
   "metadata": {},
   "outputs": [],
   "source": [
    "# from keras.regularizers import Regularizer\n",
    "# from keras import backend as K\n",
    "\n",
    "# class SparseGroupLasso(Regularizer):\n",
    "#     \"\"\"Regularizer for group lasso regularization.\n",
    "#     # Arguments\n",
    "#        l1: Float; L1 regularization factor.\n",
    "#        l2: Float; L2 group regularization factor.\n",
    "#    \"\"\"\n",
    "\n",
    "#     def __init__(self, size_stim, d_spike, lgroup = 1.):\n",
    "#         self.lgroup = K.cast_to_floatx(lgroup)\n",
    "#         self.d_spike = d_spike\n",
    "#         self.size_stim = size_stim\n",
    "\n",
    "#     def __call__(self, x): \n",
    "#         xr = K.reshape(x[self.size_stim:], (-1, self.d_spike))\n",
    "#         print(\"xrshape\", xr.shape)\n",
    "#         return(self.lgroup * np.sqrt(K.int_shape(xr)[1])*K.sum(K.sqrt(K.sum(K.square(xr),axis=1))))\n",
    "    \n",
    "# from keras.regularizers import Regularizer\n",
    "# from keras import backend as K\n",
    "\n",
    "\n",
    "\n",
    "class GroupAndPriors(Regularizer):\n",
    "    \"\"\"Regularizer for group lasso regularization.\n",
    "    # Arguments\n",
    "       l1: Float; L1 regularization factor.\n",
    "       l2: Float; L2 group regularization factor.\n",
    "   \"\"\"\n",
    "\n",
    "    def __init__(self, size_stim, d_spike, priors = None, lprior = 0, lgroup = 0.):\n",
    "        self.lgroup = K.cast_to_floatx(lgroup)\n",
    "        if priors is not None:\n",
    "            self.lprior = K.cast_to_floatx(lprior)\n",
    "            self.W_means = priors['W_means']\n",
    "            self.W_vars = priors['W_vars']\n",
    "            self.W_weights = priors['W_weights']\n",
    "            \n",
    "        else:\n",
    "            self.lprior = 0\n",
    "            \n",
    "        self.d_spike = d_spike\n",
    "        self.size_stim = size_stim\n",
    "\n",
    "    def __call__(self, x): \n",
    "        xr = K.reshape(x[self.size_stim:], (-1, self.d_spike))\n",
    "        pen = 0.\n",
    "        if self.lgroup > 0:\n",
    "            pen += self.lgroup * np.sqrt(K.int_shape(xr)[1])*K.sum(K.sqrt(K.sum(K.square(xr),axis=1)))\n",
    "        if self.lprior > 0:\n",
    "            pen += self.lprior * K.sum(K.log(K.sum(self.W_weights*K.exp(-0.5*K.square(xr-self.W_means)/self.W_vars),axis=0)),axis=1)\n",
    "        return pen\n",
    "\n"
   ]
  },
  {
   "cell_type": "code",
   "execution_count": null,
   "metadata": {},
   "outputs": [],
   "source": [
    "import h5py"
   ]
  },
  {
   "cell_type": "code",
   "execution_count": null,
   "metadata": {},
   "outputs": [],
   "source": [
    "hf = h5py.File('weights.hdf5', 'r')"
   ]
  },
  {
   "cell_type": "code",
   "execution_count": null,
   "metadata": {},
   "outputs": [],
   "source": [
    "hf['model_weights/dense_4/dense_4'].values()"
   ]
  },
  {
   "cell_type": "code",
   "execution_count": null,
   "metadata": {},
   "outputs": [],
   "source": [
    "W[0].shape"
   ]
  },
  {
   "cell_type": "code",
   "execution_count": null,
   "metadata": {},
   "outputs": [],
   "source": [
    "norms = np.linalg.norm(W[0], axis = 1)"
   ]
  },
  {
   "cell_type": "code",
   "execution_count": null,
   "metadata": {},
   "outputs": [],
   "source": [
    "norms.shape"
   ]
  },
  {
   "cell_type": "code",
   "execution_count": null,
   "metadata": {},
   "outputs": [],
   "source": [
    "plt.hist(norms, bins = 50);"
   ]
  },
  {
   "cell_type": "code",
   "execution_count": null,
   "metadata": {},
   "outputs": [],
   "source": [
    "filter = W[0,5,:]\n",
    "plt.plot(filter)\n",
    "print(\"norm\", np.linalg.norm(filter))\n",
    "\n"
   ]
  },
  {
   "cell_type": "code",
   "execution_count": null,
   "metadata": {},
   "outputs": [],
   "source": [
    "filtermat = W[0,:,:]"
   ]
  },
  {
   "cell_type": "code",
   "execution_count": null,
   "metadata": {},
   "outputs": [],
   "source": [
    "filtermat.shape"
   ]
  },
  {
   "cell_type": "code",
   "execution_count": null,
   "metadata": {},
   "outputs": [],
   "source": [
    "plt.plot(filtermat[:,4])"
   ]
  },
  {
   "cell_type": "code",
   "execution_count": null,
   "metadata": {},
   "outputs": [],
   "source": [
    "plt.hist(np.linalg.norm(filtermat, axis = 0), bins = 10)"
   ]
  },
  {
   "cell_type": "code",
   "execution_count": null,
   "metadata": {},
   "outputs": [],
   "source": [
    "# def construct_GLM_mat(flat_stimulus, binned_spikes, i, d_stim, d_spk):\n",
    "#     (N,T) = binned_spikes.shape # N is number of neurons, T is number of time bins\n",
    "#     print(\"T\",T)\n",
    "#     (M,T) = flat_stimulus.shape # M is the size of a stimulus\n",
    "#     X_dsn = np.empty((T-d_stim+1,M*d_stim+N*d_spk))\n",
    "#     d_max = max(d_stim,d_spk)\n",
    "#     y = np.empty((T-d_max+1,))\n",
    "#     for t in range(T-d_max+1):\n",
    "#         y[t] = binned_spikes[i,t+d_max-1]\n",
    "#         X_dsn[t,:M*d_stim] = flat_stimulus[:,t+d_max-d_stim:t+d_max].reshape((1,-1))\n",
    "#         X_dsn[t,M*d_stim:] = binned_spikes[:,t+d_max-d_spk:t+d_max].reshape((1,-1))\n",
    "#     return (y, X_dsn)   "
   ]
  },
  {
   "cell_type": "code",
   "execution_count": null,
   "metadata": {},
   "outputs": [],
   "source": [
    "# import keras\n",
    "# from keras import backend as K\n",
    "# from keras.models import Model\n",
    "# from keras.layers import Input\n",
    "# from keras import Sequential\n",
    "# from keras.layers import Dense, Lambda\n",
    "# from keras.regularizers import Regularizer\n",
    "# def GLM_network_fit(stimulus,spikes,d_stim, d_spk,bin_len,f='exp',priors=None,L1=None):\n",
    "#     N = spikes.shape[0]\n",
    "#     print(\"N\", N)\n",
    "#     M = stimulus.shape[0]\n",
    "#     print(\"M\", M)\n",
    "#     F = np.empty((N,M,d_stim)) # stimulus filters\n",
    "#     W = np.empty((N,N,d_spk))  # spike train filters\n",
    "#     b = np.empty((N,)) # biases\n",
    "#     fs = {'exp':K.exp}\n",
    "#     for i in range(1):\n",
    "#         [y, Xdsn] = construct_GLM_mat(np.array(stim_array), binned_spikes, i, d_stim, d_spk)\n",
    "#         print(\"yshape\",y.shape)\n",
    "#         model = Sequential()\n",
    "#         model.add(Dense(1,input_dim = Xdsn.shape[1],use_bias=True, kernel_regularizer=SparseGroupLasso(M*d_stim,d_spk,lgroup=1e-10)))\n",
    "#         model.add(Lambda(lambda x: fs[f](x)*bin_len))\n",
    "#         model.compile(loss = 'poisson',optimizer = keras.optimizers.adam(lr=5e-1))\n",
    "#         model.fit(x=Xdsn,y=y,epochs=50, batch_size = 1000,  verbose=1)\n",
    "#         p = model.get_weights()[0]\n",
    "#         print(\"pshape\", p.shape)\n",
    "#         print(\"Mdstim\", M*d_stim)\n",
    "#         F[i,:,:] = p[:M*d_stim].reshape((M,d_stim))\n",
    "#         W[i,:,:] = p[M*d_stim:].reshape((N,d_spk))\n",
    "#         b[i] = model.get_weights()[1]\n",
    "#     return (F,W,b)\n"
   ]
  }
 ],
 "metadata": {
  "kernelspec": {
   "display_name": "conda_tensorflow_p27",
   "language": "python",
   "name": "conda_tensorflow_p27"
  },
  "language_info": {
   "codemirror_mode": {
    "name": "ipython",
    "version": 2
   },
   "file_extension": ".py",
   "mimetype": "text/x-python",
   "name": "python",
   "nbconvert_exporter": "python",
   "pygments_lexer": "ipython2",
   "version": "2.7.15"
  }
 },
 "nbformat": 4,
 "nbformat_minor": 2
}
