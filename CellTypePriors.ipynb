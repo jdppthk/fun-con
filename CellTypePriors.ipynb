{
 "cells": [
  {
   "cell_type": "code",
   "execution_count": 1,
   "metadata": {},
   "outputs": [],
   "source": [
    "# please make sure your drive_path is set, so that the notebook can find the data files on the hard drive\n",
    "\n",
    "# OS X\n",
    "# drive_path = '/Volumes/Brain2017/data/dynamic-brain-workshop/cell_types_cache/'\n",
    "\n",
    "# Windows (a good guess)\n",
    "# drive_path = 'e:/data/dynamic-brain-workshop/cell_types_cache/'\n",
    "\n",
    "# Linux (will vary; the following is possibly what Ubuntu will do)\n",
    "# drive_path = '/media/Brain2017/data/dynamic-brain-workshop/cell_types_cache/'\n",
    "\n",
    "# AWS\n",
    "drive_path = '/data/dynamic-brain-workshop/cell_types_cache/'"
   ]
  },
  {
   "cell_type": "code",
   "execution_count": 2,
   "metadata": {},
   "outputs": [
    {
     "name": "stderr",
     "output_type": "stream",
     "text": [
      "Using TensorFlow backend.\n"
     ]
    }
   ],
   "source": [
    "import os\n",
    "import numpy as np\n",
    "import matplotlib.pyplot as plt\n",
    "import pandas as pd\n",
    "from GLM_helpers import *\n",
    "%matplotlib inline\n",
    "\n",
    "import keras\n",
    "from keras import backend as K\n",
    "from keras.models import Model\n",
    "from keras.layers import Input\n",
    "\n",
    "from scipy.optimize import minimize\n",
    "\n",
    "from allensdk.core.cell_types_cache import CellTypesCache"
   ]
  },
  {
   "cell_type": "code",
   "execution_count": 4,
   "metadata": {},
   "outputs": [],
   "source": [
    "ctc = CellTypesCache(manifest_file=os.path.join(drive_path,'manifest.json'))"
   ]
  },
  {
   "cell_type": "code",
   "execution_count": 30,
   "metadata": {},
   "outputs": [
    {
     "name": "stdout",
     "output_type": "stream",
     "text": [
      "[u'VISp' u'VISl' u'VISpl' u'VISli' u'RSPagl' u'VISal' u'RSPd' u'TEa'\n",
      " u'SSp-tr' u'SSp-bfd' u'VISpm' u'VISa' u'VISpor' u'SSp-n' u'AUDpo' u'AUDp'\n",
      " u'VISam' u'VISrl' u'RSPv' u'SSp-un']\n"
     ]
    }
   ],
   "source": [
    "print cells.structure_area_abbrev.unique()"
   ]
  },
  {
   "cell_type": "code",
   "execution_count": 45,
   "metadata": {},
   "outputs": [
    {
     "name": "stdout",
     "output_type": "stream",
     "text": [
      "1813\n",
      "1\n",
      "1\n"
     ]
    }
   ],
   "source": [
    "# pd.DataFrame(ctc.get_cells()).head()\n",
    "cells = pd.DataFrame(ctc.get_cells(reporter_status='positive'))\n",
    "print len(cells)\n",
    "# cells.head()\n",
    "# print cells.groupby(by='transgenic_line').size()\n",
    "region = 'VISp'\n",
    "\n",
    "inh_lines = []\n",
    "exc_lines = []\n",
    "exc_st = ['Rorb','Scnn','Nr5','Rbp','Emx','Cux','Tlx3','Sim1','Ntsr']\n",
    "inh_st = ['Gad','Htr','Pvalb','Vip','Sst']\n",
    "for line in cells.transgenic_line.unique():\n",
    "    for st in exc_st:\n",
    "        if line.startswith(st):\n",
    "            exc_lines.append(line)\n",
    "    for st in inh_st:\n",
    "        if line.startswith(st):\n",
    "            inh_lines.append(line)\n",
    "\n",
    "\n",
    "has_line = False\n",
    "# lines = ['Rorb-IRES2-Cre']\n",
    "for line in inh_lines:\n",
    "    has_line = has_line | (cells.transgenic_line==line)\n",
    "inh_cells = cells[(cells.species=='Mus musculus')& has_line & (cells.structure_area_abbrev==region) & (cells.structure_layer_name=='5')]\n",
    "print len(inh_cells)\n",
    "\n",
    "for line in exc_lines:\n",
    "    has_line = has_line | (cells.transgenic_line==line)\n",
    "exc_cells = cells[(cells.species=='Mus musculus')& has_line & (cells.structure_area_abbrev==region) & (cells.structure_layer_name=='5')]\n",
    "print len(exc_cells)"
   ]
  },
  {
   "cell_type": "code",
   "execution_count": 6,
   "metadata": {},
   "outputs": [],
   "source": [
    "#for cell in cell_types_class ...\n",
    "epd = ctc.get_ephys_data(cells['id'][0])"
   ]
  },
  {
   "cell_type": "code",
   "execution_count": 6,
   "metadata": {},
   "outputs": [
    {
     "name": "stdout",
     "output_type": "stream",
     "text": [
      "[u'Long Square' u'Noise 1' u'Noise 2' u'Ramp' u'Short Square'\n",
      " u'Square - 0.5ms Subthreshold' u'Square - 2s Suprathreshold' u'Test']\n"
     ]
    }
   ],
   "source": [
    "names = []\n",
    "for i in epd.get_experiment_sweep_numbers():\n",
    "    names.append(epd.get_sweep_metadata(i)['aibs_stimulus_name'])\n",
    "print np.unique(names)"
   ]
  },
  {
   "cell_type": "code",
   "execution_count": null,
   "metadata": {},
   "outputs": [],
   "source": []
  },
  {
   "cell_type": "code",
   "execution_count": 7,
   "metadata": {},
   "outputs": [],
   "source": [
    "def get_sweeps_with_stim(ephys_data,stim_type):\n",
    "    sweeps = []\n",
    "    for i in ephys_data.get_experiment_sweep_numbers():\n",
    "        if str.startswith(str(ephys_data.get_sweep_metadata(i)['aibs_stimulus_name']),stim_type):\n",
    "            sweep = ephys_data.get_sweep(i)\n",
    "            sweep['spike_times'] = ephys_data.get_spike_times(i)\n",
    "            sweeps.append(sweep)\n",
    "    return sweeps\n",
    "\n",
    "def bin_spikes_and_stim(sweeps,bin_len,zpad=0):\n",
    "    spikes_list = []\n",
    "    stim_list = []\n",
    "    for sweep in sweeps:\n",
    "        T = int(np.floor(sweep['index_range'][1]*1.0/(sweep['sampling_rate']*bin_len)))\n",
    "        binned_spikes = np.zeros((1,T))\n",
    "        binned_stim = np.empty((1,T))\n",
    "        for spike_time in sweep['spike_times']:\n",
    "            t = int(np.floor(spike_time/bin_len))\n",
    "            binned_spikes[0,t]+=1\n",
    "        for i in range(T):\n",
    "            binned_stim[0,i] = np.mean(sweep['stimulus'][int(np.round(i*bin_len*sweep['sampling_rate'])):int(np.round((i+1)*bin_len*sweep['sampling_rate']))])\n",
    "        spikes_list.append(binned_spikes)\n",
    "        stim_list.append(binned_stim)\n",
    "        if zpad>0:\n",
    "            spikes_list.append(np.zeros((1,int(np.floor(zpad/bin_len)))))\n",
    "            stim_list.append(np.zeros((1,int(np.floor(zpad/bin_len)))))\n",
    "    binned_spikes = np.hstack(spikes_list)\n",
    "    binned_stim = np.hstack(stim_list)\n",
    "    return (binned_spikes, binned_stim)\n",
    "        \n",
    "    \n",
    "    \"\"\"\n",
    "    - use stim kernel convolved with alpha function as prior for synapse\n",
    "    \"\"\""
   ]
  },
  {
   "cell_type": "code",
   "execution_count": 216,
   "metadata": {},
   "outputs": [],
   "source": [
    "# # Inputs:\n",
    "# # stimulus: video shown to the mouse in some form\n",
    "# # spikes: spikes recorded from each neuron in some form\n",
    "# # link: string for the link function used. options are {'log', 'logit'}\n",
    "# # priors: TODO\n",
    "# # L1: regularization parameter for sparse synapses TODO\n",
    "\n",
    "# # Returns:\n",
    "# # GLM network model with parameters fit\n",
    "\n",
    "# def GLM_network_fit(stimulus,spikes,d_stim, d_spk,link='log',priors=None,L1=None):\n",
    "#     N = spikes.shape[0]\n",
    "#     M = stimulus.shape[0]\n",
    "#     K = np.empty((N,M,d_stim)) # stimulus filters\n",
    "#     W = np.empty((N,N,d_spk))  # spike train filters\n",
    "# #     b = np.empty((N,)) # biases\n",
    "    \n",
    "#     links = {'log':sm.genmod.families.links.log, 'logit':sm.genmod.families.links.logit}\n",
    "#     for i in range(N):\n",
    "#         [y, Xdsn] = construct_GLM_mat(stimulus,spikes,i, d_stim, d_spk)\n",
    "#         y = y.reshape((-1,1))\n",
    "#         # construct GLM model and return fit\n",
    "#         if priors is None and L1 is None:\n",
    "#             glm_pois = sm.GLM(y, Xdsn, family=sm.families.Poisson(link=links[link]))\n",
    "#             gfit = glm_pois.fit()\n",
    "#             p = gfit.params\n",
    "#             K[i,:,:] = p[:M*d_stim].reshape((M,d_stim))\n",
    "#             W[i,:,:] = p[M*d_stim:].reshape((N,d_spk))\n",
    "# #             W[i,:,:] = p[M*d_stim:-1].reshape((N,d_spk))\n",
    "#             #             b[i] = p[-1]\n",
    "\n",
    "#     return (K,W)\n",
    "# #     return (K,W,b)\n",
    "\n",
    "\n",
    "\n",
    "# Inputs\n",
    "# flat_stimulus: M x T matrix of stimuli\n",
    "# binned_spikes: N x T matrix of spike counts\n",
    "# d_stim: duration of stimulus filter (# time bins)\n",
    "# d_spk: duration of spike filters (# time bins)\n",
    "def construct_GLM_mat(flat_stimulus, binned_spikes, d_stim, d_spk):\n",
    "    (N,T) = binned_spikes.shape # N is number of neurons, T is number of time bins\n",
    "    (M,T) = flat_stimulus.shape # M is the size of a stimulus\n",
    "    X_dsn = np.empty((T-d_stim,M*d_stim+N*d_spk))\n",
    "    d_max = max(d_stim,d_spk)\n",
    "    for t in range(T-d_max):\n",
    "        X_dsn[t,:M*d_stim] = np.fliplr(flat_stimulus[:,t+d_max-d_stim:t+d_max]).reshape((1,-1))  #stimulus inputs\n",
    "        X_dsn[t,M*d_stim:] = np.fliplr(binned_spikes[:,t+d_max-d_spk:t+d_max]).reshape((1,-1)) #spike inputs\n",
    "    return X_dsn"
   ]
  },
  {
   "cell_type": "code",
   "execution_count": 209,
   "metadata": {},
   "outputs": [],
   "source": [
    "sweeps = get_sweeps_with_stim(epd,'Noise')\n",
    "bin_len = 0.0005\n",
    "# bin_len = 0.005\n",
    "i=0\n",
    "# (binned_spikes, binned_stim) = bin_spikes_and_stim(sweeps,bin_len)"
   ]
  },
  {
   "cell_type": "code",
   "execution_count": 214,
   "metadata": {},
   "outputs": [
    {
     "name": "stdout",
     "output_type": "stream",
     "text": [
      "['stimulus', 'index_range', 'spike_times', 'stimulus_unit', 'sampling_rate', 'response']\n"
     ]
    },
    {
     "data": {
      "image/png": "[encoded data removed]",
      "text/plain": [
       "<Figure size 432x288 with 2 Axes>"
      ]
     },
     "metadata": {},
     "output_type": "display_data"
    }
   ],
   "source": [
    "\n",
    "t = np.arange(0,sweeps[i]['index_range'][1]+1)*1.0/sweeps[i]['sampling_rate']\n",
    "fig,ax = plt.subplots(2,1,sharex=True)\n",
    "ax[1].plot(t,sweeps[i]['stimulus'])\n",
    "ax[0].plot(t,sweeps[i]['response'])\n",
    "# plt.xlim(10.3,10.31)\n",
    "# print sweeps[5]['index_range']\n",
    "# print sweeps[5]['sampling_rate']\n",
    "print sweeps[0].keys()\n"
   ]
  },
  {
   "cell_type": "code",
   "execution_count": null,
   "metadata": {},
   "outputs": [],
   "source": [
    "plt.plot(t,sweeps[i]['stimulus'])\n",
    "plt.plot((np.arange(0,binned_stim.shape[1])+0.5)*bin_len,np.squeeze(binned_stim))\n",
    "plt.xlim([10.3,10.35])"
   ]
  },
  {
   "cell_type": "code",
   "execution_count": 12,
   "metadata": {},
   "outputs": [
    {
     "data": {
      "text/plain": [
       "(10.3, 10.5)"
      ]
     },
     "execution_count": 12,
     "metadata": {},
     "output_type": "execute_result"
    },
    {
     "data": {
      "image/png": "[encoded data removed]",
      "text/plain": [
       "<Figure size 432x288 with 1 Axes>"
      ]
     },
     "metadata": {},
     "output_type": "display_data"
    }
   ],
   "source": [
    "plt.plot(t,sweeps[i]['response'])\n",
    "plt.plot((np.arange(0,binned_stim.shape[1])+0.5)*bin_len,np.squeeze(binned_spikes)*0.01)\n",
    "plt.xlim([10.3,10.5])"
   ]
  },
  {
   "cell_type": "code",
   "execution_count": 13,
   "metadata": {},
   "outputs": [
    {
     "name": "stdout",
     "output_type": "stream",
     "text": [
      "(336184, 100)\n"
     ]
    }
   ],
   "source": [
    "d = 50\n",
    "(ydsn,Xdsn) = construct_GLM_mat(binned_stim*1e9, binned_spikes, i, d, d)\n",
    "print Xdsn.shape\n",
    "# plt.imshow(Xdsn[20900:21000],aspect=0.1)\n",
    "# plt.plot(Xdsn[209090,:])"
   ]
  },
  {
   "cell_type": "code",
   "execution_count": null,
   "metadata": {},
   "outputs": [],
   "source": []
  },
  {
   "cell_type": "code",
   "execution_count": 62,
   "metadata": {},
   "outputs": [],
   "source": [
    "# from keras.engine.base_layer import Layer\n",
    "# class FPrb(Layer):\n",
    "\n",
    "#     def __init__(self,dt, **kwargs):\n",
    "#         self.dt = dt\n",
    "#         super(FPrb, self).__init__(**kwargs)\n",
    "\n",
    "#     def build(self, input_shape):\n",
    "#         # Create a trainable weight variable for this layer.\n",
    "#         self.kernel = self.add_weight(name='kernel', \n",
    "#                                       shape=(input_shape[-1],1),\n",
    "#                                       initializer='glorot_normal',\n",
    "#                                       trainable=True)\n",
    "#         self.built = True\n",
    "\n",
    "#     def call(self, x):\n",
    "#         return K.exp(K.dot(x, self.kernel))*self.dt\n",
    "# #         return (K.dot(x, self.kernel))\n",
    "\n",
    "\n",
    "#     def compute_output_shape(self, input_shape):\n",
    "#         return (None,input_shape[0])"
   ]
  },
  {
   "cell_type": "code",
   "execution_count": 15,
   "metadata": {},
   "outputs": [],
   "source": [
    "# def negloglikelihood(y_true,y_pred):\n",
    "# #     return -(-y_pred+y_true*K.log(y_pred))\n",
    "#     return -(-K.exp(y_pred)*1e-1+y_true*y_pred)\n",
    "\n"
   ]
  },
  {
   "cell_type": "code",
   "execution_count": 16,
   "metadata": {},
   "outputs": [],
   "source": [
    "# def neglog_likelihood_poisson(theta, X, y):\n",
    "#     return -np.dot(y.T,np.dot(X,theta)) + np.sum(np.exp(np.dot(X,theta))*1e-1)\n",
    "\n",
    "# X = np.random.random([20000,30])\n",
    "# beta = np.random.random([30, 1])*0.2\n",
    "# w = np.exp(np.dot(X,beta))*0.1\n",
    "# print np.max(w)\n",
    "# y = np.random.poisson(lam=w, size=np.shape(w))\n",
    "# myguess = np.random.normal(loc=0.0, scale= 1.0, size=np.shape(beta))\n",
    "# print(np.shape(myguess))\n",
    "# res = minimize(neglog_likelihood_poisson, args = (X,y), method = 'CG', x0 = myguess, options={'gtol':1e-14})\n",
    "# plt.scatter(beta, res.x)"
   ]
  },
  {
   "cell_type": "code",
   "execution_count": 184,
   "metadata": {},
   "outputs": [],
   "source": [
    "# inp = Input(shape=(Xdsn.shape[1],))\n",
    "# out = FPrb(bin_len)(inp)\n",
    "# model = Model(inputs = [inp], outputs = [out])\n",
    "# print model.summary()\n",
    "# model.compile(loss = 'poisson',optimizer = keras.optimizers.adam(lr=8e-2))"
   ]
  },
  {
   "cell_type": "code",
   "execution_count": 18,
   "metadata": {},
   "outputs": [],
   "source": [
    "# from keras import Sequential\n",
    "# from keras.layers import Dense, Lambda\n",
    "# model = Sequential()\n",
    "# model.add(Dense(1,input_dim = X.shape[1],use_bias=True))\n",
    "# model.add(Lambda(lambda x: K.exp(x)*0.1))\n",
    "# print model.summary()\n",
    "# model.compile(loss = 'poisson',optimizer = keras.optimizers.adam(lr=1e-3))\n",
    "# model.fit(x=X,y=y,epochs=200,batch_size = 1000)"
   ]
  },
  {
   "cell_type": "code",
   "execution_count": 19,
   "metadata": {},
   "outputs": [],
   "source": [
    "# print np.exp(model.get_weights()[1])\n",
    "# plt.scatter(beta, model.get_weights()[0])"
   ]
  },
  {
   "cell_type": "code",
   "execution_count": 20,
   "metadata": {},
   "outputs": [],
   "source": [
    "# from keras import Sequential\n",
    "# from keras.layers import Dense, Lambda\n",
    "# model = Sequential()\n",
    "# model.add(Dense(1,input_dim = Xdsn.shape[1],use_bias=True))\n",
    "# model.add(Lambda(lambda x: K.exp(x)*bin_len))\n",
    "# print model.summary()\n",
    "# model.compile(loss = 'poisson',optimizer = keras.optimizers.adam(lr=2e-1))\n"
   ]
  },
  {
   "cell_type": "code",
   "execution_count": 185,
   "metadata": {},
   "outputs": [],
   "source": [
    "# model.fit(x=Xdsn,y=ydsn,epochs=150,batch_size = 1000000)"
   ]
  },
  {
   "cell_type": "code",
   "execution_count": 74,
   "metadata": {
    "scrolled": true
   },
   "outputs": [
    {
     "data": {
      "text/plain": [
       "[<matplotlib.lines.Line2D at 0x7f171bf0d510>]"
      ]
     },
     "execution_count": 74,
     "metadata": {},
     "output_type": "execute_result"
    },
    {
     "data": {
      "image/png": "[encoded data removed]",
      "text/plain": [
       "<Figure size 432x288 with 1 Axes>"
      ]
     },
     "metadata": {},
     "output_type": "display_data"
    }
   ],
   "source": [
    "p = model.get_weights()[0]\n",
    "# print np.exp(model.get_weights()[1])\n",
    "plt.plot(p[:d])"
   ]
  },
  {
   "cell_type": "code",
   "execution_count": 8,
   "metadata": {},
   "outputs": [],
   "source": [
    "def GLM_network_fit(stimulus,spikes,d_stim, d_spk,bin_len,f='exp',priors=None,L1=None):\n",
    "    N = spikes.shape[0]\n",
    "    M = stimulus.shape[0]\n",
    "    F = np.empty((N,M,d_stim)) # stimulus filters\n",
    "    W = np.empty((N,N,d_spk))  # spike train filters\n",
    "    b = np.empty((N,)) # biases\n",
    "    fs = {'exp':K.exp}\n",
    "    Xdsn = construct_GLM_mat(stimulus,spikes, d_stim, d_spk)\n",
    "    for i in range(N):\n",
    "        y = spikes[i,max(d_stim,d_spk):]\n",
    "        # construct GLM model and return fit\n",
    "        model = Sequential()\n",
    "        model.add(Dense(1,input_dim = Xdsn.shape[1],use_bias=True))\n",
    "        model.add(Lambda(lambda x: fs[f](x)*bin_len))\n",
    "        model.compile(loss = 'poisson',optimizer = keras.optimizers.adam(lr=1.5e-1))\n",
    "        model.fit(x=Xdsn,y=y,epochs=200,batch_size = 10000000,verbose=0)\n",
    "        p = model.get_weights()[0]\n",
    "        F[i,:,:] = p[:M*d_stim].reshape((M,d_stim))\n",
    "        W[i,:,:] = p[M*d_stim:].reshape((N,d_spk))\n",
    "        b[i] = model.get_weights()[1]\n",
    "    return (F,W,b)"
   ]
  },
  {
   "cell_type": "code",
   "execution_count": null,
   "metadata": {},
   "outputs": [],
   "source": [
    "(F,W,b) = GLM_network_fit(binned_stim*1e9,binned_spikes, d, d, bin_len)"
   ]
  },
  {
   "cell_type": "code",
   "execution_count": 53,
   "metadata": {},
   "outputs": [
    {
     "name": "stdout",
     "output_type": "stream",
     "text": [
      "[0.08559065]\n"
     ]
    },
    {
     "data": {
      "text/plain": [
       "[<matplotlib.lines.Line2D at 0x7f171c628190>]"
      ]
     },
     "execution_count": 53,
     "metadata": {},
     "output_type": "execute_result"
    },
    {
     "data": {
      "image/png": "[encoded data removed]",
      "text/plain": [
       "<Figure size 432x288 with 1 Axes>"
      ]
     },
     "metadata": {},
     "output_type": "display_data"
    }
   ],
   "source": [
    "print np.exp(b)\n",
    "plt.plot(np.arange(d)*bin_len,np.squeeze(F))"
   ]
  },
  {
   "cell_type": "code",
   "execution_count": 32,
   "metadata": {},
   "outputs": [
    {
     "data": {
      "text/plain": [
       "[<matplotlib.lines.Line2D at 0x7f1734b5d950>]"
      ]
     },
     "execution_count": 32,
     "metadata": {},
     "output_type": "execute_result"
    },
    {
     "data": {
      "image/png": "[encoded data removed]",
      "text/plain": [
       "<Figure size 432x288 with 1 Axes>"
      ]
     },
     "metadata": {},
     "output_type": "display_data"
    }
   ],
   "source": [
    "plt.plot(np.arange(d)*bin_len,np.squeeze(W))"
   ]
  },
  {
   "cell_type": "code",
   "execution_count": 79,
   "metadata": {},
   "outputs": [],
   "source": [
    "# myguess = np.random.normal(loc=0.0, scale= 1.0, size=(Xdsn.shape[1],1))\n",
    "# print(np.shape(myguess))\n",
    "# res = minimize(log_likelihood_poisson, args = (Xdsn,y), method = 'CG', x0 = myguess, options={'gtol':1e-14})"
   ]
  },
  {
   "cell_type": "code",
   "execution_count": 169,
   "metadata": {},
   "outputs": [
    {
     "name": "stdout",
     "output_type": "stream",
     "text": [
      "_________________________________________________________________\n",
      "Layer (type)                 Output Shape              Param #   \n",
      "=================================================================\n",
      "input_41 (InputLayer)        (None, 100)               0         \n",
      "_________________________________________________________________\n",
      "f_prb_40 (FPrb)              (None, None)              9         \n",
      "=================================================================\n",
      "Total params: 9\n",
      "Trainable params: 9\n",
      "Non-trainable params: 0\n",
      "_________________________________________________________________\n",
      "None\n"
     ]
    }
   ],
   "source": [
    "# from keras.engine.base_layer import Layer\n",
    "# class FPrb(Layer):\n",
    "\n",
    "#     def __init__(self,t,num_exp=2, **kwargs):\n",
    "#         self.dt = t[1]-t[0]\n",
    "#         self.t = np.expand_dims(t,1)\n",
    "#         self.T = len(t)\n",
    "#         self.num_exp = num_exp\n",
    "#         super(FPrb, self).__init__(**kwargs)\n",
    "\n",
    "#     def build(self, input_shape):\n",
    "#         # Create a trainable weight variable for this layer.\n",
    "#         self.kernel = self.add_weight(name='kernel', \n",
    "#                                       shape=(2*self.num_exp*input_shape[1]/self.T+1,),   # [4p stim1, 4p stim2, ... , 4p spk1, 4p spk2,... ]\n",
    "#                                       initializer='uniform',\n",
    "#                                       trainable=True)\n",
    "#         self.built = True\n",
    "\n",
    "#     def call(self, x):\n",
    "#         F = 0.0\n",
    "#         for i in range(K.int_shape(self.kernel)[0]/(2*self.num_exp)):\n",
    "# #             F += K.dot(x[:,i*self.T:(i+1)*self.T],self.kernel[i*2*self.num_exp]*K.exp(self.kernel[i*2*self.num_exp+1]*self.t)+self.kernel[i*4+2]*K.exp(self.kernel[i*4+3]*self.t))\n",
    "#             for j in range(self.num_exp):\n",
    "#                 F += K.dot(x[:,i*self.T:(i+1)*self.T],self.kernel[i*2*self.num_exp+j*2]*K.exp(self.kernel[i*2*self.num_exp+j*2+1]*self.t))\n",
    "#         F+=self.kernel[-1]\n",
    "#         return K.exp(F)*self.dt\n",
    "\n",
    "\n",
    "#     def compute_output_shape(self, input_shape):\n",
    "#         return (None,input_shape[0])\n",
    "\n",
    "# inp = Input(shape=(Xdsn.shape[1],))\n",
    "# out = FPrb(np.arange(d)*bin_len)(inp)\n",
    "# model = Model(inputs = [inp], outputs = [out])\n",
    "# model.compile(loss = 'poisson',optimizer = keras.optimizers.adam(lr=1e-1))\n",
    "# print model.summary()"
   ]
  },
  {
   "cell_type": "code",
   "execution_count": null,
   "metadata": {},
   "outputs": [],
   "source": [
    "model.fit(x=Xdsn,y=ydsn,epochs=50,batch_size = 1000)"
   ]
  },
  {
   "cell_type": "code",
   "execution_count": 377,
   "metadata": {},
   "outputs": [],
   "source": [
    "# t = np.arange(d)*bin_len\n",
    "# # p = model.get_weights()[0]\n",
    "# print np.exp(p[-1])\n",
    "# print p\n",
    "# w=0\n",
    "# # plt.plot(t,p[2-w]*np.exp(p[3-w]*t))\n",
    "# plt.plot(t,p[4-w]*np.exp(p[5-w]*t)+p[6-w]*np.exp(p[7-w]*t))"
   ]
  },
  {
   "cell_type": "code",
   "execution_count": null,
   "metadata": {},
   "outputs": [
    {
     "name": "stdout",
     "output_type": "stream",
     "text": [
      "1\n",
      "2/3\n",
      "4\n",
      "5\n",
      "0 / 361\n",
      "1 / 361\n",
      "2 / 361\n",
      "3 / 361\n",
      "4 / 361\n",
      "5 / 361\n",
      "6 / 361\n",
      "7 / 361\n",
      "8 / 361\n",
      "9 / 361\n",
      "10 / 361\n",
      "11 / 361\n",
      "12 / 361\n",
      "13 / 361\n",
      "14 / 361\n",
      "15 / 361\n",
      "16 / 361\n",
      "17 / 361\n",
      "18 / 361\n",
      "19 / 361\n",
      "20 / 361\n",
      "21 / 361\n",
      "22 / 361\n",
      "23 / 361\n",
      "24 / 361\n",
      "25 / 361\n",
      "26 / 361\n",
      "27 / 361\n",
      "28 / 361\n",
      "29 / 361\n",
      "30 / 361\n",
      "31 / 361\n",
      "32 / 361\n",
      "33 / 361\n",
      "34 / 361\n",
      "35 / 361\n",
      "36 / 361\n",
      "37 / 361\n",
      "101 / 361\n",
      "102 / 361\n",
      "103 / 361\n",
      "104 / 361\n",
      "105 / 361\n",
      "106 / 361\n",
      "107 / 361\n",
      "108 / 361\n",
      "109 / 361\n",
      "110 / 361\n",
      "111 / 361\n",
      "112 / 361\n",
      "113 / 361\n",
      "114 / 361\n",
      "115 / 361\n",
      "116 / 361\n",
      "117 / 361\n",
      "118 / 361\n",
      "119 / 361\n",
      "120 / 361\n",
      "121 / 361\n",
      "122 / 361\n",
      "123 / 361\n",
      "124 / 361\n",
      "125 / 361\n",
      "126 / 361\n",
      "127 / 361\n",
      "128 / 361\n",
      "129 / 361\n",
      "130 / 361\n",
      "131 / 361\n",
      "132 / 361\n",
      "133 / 361\n",
      "134 / 361\n",
      "135 / 361\n",
      "136 / 361\n",
      "137 / 361\n",
      "138 / 361\n",
      "139 / 361\n",
      "140 / 361\n",
      "141 / 361\n",
      "142 / 361\n",
      "143 / 361\n",
      "144 / 361\n",
      "145 / 361\n",
      "146 / 361\n",
      "147 / 361\n",
      "148 / 361\n",
      "149 / 361\n",
      "150 / 361\n",
      "151 / 361\n",
      "152 / 361\n",
      "153 / 361\n",
      "154 / 361\n",
      "155 / 361\n",
      "156 / 361\n",
      "157 / 361\n",
      "158 / 361\n",
      "159 / 361\n",
      "160 / 361\n",
      "161 / 361\n",
      "162 / 361\n",
      "163 / 361\n",
      "164 / 361\n",
      "165 / 361\n",
      "166 / 361\n",
      "167 / 361\n",
      "168 / 361\n",
      "169 / 361\n",
      "170 / 361\n",
      "171 / 361\n",
      "172 / 361\n",
      "173 / 361\n",
      "174 / 361\n",
      "175 / 361\n",
      "176 / 361\n",
      "177 / 361\n",
      "178 / 361\n",
      "179 / 361\n",
      "180 / 361\n",
      "181 / 361\n",
      "182 / 361\n",
      "183 / 361\n",
      "184 / 361\n",
      "185 / 361\n",
      "186 / 361\n",
      "187 / 361\n",
      "188 / 361\n",
      "189 / 361\n",
      "190 / 361\n",
      "191 / 361\n",
      "192 / 361\n",
      "193 / 361\n",
      "194 / 361\n",
      "195 / 361\n",
      "196 / 361\n",
      "197 / 361\n",
      "198 / 361\n",
      "199 / 361\n",
      "200 / 361\n",
      "201 / 361\n",
      "202 / 361\n",
      "203 / 361\n",
      "204 / 361\n",
      "205 / 361\n",
      "206 / 361\n",
      "207 / 361\n",
      "208 / 361\n",
      "209 / 361\n",
      "210 / 361\n",
      "211 / 361\n",
      "212 / 361\n",
      "213 / 361\n",
      "214 / 361\n",
      "215 / 361\n",
      "216 / 361\n",
      "217 / 361\n",
      "218 / 361\n",
      "219 / 361\n",
      "220 / 361\n",
      "221 / 361\n",
      "222 / 361\n",
      "223 / 361\n",
      "224 / 361\n",
      "225 / 361\n",
      "226 / 361\n",
      "227 / 361\n",
      "228 / 361\n",
      "229 / 361\n",
      "230 / 361\n",
      "231 / 361\n",
      "232 / 361\n",
      "233 / 361\n",
      "234 / 361\n",
      "235 / 361\n",
      "236 / 361\n",
      "237 / 361\n",
      "238 / 361\n",
      "239 / 361\n",
      "240 / 361\n",
      "241 / 361\n",
      "242 / 361\n",
      "243 / 361\n",
      "244 / 361\n",
      "245 / 361\n",
      "246 / 361\n",
      "247 / 361\n",
      "248 / 361\n",
      "249 / 361\n",
      "250 / 361\n",
      "251 / 361\n",
      "252 / 361\n",
      "253 / 361\n",
      "254 / 361\n",
      "255 / 361\n",
      "256 / 361\n",
      "257 / 361\n",
      "258 / 361\n",
      "273 / 361\n",
      "274 / 361\n",
      "275 / 361\n",
      "276 / 361\n",
      "277 / 361\n",
      "278 / 361\n",
      "279 / 361\n",
      "280 / 361\n",
      "281 / 361\n",
      "282 / 361\n",
      "283 / 361\n",
      "284 / 361\n",
      "285 / 361\n",
      "286 / 361\n",
      "287 / 361\n",
      "288 / 361\n",
      "289 / 361\n",
      "290 / 361\n",
      "291 / 361\n",
      "292 / 361\n",
      "293 / 361\n",
      "294 / 361\n",
      "295 / 361\n",
      "296 / 361\n",
      "297 / 361\n",
      "298 / 361\n",
      "299 / 361\n",
      "300 / 361\n",
      "301 / 361\n",
      "302 / 361\n",
      "303 / 361\n",
      "304 / 361\n",
      "305 / 361\n",
      "306 / 361\n",
      "307 / 361\n",
      "308 / 361\n",
      "309 / 361\n",
      "310 / 361\n",
      "311 / 361\n",
      "312 / 361\n",
      "313 / 361\n",
      "314 / 361\n",
      "315 / 361\n",
      "316 / 361\n",
      "317 / 361\n",
      "318 / 361\n",
      "319 / 361\n",
      "320 / 361\n",
      "321 / 361\n",
      "322 / 361\n",
      "323 / 361\n",
      "324 / 361\n",
      "325 / 361\n",
      "326 / 361\n",
      "327 / 361\n",
      "328 / 361\n",
      "329 / 361\n",
      "330 / 361\n",
      "331 / 361\n",
      "332 / 361\n",
      "333 / 361\n",
      "334 / 361\n",
      "335 / 361\n",
      "336 / 361\n",
      "337 / 361\n",
      "338 / 361\n",
      "339 / 361\n",
      "340 / 361\n",
      "341 / 361\n",
      "342 / 361\n",
      "343 / 361\n",
      "344 / 361\n",
      "345 / 361\n",
      "346 / 361\n",
      "347 / 361\n",
      "348 / 361\n",
      "349 / 361\n",
      "350 / 361\n",
      "351 / 361\n",
      "352 / 361\n",
      "353 / 361\n",
      "354 / 361\n",
      "355 / 361\n",
      "356 / 361\n",
      "357 / 361\n",
      "358 / 361\n",
      "359 / 361\n",
      "360 / 361\n",
      "6a\n",
      "6b\n"
     ]
    }
   ],
   "source": [
    "bin_len = 0.001\n",
    "d=30\n",
    "t = np.arange(d)*bin_len\n",
    "layers = np.unique(cells.structure_layer_name.values)\n",
    "F_clumps = {}\n",
    "W_clumps = {}\n",
    "b_clumps = {}\n",
    "for layer in layers:\n",
    "    print layer\n",
    "#     cell_ids = inh_cells[inh_cells.structure_layer_name==layer]['id'].values\n",
    "    cell_ids = exc_cells[exc_cells.structure_layer_name==layer]['id'].values\n",
    "\n",
    "    if len(cell_ids)>5:\n",
    "        F_clump = []\n",
    "        W_clump = []\n",
    "        b_clump = []\n",
    "        for i, cell_id in enumerate(cell_ids):\n",
    "            print i, '/', len(cell_ids)\n",
    "            sweeps = get_sweeps_with_stim(ctc.get_ephys_data(cell_id),'Noise')\n",
    "            if len(sweeps)>0:\n",
    "                (binned_spikes, binned_stim) = bin_spikes_and_stim(sweeps,bin_len)\n",
    "                (F,W,b) = GLM_network_fit(binned_stim*1e9,binned_spikes, d, d, bin_len)\n",
    "                F_clump.append(np.squeeze(F))\n",
    "                W_clump.append(np.squeeze(W))\n",
    "                b_clump.append(np.squeeze(b))\n",
    "                \n",
    "        F_clumps[layer] = np.vstack(F_clump)\n",
    "        W_clumps[layer] = np.vstack(W_clump)\n",
    "        b_clumps[layer] = np.vstack(b_clump)\n"
   ]
  },
  {
   "cell_type": "code",
   "execution_count": 24,
   "metadata": {},
   "outputs": [],
   "source": [
    "np.savez('inh_clumps',F_clumps_inh[lay],W_clumps_inh[lay],b_clumps_inh[lay])\n",
    "# F_clumps_inh = F_clumps.copy()\n",
    "# W_clumps_inh = W_clumps.copy()\n",
    "# b_clumps_inh = b_clumps.copy()"
   ]
  },
  {
   "cell_type": "code",
   "execution_count": 20,
   "metadata": {},
   "outputs": [
    {
     "data": {
      "text/plain": [
       "<StemContainer object of 3 artists>"
      ]
     },
     "execution_count": 20,
     "metadata": {},
     "output_type": "execute_result"
    },
    {
     "data": {
      "image/png": "[encoded data removed]",
      "text/plain": [
       "<Figure size 432x288 with 3 Axes>"
      ]
     },
     "metadata": {},
     "output_type": "display_data"
    }
   ],
   "source": [
    "t = np.arange(d)*bin_len\n",
    "lay = '5'\n",
    "F_means = np.mean(F_clumps[lay],axis = 0)\n",
    "W_means = np.mean(W_clumps[lay],axis = 0)\n",
    "b_mean = np.mean(b_clumps[lay])\n",
    "\n",
    "fig,ax = plt.subplots(3,1)\n",
    "for i in range(b.shape[0]):\n",
    "    ax[0].plot(t,F_clumps[lay].T,'k',linewidth = 0.1)\n",
    "    ax[1].plot(t,W_clumps[lay].T,'k',linewidth = 0.1)\n",
    "ax[0].plot(t,F_means,'k',linewidth = 0.1)\n",
    "ax[1].plot(t,W_means,'k',linewidth = 0.1)\n",
    "ax[2].hist(b_clumps[lay],bins = 20)\n",
    "ax[2].stem([b_mean],[20])\n"
   ]
  },
  {
   "cell_type": "code",
   "execution_count": 18,
   "metadata": {},
   "outputs": [
    {
     "data": {
      "text/plain": [
       "(array([ 1.,  0.,  1.,  2., 26., 40., 45., 14., 11.,  7.,  7.,  2.,  1.,\n",
       "         1.,  2.,  1.,  2.,  1.,  0.,  1.]),\n",
       " array([-8.74230099, -8.32319498, -7.90408898, -7.48498298, -7.06587697,\n",
       "        -6.64677097, -6.22766497, -5.80855896, -5.38945296, -4.97034695,\n",
       "        -4.55124095, -4.13213495, -3.71302894, -3.29392294, -2.87481694,\n",
       "        -2.45571093, -2.03660493, -1.61749893, -1.19839292, -0.77928692,\n",
       "        -0.36018091]),\n",
       " <a list of 20 Patch objects>)"
      ]
     },
     "execution_count": 18,
     "metadata": {},
     "output_type": "execute_result"
    },
    {
     "data": {
      "image/png": "[encoded data removed]",
      "text/plain": [
       "<Figure size 432x288 with 1 Axes>"
      ]
     },
     "metadata": {},
     "output_type": "display_data"
    }
   ],
   "source": [
    "i = 1\n",
    "plt.hist(W_clumps[lay][:,i],bins=20)"
   ]
  },
  {
   "cell_type": "code",
   "execution_count": null,
   "metadata": {},
   "outputs": [],
   "source": []
  },
  {
   "cell_type": "code",
   "execution_count": 242,
   "metadata": {},
   "outputs": [],
   "source": [
    "# def GLM_network_fit_exps(stimulus,spikes,d_stim, d_spk,bin_len,num_exp=2,f='exp',priors=None,L1=None):\n",
    "#     N = spikes.shape[0]\n",
    "#     M = stimulus.shape[0]\n",
    "#     F = np.empty((N,M,num_exp*2)) # stimulus filters\n",
    "#     W = np.empty((N,N,num_exp*2))  # spike train filters\n",
    "#     b = np.empty((N,)) # biases\n",
    "#     fs = {'exp':K.exp}\n",
    "#     Xdsn = construct_GLM_mat(stimulus,spikes, d_stim, d_spk)\n",
    "#     for i in range(N):\n",
    "#         y = spikes[i,max(d_stim,d_spk):]\n",
    "#         # construct GLM model and return fit\n",
    "#         inp = Input(shape=(Xdsn.shape[1],))\n",
    "#         out = FPrb(np.arange(d)*bin_len,num_exp=num_exp)(inp)\n",
    "#         model = Model(inputs = [inp], outputs = [out])\n",
    "#         model.compile(loss = 'poisson',optimizer = keras.optimizers.adam(lr=5e-2))\n",
    "#         model.fit(x=Xdsn,y=y,epochs=200,batch_size = 1000,verbose=0)\n",
    "#         p = model.get_weights()[0]\n",
    "#         F[i,:,:] = p[:M*num_exp*2].reshape((M,num_exp*2))\n",
    "#         W[i,:,:] = p[M*num_exp*2:-1].reshape((N,num_exp*2))\n",
    "#         b[i] = p[-1]\n",
    "#     return (F,W,b)"
   ]
  },
  {
   "cell_type": "code",
   "execution_count": null,
   "metadata": {},
   "outputs": [],
   "source": [
    "# fig,ax = plt.subplots(2,1)\n",
    "# for spec_id in inh_cells['id'].values[1:2]:\n",
    "#     print spec_id\n",
    "#     sweeps = get_sweeps_with_stim(ctc.get_ephys_data(spec_id),'Noise')\n",
    "#     if len(sweeps)>0:\n",
    "#         (binned_spikes, binned_stim) = bin_spikes_and_stim(sweeps,bin_len)\n",
    "#         (F,W,b) = GLM_network_fit_exps(binned_stim*1e9,binned_spikes, d, d, bin_len)\n",
    "#         F = np.squeeze(F)\n",
    "#         W = np.squeeze(W)\n",
    "#         print F,W,b\n",
    "#         ax[0].plot(t,F[0]*np.exp(F[1]*t)+F[2]*np.exp(F[3]*t))\n",
    "#         ax[1].plot(t,W[0]*np.exp(W[1]*t)+W[2]*np.exp(W[3]*t))"
   ]
  },
  {
   "cell_type": "code",
   "execution_count": 248,
   "metadata": {},
   "outputs": [],
   "source": [
    "# from scipy.optimize import differential_evolution\n",
    "\n",
    "# def EvalExpFit(x, a, b):\n",
    "#     return np.dot(a, np.exp(-np.outer(b, x)))\n",
    "\n",
    "# def ExpFitDiffEvol(N, x, y):\n",
    "#     \"\"\"Fit N-exponential decay to a dataseries (x, y) using differential\n",
    "#     evolution as implemented in scipy.optimize.\n",
    "#     Parameters\n",
    "#     ----------\n",
    "#     N : float\n",
    "#         number of summed exponentials to fit\n",
    "#     x : array\n",
    "#         x values\n",
    "#     y : array\n",
    "#         y values\n",
    "#         returns a, b\n",
    "#         len(a) = N\n",
    "#         len(b) = N\n",
    "#         y(x) = \\sum_{i=1}^N a_i \\exp ( - b_i x )\n",
    "#         Use of differntial evolution inspired by use of another genetic algorithm\n",
    "#         to perform exponential fit of by Weizhong Zou in\n",
    "            \n",
    "#             Zou, Weizhong. Larson, Ronald G.\n",
    "#             \"A mesoscopic simulation method for predicting the rheology of\n",
    "#             semi-dilute wormlike micellar solutions.\" Journal of Rheology. 58,\n",
    "#             681 (2014).\n",
    "#     \"\"\"\n",
    "#     x = np.array(x)\n",
    "#     y = np.array(y)\n",
    "\n",
    "#     bounds = [[min(x), max(x)]]*N + [[min(y), max(y)]]*N\n",
    "\n",
    "#     def objective(s):\n",
    "#         taui, fi = np.split(s, 2)\n",
    "#         return np.sum((y - np.dot(fi, np.exp(-np.outer(1./taui, x))))**2.)\n",
    "\n",
    "#     result = differential_evolution(objective, bounds)\n",
    "#     s = result['x']\n",
    "#     taui, fi = np.split(s, 2)\n",
    "#     return fi, 1./taui"
   ]
  },
  {
   "cell_type": "code",
   "execution_count": null,
   "metadata": {},
   "outputs": [],
   "source": [
    "# nexp = 5\n",
    "# W_fir = np.squeeze(W_fir)\n",
    "# fit_inds = range(np.argmax(np.diff(W_fir)),W_fir.shape[0]-1)\n",
    "# fit_inds.extend(range(np.argmax(np.diff(W_fir)), np.argmin(np.diff(W_fir))+2))\n",
    "# fit_inds.extend(range(np.argmax(np.diff(W_fir)), np.argmin(np.diff(W_fir))+2))\n",
    "\n",
    "# # fit_inds = range(np.argmax(np.diff(W_fir)), np.argmin(np.diff(W_fir))+2)\n",
    "# # fit_inds.append(W_fir.shape[0]-1)\n",
    "# print fit_inds\n",
    "# (a,b) = ExpFitDiffEvol(nexp,t[fit_inds],W_fir[fit_inds])\n",
    "# print a, b\n",
    "# # a = [10,-30]\n",
    "# # b = [350,900]\n",
    "# # a = [-7.06*3,3.3]\n",
    "# # b = [938,159]\n",
    "\n",
    "# # plt.plot(t[fit_inds],EvalExpFit(t[fit_inds],a,b))\n",
    "# # plt.plot(t[fit_inds],W_fir[fit_inds])\n",
    "# plt.plot(t,EvalExpFit(t,a,b))\n",
    "# plt.plot(t,W_fir)"
   ]
  },
  {
   "cell_type": "code",
   "execution_count": null,
   "metadata": {},
   "outputs": [],
   "source": [
    "# plt.plot(np.hstack([1*np.ones((5,1)),2*np.ones((5,1)),3*np.ones((5,1)),4*np.ones((5,1))]))\n",
    "# print bin_len"
   ]
  },
  {
   "cell_type": "code",
   "execution_count": null,
   "metadata": {},
   "outputs": [],
   "source": []
  }
 ],
 "metadata": {
  "kernelspec": {
   "display_name": "conda_tensorflow_p27",
   "language": "python",
   "name": "conda_tensorflow_p27"
  },
  "language_info": {
   "codemirror_mode": {
    "name": "ipython",
    "version": 2
   },
   "file_extension": ".py",
   "mimetype": "text/x-python",
   "name": "python",
   "nbconvert_exporter": "python",
   "pygments_lexer": "ipython2",
   "version": "2.7.15"
  },
  "widgets": {
   "application/vnd.jupyter.widget-state+json": {
    "state": {},
    "version_major": 2,
    "version_minor": 0
   }
  }
 },
 "nbformat": 4,
 "nbformat_minor": 2
}
