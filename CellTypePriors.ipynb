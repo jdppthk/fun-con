{
 "cells": [
  {
   "cell_type": "code",
   "execution_count": 1,
   "metadata": {},
   "outputs": [],
   "source": [
    "# please make sure your drive_path is set, so that the notebook can find the data files on the hard drive\n",
    "\n",
    "# OS X\n",
    "# drive_path = '/Volumes/Brain2017/data/dynamic-brain-workshop/cell_types_cache/'\n",
    "\n",
    "# Windows (a good guess)\n",
    "# drive_path = 'e:/data/dynamic-brain-workshop/cell_types_cache/'\n",
    "\n",
    "# Linux (will vary; the following is possibly what Ubuntu will do)\n",
    "# drive_path = '/media/Brain2017/data/dynamic-brain-workshop/cell_types_cache/'\n",
    "\n",
    "# AWS\n",
    "drive_path = '/data/dynamic-brain-workshop/cell_types_cache/'"
   ]
  },
  {
   "cell_type": "code",
   "execution_count": 2,
   "metadata": {},
   "outputs": [
    {
     "name": "stderr",
     "output_type": "stream",
     "text": [
      "Using TensorFlow backend.\n"
     ]
    }
   ],
   "source": [
    "import os\n",
    "import numpy as np\n",
    "import matplotlib.pyplot as plt\n",
    "import pandas as pd\n",
    "from GLM_helpers import *\n",
    "%matplotlib inline\n",
    "\n",
    "import keras\n",
    "from keras import backend as K\n",
    "from keras.models import Model\n",
    "from keras.layers import Input\n",
    "\n",
    "from scipy.optimize import minimize\n",
    "\n",
    "from allensdk.core.cell_types_cache import CellTypesCache"
   ]
  },
  {
   "cell_type": "code",
   "execution_count": 3,
   "metadata": {},
   "outputs": [],
   "source": [
    "ctc = CellTypesCache(manifest_file=os.path.join(drive_path,'manifest.json'))"
   ]
  },
  {
   "cell_type": "code",
   "execution_count": 4,
   "metadata": {},
   "outputs": [
    {
     "name": "stdout",
     "output_type": "stream",
     "text": [
      "1813\n",
      "129\n",
      "259\n"
     ]
    }
   ],
   "source": [
    "# pd.DataFrame(ctc.get_cells()).head()\n",
    "cells = pd.DataFrame(ctc.get_cells(reporter_status='positive'))\n",
    "print len(cells)\n",
    "# cells.head()\n",
    "# print cells.groupby(by='transgenic_line').size()\n",
    "region = 'VISp'\n",
    "inh_lines = ['inh']\n",
    "exc_lines = ['exc']\n",
    "exc_st = ['Rorb','Scnn','Nr5','Rbp','Emx','Cux','Tlx3','Sim1','Ntsr']\n",
    "inh_st = ['Gad','Htr','Pvalb','Vip','Sst']\n",
    "layer = '4'\n",
    "for line in cells.transgenic_line.unique():\n",
    "    for st in exc_st:\n",
    "        if line.startswith(st):\n",
    "            exc_lines.append(line)\n",
    "    for st in inh_st:\n",
    "        if line.startswith(st):\n",
    "            inh_lines.append(line)\n",
    "\n",
    "\n",
    "has_line = False\n",
    "# lines = ['Rorb-IRES2-Cre']\n",
    "for line in inh_lines:\n",
    "    has_line = has_line | (cells.transgenic_line==line)\n",
    "inh_cells = cells[(cells.species=='Mus musculus')& has_line & (cells.structure_area_abbrev==region) & (cells.structure_layer_name==layer)]\n",
    "print len(inh_cells)\n",
    "\n",
    "has_line = False\n",
    "for line in exc_lines:\n",
    "    has_line = has_line | (cells.transgenic_line==line)\n",
    "exc_cells = cells[(cells.species=='Mus musculus')& has_line & (cells.structure_area_abbrev==region) & (cells.structure_layer_name==layer)]\n",
    "print len(exc_cells)"
   ]
  },
  {
   "cell_type": "code",
   "execution_count": 5,
   "metadata": {},
   "outputs": [],
   "source": [
    "import keras\n",
    "from keras import backend as K\n",
    "from keras.models import Model\n",
    "from keras.layers import Input\n",
    "from keras import Sequential\n",
    "from keras.layers import Dense, Lambda\n",
    "from keras.regularizers import Regularizer\n",
    "from keras.callbacks import ModelCheckpoint\n",
    "from keras.regularizers import Regularizer\n",
    "\n",
    "\n",
    "\n",
    "class GroupAndPriors(Regularizer):\n",
    "    \"\"\"Regularizer for group lasso regularization.\n",
    "    # Arguments\n",
    "       l1: Float; L1 regularization factor.\n",
    "       l2: Float; L2 group regularization factor.\n",
    "   \"\"\"\n",
    "\n",
    "    def __init__(self, size_stim, size_filt, prior = None, i=None, lprior = 0, lgroup = 0.):\n",
    "        self.lgroup = K.cast_to_floatx(lgroup)\n",
    "        if prior is not None:\n",
    "            self.lprior = K.cast_to_floatx(lprior)\n",
    "            self.i = i\n",
    "            self.W_means = prior['W_means']\n",
    "            self.W_vars = prior['W_vars']\n",
    "            self.W_weights = prior['W_weights']\n",
    "            self.lsmooth = K.cast_to_floatx(1.0*lprior) #fudge factor here to account for relationship between priors\n",
    "        else:\n",
    "            self.lprior = 0\n",
    "            self.lsmooth = 0\n",
    "            \n",
    "        self.size_filt = size_filt\n",
    "        self.size_stim = size_stim\n",
    "\n",
    "    def __call__(self, x): \n",
    "        xr = K.reshape(x[self.size_stim:], (-1, self.size_filt))\n",
    "        pen = 0.\n",
    "        if self.lgroup > 0:\n",
    "            pen += self.lgroup * np.sqrt(K.int_shape(xr)[1])*K.sum(K.sqrt(K.sum(K.square(xr),axis=1)))\n",
    "        if self.lprior > 0:\n",
    "            pen += self.lprior * K.sum(-K.log(K.epsilon()+K.sum(self.W_weights*K.exp(-0.5*K.square(K.repeat_elements(K.expand_dims(xr[self.i,:],axis=0),self.W_means.shape[0],0)-self.W_means)/self.W_vars),axis=0)))\n",
    "        if self.lsmooth > 0:\n",
    "            pen += self.lsmooth * K.sum(K.square(xr[self.i,:-1]-xr[self.i,1:]))\n",
    "        return pen\n",
    "    \n",
    "class BiasPrior(Regularizer):\n",
    "    \"\"\"Regularizer for group lasso regularization.\n",
    "    # Arguments\n",
    "       l1: Float; L1 regularization factor.\n",
    "       l2: Float; L2 group regularization factor.\n",
    "   \"\"\"\n",
    "\n",
    "    def __init__(self, prior = None, lprior = 0):\n",
    "        if prior is not None:\n",
    "            self.lprior = K.cast_to_floatx(lprior)\n",
    "            self.b_mean = prior['b_mean']\n",
    "            self.b_std = prior['b_std']            \n",
    "        else:\n",
    "            self.lprior = 0\n",
    "\n",
    "\n",
    "    def __call__(self, x): \n",
    "        return self.lprior * K.square((x-self.b_mean)/self.b_std)\n",
    "\n",
    "def construct_GLM_mat(flat_stimulus, binned_spikes, d, spk_filts=None):\n",
    "    (N,T) = binned_spikes.shape # N is number of neurons, T is number of time bins\n",
    "    (M,T) = flat_stimulus.shape # M is the size of a stimulus\n",
    "#     print(\"N,T\", (N,T))\n",
    "#     print(\"M,T\", (M,T))\n",
    "    if spk_filts is not None:\n",
    "        X_dsn = np.empty((T-d,M*d+N*spk_filts.shape[1]))\n",
    "    else:\n",
    "        X_dsn = np.empty((T-d,M*d+N*d))\n",
    "    for t in range(T-d):\n",
    "        X_dsn[t,:M*d] = np.fliplr(flat_stimulus[:,t:t+d]).reshape((1,-1))  #stimulus inputs\n",
    "    if spk_filts is not None:\n",
    "        for i in range(N):\n",
    "            for j in range(spk_filts.shape[1]):\n",
    "                X_dsn[:,M*d+i*spk_filts.shape[1]+j] = np.convolve(binned_spikes[i,:],spk_filts[:,j],mode='valid')[:T-d]\n",
    "    else:\n",
    "        for t in range(T-d):\n",
    "            X_dsn[t,M*d:] = np.fliplr(binned_spikes[:,t:t+d]).reshape((1,-1)) #spike inputs\n",
    "    return X_dsn\n",
    "\n",
    "# tells keras not to use the GPU\n",
    "import os\n",
    "os.environ[\"CUDA_DEVICE_ORDER\"] = \"PCI_BUS_ID\"   # see issue #152\n",
    "os.environ[\"CUDA_VISIBLE_DEVICES\"] = \"\"\n",
    "\n",
    "from keras.callbacks import LearningRateScheduler\n",
    "from scipy.special import gamma\n",
    "\n",
    "def exp_decay(t):\n",
    "    initial_lrate = 4e-3\n",
    "    k = 0.9\n",
    "    lrate = initial_lrate * k**t\n",
    "    return lrate\n",
    "\n",
    "def filt_func(t,a,b):\n",
    "    return t**(a-1)*np.exp(-b*t)*b**a/gamma(a)\n",
    "\n",
    "def make_filts(num_filts=15,f_mean_range=(1e-3,0.04),f_var_range=(1e-6,6e-5),dt=1e-3,d=40):\n",
    "    f_means = np.logspace(np.log10(f_mean_range[0]),np.log10(f_mean_range[1]),num=num_filts)\n",
    "    f_vars = np.logspace(np.log10(f_var_range[0]),np.log10(f_var_range[1]),num=num_filts)\n",
    "#    print f_means, f_vars\n",
    "    f_bs = f_means/f_vars\n",
    "    f_as = f_means*f_bs\n",
    "    t = np.arange(1,d+1)*dt\n",
    "    filts = np.empty((d,num_filts))\n",
    "    for i in range(num_filts):\n",
    "        filts[:,i] = filt_func(t,f_as[i],f_bs[i])\n",
    "        filts[:,i] /= sum(filts[:,i])\n",
    "#    print np.sum(filts*np.tile(t,(num_filts,1)).T,axis=0)\n",
    "    return filts\n",
    "    \n",
    "# Inputs:\n",
    "# stimulus: video shown to the mouse in some form (M pixels x T time points)\n",
    "# spikes: spikes recorded from each neuron in some form (N neurons x T time points)\n",
    "# d: length of filters in samples\n",
    "# f: string for the firing rate function used. options are {'exp'}\n",
    "# priors: a dictionary of dictionaries, mapping a cell type (string of form '<inh or exc>_<region>_<layer>') to a prior (dictionary with keys 'W_means', 'W_vars', 'W_weights' corresponding to GMM parameters)\n",
    "# cell_types: a list of the cell types for each cell (string of form  '<inh or exc>_<region>_<layer>')\n",
    "from keras.callbacks import EarlyStopping\n",
    "\n",
    "def GLM_network_fit(stimulus,spikes,d,bin_len,f='exp',priors=None,cell_types=None,dt=1e-3,filts=None):\n",
    "    Xdsn = construct_GLM_mat(stimulus,spikes, d, spk_filts=filts)\n",
    "    \n",
    "    N = spikes.shape[0]\n",
    "#     print(\"N\", N)\n",
    "    M = stimulus.shape[0]\n",
    "#     print(\"M\", M)\n",
    "    F = np.empty((N,M,d)) # stimulus filters\n",
    "    if filts is not None:\n",
    "        W = np.empty((N,N,filts.shape[1]))  # spike train filters\n",
    "    else:\n",
    "        W = np.empty((N,N,d))  # spike train filters\n",
    "    b = np.empty((N,)) # biases\n",
    "    losses = np.empty((N,))\n",
    "    models = []\n",
    "    fs = {'exp':K.exp}\n",
    "    \n",
    "    for i in range(N):\n",
    "        y = spikes[i,d:]\n",
    "        # construct GLM model and return fit\n",
    "        model = Sequential()\n",
    "        if priors is not None:\n",
    "            model.add(Dense(1,input_dim = Xdsn.shape[1],use_bias=True,\n",
    "                            kernel_regularizer=GroupAndPriors(M*d,filts.shape[1],lgroup=0,lprior = 1e-5,prior=priors[cell_types[i]],i=i),\n",
    "                            kernel_initializer=keras.initializers.RandomUniform(minval=np.min(priors[cell_types[i]]['W_means'][0,:]-2*np.sqrt(priors[cell_types[i]]['W_vars'][0,:])),maxval=np.max(priors[cell_types[i]]['W_means'][-1,:]+2*np.sqrt(priors[cell_types[i]]['W_vars'][-1,:]))),\n",
    "                            bias_regularizer=BiasPrior(prior=priors[cell_types[i]],lprior=1e-5),\n",
    "                            bias_initializer=keras.initializers.RandomNormal(mean=priors[cell_types[i]]['b_mean'],stddev=priors[cell_types[i]]['b_std'])\n",
    "                           ))\n",
    "        else:\n",
    "            model.add(Dense(1,input_dim = Xdsn.shape[1],use_bias=True))\n",
    "        model.add(Lambda(lambda x: fs[f](x)*bin_len))\n",
    "        model.compile(loss = 'poisson',optimizer = keras.optimizers.adam(lr=4e-3))\n",
    "#        checkpointer = ModelCheckpoint(filepath='weights.hdf5', verbose=1, save_best_only=False)\n",
    "        model.fit(x=Xdsn,y=y,batch_size=5000,epochs=5,verbose=2,callbacks=[LearningRateScheduler(exp_decay)]) #, EarlyStopping(monitor='loss',min_delta=0.00005,patience=3)\n",
    "        p = model.get_weights()[0]\n",
    "        F[i,:,:] = p[:M*d].reshape((M,d))\n",
    "        if filts is not None == 0:\n",
    "            W[i,:,:] = p[M*d:].reshape((N,d))\n",
    "        else:\n",
    "            W[i,:,:] = p[M*d:].reshape((N,filts.shape[1]))\n",
    "        b[i] = model.get_weights()[1]\n",
    "#         losses[i] = model.evaluate(x=Xdsn,y=y,verbose=0)\n",
    "        models.append(model)\n",
    "    return (F,W,b,losses,models)"
   ]
  },
  {
   "cell_type": "code",
   "execution_count": 6,
   "metadata": {},
   "outputs": [],
   "source": [
    "def get_sweeps_with_stim(ephys_data,stim_type):\n",
    "    sweeps = []\n",
    "    for i in ephys_data.get_experiment_sweep_numbers():\n",
    "        if str.startswith(str(ephys_data.get_sweep_metadata(i)['aibs_stimulus_name']),stim_type):\n",
    "            sweep = ephys_data.get_sweep(i)\n",
    "            sweep['spike_times'] = ephys_data.get_spike_times(i)\n",
    "            sweeps.append(sweep)\n",
    "    return sweeps\n",
    "\n",
    "def bin_spikes_and_stim(sweeps,bin_len,zpad=0):\n",
    "    spikes_list = []\n",
    "    stim_list = []\n",
    "    for sweep in sweeps:\n",
    "        T = int(np.floor(sweep['index_range'][1]*1.0/(sweep['sampling_rate']*bin_len)))\n",
    "        binned_spikes = np.zeros((1,T))\n",
    "        binned_stim = np.empty((1,T))\n",
    "        for spike_time in sweep['spike_times']:\n",
    "            t = int(np.floor(spike_time/bin_len))\n",
    "            binned_spikes[0,t]+=1\n",
    "        for i in range(T):\n",
    "            binned_stim[0,i] = np.mean(sweep['stimulus'][int(np.round(i*bin_len*sweep['sampling_rate'])):int(np.round((i+1)*bin_len*sweep['sampling_rate']))])\n",
    "        spikes_list.append(binned_spikes)\n",
    "        stim_list.append(binned_stim)\n",
    "        if zpad>0:\n",
    "            spikes_list.append(np.zeros((1,int(np.floor(zpad/bin_len)))))\n",
    "            stim_list.append(np.zeros((1,int(np.floor(zpad/bin_len)))))\n",
    "    binned_spikes = np.hstack(spikes_list)\n",
    "    binned_stim = np.hstack(stim_list)\n",
    "    return (binned_spikes, binned_stim)\n",
    "        \n",
    "    \n",
    "    \"\"\"\n",
    "    - use stim kernel convolved with alpha function as prior for synapse\n",
    "    \"\"\""
   ]
  },
  {
   "cell_type": "code",
   "execution_count": 10,
   "metadata": {},
   "outputs": [
    {
     "data": {
      "text/plain": [
       "36"
      ]
     },
     "execution_count": 10,
     "metadata": {},
     "output_type": "execute_result"
    },
    {
     "data": {
      "image/png": "[encoded data removed]",
      "text/plain": [
       "<Figure size 432x288 with 1 Axes>"
      ]
     },
     "metadata": {},
     "output_type": "display_data"
    }
   ],
   "source": [
    "def construct_Xdsn(stim,spks,d):\n",
    "    X_dsn = np.ones((stim.size-d,2*d+1))\n",
    "    for i in range(stim.size-d):\n",
    "        X_dsn[i,:d] = np.flip(stim[i:i+d],0)\n",
    "        X_dsn[i,d:-1] = np.flip(spks[i:i+d],0)\n",
    "    return X_dsn\n",
    "\n",
    "def fit_GLM(stim,spks,d):\n",
    "    model =  sm.GLM(spks[d:],construct_Xdsn(stim,spks,d),family = sm.families.Poisson())\n",
    "    model_results = model.fit()\n",
    "    p = model_results.params\n",
    "    se = model_results.bse\n",
    "    b = p[-1]\n",
    "    stim_filt = p[:d]\n",
    "    spk_filt = p[d:-1]\n",
    "    return stim_filt, spk_filt, b, se\n",
    "\n",
    "D = np.load('inh_VISp_5.npz')\n",
    "plt.plot(D['W_clump'][30:40,:].T)\n",
    "plt.legend(np.arange(30,40))\n",
    "36"
   ]
  },
  {
   "cell_type": "code",
   "execution_count": 28,
   "metadata": {},
   "outputs": [
    {
     "data": {
      "text/plain": [
       "<matplotlib.legend.Legend at 0x7f19baee8490>"
      ]
     },
     "execution_count": 28,
     "metadata": {},
     "output_type": "execute_result"
    },
    {
     "data": {
      "image/png": "[encoded data removed]",
      "text/plain": [
       "<Figure size 432x288 with 2 Axes>"
      ]
     },
     "metadata": {},
     "output_type": "display_data"
    }
   ],
   "source": [
    "bin_len = 0.001\n",
    "d=40\n",
    "\n",
    "for line in inh_lines:\n",
    "    has_line = has_line | (cells.transgenic_line==line)\n",
    "cell_ids = cells[(cells.species=='Mus musculus')& has_line & (cells.structure_area_abbrev=='VISp') & (cells.structure_layer_name=='5')]['id'].values\n",
    "#43,44, 55,56,57, 65,67 missing\n",
    "nums = [3,25, 70, 73]#np.arange(40) #45 might burst, 70 is burst, 73 is clean\n",
    "used_nums = []\n",
    "fig, (ax1, ax2) = plt.subplots(1,2)\n",
    "for num in nums:\n",
    "    sweeps = get_sweeps_with_stim(ctc.get_ephys_data(cell_ids[num]),'Noise')\n",
    "    if len(sweeps)>0:\n",
    "        used_nums.append(num)\n",
    "        (binned_spikes, binned_stim) = bin_spikes_and_stim(sweeps,bin_len)\n",
    "        F, W, b, se = fit_GLM(binned_stim.squeeze()*1e9,binned_spikes.squeeze(),d)\n",
    "        ax1.errorbar(np.arange(d),W.squeeze(),yerr=se[d:-1])\n",
    "        ax1.set_ylim([-40,40])\n",
    "        ax2.errorbar(np.arange(d),F.squeeze(),yerr=se[0:d])\n",
    "        ax2.set_ylim([-40,40])\n",
    "    else:\n",
    "        print num\n",
    "plt.legend(used_nums)\n",
    "\n",
    "\n",
    "\n"
   ]
  },
  {
   "cell_type": "code",
   "execution_count": 91,
   "metadata": {},
   "outputs": [
    {
     "name": "stdout",
     "output_type": "stream",
     "text": [
      "3\n"
     ]
    },
    {
     "data": {
      "text/plain": [
       "(array([ 15., 192., 341., 237., 134., 153.]),\n",
       " array([3., 4., 5., 6., 7., 8., 9.]),\n",
       " <a list of 6 Patch objects>)"
      ]
     },
     "execution_count": 91,
     "metadata": {},
     "output_type": "execute_result"
    },
    {
     "data": {
      "image/png": "[encoded data removed]",
      "text/plain": [
       "<Figure size 432x288 with 1 Axes>"
      ]
     },
     "metadata": {},
     "output_type": "display_data"
    }
   ],
   "source": [
    "_,spk_times = np.nonzero(binned_spikes)\n",
    "ISIs = np.diff(spk_times)\n",
    "print np.min(ISIs)\n",
    "plt.hist(ISIs[ISIs<10],bins=6)"
   ]
  },
  {
   "cell_type": "code",
   "execution_count": 77,
   "metadata": {},
   "outputs": [
    {
     "data": {
      "text/plain": [
       "[<matplotlib.lines.Line2D at 0x7f50c879e890>]"
      ]
     },
     "execution_count": 77,
     "metadata": {},
     "output_type": "execute_result"
    },
    {
     "data": {
      "image/png": "[encoded data removed]",
      "text/plain": [
       "<Figure size 432x288 with 1 Axes>"
      ]
     },
     "metadata": {},
     "output_type": "display_data"
    }
   ],
   "source": [
    "# export current and spike data to .txt files\n",
    "\n",
    "# cell_id = cells['id'].values[0]\n",
    "# sweeps = get_sweeps_with_stim(ctc.get_ephys_data(cell_id),'Noise')\n",
    "# binned_spikes, binned_stim = bin_spikes_and_stim(sweeps,0.001)\n",
    "\n",
    "plt.plot(binned_spikes.T[10000:20000])\n",
    "#cell1 is exc_visp_5 cell#73: adapting\n",
    "#cell2 is exc_visp_5 cell#70: bursting\n",
    "\n",
    "# np.savetxt('binned_spikes_cell_1.txt',binned_spikes,delimiter=',',fmt='%.1d')\n",
    "# np.savetxt('binned_stim_cell_1.txt',binned_stim*1e9,delimiter=',',fmt='%.6e')"
   ]
  },
  {
   "cell_type": "code",
   "execution_count": null,
   "metadata": {},
   "outputs": [
    {
     "name": "stdout",
     "output_type": "stream",
     "text": [
      "1\n",
      "0 / 8\n",
      "2/3\n",
      "0 / 150\n",
      "20 / 150\n",
      "40 / 150\n",
      "60 / 150\n",
      "80 / 150\n",
      "100 / 150\n"
     ]
    }
   ],
   "source": [
    "import os.path\n",
    "bin_len = 0.001\n",
    "d=40\n",
    "t = np.arange(d)*bin_len\n",
    "\n",
    "region = 'VISp'\n",
    "layers = np.unique(cells.structure_layer_name.values)\n",
    "\n",
    "for lines in [inh_lines, exc_lines]:\n",
    "    for layer in layers:\n",
    "        has_line = False\n",
    "        for line in lines:\n",
    "            has_line = has_line | (cells.transgenic_line==line)\n",
    "        if os.path.isfile(str(lines[0]) + '_' + region + '_' + layer[0]+'_ftemps.npz'):\n",
    "            continue\n",
    "        print layer\n",
    "        cell_ids = cells[(cells.species=='Mus musculus')& has_line & (cells.structure_area_abbrev==region) & (cells.structure_layer_name==layer)]['id'].values\n",
    "        if len(cell_ids)>0:\n",
    "            F_clump = []\n",
    "            W_clump = []\n",
    "            b_clump = []\n",
    "            loss_clump = []\n",
    "            for i, cell_id in enumerate(cell_ids):\n",
    "                if np.mod(i,20)==0:\n",
    "                    print i, '/', len(cell_ids)\n",
    "                sweeps = get_sweeps_with_stim(ctc.get_ephys_data(cell_id),'Noise')\n",
    "                if len(sweeps)>0:\n",
    "                    (binned_spikes, binned_stim) = bin_spikes_and_stim(sweeps,bin_len)\n",
    "                    (F,W,b,loss,_) = GLM_network_fit(binned_stim*1e9,binned_spikes, d, bin_len, filts=make_filts())\n",
    "                    F_clump.append(np.squeeze(F))\n",
    "                    W_clump.append(np.squeeze(W))\n",
    "                    b_clump.append(np.squeeze(b))\n",
    "                    loss_clump.append(np.squeeze(loss))\n",
    "#                     if len(b_clump) == 70:\n",
    "#                         break\n",
    "\n",
    "            F_clump = np.vstack(F_clump)\n",
    "            W_clump = np.vstack(W_clump)\n",
    "            b_clump = np.vstack(b_clump)\n",
    "            loss_clump = np.vstack(loss_clump)\n",
    "            \n",
    "            if layer == '2/3':\n",
    "                lname = '2'\n",
    "            else:\n",
    "                lname = layer\n",
    "            np.savez(str(lines[0]) + '_' + region + '_' + lname+'_ftemps',W_clump=W_clump,F_clump=F_clump,b_clump=b_clump,loss_clump=loss_clump)\n",
    "            \n",
    "            "
   ]
  },
  {
   "cell_type": "code",
   "execution_count": 93,
   "metadata": {},
   "outputs": [
    {
     "name": "stdout",
     "output_type": "stream",
     "text": [
      "exc_VISp_5\n",
      "(29, 1)\n"
     ]
    }
   ],
   "source": [
    "print str(lines[0]) + '_' + region + '_' + lname\n",
    "print b_clump.shape\n",
    "# np.savez(str(lines[0]) + '_' + region + '_' + lname,W_clump=W_clump,F_clump=F_clump,b_clump=b_clump,loss_clump=loss_clump)\n"
   ]
  },
  {
   "cell_type": "code",
   "execution_count": 6,
   "metadata": {},
   "outputs": [],
   "source": [
    "#for cell in cell_types_class ...\n",
    "epd = ctc.get_ephys_data(cells['id'][0])"
   ]
  },
  {
   "cell_type": "code",
   "execution_count": 6,
   "metadata": {},
   "outputs": [
    {
     "name": "stdout",
     "output_type": "stream",
     "text": [
      "[u'Long Square' u'Noise 1' u'Noise 2' u'Ramp' u'Short Square'\n",
      " u'Square - 0.5ms Subthreshold' u'Square - 2s Suprathreshold' u'Test']\n"
     ]
    }
   ],
   "source": [
    "names = []\n",
    "for i in epd.get_experiment_sweep_numbers():\n",
    "    names.append(epd.get_sweep_metadata(i)['aibs_stimulus_name'])\n",
    "print np.unique(names)"
   ]
  },
  {
   "cell_type": "code",
   "execution_count": 209,
   "metadata": {},
   "outputs": [],
   "source": [
    "sweeps = get_sweeps_with_stim(epd,'Noise')\n",
    "bin_len = 0.0005\n",
    "# bin_len = 0.005\n",
    "i=0\n",
    "# (binned_spikes, binned_stim) = bin_spikes_and_stim(sweeps,bin_len)"
   ]
  },
  {
   "cell_type": "code",
   "execution_count": 214,
   "metadata": {},
   "outputs": [
    {
     "name": "stdout",
     "output_type": "stream",
     "text": [
      "['stimulus', 'index_range', 'spike_times', 'stimulus_unit', 'sampling_rate', 'response']\n"
     ]
    },
    {
     "data": {
      "image/png": "[encoded data removed]",
      "text/plain": [
       "<Figure size 432x288 with 2 Axes>"
      ]
     },
     "metadata": {},
     "output_type": "display_data"
    }
   ],
   "source": [
    "\n",
    "t = np.arange(0,sweeps[i]['index_range'][1]+1)*1.0/sweeps[i]['sampling_rate']\n",
    "fig,ax = plt.subplots(2,1,sharex=True)\n",
    "ax[1].plot(t,sweeps[i]['stimulus'])\n",
    "ax[0].plot(t,sweeps[i]['response'])\n",
    "# plt.xlim(10.3,10.31)\n",
    "# print sweeps[5]['index_range']\n",
    "# print sweeps[5]['sampling_rate']\n",
    "print sweeps[0].keys()\n"
   ]
  },
  {
   "cell_type": "code",
   "execution_count": null,
   "metadata": {},
   "outputs": [],
   "source": [
    "plt.plot(t,sweeps[i]['stimulus'])\n",
    "plt.plot((np.arange(0,binned_stim.shape[1])+0.5)*bin_len,np.squeeze(binned_stim))\n",
    "plt.xlim([10.3,10.35])"
   ]
  },
  {
   "cell_type": "code",
   "execution_count": 12,
   "metadata": {},
   "outputs": [
    {
     "data": {
      "text/plain": [
       "(10.3, 10.5)"
      ]
     },
     "execution_count": 12,
     "metadata": {},
     "output_type": "execute_result"
    },
    {
     "data": {
      "image/png": "[encoded data removed]",
      "text/plain": [
       "<Figure size 432x288 with 1 Axes>"
      ]
     },
     "metadata": {},
     "output_type": "display_data"
    }
   ],
   "source": [
    "plt.plot(t,sweeps[i]['response'])\n",
    "plt.plot((np.arange(0,binned_stim.shape[1])+0.5)*bin_len,np.squeeze(binned_spikes)*0.01)\n",
    "plt.xlim([10.3,10.5])"
   ]
  },
  {
   "cell_type": "code",
   "execution_count": 62,
   "metadata": {},
   "outputs": [],
   "source": [
    "# from keras.engine.base_layer import Layer\n",
    "# class FPrb(Layer):\n",
    "\n",
    "#     def __init__(self,dt, **kwargs):\n",
    "#         self.dt = dt\n",
    "#         super(FPrb, self).__init__(**kwargs)\n",
    "\n",
    "#     def build(self, input_shape):\n",
    "#         # Create a trainable weight variable for this layer.\n",
    "#         self.kernel = self.add_weight(name='kernel', \n",
    "#                                       shape=(input_shape[-1],1),\n",
    "#                                       initializer='glorot_normal',\n",
    "#                                       trainable=True)\n",
    "#         self.built = True\n",
    "\n",
    "#     def call(self, x):\n",
    "#         return K.exp(K.dot(x, self.kernel))*self.dt\n",
    "# #         return (K.dot(x, self.kernel))\n",
    "\n",
    "\n",
    "#     def compute_output_shape(self, input_shape):\n",
    "#         return (None,input_shape[0])"
   ]
  },
  {
   "cell_type": "code",
   "execution_count": 15,
   "metadata": {},
   "outputs": [],
   "source": [
    "# def negloglikelihood(y_true,y_pred):\n",
    "# #     return -(-y_pred+y_true*K.log(y_pred))\n",
    "#     return -(-K.exp(y_pred)*1e-1+y_true*y_pred)\n",
    "\n"
   ]
  },
  {
   "cell_type": "code",
   "execution_count": 16,
   "metadata": {},
   "outputs": [],
   "source": [
    "# def neglog_likelihood_poisson(theta, X, y):\n",
    "#     return -np.dot(y.T,np.dot(X,theta)) + np.sum(np.exp(np.dot(X,theta))*1e-1)\n",
    "\n",
    "# X = np.random.random([20000,30])\n",
    "# beta = np.random.random([30, 1])*0.2\n",
    "# w = np.exp(np.dot(X,beta))*0.1\n",
    "# print np.max(w)\n",
    "# y = np.random.poisson(lam=w, size=np.shape(w))\n",
    "# myguess = np.random.normal(loc=0.0, scale= 1.0, size=np.shape(beta))\n",
    "# print(np.shape(myguess))\n",
    "# res = minimize(neglog_likelihood_poisson, args = (X,y), method = 'CG', x0 = myguess, options={'gtol':1e-14})\n",
    "# plt.scatter(beta, res.x)"
   ]
  },
  {
   "cell_type": "code",
   "execution_count": 184,
   "metadata": {},
   "outputs": [],
   "source": [
    "# inp = Input(shape=(Xdsn.shape[1],))\n",
    "# out = FPrb(bin_len)(inp)\n",
    "# model = Model(inputs = [inp], outputs = [out])\n",
    "# print model.summary()\n",
    "# model.compile(loss = 'poisson',optimizer = keras.optimizers.adam(lr=8e-2))"
   ]
  },
  {
   "cell_type": "code",
   "execution_count": 18,
   "metadata": {},
   "outputs": [],
   "source": [
    "# from keras import Sequential\n",
    "# from keras.layers import Dense, Lambda\n",
    "# model = Sequential()\n",
    "# model.add(Dense(1,input_dim = X.shape[1],use_bias=True))\n",
    "# model.add(Lambda(lambda x: K.exp(x)*0.1))\n",
    "# print model.summary()\n",
    "# model.compile(loss = 'poisson',optimizer = keras.optimizers.adam(lr=1e-3))\n",
    "# model.fit(x=X,y=y,epochs=200,batch_size = 1000)"
   ]
  },
  {
   "cell_type": "code",
   "execution_count": 19,
   "metadata": {},
   "outputs": [],
   "source": [
    "# print np.exp(model.get_weights()[1])\n",
    "# plt.scatter(beta, model.get_weights()[0])"
   ]
  },
  {
   "cell_type": "code",
   "execution_count": 20,
   "metadata": {},
   "outputs": [],
   "source": [
    "# from keras import Sequential\n",
    "# from keras.layers import Dense, Lambda\n",
    "# model = Sequential()\n",
    "# model.add(Dense(1,input_dim = Xdsn.shape[1],use_bias=True))\n",
    "# model.add(Lambda(lambda x: K.exp(x)*bin_len))\n",
    "# print model.summary()\n",
    "# model.compile(loss = 'poisson',optimizer = keras.optimizers.adam(lr=2e-1))\n"
   ]
  },
  {
   "cell_type": "code",
   "execution_count": 185,
   "metadata": {},
   "outputs": [],
   "source": [
    "# model.fit(x=Xdsn,y=ydsn,epochs=150,batch_size = 1000000)"
   ]
  },
  {
   "cell_type": "code",
   "execution_count": 74,
   "metadata": {
    "scrolled": true
   },
   "outputs": [
    {
     "data": {
      "text/plain": [
       "[<matplotlib.lines.Line2D at 0x7f171bf0d510>]"
      ]
     },
     "execution_count": 74,
     "metadata": {},
     "output_type": "execute_result"
    },
    {
     "data": {
      "image/png": "[encoded data removed]",
      "text/plain": [
       "<Figure size 432x288 with 1 Axes>"
      ]
     },
     "metadata": {},
     "output_type": "display_data"
    }
   ],
   "source": [
    "p = model.get_weights()[0]\n",
    "# print np.exp(model.get_weights()[1])\n",
    "plt.plot(p[:d])"
   ]
  },
  {
   "cell_type": "code",
   "execution_count": null,
   "metadata": {},
   "outputs": [],
   "source": [
    "(F,W,b,losses,models) = GLM_network_fit(binned_stim*1e9,binned_spikes, d, d, bin_len)"
   ]
  },
  {
   "cell_type": "code",
   "execution_count": 53,
   "metadata": {},
   "outputs": [
    {
     "name": "stdout",
     "output_type": "stream",
     "text": [
      "[0.08559065]\n"
     ]
    },
    {
     "data": {
      "text/plain": [
       "[<matplotlib.lines.Line2D at 0x7f171c628190>]"
      ]
     },
     "execution_count": 53,
     "metadata": {},
     "output_type": "execute_result"
    },
    {
     "data": {
      "image/png": "[encoded data removed]",
      "text/plain": [
       "<Figure size 432x288 with 1 Axes>"
      ]
     },
     "metadata": {},
     "output_type": "display_data"
    }
   ],
   "source": [
    "print np.exp(b)\n",
    "plt.plot(np.arange(d)*bin_len,np.squeeze(F))"
   ]
  },
  {
   "cell_type": "code",
   "execution_count": 32,
   "metadata": {},
   "outputs": [
    {
     "data": {
      "text/plain": [
       "[<matplotlib.lines.Line2D at 0x7f1734b5d950>]"
      ]
     },
     "execution_count": 32,
     "metadata": {},
     "output_type": "execute_result"
    },
    {
     "data": {
      "image/png": "[encoded data removed]",
      "text/plain": [
       "<Figure size 432x288 with 1 Axes>"
      ]
     },
     "metadata": {},
     "output_type": "display_data"
    }
   ],
   "source": [
    "plt.plot(np.arange(d)*bin_len,np.squeeze(W))"
   ]
  },
  {
   "cell_type": "code",
   "execution_count": 79,
   "metadata": {},
   "outputs": [],
   "source": [
    "# myguess = np.random.normal(loc=0.0, scale= 1.0, size=(Xdsn.shape[1],1))\n",
    "# print(np.shape(myguess))\n",
    "# res = minimize(log_likelihood_poisson, args = (Xdsn,y), method = 'CG', x0 = myguess, options={'gtol':1e-14})"
   ]
  },
  {
   "cell_type": "code",
   "execution_count": 169,
   "metadata": {},
   "outputs": [
    {
     "name": "stdout",
     "output_type": "stream",
     "text": [
      "_________________________________________________________________\n",
      "Layer (type)                 Output Shape              Param #   \n",
      "=================================================================\n",
      "input_41 (InputLayer)        (None, 100)               0         \n",
      "_________________________________________________________________\n",
      "f_prb_40 (FPrb)              (None, None)              9         \n",
      "=================================================================\n",
      "Total params: 9\n",
      "Trainable params: 9\n",
      "Non-trainable params: 0\n",
      "_________________________________________________________________\n",
      "None\n"
     ]
    }
   ],
   "source": [
    "# from keras.engine.base_layer import Layer\n",
    "# class FPrb(Layer):\n",
    "\n",
    "#     def __init__(self,t,num_exp=2, **kwargs):\n",
    "#         self.dt = t[1]-t[0]\n",
    "#         self.t = np.expand_dims(t,1)\n",
    "#         self.T = len(t)\n",
    "#         self.num_exp = num_exp\n",
    "#         super(FPrb, self).__init__(**kwargs)\n",
    "\n",
    "#     def build(self, input_shape):\n",
    "#         # Create a trainable weight variable for this layer.\n",
    "#         self.kernel = self.add_weight(name='kernel', \n",
    "#                                       shape=(2*self.num_exp*input_shape[1]/self.T+1,),   # [4p stim1, 4p stim2, ... , 4p spk1, 4p spk2,... ]\n",
    "#                                       initializer='uniform',\n",
    "#                                       trainable=True)\n",
    "#         self.built = True\n",
    "\n",
    "#     def call(self, x):\n",
    "#         F = 0.0\n",
    "#         for i in range(K.int_shape(self.kernel)[0]/(2*self.num_exp)):\n",
    "# #             F += K.dot(x[:,i*self.T:(i+1)*self.T],self.kernel[i*2*self.num_exp]*K.exp(self.kernel[i*2*self.num_exp+1]*self.t)+self.kernel[i*4+2]*K.exp(self.kernel[i*4+3]*self.t))\n",
    "#             for j in range(self.num_exp):\n",
    "#                 F += K.dot(x[:,i*self.T:(i+1)*self.T],self.kernel[i*2*self.num_exp+j*2]*K.exp(self.kernel[i*2*self.num_exp+j*2+1]*self.t))\n",
    "#         F+=self.kernel[-1]\n",
    "#         return K.exp(F)*self.dt\n",
    "\n",
    "\n",
    "#     def compute_output_shape(self, input_shape):\n",
    "#         return (None,input_shape[0])\n",
    "\n",
    "# inp = Input(shape=(Xdsn.shape[1],))\n",
    "# out = FPrb(np.arange(d)*bin_len)(inp)\n",
    "# model = Model(inputs = [inp], outputs = [out])\n",
    "# model.compile(loss = 'poisson',optimizer = keras.optimizers.adam(lr=1e-1))\n",
    "# print model.summary()"
   ]
  },
  {
   "cell_type": "code",
   "execution_count": null,
   "metadata": {},
   "outputs": [],
   "source": [
    "model.fit(x=Xdsn,y=ydsn,epochs=50,batch_size = 1000)"
   ]
  },
  {
   "cell_type": "code",
   "execution_count": 377,
   "metadata": {},
   "outputs": [],
   "source": [
    "# t = np.arange(d)*bin_len\n",
    "# # p = model.get_weights()[0]\n",
    "# print np.exp(p[-1])\n",
    "# print p\n",
    "# w=0\n",
    "# # plt.plot(t,p[2-w]*np.exp(p[3-w]*t))\n",
    "# plt.plot(t,p[4-w]*np.exp(p[5-w]*t)+p[6-w]*np.exp(p[7-w]*t))"
   ]
  },
  {
   "cell_type": "code",
   "execution_count": null,
   "metadata": {},
   "outputs": [
    {
     "name": "stdout",
     "output_type": "stream",
     "text": [
      "1\n",
      "2/3\n",
      "4\n",
      "5\n",
      "0 / 361\n",
      "1 / 361\n",
      "2 / 361\n",
      "3 / 361\n",
      "4 / 361\n",
      "5 / 361\n",
      "6 / 361\n",
      "7 / 361\n",
      "8 / 361\n",
      "9 / 361\n",
      "10 / 361\n",
      "11 / 361\n",
      "12 / 361\n",
      "13 / 361\n",
      "14 / 361\n",
      "15 / 361\n",
      "16 / 361\n",
      "17 / 361\n",
      "18 / 361\n",
      "19 / 361\n",
      "20 / 361\n",
      "21 / 361\n",
      "22 / 361\n",
      "23 / 361\n",
      "24 / 361\n",
      "25 / 361\n",
      "26 / 361\n",
      "27 / 361\n",
      "28 / 361\n",
      "29 / 361\n",
      "30 / 361\n",
      "31 / 361\n",
      "32 / 361\n",
      "33 / 361\n",
      "34 / 361\n",
      "35 / 361\n",
      "36 / 361\n",
      "37 / 361\n",
      "101 / 361\n",
      "102 / 361\n",
      "103 / 361\n",
      "104 / 361\n",
      "105 / 361\n",
      "106 / 361\n",
      "107 / 361\n",
      "108 / 361\n",
      "109 / 361\n",
      "110 / 361\n",
      "111 / 361\n",
      "112 / 361\n",
      "113 / 361\n",
      "114 / 361\n",
      "115 / 361\n",
      "116 / 361\n",
      "117 / 361\n",
      "118 / 361\n",
      "119 / 361\n",
      "120 / 361\n",
      "121 / 361\n",
      "122 / 361\n",
      "123 / 361\n",
      "124 / 361\n",
      "125 / 361\n",
      "126 / 361\n",
      "127 / 361\n",
      "128 / 361\n",
      "129 / 361\n",
      "130 / 361\n",
      "131 / 361\n",
      "132 / 361\n",
      "133 / 361\n",
      "134 / 361\n",
      "135 / 361\n",
      "136 / 361\n",
      "137 / 361\n",
      "138 / 361\n",
      "139 / 361\n",
      "140 / 361\n",
      "141 / 361\n",
      "142 / 361\n",
      "143 / 361\n",
      "144 / 361\n",
      "145 / 361\n",
      "146 / 361\n",
      "147 / 361\n",
      "148 / 361\n",
      "149 / 361\n",
      "150 / 361\n",
      "151 / 361\n",
      "152 / 361\n",
      "153 / 361\n",
      "154 / 361\n",
      "155 / 361\n",
      "156 / 361\n",
      "157 / 361\n",
      "158 / 361\n",
      "159 / 361\n",
      "160 / 361\n",
      "161 / 361\n",
      "162 / 361\n",
      "163 / 361\n",
      "164 / 361\n",
      "165 / 361\n",
      "166 / 361\n",
      "167 / 361\n",
      "168 / 361\n",
      "169 / 361\n",
      "170 / 361\n",
      "171 / 361\n",
      "172 / 361\n",
      "173 / 361\n",
      "174 / 361\n",
      "175 / 361\n",
      "176 / 361\n",
      "177 / 361\n",
      "178 / 361\n",
      "179 / 361\n",
      "180 / 361\n",
      "181 / 361\n",
      "182 / 361\n",
      "183 / 361\n",
      "184 / 361\n",
      "185 / 361\n",
      "186 / 361\n",
      "187 / 361\n",
      "188 / 361\n",
      "189 / 361\n",
      "190 / 361\n",
      "191 / 361\n",
      "192 / 361\n",
      "193 / 361\n",
      "194 / 361\n",
      "195 / 361\n",
      "196 / 361\n",
      "197 / 361\n",
      "198 / 361\n",
      "199 / 361\n",
      "200 / 361\n",
      "201 / 361\n",
      "202 / 361\n",
      "203 / 361\n",
      "204 / 361\n",
      "205 / 361\n",
      "206 / 361\n",
      "207 / 361\n",
      "208 / 361\n",
      "209 / 361\n",
      "210 / 361\n",
      "211 / 361\n",
      "212 / 361\n",
      "213 / 361\n",
      "214 / 361\n",
      "215 / 361\n",
      "216 / 361\n",
      "217 / 361\n",
      "218 / 361\n",
      "219 / 361\n",
      "220 / 361\n",
      "221 / 361\n",
      "222 / 361\n",
      "223 / 361\n",
      "224 / 361\n",
      "225 / 361\n",
      "226 / 361\n",
      "227 / 361\n",
      "228 / 361\n",
      "229 / 361\n",
      "230 / 361\n",
      "231 / 361\n",
      "232 / 361\n",
      "233 / 361\n",
      "234 / 361\n",
      "235 / 361\n",
      "236 / 361\n",
      "237 / 361\n",
      "238 / 361\n",
      "239 / 361\n",
      "240 / 361\n",
      "241 / 361\n",
      "242 / 361\n",
      "243 / 361\n",
      "244 / 361\n",
      "245 / 361\n",
      "246 / 361\n",
      "247 / 361\n",
      "248 / 361\n",
      "249 / 361\n",
      "250 / 361\n",
      "251 / 361\n",
      "252 / 361\n",
      "253 / 361\n",
      "254 / 361\n",
      "255 / 361\n",
      "256 / 361\n",
      "257 / 361\n",
      "258 / 361\n",
      "273 / 361\n",
      "274 / 361\n",
      "275 / 361\n",
      "276 / 361\n",
      "277 / 361\n",
      "278 / 361\n",
      "279 / 361\n",
      "280 / 361\n",
      "281 / 361\n",
      "282 / 361\n",
      "283 / 361\n",
      "284 / 361\n",
      "285 / 361\n",
      "286 / 361\n",
      "287 / 361\n",
      "288 / 361\n",
      "289 / 361\n",
      "290 / 361\n",
      "291 / 361\n",
      "292 / 361\n",
      "293 / 361\n",
      "294 / 361\n",
      "295 / 361\n",
      "296 / 361\n",
      "297 / 361\n",
      "298 / 361\n",
      "299 / 361\n",
      "300 / 361\n",
      "301 / 361\n",
      "302 / 361\n",
      "303 / 361\n",
      "304 / 361\n",
      "305 / 361\n",
      "306 / 361\n",
      "307 / 361\n",
      "308 / 361\n",
      "309 / 361\n",
      "310 / 361\n",
      "311 / 361\n",
      "312 / 361\n",
      "313 / 361\n",
      "314 / 361\n",
      "315 / 361\n",
      "316 / 361\n",
      "317 / 361\n",
      "318 / 361\n",
      "319 / 361\n",
      "320 / 361\n",
      "321 / 361\n",
      "322 / 361\n",
      "323 / 361\n",
      "324 / 361\n",
      "325 / 361\n",
      "326 / 361\n",
      "327 / 361\n",
      "328 / 361\n",
      "329 / 361\n",
      "330 / 361\n",
      "331 / 361\n",
      "332 / 361\n",
      "333 / 361\n",
      "334 / 361\n",
      "335 / 361\n",
      "336 / 361\n",
      "337 / 361\n",
      "338 / 361\n",
      "339 / 361\n",
      "340 / 361\n",
      "341 / 361\n",
      "342 / 361\n",
      "343 / 361\n",
      "344 / 361\n",
      "345 / 361\n",
      "346 / 361\n",
      "347 / 361\n",
      "348 / 361\n",
      "349 / 361\n",
      "350 / 361\n",
      "351 / 361\n",
      "352 / 361\n",
      "353 / 361\n",
      "354 / 361\n",
      "355 / 361\n",
      "356 / 361\n",
      "357 / 361\n",
      "358 / 361\n",
      "359 / 361\n",
      "360 / 361\n",
      "6a\n",
      "6b\n"
     ]
    }
   ],
   "source": [
    "bin_len = 0.001\n",
    "d=30\n",
    "t = np.arange(d)*bin_len\n",
    "layers = np.unique(cells.structure_layer_name.values)\n",
    "F_clumps = {}\n",
    "W_clumps = {}\n",
    "b_clumps = {}\n",
    "for layer in layers:\n",
    "    print layer\n",
    "#     cell_ids = inh_cells[inh_cells.structure_layer_name==layer]['id'].values\n",
    "    cell_ids = exc_cells[exc_cells.structure_layer_name==layer]['id'].values\n",
    "\n",
    "    if len(cell_ids)>5:\n",
    "        F_clump = []\n",
    "        W_clump = []\n",
    "        b_clump = []\n",
    "        for i, cell_id in enumerate(cell_ids):\n",
    "            print i, '/', len(cell_ids)\n",
    "            sweeps = get_sweeps_with_stim(ctc.get_ephys_data(cell_id),'Noise')\n",
    "            if len(sweeps)>0:\n",
    "                (binned_spikes, binned_stim) = bin_spikes_and_stim(sweeps,bin_len)\n",
    "                (F,W,b) = GLM_network_fit(binned_stim*1e9,binned_spikes, d, d, bin_len)\n",
    "                F_clump.append(np.squeeze(F))\n",
    "                W_clump.append(np.squeeze(W))\n",
    "                b_clump.append(np.squeeze(b))\n",
    "                \n",
    "        F_clumps[layer] = np.vstack(F_clump)\n",
    "        W_clumps[layer] = np.vstack(W_clump)\n",
    "        b_clumps[layer] = np.vstack(b_clump)\n"
   ]
  },
  {
   "cell_type": "code",
   "execution_count": 24,
   "metadata": {},
   "outputs": [],
   "source": [
    "np.savez('inh_clumps',F_clumps_inh[lay],W_clumps_inh[lay],b_clumps_inh[lay])\n",
    "# F_clumps_inh = F_clumps.copy()\n",
    "# W_clumps_inh = W_clumps.copy()\n",
    "# b_clumps_inh = b_clumps.copy()"
   ]
  },
  {
   "cell_type": "code",
   "execution_count": 20,
   "metadata": {},
   "outputs": [
    {
     "data": {
      "text/plain": [
       "<StemContainer object of 3 artists>"
      ]
     },
     "execution_count": 20,
     "metadata": {},
     "output_type": "execute_result"
    },
    {
     "data": {
      "image/png": "[encoded data removed]",
      "text/plain": [
       "<Figure size 432x288 with 3 Axes>"
      ]
     },
     "metadata": {},
     "output_type": "display_data"
    }
   ],
   "source": [
    "t = np.arange(d)*bin_len\n",
    "lay = '5'\n",
    "F_means = np.mean(F_clumps[lay],axis = 0)\n",
    "W_means = np.mean(W_clumps[lay],axis = 0)\n",
    "b_mean = np.mean(b_clumps[lay])\n",
    "\n",
    "fig,ax = plt.subplots(3,1)\n",
    "for i in range(b.shape[0]):\n",
    "    ax[0].plot(t,F_clumps[lay].T,'k',linewidth = 0.1)\n",
    "    ax[1].plot(t,W_clumps[lay].T,'k',linewidth = 0.1)\n",
    "ax[0].plot(t,F_means,'k',linewidth = 0.1)\n",
    "ax[1].plot(t,W_means,'k',linewidth = 0.1)\n",
    "ax[2].hist(b_clumps[lay],bins = 20)\n",
    "ax[2].stem([b_mean],[20])\n"
   ]
  },
  {
   "cell_type": "code",
   "execution_count": 18,
   "metadata": {},
   "outputs": [
    {
     "data": {
      "text/plain": [
       "(array([ 1.,  0.,  1.,  2., 26., 40., 45., 14., 11.,  7.,  7.,  2.,  1.,\n",
       "         1.,  2.,  1.,  2.,  1.,  0.,  1.]),\n",
       " array([-8.74230099, -8.32319498, -7.90408898, -7.48498298, -7.06587697,\n",
       "        -6.64677097, -6.22766497, -5.80855896, -5.38945296, -4.97034695,\n",
       "        -4.55124095, -4.13213495, -3.71302894, -3.29392294, -2.87481694,\n",
       "        -2.45571093, -2.03660493, -1.61749893, -1.19839292, -0.77928692,\n",
       "        -0.36018091]),\n",
       " <a list of 20 Patch objects>)"
      ]
     },
     "execution_count": 18,
     "metadata": {},
     "output_type": "execute_result"
    },
    {
     "data": {
      "image/png": "[encoded data removed]",
      "text/plain": [
       "<Figure size 432x288 with 1 Axes>"
      ]
     },
     "metadata": {},
     "output_type": "display_data"
    }
   ],
   "source": [
    "i = 1\n",
    "plt.hist(W_clumps[lay][:,i],bins=20)"
   ]
  },
  {
   "cell_type": "code",
   "execution_count": null,
   "metadata": {},
   "outputs": [],
   "source": []
  },
  {
   "cell_type": "code",
   "execution_count": 242,
   "metadata": {},
   "outputs": [],
   "source": [
    "# def GLM_network_fit_exps(stimulus,spikes,d_stim, d_spk,bin_len,num_exp=2,f='exp',priors=None,L1=None):\n",
    "#     N = spikes.shape[0]\n",
    "#     M = stimulus.shape[0]\n",
    "#     F = np.empty((N,M,num_exp*2)) # stimulus filters\n",
    "#     W = np.empty((N,N,num_exp*2))  # spike train filters\n",
    "#     b = np.empty((N,)) # biases\n",
    "#     fs = {'exp':K.exp}\n",
    "#     Xdsn = construct_GLM_mat(stimulus,spikes, d_stim, d_spk)\n",
    "#     for i in range(N):\n",
    "#         y = spikes[i,max(d_stim,d_spk):]\n",
    "#         # construct GLM model and return fit\n",
    "#         inp = Input(shape=(Xdsn.shape[1],))\n",
    "#         out = FPrb(np.arange(d)*bin_len,num_exp=num_exp)(inp)\n",
    "#         model = Model(inputs = [inp], outputs = [out])\n",
    "#         model.compile(loss = 'poisson',optimizer = keras.optimizers.adam(lr=5e-2))\n",
    "#         model.fit(x=Xdsn,y=y,epochs=200,batch_size = 1000,verbose=0)\n",
    "#         p = model.get_weights()[0]\n",
    "#         F[i,:,:] = p[:M*num_exp*2].reshape((M,num_exp*2))\n",
    "#         W[i,:,:] = p[M*num_exp*2:-1].reshape((N,num_exp*2))\n",
    "#         b[i] = p[-1]\n",
    "#     return (F,W,b)"
   ]
  },
  {
   "cell_type": "code",
   "execution_count": null,
   "metadata": {},
   "outputs": [],
   "source": [
    "# fig,ax = plt.subplots(2,1)\n",
    "# for spec_id in inh_cells['id'].values[1:2]:\n",
    "#     print spec_id\n",
    "#     sweeps = get_sweeps_with_stim(ctc.get_ephys_data(spec_id),'Noise')\n",
    "#     if len(sweeps)>0:\n",
    "#         (binned_spikes, binned_stim) = bin_spikes_and_stim(sweeps,bin_len)\n",
    "#         (F,W,b) = GLM_network_fit_exps(binned_stim*1e9,binned_spikes, d, d, bin_len)\n",
    "#         F = np.squeeze(F)\n",
    "#         W = np.squeeze(W)\n",
    "#         print F,W,b\n",
    "#         ax[0].plot(t,F[0]*np.exp(F[1]*t)+F[2]*np.exp(F[3]*t))\n",
    "#         ax[1].plot(t,W[0]*np.exp(W[1]*t)+W[2]*np.exp(W[3]*t))"
   ]
  },
  {
   "cell_type": "code",
   "execution_count": 248,
   "metadata": {},
   "outputs": [],
   "source": [
    "# from scipy.optimize import differential_evolution\n",
    "\n",
    "# def EvalExpFit(x, a, b):\n",
    "#     return np.dot(a, np.exp(-np.outer(b, x)))\n",
    "\n",
    "# def ExpFitDiffEvol(N, x, y):\n",
    "#     \"\"\"Fit N-exponential decay to a dataseries (x, y) using differential\n",
    "#     evolution as implemented in scipy.optimize.\n",
    "#     Parameters\n",
    "#     ----------\n",
    "#     N : float\n",
    "#         number of summed exponentials to fit\n",
    "#     x : array\n",
    "#         x values\n",
    "#     y : array\n",
    "#         y values\n",
    "#         returns a, b\n",
    "#         len(a) = N\n",
    "#         len(b) = N\n",
    "#         y(x) = \\sum_{i=1}^N a_i \\exp ( - b_i x )\n",
    "#         Use of differntial evolution inspired by use of another genetic algorithm\n",
    "#         to perform exponential fit of by Weizhong Zou in\n",
    "            \n",
    "#             Zou, Weizhong. Larson, Ronald G.\n",
    "#             \"A mesoscopic simulation method for predicting the rheology of\n",
    "#             semi-dilute wormlike micellar solutions.\" Journal of Rheology. 58,\n",
    "#             681 (2014).\n",
    "#     \"\"\"\n",
    "#     x = np.array(x)\n",
    "#     y = np.array(y)\n",
    "\n",
    "#     bounds = [[min(x), max(x)]]*N + [[min(y), max(y)]]*N\n",
    "\n",
    "#     def objective(s):\n",
    "#         taui, fi = np.split(s, 2)\n",
    "#         return np.sum((y - np.dot(fi, np.exp(-np.outer(1./taui, x))))**2.)\n",
    "\n",
    "#     result = differential_evolution(objective, bounds)\n",
    "#     s = result['x']\n",
    "#     taui, fi = np.split(s, 2)\n",
    "#     return fi, 1./taui"
   ]
  },
  {
   "cell_type": "code",
   "execution_count": null,
   "metadata": {},
   "outputs": [],
   "source": [
    "# nexp = 5\n",
    "# W_fir = np.squeeze(W_fir)\n",
    "# fit_inds = range(np.argmax(np.diff(W_fir)),W_fir.shape[0]-1)\n",
    "# fit_inds.extend(range(np.argmax(np.diff(W_fir)), np.argmin(np.diff(W_fir))+2))\n",
    "# fit_inds.extend(range(np.argmax(np.diff(W_fir)), np.argmin(np.diff(W_fir))+2))\n",
    "\n",
    "# # fit_inds = range(np.argmax(np.diff(W_fir)), np.argmin(np.diff(W_fir))+2)\n",
    "# # fit_inds.append(W_fir.shape[0]-1)\n",
    "# print fit_inds\n",
    "# (a,b) = ExpFitDiffEvol(nexp,t[fit_inds],W_fir[fit_inds])\n",
    "# print a, b\n",
    "# # a = [10,-30]\n",
    "# # b = [350,900]\n",
    "# # a = [-7.06*3,3.3]\n",
    "# # b = [938,159]\n",
    "\n",
    "# # plt.plot(t[fit_inds],EvalExpFit(t[fit_inds],a,b))\n",
    "# # plt.plot(t[fit_inds],W_fir[fit_inds])\n",
    "# plt.plot(t,EvalExpFit(t,a,b))\n",
    "# plt.plot(t,W_fir)"
   ]
  },
  {
   "cell_type": "code",
   "execution_count": null,
   "metadata": {},
   "outputs": [],
   "source": [
    "# plt.plot(np.hstack([1*np.ones((5,1)),2*np.ones((5,1)),3*np.ones((5,1)),4*np.ones((5,1))]))\n",
    "# print bin_len"
   ]
  },
  {
   "cell_type": "code",
   "execution_count": null,
   "metadata": {},
   "outputs": [],
   "source": []
  }
 ],
 "metadata": {
  "kernelspec": {
   "display_name": "conda_tensorflow_p27",
   "language": "python",
   "name": "conda_tensorflow_p27"
  },
  "language_info": {
   "codemirror_mode": {
    "name": "ipython",
    "version": 2
   },
   "file_extension": ".py",
   "mimetype": "text/x-python",
   "name": "python",
   "nbconvert_exporter": "python",
   "pygments_lexer": "ipython2",
   "version": "2.7.15"
  },
  "widgets": {
   "application/vnd.jupyter.widget-state+json": {
    "state": {},
    "version_major": 2,
    "version_minor": 0
   }
  }
 },
 "nbformat": 4,
 "nbformat_minor": 2
}
