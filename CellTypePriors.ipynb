{
 "cells": [
  {
   "cell_type": "code",
   "execution_count": 1,
   "metadata": {},
   "outputs": [],
   "source": [
    "# please make sure your drive_path is set, so that the notebook can find the data files on the hard drive\n",
    "\n",
    "# OS X\n",
    "# drive_path = '/Volumes/Brain2017/data/dynamic-brain-workshop/cell_types_cache/'\n",
    "\n",
    "# Windows (a good guess)\n",
    "# drive_path = 'e:/data/dynamic-brain-workshop/cell_types_cache/'\n",
    "\n",
    "# Linux (will vary; the following is possibly what Ubuntu will do)\n",
    "# drive_path = '/media/Brain2017/data/dynamic-brain-workshop/cell_types_cache/'\n",
    "\n",
    "# AWS\n",
    "drive_path = '/data/dynamic-brain-workshop/cell_types_cache/'"
   ]
  },
  {
   "cell_type": "code",
   "execution_count": 696,
   "metadata": {},
   "outputs": [],
   "source": [
    "import os\n",
    "import numpy as np\n",
    "import matplotlib.pyplot as plt\n",
    "import pandas as pd\n",
    "from GLM_helpers import *\n",
    "%matplotlib inline\n",
    "\n",
    "import keras\n",
    "from keras import backend as K\n",
    "from keras.models import Model\n",
    "from keras.layers import Input\n",
    "\n",
    "from scipy.optimize import minimize\n",
    "\n",
    "from allensdk.core.cell_types_cache import CellTypesCache"
   ]
  },
  {
   "cell_type": "code",
   "execution_count": 3,
   "metadata": {},
   "outputs": [],
   "source": [
    "ctc = CellTypesCache()"
   ]
  },
  {
   "cell_type": "code",
   "execution_count": 4,
   "metadata": {},
   "outputs": [
    {
     "name": "stdout",
     "output_type": "stream",
     "text": [
      "1813\n",
      "196\n",
      "361\n"
     ]
    }
   ],
   "source": [
    "# pd.DataFrame(ctc.get_cells()).head()\n",
    "cells = pd.DataFrame(ctc.get_cells(reporter_status='positive'))\n",
    "print len(cells)\n",
    "# cells.head()\n",
    "# print cells.groupby(by='transgenic_line').size()\n",
    "region = 'VISp'\n",
    "\n",
    "inh_lines = []\n",
    "exc_lines = []\n",
    "exc_st = ['Rorb','Scnn','Nr5','Rbp','Emx','Cux','Tlx3','Sim1','Ntsr']\n",
    "inh_st = ['Gad','Htr','Pvalb','Vip','Sst']\n",
    "for line in cells.transgenic_line.unique():\n",
    "    for st in exc_st:\n",
    "        if line.startswith(st):\n",
    "            exc_lines.append(line)\n",
    "    for st in inh_st:\n",
    "        if line.startswith(st):\n",
    "            inh_lines.append(line)\n",
    "\n",
    "\n",
    "has_line = False\n",
    "# lines = ['Rorb-IRES2-Cre']\n",
    "for line in inh_lines:\n",
    "    has_line = has_line | (cells.transgenic_line==line)\n",
    "inh_cells = cells[(cells.species=='Mus musculus')& has_line & (cells.structure_area_abbrev==region) & (cells.structure_layer_name=='5')]\n",
    "print len(inh_cells)\n",
    "\n",
    "for line in exc_lines:\n",
    "    has_line = has_line | (cells.transgenic_line==line)\n",
    "exc_cells = cells[(cells.species=='Mus musculus')& has_line & (cells.structure_area_abbrev==region) & (cells.structure_layer_name=='5')]\n",
    "print len(exc_cells)\n"
   ]
  },
  {
   "cell_type": "code",
   "execution_count": 5,
   "metadata": {},
   "outputs": [],
   "source": [
    "#for cell in cell_types_class ...\n",
    "epd = ctc.get_ephys_data(cells['id'][0])"
   ]
  },
  {
   "cell_type": "code",
   "execution_count": 6,
   "metadata": {},
   "outputs": [
    {
     "name": "stdout",
     "output_type": "stream",
     "text": [
      "[u'Long Square' u'Noise 1' u'Noise 2' u'Ramp' u'Short Square'\n",
      " u'Square - 0.5ms Subthreshold' u'Square - 2s Suprathreshold' u'Test']\n"
     ]
    }
   ],
   "source": [
    "names = []\n",
    "for i in epd.get_experiment_sweep_numbers():\n",
    "    names.append(epd.get_sweep_metadata(i)['aibs_stimulus_name'])\n",
    "print np.unique(names)"
   ]
  },
  {
   "cell_type": "code",
   "execution_count": null,
   "metadata": {},
   "outputs": [],
   "source": []
  },
  {
   "cell_type": "code",
   "execution_count": 7,
   "metadata": {},
   "outputs": [],
   "source": [
    "def get_sweeps_with_stim(ephys_data,stim_type):\n",
    "    sweeps = []\n",
    "    for i in ephys_data.get_experiment_sweep_numbers():\n",
    "        if str.startswith(str(ephys_data.get_sweep_metadata(i)['aibs_stimulus_name']),stim_type):\n",
    "            sweep = ephys_data.get_sweep(i)\n",
    "            sweep['spike_times'] = ephys_data.get_spike_times(i)\n",
    "            sweeps.append(sweep)\n",
    "    return sweeps\n",
    "\n",
    "def bin_spikes_and_stim(sweeps,bin_len,zpad=0):\n",
    "    spikes_list = []\n",
    "    stim_list = []\n",
    "    for sweep in sweeps:\n",
    "        T = int(np.floor(sweep['index_range'][1]*1.0/(sweep['sampling_rate']*bin_len)))\n",
    "        binned_spikes = np.zeros((1,T))\n",
    "        binned_stim = np.empty((1,T))\n",
    "        for spike_time in sweep['spike_times']:\n",
    "            t = int(np.floor(spike_time/bin_len))\n",
    "            binned_spikes[0,t]+=1\n",
    "        for i in range(T):\n",
    "            binned_stim[0,i] = np.mean(sweep['stimulus'][int(np.round(i*bin_len*sweep['sampling_rate'])):int(np.round((i+1)*bin_len*sweep['sampling_rate']))])\n",
    "        spikes_list.append(binned_spikes)\n",
    "        stim_list.append(binned_stim)\n",
    "        if zpad>0:\n",
    "            spikes_list.append(np.zeros((1,int(np.floor(zpad/bin_len)))))\n",
    "            stim_list.append(np.zeros((1,int(np.floor(zpad/bin_len)))))\n",
    "    binned_spikes = np.hstack(spikes_list)\n",
    "    binned_stim = np.hstack(stim_list)\n",
    "    return (binned_spikes, binned_stim)\n",
    "        "
   ]
  },
  {
   "cell_type": "code",
   "execution_count": 761,
   "metadata": {},
   "outputs": [],
   "source": [
    "# # Inputs:\n",
    "# # stimulus: video shown to the mouse in some form\n",
    "# # spikes: spikes recorded from each neuron in some form\n",
    "# # link: string for the link function used. options are {'log', 'logit'}\n",
    "# # priors: TODO\n",
    "# # L1: regularization parameter for sparse synapses TODO\n",
    "\n",
    "# # Returns:\n",
    "# # GLM network model with parameters fit\n",
    "\n",
    "# def GLM_network_fit(stimulus,spikes,d_stim, d_spk,link='log',priors=None,L1=None):\n",
    "#     N = spikes.shape[0]\n",
    "#     M = stimulus.shape[0]\n",
    "#     K = np.empty((N,M,d_stim)) # stimulus filters\n",
    "#     W = np.empty((N,N,d_spk))  # spike train filters\n",
    "# #     b = np.empty((N,)) # biases\n",
    "    \n",
    "#     links = {'log':sm.genmod.families.links.log, 'logit':sm.genmod.families.links.logit}\n",
    "#     for i in range(N):\n",
    "#         [y, Xdsn] = construct_GLM_mat(stimulus,spikes,i, d_stim, d_spk)\n",
    "#         y = y.reshape((-1,1))\n",
    "#         # construct GLM model and return fit\n",
    "#         if priors is None and L1 is None:\n",
    "#             glm_pois = sm.GLM(y, Xdsn, family=sm.families.Poisson(link=links[link]))\n",
    "#             gfit = glm_pois.fit()\n",
    "#             p = gfit.params\n",
    "#             K[i,:,:] = p[:M*d_stim].reshape((M,d_stim))\n",
    "#             W[i,:,:] = p[M*d_stim:].reshape((N,d_spk))\n",
    "# #             W[i,:,:] = p[M*d_stim:-1].reshape((N,d_spk))\n",
    "#             #             b[i] = p[-1]\n",
    "\n",
    "#     return (K,W)\n",
    "# #     return (K,W,b)\n",
    "\n",
    "\n",
    "\n",
    "# Inputs\n",
    "# flat_stimulus: M x T matrix of stimuli\n",
    "# binned_spikes: N x T matrix of spike counts\n",
    "# i: index of the neuron we're constructing the matrix for\n",
    "# d_stim: duration of stimulus filter (# time bins)\n",
    "# d_spk: duration of spike filters (# time bins)\n",
    "def construct_GLM_mat(flat_stimulus, binned_spikes, i, d_stim, d_spk):\n",
    "    (N,T) = binned_spikes.shape # N is number of neurons, T is number of time bins\n",
    "    (M,T) = flat_stimulus.shape # M is the size of a stimulus\n",
    "    X_dsn = np.empty((T-d_stim,M*d_stim+N*d_spk))\n",
    "    d_max = max(d_stim,d_spk)\n",
    "    y = np.empty((T-d_max,))\n",
    "    for t in range(T-d_max):\n",
    "        y[t] = binned_spikes[i,t+d_max]\n",
    "        X_dsn[t,:M*d_stim] = np.fliplr(flat_stimulus[:,t+d_max-d_stim:t+d_max]).reshape((1,-1))  #stimulus inputs\n",
    "        X_dsn[t,M*d_stim:] = np.fliplr(binned_spikes[:,t+d_max-d_spk:t+d_max]).reshape((1,-1)) #spike inputs\n",
    "    return (y, X_dsn)   "
   ]
  },
  {
   "cell_type": "code",
   "execution_count": 758,
   "metadata": {},
   "outputs": [],
   "source": [
    "sweeps = get_sweeps_with_stim(epd,'Noise')\n",
    "bin_len = 0.0005\n",
    "# bin_len = 0.005\n",
    "i=0\n",
    "(binned_spikes, binned_stim) = bin_spikes_and_stim(sweeps,bin_len)"
   ]
  },
  {
   "cell_type": "code",
   "execution_count": 10,
   "metadata": {},
   "outputs": [
    {
     "name": "stdout",
     "output_type": "stream",
     "text": [
      "(37500, 1400999)\n",
      "50000.0\n",
      "['stimulus', 'index_range', 'spike_times', 'stimulus_unit', 'sampling_rate', 'response']\n"
     ]
    },
    {
     "data": {
      "image/png": "[encoded data removed]",
      "text/plain": [
       "<Figure size 432x288 with 2 Axes>"
      ]
     },
     "metadata": {},
     "output_type": "display_data"
    }
   ],
   "source": [
    "\n",
    "t = np.arange(0,sweeps[i]['index_range'][1]+1)*1.0/sweeps[i]['sampling_rate']\n",
    "fig,ax = plt.subplots(2,1,sharex=True)\n",
    "ax[1].plot(t,sweeps[i]['stimulus'])\n",
    "ax[0].plot(t,sweeps[i]['response'])\n",
    "plt.xlim(10.3,10.31)\n",
    "print sweeps[5]['index_range']\n",
    "print sweeps[5]['sampling_rate']\n",
    "print sweeps[5].keys()\n"
   ]
  },
  {
   "cell_type": "code",
   "execution_count": 11,
   "metadata": {},
   "outputs": [
    {
     "data": {
      "text/plain": [
       "(10.3, 10.35)"
      ]
     },
     "execution_count": 11,
     "metadata": {},
     "output_type": "execute_result"
    },
    {
     "data": {
      "image/png": "[encoded data removed]",
      "text/plain": [
       "<Figure size 432x288 with 1 Axes>"
      ]
     },
     "metadata": {},
     "output_type": "display_data"
    }
   ],
   "source": [
    "plt.plot(t,sweeps[i]['stimulus'])\n",
    "plt.plot((np.arange(0,binned_stim.shape[1])+0.5)*bin_len,np.squeeze(binned_stim))\n",
    "plt.xlim([10.3,10.35])"
   ]
  },
  {
   "cell_type": "code",
   "execution_count": 410,
   "metadata": {},
   "outputs": [
    {
     "data": {
      "text/plain": [
       "(10.3, 10.5)"
      ]
     },
     "execution_count": 410,
     "metadata": {},
     "output_type": "execute_result"
    },
    {
     "data": {
      "image/png": "[encoded data removed]",
      "text/plain": [
       "<Figure size 432x288 with 1 Axes>"
      ]
     },
     "metadata": {},
     "output_type": "display_data"
    }
   ],
   "source": [
    "plt.plot(t,sweeps[i]['response'])\n",
    "plt.plot((np.arange(0,binned_stim.shape[1])+0.5)*bin_len,np.squeeze(binned_spikes)*0.01)\n",
    "plt.xlim([10.3,10.5])"
   ]
  },
  {
   "cell_type": "code",
   "execution_count": 647,
   "metadata": {},
   "outputs": [
    {
     "name": "stdout",
     "output_type": "stream",
     "text": [
      "(336184, 100)\n"
     ]
    }
   ],
   "source": [
    "d = 50\n",
    "(ydsn,Xdsn) = construct_GLM_mat(binned_stim*1e9, binned_spikes, i, d, d)\n",
    "print Xdsn.shape\n",
    "# plt.imshow(Xdsn[20900:21000],aspect=0.1)\n",
    "# plt.plot(Xdsn[209090,:])"
   ]
  },
  {
   "cell_type": "code",
   "execution_count": 765,
   "metadata": {},
   "outputs": [
    {
     "name": "stdout",
     "output_type": "stream",
     "text": [
      "(1, 336234)\n"
     ]
    }
   ],
   "source": []
  },
  {
   "cell_type": "code",
   "execution_count": 555,
   "metadata": {},
   "outputs": [],
   "source": [
    "from keras.engine.base_layer import Layer\n",
    "class FPrb(Layer):\n",
    "\n",
    "    def __init__(self,dt, **kwargs):\n",
    "        self.dt = dt\n",
    "        super(FPrb, self).__init__(**kwargs)\n",
    "\n",
    "    def build(self, input_shape):\n",
    "        # Create a trainable weight variable for this layer.\n",
    "        self.kernel = self.add_weight(name='kernel', \n",
    "                                      shape=(input_shape[-1],1),\n",
    "                                      initializer='uniform',\n",
    "                                      trainable=True)\n",
    "        self.built = True\n",
    "\n",
    "    def call(self, x):\n",
    "        return K.exp(K.dot(x, self.kernel))*self.dt\n",
    "#         return (K.dot(x, self.kernel))\n",
    "\n",
    "\n",
    "    def compute_output_shape(self, input_shape):\n",
    "        return (input_shape[0],)"
   ]
  },
  {
   "cell_type": "code",
   "execution_count": 556,
   "metadata": {},
   "outputs": [],
   "source": [
    "def negloglikelihood(y_true,y_pred):\n",
    "#     return -(-y_pred+y_true*K.log(y_pred))\n",
    "    return -(-K.exp(y_pred)*1e-1+y_true*y_pred)\n",
    "\n"
   ]
  },
  {
   "cell_type": "code",
   "execution_count": 626,
   "metadata": {},
   "outputs": [
    {
     "name": "stdout",
     "output_type": "stream",
     "text": [
      "0.8790542850949067\n",
      "(30, 1)\n"
     ]
    },
    {
     "data": {
      "text/plain": [
       "<matplotlib.collections.PathCollection at 0x7f42918b6a10>"
      ]
     },
     "execution_count": 626,
     "metadata": {},
     "output_type": "execute_result"
    },
    {
     "data": {
      "image/png": "[encoded data removed]",
      "text/plain": [
       "<Figure size 432x288 with 1 Axes>"
      ]
     },
     "metadata": {},
     "output_type": "display_data"
    }
   ],
   "source": [
    "def neglog_likelihood_poisson(theta, X, y):\n",
    "    return -np.dot(y.T,np.dot(X,theta)) + np.sum(np.exp(np.dot(X,theta))*1e-1)\n",
    "\n",
    "X = np.random.random([20000,30])\n",
    "beta = np.random.random([30, 1])*0.2\n",
    "w = np.exp(np.dot(X,beta))*0.1\n",
    "print np.max(w)\n",
    "y = np.random.poisson(lam=w, size=np.shape(w))\n",
    "myguess = np.random.normal(loc=0.0, scale= 1.0, size=np.shape(beta))\n",
    "print(np.shape(myguess))\n",
    "res = minimize(neglog_likelihood_poisson, args = (X,y), method = 'CG', x0 = myguess, options={'gtol':1e-14})\n",
    "plt.scatter(beta, res.x)"
   ]
  },
  {
   "cell_type": "code",
   "execution_count": 627,
   "metadata": {},
   "outputs": [
    {
     "name": "stdout",
     "output_type": "stream",
     "text": [
      "_________________________________________________________________\n",
      "Layer (type)                 Output Shape              Param #   \n",
      "=================================================================\n",
      "input_65 (InputLayer)        (None, 30)                0         \n",
      "_________________________________________________________________\n",
      "f_prb_59 (FPrb)              (None,)                   30        \n",
      "=================================================================\n",
      "Total params: 30\n",
      "Trainable params: 30\n",
      "Non-trainable params: 0\n",
      "_________________________________________________________________\n",
      "None\n"
     ]
    }
   ],
   "source": [
    "inp = Input(shape=(X.shape[1],))\n",
    "out = FPrb(bin_len)(inp)\n",
    "model = Model(inputs = [inp], outputs = [out])\n",
    "print model.summary()"
   ]
  },
  {
   "cell_type": "code",
   "execution_count": 649,
   "metadata": {},
   "outputs": [
    {
     "name": "stdout",
     "output_type": "stream",
     "text": [
      "_________________________________________________________________\n",
      "Layer (type)                 Output Shape              Param #   \n",
      "=================================================================\n",
      "dense_30 (Dense)             (None, 1)                 31        \n",
      "_________________________________________________________________\n",
      "lambda_29 (Lambda)           (None, 1)                 0         \n",
      "=================================================================\n",
      "Total params: 31\n",
      "Trainable params: 31\n",
      "Non-trainable params: 0\n",
      "_________________________________________________________________\n",
      "None\n"
     ]
    }
   ],
   "source": [
    "from keras import Sequential\n",
    "from keras.layers import Dense, Lambda\n",
    "model = Sequential()\n",
    "model.add(Dense(1,input_dim = X.shape[1],use_bias=True))\n",
    "model.add(Lambda(lambda x: K.exp(x)*0.1))\n",
    "print model.summary()\n",
    "model.compile(loss = 'poisson',optimizer = keras.optimizers.adam(lr=1e-3))\n",
    "model.fit(x=X,y=y,epochs=200,batch_size = 1000)"
   ]
  },
  {
   "cell_type": "code",
   "execution_count": null,
   "metadata": {},
   "outputs": [],
   "source": [
    "print np.exp(model.get_weights()[1])\n",
    "plt.scatter(beta, model.get_weights()[0])"
   ]
  },
  {
   "cell_type": "code",
   "execution_count": 751,
   "metadata": {},
   "outputs": [
    {
     "name": "stdout",
     "output_type": "stream",
     "text": [
      "_________________________________________________________________\n",
      "Layer (type)                 Output Shape              Param #   \n",
      "=================================================================\n",
      "dense_61 (Dense)             (None, 1)                 101       \n",
      "_________________________________________________________________\n",
      "lambda_60 (Lambda)           (None, 1)                 0         \n",
      "=================================================================\n",
      "Total params: 101\n",
      "Trainable params: 101\n",
      "Non-trainable params: 0\n",
      "_________________________________________________________________\n",
      "None\n"
     ]
    }
   ],
   "source": [
    "from keras import Sequential\n",
    "from keras.layers import Dense, Lambda\n",
    "model = Sequential()\n",
    "model.add(Dense(1,input_dim = Xdsn.shape[1],use_bias=True))\n",
    "model.add(Lambda(lambda x: K.exp(x)*bin_len))\n",
    "print model.summary()\n",
    "model.compile(loss = 'poisson',optimizer = keras.optimizers.adam(lr=2e-1))\n"
   ]
  },
  {
   "cell_type": "code",
   "execution_count": 752,
   "metadata": {},
   "outputs": [
    {
     "name": "stdout",
     "output_type": "stream",
     "text": [
      "Epoch 1/100\n",
      "336184/336184 [==============================] - 2s 5us/step - loss: 0.0225\n",
      "Epoch 2/100\n",
      "336184/336184 [==============================] - 0s 1us/step - loss: 0.0308\n",
      "Epoch 3/100\n",
      "336184/336184 [==============================] - 0s 1us/step - loss: 0.0179\n",
      "Epoch 4/100\n",
      "336184/336184 [==============================] - 0s 1us/step - loss: 0.0240\n",
      "Epoch 5/100\n",
      "336184/336184 [==============================] - 0s 1us/step - loss: 0.0283\n",
      "Epoch 6/100\n",
      "336184/336184 [==============================] - 0s 1us/step - loss: 0.0309\n",
      "Epoch 7/100\n",
      "336184/336184 [==============================] - 0s 1us/step - loss: 0.0322\n",
      "Epoch 8/100\n",
      "336184/336184 [==============================] - 0s 1us/step - loss: 0.0324\n",
      "Epoch 9/100\n",
      "336184/336184 [==============================] - 0s 1us/step - loss: 0.0316\n",
      "Epoch 10/100\n",
      "336184/336184 [==============================] - 0s 1us/step - loss: 0.0301\n",
      "Epoch 11/100\n",
      "336184/336184 [==============================] - 0s 1us/step - loss: 0.0278\n",
      "Epoch 12/100\n",
      "336184/336184 [==============================] - 0s 1us/step - loss: 0.0250\n",
      "Epoch 13/100\n",
      "336184/336184 [==============================] - 0s 1us/step - loss: 0.0217\n",
      "Epoch 14/100\n",
      "336184/336184 [==============================] - 0s 1us/step - loss: 0.0182\n",
      "Epoch 15/100\n",
      "336184/336184 [==============================] - 0s 1us/step - loss: 0.0155\n",
      "Epoch 16/100\n",
      "336184/336184 [==============================] - 0s 1us/step - loss: 0.0174\n",
      "Epoch 17/100\n",
      "336184/336184 [==============================] - 0s 1us/step - loss: 0.0239\n",
      "Epoch 18/100\n",
      "336184/336184 [==============================] - 0s 1us/step - loss: 0.0173\n",
      "Epoch 19/100\n",
      "336184/336184 [==============================] - 0s 1us/step - loss: 0.0151\n",
      "Epoch 20/100\n",
      "336184/336184 [==============================] - 0s 1us/step - loss: 0.0162\n",
      "Epoch 21/100\n",
      "336184/336184 [==============================] - 0s 1us/step - loss: 0.0177\n",
      "Epoch 22/100\n",
      "336184/336184 [==============================] - 0s 1us/step - loss: 0.0187\n",
      "Epoch 23/100\n",
      "336184/336184 [==============================] - 0s 1us/step - loss: 0.0191\n",
      "Epoch 24/100\n",
      "336184/336184 [==============================] - 0s 1us/step - loss: 0.0188\n",
      "Epoch 25/100\n",
      "336184/336184 [==============================] - 0s 1us/step - loss: 0.0180\n",
      "Epoch 26/100\n",
      "336184/336184 [==============================] - 0s 1us/step - loss: 0.0168\n",
      "Epoch 27/100\n",
      "336184/336184 [==============================] - 0s 1us/step - loss: 0.0155\n",
      "Epoch 28/100\n",
      "336184/336184 [==============================] - 0s 1us/step - loss: 0.0148\n",
      "Epoch 29/100\n",
      "336184/336184 [==============================] - 0s 1us/step - loss: 0.0156\n",
      "Epoch 30/100\n",
      "336184/336184 [==============================] - 0s 1us/step - loss: 0.0170\n",
      "Epoch 31/100\n",
      "336184/336184 [==============================] - 0s 1us/step - loss: 0.0160\n",
      "Epoch 32/100\n",
      "336184/336184 [==============================] - 0s 1us/step - loss: 0.0147\n",
      "Epoch 33/100\n",
      "336184/336184 [==============================] - 0s 1us/step - loss: 0.0147\n",
      "Epoch 34/100\n",
      "336184/336184 [==============================] - 0s 1us/step - loss: 0.0152\n",
      "Epoch 35/100\n",
      "336184/336184 [==============================] - 0s 1us/step - loss: 0.0156\n",
      "Epoch 36/100\n",
      "336184/336184 [==============================] - 0s 1us/step - loss: 0.0157\n",
      "Epoch 37/100\n",
      "336184/336184 [==============================] - 0s 1us/step - loss: 0.0154\n",
      "Epoch 38/100\n",
      "336184/336184 [==============================] - 0s 1us/step - loss: 0.0149\n",
      "Epoch 39/100\n",
      "336184/336184 [==============================] - 0s 1us/step - loss: 0.0144\n",
      "Epoch 40/100\n",
      "336184/336184 [==============================] - 0s 1us/step - loss: 0.0144\n",
      "Epoch 41/100\n",
      "336184/336184 [==============================] - 0s 1us/step - loss: 0.0148\n",
      "Epoch 42/100\n",
      "336184/336184 [==============================] - 0s 1us/step - loss: 0.0149\n",
      "Epoch 43/100\n",
      "336184/336184 [==============================] - 0s 1us/step - loss: 0.0145\n",
      "Epoch 44/100\n",
      "336184/336184 [==============================] - 0s 1us/step - loss: 0.0142\n",
      "Epoch 45/100\n",
      "336184/336184 [==============================] - 0s 1us/step - loss: 0.0143\n",
      "Epoch 46/100\n",
      "336184/336184 [==============================] - 0s 1us/step - loss: 0.0144\n",
      "Epoch 47/100\n",
      "336184/336184 [==============================] - 0s 1us/step - loss: 0.0145\n",
      "Epoch 48/100\n",
      "336184/336184 [==============================] - 0s 1us/step - loss: 0.0144\n",
      "Epoch 49/100\n",
      "336184/336184 [==============================] - 0s 1us/step - loss: 0.0141\n",
      "Epoch 50/100\n",
      "336184/336184 [==============================] - 0s 1us/step - loss: 0.0140\n",
      "Epoch 51/100\n",
      "336184/336184 [==============================] - 0s 1us/step - loss: 0.0140\n",
      "Epoch 52/100\n",
      "336184/336184 [==============================] - 0s 1us/step - loss: 0.0141\n",
      "Epoch 53/100\n",
      "336184/336184 [==============================] - 0s 1us/step - loss: 0.0141\n",
      "Epoch 54/100\n",
      "336184/336184 [==============================] - 0s 1us/step - loss: 0.0139\n",
      "Epoch 55/100\n",
      "336184/336184 [==============================] - 0s 1us/step - loss: 0.0138\n",
      "Epoch 56/100\n",
      "336184/336184 [==============================] - 0s 1us/step - loss: 0.0138\n",
      "Epoch 57/100\n",
      "336184/336184 [==============================] - 0s 1us/step - loss: 0.0139\n",
      "Epoch 58/100\n",
      "336184/336184 [==============================] - 0s 1us/step - loss: 0.0138\n",
      "Epoch 59/100\n",
      "336184/336184 [==============================] - 0s 1us/step - loss: 0.0137\n",
      "Epoch 60/100\n",
      "336184/336184 [==============================] - 0s 1us/step - loss: 0.0136\n",
      "Epoch 61/100\n",
      "336184/336184 [==============================] - 0s 1us/step - loss: 0.0136\n",
      "Epoch 62/100\n",
      "336184/336184 [==============================] - 0s 1us/step - loss: 0.0137\n",
      "Epoch 63/100\n",
      "336184/336184 [==============================] - 0s 1us/step - loss: 0.0136\n",
      "Epoch 64/100\n",
      "336184/336184 [==============================] - 0s 1us/step - loss: 0.0135\n",
      "Epoch 65/100\n",
      "336184/336184 [==============================] - 0s 1us/step - loss: 0.0135\n",
      "Epoch 66/100\n",
      "336184/336184 [==============================] - 0s 1us/step - loss: 0.0135\n",
      "Epoch 67/100\n",
      "336184/336184 [==============================] - 0s 1us/step - loss: 0.0135\n",
      "Epoch 68/100\n",
      "336184/336184 [==============================] - 0s 1us/step - loss: 0.0134\n",
      "Epoch 69/100\n",
      "336184/336184 [==============================] - 0s 1us/step - loss: 0.0134\n",
      "Epoch 70/100\n",
      "336184/336184 [==============================] - 0s 1us/step - loss: 0.0133\n",
      "Epoch 71/100\n",
      "336184/336184 [==============================] - 0s 1us/step - loss: 0.0133\n",
      "Epoch 72/100\n",
      "336184/336184 [==============================] - 0s 1us/step - loss: 0.0133\n",
      "Epoch 73/100\n",
      "336184/336184 [==============================] - 0s 1us/step - loss: 0.0132\n",
      "Epoch 74/100\n",
      "336184/336184 [==============================] - 0s 1us/step - loss: 0.0132\n",
      "Epoch 75/100\n",
      "336184/336184 [==============================] - 0s 1us/step - loss: 0.0132\n",
      "Epoch 76/100\n",
      "336184/336184 [==============================] - 0s 1us/step - loss: 0.0132\n",
      "Epoch 77/100\n",
      "336184/336184 [==============================] - 0s 1us/step - loss: 0.0131\n",
      "Epoch 78/100\n",
      "336184/336184 [==============================] - 0s 1us/step - loss: 0.0131\n",
      "Epoch 79/100\n",
      "336184/336184 [==============================] - 0s 1us/step - loss: 0.0131\n",
      "Epoch 80/100\n",
      "336184/336184 [==============================] - 0s 1us/step - loss: 0.0130\n",
      "Epoch 81/100\n",
      "336184/336184 [==============================] - 0s 1us/step - loss: 0.0130\n",
      "Epoch 82/100\n",
      "336184/336184 [==============================] - 0s 1us/step - loss: 0.0130\n",
      "Epoch 83/100\n",
      "336184/336184 [==============================] - 0s 1us/step - loss: 0.0129\n",
      "Epoch 84/100\n",
      "336184/336184 [==============================] - 0s 1us/step - loss: 0.0129\n",
      "Epoch 85/100\n",
      "336184/336184 [==============================] - 0s 1us/step - loss: 0.0129\n",
      "Epoch 86/100\n",
      "336184/336184 [==============================] - 0s 1us/step - loss: 0.0129\n",
      "Epoch 87/100\n",
      "336184/336184 [==============================] - 0s 1us/step - loss: 0.0128\n",
      "Epoch 88/100\n",
      "336184/336184 [==============================] - 0s 1us/step - loss: 0.0128\n",
      "Epoch 89/100\n",
      "336184/336184 [==============================] - 0s 1us/step - loss: 0.0128\n",
      "Epoch 90/100\n",
      "336184/336184 [==============================] - 0s 1us/step - loss: 0.0128\n",
      "Epoch 91/100\n",
      "336184/336184 [==============================] - 0s 1us/step - loss: 0.0127\n",
      "Epoch 92/100\n",
      "336184/336184 [==============================] - 0s 1us/step - loss: 0.0127\n",
      "Epoch 93/100\n",
      "336184/336184 [==============================] - 0s 1us/step - loss: 0.0127\n"
     ]
    },
    {
     "name": "stdout",
     "output_type": "stream",
     "text": [
      "Epoch 94/100\n",
      "336184/336184 [==============================] - 0s 1us/step - loss: 0.0126\n",
      "Epoch 95/100\n",
      "336184/336184 [==============================] - 0s 1us/step - loss: 0.0126\n",
      "Epoch 96/100\n",
      "336184/336184 [==============================] - 0s 1us/step - loss: 0.0126\n",
      "Epoch 97/100\n",
      "336184/336184 [==============================] - 0s 1us/step - loss: 0.0126\n",
      "Epoch 98/100\n",
      "336184/336184 [==============================] - 0s 1us/step - loss: 0.0125\n",
      "Epoch 99/100\n",
      "336184/336184 [==============================] - 0s 1us/step - loss: 0.0125\n",
      "Epoch 100/100\n",
      "336184/336184 [==============================] - 0s 1us/step - loss: 0.0125\n"
     ]
    },
    {
     "data": {
      "text/plain": [
       "<keras.callbacks.History at 0x7f428dc7ef10>"
      ]
     },
     "execution_count": 752,
     "metadata": {},
     "output_type": "execute_result"
    }
   ],
   "source": [
    "model.fit(x=Xdsn,y=ydsn,epochs=100,batch_size = 1000000)"
   ]
  },
  {
   "cell_type": "code",
   "execution_count": 753,
   "metadata": {
    "scrolled": true
   },
   "outputs": [
    {
     "name": "stdout",
     "output_type": "stream",
     "text": [
      "[0.35273513]\n"
     ]
    },
    {
     "data": {
      "text/plain": [
       "[<matplotlib.lines.Line2D at 0x7f42769c9050>]"
      ]
     },
     "execution_count": 753,
     "metadata": {},
     "output_type": "execute_result"
    },
    {
     "data": {
      "image/png": "[encoded data removed]",
      "text/plain": [
       "<Figure size 432x288 with 1 Axes>"
      ]
     },
     "metadata": {},
     "output_type": "display_data"
    }
   ],
   "source": [
    "p = model.get_weights()[0]\n",
    "print np.exp(model.get_weights()[1])\n",
    "plt.plot(p[:d])"
   ]
  },
  {
   "cell_type": "code",
   "execution_count": 773,
   "metadata": {},
   "outputs": [],
   "source": [
    "def GLM_network_fit(stimulus,spikes,d_stim, d_spk,bin_len,f=K.exp,priors=None,L1=None):\n",
    "    N = spikes.shape[0]\n",
    "    M = stimulus.shape[0]\n",
    "    K = np.empty((N,M,d_stim)) # stimulus filters\n",
    "    W = np.empty((N,N,d_spk))  # spike train filters\n",
    "    b = np.empty((N,)) # biases\n",
    "\n",
    "    for i in range(N):\n",
    "        [y, Xdsn] = construct_GLM_mat(stimulus,spikes,i, d_stim, d_spk)\n",
    "        print np.sum(y), np.sum(np.sum(Xdsn))\n",
    "        y = y.reshape((-1,1))\n",
    "        # construct GLM model and return fit\n",
    "        model = Sequential()\n",
    "        model.add(Dense(1,input_dim = Xdsn.shape[1],use_bias=True))\n",
    "        model.add(Lambda(lambda x: f(x)*bin_len))\n",
    "        model.compile(loss = 'poisson',optimizer = keras.optimizers.adam(lr=2e-1))\n",
    "        model.fit(x=Xdsn,y=y,epochs=150,batch_size = 1000000)\n",
    "        p = model.get_weights()[0]\n",
    "        F[i,:,:] = p[:M*d_stim].reshape((M,d_stim))\n",
    "        W[i,:,:] = p[M*d_stim:].reshape((N,d_spk))\n",
    "        b[i] = model.get_weights()[1]\n",
    "    return (F,W,b)"
   ]
  },
  {
   "cell_type": "code",
   "execution_count": 766,
   "metadata": {},
   "outputs": [
    {
     "name": "stdout",
     "output_type": "stream",
     "text": [
      "1031.0 1725823.5126843608\n",
      "Epoch 1/200\n",
      "336184/336184 [==============================] - 2s 6us/step - loss: 0.0214\n",
      "Epoch 2/200\n",
      "336184/336184 [==============================] - 0s 1us/step - loss: 0.0415\n",
      "Epoch 3/200\n",
      "336184/336184 [==============================] - 0s 1us/step - loss: 0.0175\n",
      "Epoch 4/200\n",
      "336184/336184 [==============================] - 0s 1us/step - loss: 0.0242\n",
      "Epoch 5/200\n",
      "336184/336184 [==============================] - 0s 1us/step - loss: 0.0296\n",
      "Epoch 6/200\n",
      "336184/336184 [==============================] - 0s 1us/step - loss: 0.0335\n",
      "Epoch 7/200\n",
      "336184/336184 [==============================] - 0s 1us/step - loss: 0.0362\n",
      "Epoch 8/200\n",
      "336184/336184 [==============================] - 0s 1us/step - loss: 0.0379\n",
      "Epoch 9/200\n",
      "336184/336184 [==============================] - 0s 1us/step - loss: 0.0388\n",
      "Epoch 10/200\n",
      "336184/336184 [==============================] - 0s 1us/step - loss: 0.0391\n",
      "Epoch 11/200\n",
      "336184/336184 [==============================] - 0s 1us/step - loss: 0.0389\n",
      "Epoch 12/200\n",
      "336184/336184 [==============================] - 0s 1us/step - loss: 0.0382\n",
      "Epoch 13/200\n",
      "336184/336184 [==============================] - 0s 1us/step - loss: 0.0370\n",
      "Epoch 14/200\n",
      "336184/336184 [==============================] - 0s 1us/step - loss: 0.0353\n",
      "Epoch 15/200\n",
      "336184/336184 [==============================] - 0s 1us/step - loss: 0.0333\n",
      "Epoch 16/200\n",
      "336184/336184 [==============================] - 0s 1us/step - loss: 0.0308\n",
      "Epoch 17/200\n",
      "336184/336184 [==============================] - 0s 1us/step - loss: 0.0281\n",
      "Epoch 18/200\n",
      "336184/336184 [==============================] - 0s 1us/step - loss: 0.0250\n",
      "Epoch 19/200\n",
      "336184/336184 [==============================] - 0s 1us/step - loss: 0.0217\n",
      "Epoch 20/200\n",
      "336184/336184 [==============================] - 0s 1us/step - loss: 0.0185\n",
      "Epoch 21/200\n",
      "336184/336184 [==============================] - 0s 1us/step - loss: 0.0158\n",
      "Epoch 22/200\n",
      "336184/336184 [==============================] - 0s 1us/step - loss: 0.0159\n",
      "Epoch 23/200\n",
      "336184/336184 [==============================] - 0s 1us/step - loss: 0.0221\n",
      "Epoch 24/200\n",
      "336184/336184 [==============================] - 0s 1us/step - loss: 0.0224\n",
      "Epoch 25/200\n",
      "336184/336184 [==============================] - 0s 1us/step - loss: 0.0164\n",
      "Epoch 26/200\n",
      "336184/336184 [==============================] - 0s 1us/step - loss: 0.0152\n",
      "Epoch 27/200\n",
      "336184/336184 [==============================] - 0s 1us/step - loss: 0.0162\n",
      "Epoch 28/200\n",
      "336184/336184 [==============================] - 0s 1us/step - loss: 0.0175\n",
      "Epoch 29/200\n",
      "336184/336184 [==============================] - 0s 1us/step - loss: 0.0185\n",
      "Epoch 30/200\n",
      "336184/336184 [==============================] - 0s 1us/step - loss: 0.0191\n",
      "Epoch 31/200\n",
      "336184/336184 [==============================] - 0s 1us/step - loss: 0.0191\n",
      "Epoch 32/200\n",
      "336184/336184 [==============================] - 0s 1us/step - loss: 0.0186\n",
      "Epoch 33/200\n",
      "336184/336184 [==============================] - 0s 1us/step - loss: 0.0178\n",
      "Epoch 34/200\n",
      "336184/336184 [==============================] - 0s 1us/step - loss: 0.0166\n",
      "Epoch 35/200\n",
      "336184/336184 [==============================] - 0s 1us/step - loss: 0.0155\n",
      "Epoch 36/200\n",
      "336184/336184 [==============================] - 0s 1us/step - loss: 0.0148\n",
      "Epoch 37/200\n",
      "336184/336184 [==============================] - 0s 1us/step - loss: 0.0152\n",
      "Epoch 38/200\n",
      "336184/336184 [==============================] - 0s 1us/step - loss: 0.0165\n",
      "Epoch 39/200\n",
      "336184/336184 [==============================] - 0s 1us/step - loss: 0.0166\n",
      "Epoch 40/200\n",
      "336184/336184 [==============================] - 0s 1us/step - loss: 0.0154\n",
      "Epoch 41/200\n",
      "336184/336184 [==============================] - 0s 1us/step - loss: 0.0147\n",
      "Epoch 42/200\n",
      "336184/336184 [==============================] - 0s 1us/step - loss: 0.0148\n",
      "Epoch 43/200\n",
      "336184/336184 [==============================] - 0s 1us/step - loss: 0.0152\n",
      "Epoch 44/200\n",
      "336184/336184 [==============================] - 0s 1us/step - loss: 0.0155\n",
      "Epoch 45/200\n",
      "336184/336184 [==============================] - 0s 1us/step - loss: 0.0156\n",
      "Epoch 46/200\n",
      "336184/336184 [==============================] - 0s 1us/step - loss: 0.0154\n",
      "Epoch 47/200\n",
      "336184/336184 [==============================] - 0s 1us/step - loss: 0.0150\n",
      "Epoch 48/200\n",
      "336184/336184 [==============================] - 0s 1us/step - loss: 0.0146\n",
      "Epoch 49/200\n",
      "336184/336184 [==============================] - 0s 1us/step - loss: 0.0144\n",
      "Epoch 50/200\n",
      "336184/336184 [==============================] - 0s 1us/step - loss: 0.0145\n",
      "Epoch 51/200\n",
      "336184/336184 [==============================] - 0s 1us/step - loss: 0.0148\n",
      "Epoch 52/200\n",
      "336184/336184 [==============================] - 0s 1us/step - loss: 0.0148\n",
      "Epoch 53/200\n",
      "336184/336184 [==============================] - 0s 1us/step - loss: 0.0145\n",
      "Epoch 54/200\n",
      "336184/336184 [==============================] - 0s 1us/step - loss: 0.0142\n",
      "Epoch 55/200\n",
      "336184/336184 [==============================] - 0s 1us/step - loss: 0.0143\n",
      "Epoch 56/200\n",
      "336184/336184 [==============================] - 0s 1us/step - loss: 0.0144\n",
      "Epoch 57/200\n",
      "336184/336184 [==============================] - 0s 1us/step - loss: 0.0144\n",
      "Epoch 58/200\n",
      "336184/336184 [==============================] - 0s 1us/step - loss: 0.0144\n",
      "Epoch 59/200\n",
      "336184/336184 [==============================] - 0s 1us/step - loss: 0.0143\n",
      "Epoch 60/200\n",
      "336184/336184 [==============================] - 0s 1us/step - loss: 0.0141\n",
      "Epoch 61/200\n",
      "336184/336184 [==============================] - 0s 1us/step - loss: 0.0140\n",
      "Epoch 62/200\n",
      "336184/336184 [==============================] - 0s 1us/step - loss: 0.0141\n",
      "Epoch 63/200\n",
      "336184/336184 [==============================] - 0s 1us/step - loss: 0.0141\n",
      "Epoch 64/200\n",
      "336184/336184 [==============================] - 0s 1us/step - loss: 0.0141\n",
      "Epoch 65/200\n",
      "336184/336184 [==============================] - 0s 1us/step - loss: 0.0140\n",
      "Epoch 66/200\n",
      "336184/336184 [==============================] - 0s 1us/step - loss: 0.0139\n",
      "Epoch 67/200\n",
      "336184/336184 [==============================] - 0s 1us/step - loss: 0.0139\n",
      "Epoch 68/200\n",
      "336184/336184 [==============================] - 0s 1us/step - loss: 0.0139\n",
      "Epoch 69/200\n",
      "336184/336184 [==============================] - 0s 1us/step - loss: 0.0139\n",
      "Epoch 70/200\n",
      "336184/336184 [==============================] - 0s 1us/step - loss: 0.0138\n",
      "Epoch 71/200\n",
      "336184/336184 [==============================] - 0s 1us/step - loss: 0.0138\n",
      "Epoch 72/200\n",
      "336184/336184 [==============================] - 0s 1us/step - loss: 0.0137\n",
      "Epoch 73/200\n",
      "336184/336184 [==============================] - 0s 1us/step - loss: 0.0137\n",
      "Epoch 74/200\n",
      "336184/336184 [==============================] - 0s 1us/step - loss: 0.0137\n",
      "Epoch 75/200\n",
      "336184/336184 [==============================] - 0s 1us/step - loss: 0.0137\n",
      "Epoch 76/200\n",
      "336184/336184 [==============================] - 0s 1us/step - loss: 0.0136\n",
      "Epoch 77/200\n",
      "336184/336184 [==============================] - 0s 1us/step - loss: 0.0136\n",
      "Epoch 78/200\n",
      "336184/336184 [==============================] - 0s 1us/step - loss: 0.0136\n",
      "Epoch 79/200\n",
      "336184/336184 [==============================] - 0s 1us/step - loss: 0.0135\n",
      "Epoch 80/200\n",
      "336184/336184 [==============================] - 0s 1us/step - loss: 0.0135\n",
      "Epoch 81/200\n",
      "336184/336184 [==============================] - 0s 1us/step - loss: 0.0135\n",
      "Epoch 82/200\n",
      "336184/336184 [==============================] - 0s 1us/step - loss: 0.0134\n",
      "Epoch 83/200\n",
      "336184/336184 [==============================] - 0s 1us/step - loss: 0.0134\n",
      "Epoch 84/200\n",
      "336184/336184 [==============================] - 0s 1us/step - loss: 0.0134\n",
      "Epoch 85/200\n",
      "336184/336184 [==============================] - 0s 1us/step - loss: 0.0134\n",
      "Epoch 86/200\n",
      "336184/336184 [==============================] - 0s 1us/step - loss: 0.0134\n",
      "Epoch 87/200\n",
      "336184/336184 [==============================] - 0s 1us/step - loss: 0.0133\n",
      "Epoch 88/200\n",
      "336184/336184 [==============================] - 0s 1us/step - loss: 0.0133\n",
      "Epoch 89/200\n",
      "336184/336184 [==============================] - 0s 1us/step - loss: 0.0133\n",
      "Epoch 90/200\n",
      "336184/336184 [==============================] - 0s 1us/step - loss: 0.0132\n",
      "Epoch 91/200\n",
      "336184/336184 [==============================] - 0s 1us/step - loss: 0.0132\n",
      "Epoch 92/200\n",
      "336184/336184 [==============================] - 0s 1us/step - loss: 0.0132\n"
     ]
    },
    {
     "name": "stdout",
     "output_type": "stream",
     "text": [
      "Epoch 93/200\n",
      "336184/336184 [==============================] - 0s 1us/step - loss: 0.0132\n",
      "Epoch 94/200\n",
      "336184/336184 [==============================] - 0s 1us/step - loss: 0.0131\n",
      "Epoch 95/200\n",
      "336184/336184 [==============================] - 0s 1us/step - loss: 0.0131\n",
      "Epoch 96/200\n",
      "336184/336184 [==============================] - 0s 1us/step - loss: 0.0131\n",
      "Epoch 97/200\n",
      "336184/336184 [==============================] - 0s 1us/step - loss: 0.0131\n",
      "Epoch 98/200\n",
      "336184/336184 [==============================] - 0s 1us/step - loss: 0.0130\n",
      "Epoch 99/200\n",
      "336184/336184 [==============================] - 0s 1us/step - loss: 0.0130\n",
      "Epoch 100/200\n",
      "336184/336184 [==============================] - 0s 1us/step - loss: 0.0130\n",
      "Epoch 101/200\n",
      "336184/336184 [==============================] - 0s 1us/step - loss: 0.0130\n",
      "Epoch 102/200\n",
      "336184/336184 [==============================] - 0s 1us/step - loss: 0.0129\n",
      "Epoch 103/200\n",
      "336184/336184 [==============================] - 0s 1us/step - loss: 0.0129\n",
      "Epoch 104/200\n",
      "336184/336184 [==============================] - 0s 1us/step - loss: 0.0129\n",
      "Epoch 105/200\n",
      "336184/336184 [==============================] - 0s 1us/step - loss: 0.0129\n",
      "Epoch 106/200\n",
      "336184/336184 [==============================] - 0s 1us/step - loss: 0.0128\n",
      "Epoch 107/200\n",
      "336184/336184 [==============================] - 0s 1us/step - loss: 0.0128\n",
      "Epoch 108/200\n",
      "336184/336184 [==============================] - 0s 1us/step - loss: 0.0128\n",
      "Epoch 109/200\n",
      "336184/336184 [==============================] - 0s 1us/step - loss: 0.0128\n",
      "Epoch 110/200\n",
      "336184/336184 [==============================] - 0s 1us/step - loss: 0.0128\n",
      "Epoch 111/200\n",
      "336184/336184 [==============================] - 0s 1us/step - loss: 0.0127\n",
      "Epoch 112/200\n",
      "336184/336184 [==============================] - 0s 1us/step - loss: 0.0127\n",
      "Epoch 113/200\n",
      "336184/336184 [==============================] - 0s 1us/step - loss: 0.0127\n",
      "Epoch 114/200\n",
      "336184/336184 [==============================] - 0s 1us/step - loss: 0.0127\n",
      "Epoch 115/200\n",
      "336184/336184 [==============================] - 0s 1us/step - loss: 0.0126\n",
      "Epoch 116/200\n",
      "336184/336184 [==============================] - 0s 1us/step - loss: 0.0126\n",
      "Epoch 117/200\n",
      "336184/336184 [==============================] - 0s 1us/step - loss: 0.0126\n",
      "Epoch 118/200\n",
      "336184/336184 [==============================] - 0s 1us/step - loss: 0.0126\n",
      "Epoch 119/200\n",
      "336184/336184 [==============================] - 0s 1us/step - loss: 0.0126\n",
      "Epoch 120/200\n",
      "336184/336184 [==============================] - 0s 1us/step - loss: 0.0125\n",
      "Epoch 121/200\n",
      "336184/336184 [==============================] - 0s 1us/step - loss: 0.0125\n",
      "Epoch 122/200\n",
      "336184/336184 [==============================] - 0s 1us/step - loss: 0.0125\n",
      "Epoch 123/200\n",
      "336184/336184 [==============================] - 0s 1us/step - loss: 0.0125\n",
      "Epoch 124/200\n",
      "336184/336184 [==============================] - 0s 1us/step - loss: 0.0125\n",
      "Epoch 125/200\n",
      "336184/336184 [==============================] - 0s 1us/step - loss: 0.0124\n",
      "Epoch 126/200\n",
      "336184/336184 [==============================] - 0s 1us/step - loss: 0.0124\n",
      "Epoch 127/200\n",
      "336184/336184 [==============================] - 0s 1us/step - loss: 0.0124\n",
      "Epoch 128/200\n",
      "336184/336184 [==============================] - 0s 1us/step - loss: 0.0124\n",
      "Epoch 129/200\n",
      "336184/336184 [==============================] - 0s 1us/step - loss: 0.0124\n",
      "Epoch 130/200\n",
      "336184/336184 [==============================] - 0s 1us/step - loss: 0.0123\n",
      "Epoch 131/200\n",
      "336184/336184 [==============================] - 0s 1us/step - loss: 0.0123\n",
      "Epoch 132/200\n",
      "336184/336184 [==============================] - 0s 1us/step - loss: 0.0123\n",
      "Epoch 133/200\n",
      "336184/336184 [==============================] - 0s 1us/step - loss: 0.0123\n",
      "Epoch 134/200\n",
      "336184/336184 [==============================] - 0s 1us/step - loss: 0.0123\n",
      "Epoch 135/200\n",
      "336184/336184 [==============================] - 0s 1us/step - loss: 0.0122\n",
      "Epoch 136/200\n",
      "336184/336184 [==============================] - 0s 1us/step - loss: 0.0122\n",
      "Epoch 137/200\n",
      "336184/336184 [==============================] - 0s 1us/step - loss: 0.0122\n",
      "Epoch 138/200\n",
      "336184/336184 [==============================] - 0s 1us/step - loss: 0.0122\n",
      "Epoch 139/200\n",
      "336184/336184 [==============================] - 0s 1us/step - loss: 0.0122\n",
      "Epoch 140/200\n",
      "336184/336184 [==============================] - 0s 1us/step - loss: 0.0121\n",
      "Epoch 141/200\n",
      "336184/336184 [==============================] - 0s 1us/step - loss: 0.0121\n",
      "Epoch 142/200\n",
      "336184/336184 [==============================] - 0s 1us/step - loss: 0.0121\n",
      "Epoch 143/200\n",
      "336184/336184 [==============================] - 0s 1us/step - loss: 0.0121\n",
      "Epoch 144/200\n",
      "336184/336184 [==============================] - 0s 1us/step - loss: 0.0121\n",
      "Epoch 145/200\n",
      "336184/336184 [==============================] - 0s 1us/step - loss: 0.0121\n",
      "Epoch 146/200\n",
      "336184/336184 [==============================] - 0s 1us/step - loss: 0.0120\n",
      "Epoch 147/200\n",
      "336184/336184 [==============================] - 0s 1us/step - loss: 0.0120\n",
      "Epoch 148/200\n",
      "336184/336184 [==============================] - 0s 1us/step - loss: 0.0120\n",
      "Epoch 149/200\n",
      "336184/336184 [==============================] - 0s 1us/step - loss: 0.0120\n",
      "Epoch 150/200\n",
      "336184/336184 [==============================] - 0s 1us/step - loss: 0.0120\n",
      "Epoch 151/200\n",
      "336184/336184 [==============================] - 0s 1us/step - loss: 0.0120\n",
      "Epoch 152/200\n",
      "336184/336184 [==============================] - 0s 1us/step - loss: 0.0119\n",
      "Epoch 153/200\n",
      "336184/336184 [==============================] - 0s 1us/step - loss: 0.0119\n",
      "Epoch 154/200\n",
      "336184/336184 [==============================] - 0s 1us/step - loss: 0.0119\n",
      "Epoch 155/200\n",
      "336184/336184 [==============================] - 0s 1us/step - loss: 0.0119\n",
      "Epoch 156/200\n",
      "336184/336184 [==============================] - 0s 1us/step - loss: 0.0119\n",
      "Epoch 157/200\n",
      "336184/336184 [==============================] - 0s 1us/step - loss: 0.0119\n",
      "Epoch 158/200\n",
      "336184/336184 [==============================] - 0s 1us/step - loss: 0.0118\n",
      "Epoch 159/200\n",
      "336184/336184 [==============================] - 0s 1us/step - loss: 0.0118\n",
      "Epoch 160/200\n",
      "336184/336184 [==============================] - 0s 1us/step - loss: 0.0118\n",
      "Epoch 161/200\n",
      "336184/336184 [==============================] - 0s 1us/step - loss: 0.0118\n",
      "Epoch 162/200\n",
      "336184/336184 [==============================] - 0s 1us/step - loss: 0.0118\n",
      "Epoch 163/200\n",
      "336184/336184 [==============================] - 0s 1us/step - loss: 0.0118\n",
      "Epoch 164/200\n",
      "336184/336184 [==============================] - 0s 1us/step - loss: 0.0118\n",
      "Epoch 165/200\n",
      "336184/336184 [==============================] - 0s 1us/step - loss: 0.0117\n",
      "Epoch 166/200\n",
      "336184/336184 [==============================] - 0s 1us/step - loss: 0.0117\n",
      "Epoch 167/200\n",
      "336184/336184 [==============================] - 0s 1us/step - loss: 0.0117\n",
      "Epoch 168/200\n",
      "336184/336184 [==============================] - 0s 1us/step - loss: 0.0117\n",
      "Epoch 169/200\n",
      "336184/336184 [==============================] - 0s 1us/step - loss: 0.0117\n",
      "Epoch 170/200\n",
      "336184/336184 [==============================] - 0s 1us/step - loss: 0.0117\n",
      "Epoch 171/200\n",
      "336184/336184 [==============================] - 0s 1us/step - loss: 0.0117\n",
      "Epoch 172/200\n",
      "336184/336184 [==============================] - 0s 1us/step - loss: 0.0117\n",
      "Epoch 173/200\n",
      "336184/336184 [==============================] - 0s 1us/step - loss: 0.0116\n",
      "Epoch 174/200\n",
      "336184/336184 [==============================] - 0s 1us/step - loss: 0.0116\n",
      "Epoch 175/200\n",
      "336184/336184 [==============================] - 0s 1us/step - loss: 0.0116\n",
      "Epoch 176/200\n",
      "336184/336184 [==============================] - 0s 1us/step - loss: 0.0116\n",
      "Epoch 177/200\n",
      "336184/336184 [==============================] - 0s 1us/step - loss: 0.0116\n",
      "Epoch 178/200\n",
      "336184/336184 [==============================] - 0s 1us/step - loss: 0.0116\n",
      "Epoch 179/200\n",
      "336184/336184 [==============================] - 0s 1us/step - loss: 0.0116\n",
      "Epoch 180/200\n",
      "336184/336184 [==============================] - 0s 1us/step - loss: 0.0116\n",
      "Epoch 181/200\n",
      "336184/336184 [==============================] - 0s 1us/step - loss: 0.0115\n",
      "Epoch 182/200\n",
      "336184/336184 [==============================] - 0s 1us/step - loss: 0.0115\n",
      "Epoch 183/200\n",
      "336184/336184 [==============================] - 0s 1us/step - loss: 0.0115\n",
      "Epoch 184/200\n"
     ]
    },
    {
     "name": "stdout",
     "output_type": "stream",
     "text": [
      "336184/336184 [==============================] - 0s 1us/step - loss: 0.0115\n",
      "Epoch 185/200\n",
      "336184/336184 [==============================] - 0s 1us/step - loss: 0.0115\n",
      "Epoch 186/200\n",
      "336184/336184 [==============================] - 0s 1us/step - loss: 0.0115\n",
      "Epoch 187/200\n",
      "336184/336184 [==============================] - 0s 1us/step - loss: 0.0115\n",
      "Epoch 188/200\n",
      "336184/336184 [==============================] - 0s 1us/step - loss: 0.0115\n",
      "Epoch 189/200\n",
      "336184/336184 [==============================] - 0s 1us/step - loss: 0.0115\n",
      "Epoch 190/200\n",
      "336184/336184 [==============================] - 0s 1us/step - loss: 0.0115\n",
      "Epoch 191/200\n",
      "336184/336184 [==============================] - 0s 1us/step - loss: 0.0114\n",
      "Epoch 192/200\n",
      "336184/336184 [==============================] - 0s 1us/step - loss: 0.0114\n",
      "Epoch 193/200\n",
      "336184/336184 [==============================] - 0s 1us/step - loss: 0.0114\n",
      "Epoch 194/200\n",
      "336184/336184 [==============================] - 0s 1us/step - loss: 0.0114\n",
      "Epoch 195/200\n",
      "336184/336184 [==============================] - 0s 1us/step - loss: 0.0114\n",
      "Epoch 196/200\n",
      "336184/336184 [==============================] - 0s 1us/step - loss: 0.0114\n",
      "Epoch 197/200\n",
      "336184/336184 [==============================] - 0s 1us/step - loss: 0.0114\n",
      "Epoch 198/200\n",
      "336184/336184 [==============================] - 0s 1us/step - loss: 0.0114\n",
      "Epoch 199/200\n",
      "336184/336184 [==============================] - 0s 1us/step - loss: 0.0114\n",
      "Epoch 200/200\n",
      "336184/336184 [==============================] - 0s 1us/step - loss: 0.0114\n"
     ]
    }
   ],
   "source": [
    "(F,W,b) = GLM_network_fit(binned_stim*1e9,binned_spikes, d, d, bin_len)"
   ]
  },
  {
   "cell_type": "code",
   "execution_count": 772,
   "metadata": {},
   "outputs": [
    {
     "name": "stdout",
     "output_type": "stream",
     "text": [
      "[0.17460937]\n"
     ]
    },
    {
     "data": {
      "image/png": "[encoded data removed]",
      "text/plain": [
       "<Figure size 432x288 with 1 Axes>"
      ]
     },
     "metadata": {},
     "output_type": "display_data"
    }
   ],
   "source": [
    "plt.plot(np.squeeze(F))\n",
    "print np.exp(b)"
   ]
  },
  {
   "cell_type": "code",
   "execution_count": null,
   "metadata": {},
   "outputs": [],
   "source": [
    "plt.plot(np.exp(Xdsn[20000:20800,:].dot(p))*bin_len)\n",
    "print p.shape\n",
    "plt.plot(binned_spikes[0,20000+d:20800+d])"
   ]
  },
  {
   "cell_type": "code",
   "execution_count": 198,
   "metadata": {},
   "outputs": [],
   "source": [
    "(F,W) = GLM_network_fit(binned_stim,binned_spikes,d, d)"
   ]
  },
  {
   "cell_type": "code",
   "execution_count": 199,
   "metadata": {},
   "outputs": [
    {
     "data": {
      "text/plain": [
       "[<matplotlib.lines.Line2D at 0x7f4293009b90>]"
      ]
     },
     "execution_count": 199,
     "metadata": {},
     "output_type": "execute_result"
    },
    {
     "data": {
      "image/png": "[encoded data removed]",
      "text/plain": [
       "<Figure size 432x288 with 1 Axes>"
      ]
     },
     "metadata": {},
     "output_type": "display_data"
    }
   ],
   "source": [
    "plt.plot(np.squeeze(F))"
   ]
  },
  {
   "cell_type": "code",
   "execution_count": 200,
   "metadata": {},
   "outputs": [
    {
     "data": {
      "text/plain": [
       "[<matplotlib.lines.Line2D at 0x7f42930e14d0>]"
      ]
     },
     "execution_count": 200,
     "metadata": {},
     "output_type": "execute_result"
    },
    {
     "data": {
      "image/png": "[encoded data removed]",
      "text/plain": [
       "<Figure size 432x288 with 1 Axes>"
      ]
     },
     "metadata": {},
     "output_type": "display_data"
    }
   ],
   "source": [
    "plt.plot(np.arange(d)*bin_len,np.squeeze(W))"
   ]
  },
  {
   "cell_type": "code",
   "execution_count": null,
   "metadata": {},
   "outputs": [],
   "source": [
    "Fs = []\n",
    "Ws = []\n",
    "# bs = []\n",
    "fig,ax = plt.subplots(2,1,sharex=True)\n",
    "\n",
    "for sweeps in [get_sweeps_with_stim(ctc.get_ephys_data(c_id),'Noise') for c_id in exc_cells['id'][4:10]]:\n",
    "    if len(sweeps)>0:\n",
    "        (binned_spikes, binned_stim) = bin_spikes_and_stim(sweeps,bin_len)\n",
    "        (F,W) = GLM_network_fit(binned_stim,binned_spikes,d, d)\n",
    "        Fs.append(F)\n",
    "        Ws.append(W)\n",
    "#         bs.append(b)\n",
    "        ax[0].plot(np.arange(d)*bin_len,np.squeeze(F))\n",
    "        ax[1].plot(np.arange(d)*bin_len,np.squeeze(W))\n",
    "# print bs"
   ]
  },
  {
   "cell_type": "code",
   "execution_count": 287,
   "metadata": {},
   "outputs": [],
   "source": []
  },
  {
   "cell_type": "code",
   "execution_count": 404,
   "metadata": {},
   "outputs": [
    {
     "name": "stdout",
     "output_type": "stream",
     "text": [
      "(50, 1)\n"
     ]
    }
   ],
   "source": [
    "myguess = np.random.normal(loc=0.0, scale= 1.0, size=(Xdsn.shape[1],1))\n",
    "print(np.shape(myguess))\n",
    "res = minimize(log_likelihood_poisson, args = (Xdsn,y), method = 'CG', x0 = myguess, options={'gtol':1e-14})"
   ]
  },
  {
   "cell_type": "code",
   "execution_count": 413,
   "metadata": {},
   "outputs": [
    {
     "data": {
      "text/plain": [
       "[<matplotlib.lines.Line2D at 0x7f4292b27190>]"
      ]
     },
     "execution_count": 413,
     "metadata": {},
     "output_type": "execute_result"
    },
    {
     "data": {
      "image/png": "[encoded data removed]",
      "text/plain": [
       "<Figure size 432x288 with 1 Axes>"
      ]
     },
     "metadata": {},
     "output_type": "display_data"
    }
   ],
   "source": [
    "plt.plot(np.arange(d)*bin_len,res.x[d:])"
   ]
  },
  {
   "cell_type": "code",
   "execution_count": null,
   "metadata": {},
   "outputs": [],
   "source": []
  }
 ],
 "metadata": {
  "kernelspec": {
   "display_name": "conda_tensorflow_p27",
   "language": "python",
   "name": "conda_tensorflow_p27"
  },
  "language_info": {
   "codemirror_mode": {
    "name": "ipython",
    "version": 2
   },
   "file_extension": ".py",
   "mimetype": "text/x-python",
   "name": "python",
   "nbconvert_exporter": "python",
   "pygments_lexer": "ipython2",
   "version": "2.7.14"
  }
 },
 "nbformat": 4,
 "nbformat_minor": 2
}
