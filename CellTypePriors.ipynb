{
 "cells": [
  {
   "cell_type": "code",
   "execution_count": 1,
   "metadata": {},
   "outputs": [],
   "source": [
    "# please make sure your drive_path is set, so that the notebook can find the data files on the hard drive\n",
    "\n",
    "# OS X\n",
    "# drive_path = '/Volumes/Brain2017/data/dynamic-brain-workshop/cell_types_cache/'\n",
    "\n",
    "# Windows (a good guess)\n",
    "# drive_path = 'e:/data/dynamic-brain-workshop/cell_types_cache/'\n",
    "\n",
    "# Linux (will vary; the following is possibly what Ubuntu will do)\n",
    "# drive_path = '/media/Brain2017/data/dynamic-brain-workshop/cell_types_cache/'\n",
    "\n",
    "# AWS\n",
    "drive_path = '/data/dynamic-brain-workshop/cell_types_cache/'"
   ]
  },
  {
   "cell_type": "code",
   "execution_count": 2,
   "metadata": {},
   "outputs": [
    {
     "name": "stderr",
     "output_type": "stream",
     "text": [
      "Using TensorFlow backend.\n"
     ]
    }
   ],
   "source": [
    "import os\n",
    "import numpy as np\n",
    "import matplotlib.pyplot as plt\n",
    "import pandas as pd\n",
    "from GLM_helpers import *\n",
    "%matplotlib inline\n",
    "\n",
    "import keras\n",
    "from keras import backend as K\n",
    "from keras.models import Model\n",
    "from keras.layers import Input\n",
    "\n",
    "from scipy.optimize import minimize\n",
    "\n",
    "from allensdk.core.cell_types_cache import CellTypesCache"
   ]
  },
  {
   "cell_type": "code",
   "execution_count": 3,
   "metadata": {},
   "outputs": [],
   "source": [
    "ctc = CellTypesCache()"
   ]
  },
  {
   "cell_type": "code",
   "execution_count": 4,
   "metadata": {},
   "outputs": [
    {
     "name": "stdout",
     "output_type": "stream",
     "text": [
      "1813\n",
      "196\n",
      "361\n"
     ]
    }
   ],
   "source": [
    "# pd.DataFrame(ctc.get_cells()).head()\n",
    "cells = pd.DataFrame(ctc.get_cells(reporter_status='positive'))\n",
    "print len(cells)\n",
    "# cells.head()\n",
    "# print cells.groupby(by='transgenic_line').size()\n",
    "region = 'VISp'\n",
    "\n",
    "inh_lines = []\n",
    "exc_lines = []\n",
    "exc_st = ['Rorb','Scnn','Nr5','Rbp','Emx','Cux','Tlx3','Sim1','Ntsr']\n",
    "inh_st = ['Gad','Htr','Pvalb','Vip','Sst']\n",
    "for line in cells.transgenic_line.unique():\n",
    "    for st in exc_st:\n",
    "        if line.startswith(st):\n",
    "            exc_lines.append(line)\n",
    "    for st in inh_st:\n",
    "        if line.startswith(st):\n",
    "            inh_lines.append(line)\n",
    "\n",
    "\n",
    "has_line = False\n",
    "# lines = ['Rorb-IRES2-Cre']\n",
    "for line in inh_lines:\n",
    "    has_line = has_line | (cells.transgenic_line==line)\n",
    "inh_cells = cells[(cells.species=='Mus musculus')& has_line & (cells.structure_area_abbrev==region) & (cells.structure_layer_name=='5')]\n",
    "print len(inh_cells)\n",
    "\n",
    "for line in exc_lines:\n",
    "    has_line = has_line | (cells.transgenic_line==line)\n",
    "exc_cells = cells[(cells.species=='Mus musculus')& has_line & (cells.structure_area_abbrev==region) & (cells.structure_layer_name=='5')]\n",
    "print len(exc_cells)\n"
   ]
  },
  {
   "cell_type": "code",
   "execution_count": 5,
   "metadata": {},
   "outputs": [],
   "source": [
    "#for cell in cell_types_class ...\n",
    "epd = ctc.get_ephys_data(cells['id'][0])"
   ]
  },
  {
   "cell_type": "code",
   "execution_count": 6,
   "metadata": {},
   "outputs": [
    {
     "name": "stdout",
     "output_type": "stream",
     "text": [
      "[u'Long Square' u'Noise 1' u'Noise 2' u'Ramp' u'Short Square'\n",
      " u'Square - 0.5ms Subthreshold' u'Square - 2s Suprathreshold' u'Test']\n"
     ]
    }
   ],
   "source": [
    "names = []\n",
    "for i in epd.get_experiment_sweep_numbers():\n",
    "    names.append(epd.get_sweep_metadata(i)['aibs_stimulus_name'])\n",
    "print np.unique(names)"
   ]
  },
  {
   "cell_type": "code",
   "execution_count": null,
   "metadata": {},
   "outputs": [],
   "source": []
  },
  {
   "cell_type": "code",
   "execution_count": 7,
   "metadata": {},
   "outputs": [],
   "source": [
    "def get_sweeps_with_stim(ephys_data,stim_type):\n",
    "    sweeps = []\n",
    "    for i in ephys_data.get_experiment_sweep_numbers():\n",
    "        if str.startswith(str(ephys_data.get_sweep_metadata(i)['aibs_stimulus_name']),stim_type):\n",
    "            sweep = ephys_data.get_sweep(i)\n",
    "            sweep['spike_times'] = ephys_data.get_spike_times(i)\n",
    "            sweeps.append(sweep)\n",
    "    return sweeps\n",
    "\n",
    "def bin_spikes_and_stim(sweeps,bin_len,zpad=0):\n",
    "    spikes_list = []\n",
    "    stim_list = []\n",
    "    for sweep in sweeps:\n",
    "        T = int(np.floor(sweep['index_range'][1]*1.0/(sweep['sampling_rate']*bin_len)))\n",
    "        binned_spikes = np.zeros((1,T))\n",
    "        binned_stim = np.empty((1,T))\n",
    "        for spike_time in sweep['spike_times']:\n",
    "            t = int(np.floor(spike_time/bin_len))\n",
    "            binned_spikes[0,t]+=1\n",
    "        for i in range(T):\n",
    "            binned_stim[0,i] = np.mean(sweep['stimulus'][int(np.round(i*bin_len*sweep['sampling_rate'])):int(np.round((i+1)*bin_len*sweep['sampling_rate']))])\n",
    "        spikes_list.append(binned_spikes)\n",
    "        stim_list.append(binned_stim)\n",
    "        if zpad>0:\n",
    "            spikes_list.append(np.zeros((1,int(np.floor(zpad/bin_len)))))\n",
    "            stim_list.append(np.zeros((1,int(np.floor(zpad/bin_len)))))\n",
    "    binned_spikes = np.hstack(spikes_list)\n",
    "    binned_stim = np.hstack(stim_list)\n",
    "    return (binned_spikes, binned_stim)\n",
    "        "
   ]
  },
  {
   "cell_type": "code",
   "execution_count": 216,
   "metadata": {},
   "outputs": [],
   "source": [
    "# # Inputs:\n",
    "# # stimulus: video shown to the mouse in some form\n",
    "# # spikes: spikes recorded from each neuron in some form\n",
    "# # link: string for the link function used. options are {'log', 'logit'}\n",
    "# # priors: TODO\n",
    "# # L1: regularization parameter for sparse synapses TODO\n",
    "\n",
    "# # Returns:\n",
    "# # GLM network model with parameters fit\n",
    "\n",
    "# def GLM_network_fit(stimulus,spikes,d_stim, d_spk,link='log',priors=None,L1=None):\n",
    "#     N = spikes.shape[0]\n",
    "#     M = stimulus.shape[0]\n",
    "#     K = np.empty((N,M,d_stim)) # stimulus filters\n",
    "#     W = np.empty((N,N,d_spk))  # spike train filters\n",
    "# #     b = np.empty((N,)) # biases\n",
    "    \n",
    "#     links = {'log':sm.genmod.families.links.log, 'logit':sm.genmod.families.links.logit}\n",
    "#     for i in range(N):\n",
    "#         [y, Xdsn] = construct_GLM_mat(stimulus,spikes,i, d_stim, d_spk)\n",
    "#         y = y.reshape((-1,1))\n",
    "#         # construct GLM model and return fit\n",
    "#         if priors is None and L1 is None:\n",
    "#             glm_pois = sm.GLM(y, Xdsn, family=sm.families.Poisson(link=links[link]))\n",
    "#             gfit = glm_pois.fit()\n",
    "#             p = gfit.params\n",
    "#             K[i,:,:] = p[:M*d_stim].reshape((M,d_stim))\n",
    "#             W[i,:,:] = p[M*d_stim:].reshape((N,d_spk))\n",
    "# #             W[i,:,:] = p[M*d_stim:-1].reshape((N,d_spk))\n",
    "#             #             b[i] = p[-1]\n",
    "\n",
    "#     return (K,W)\n",
    "# #     return (K,W,b)\n",
    "\n",
    "\n",
    "\n",
    "# Inputs\n",
    "# flat_stimulus: M x T matrix of stimuli\n",
    "# binned_spikes: N x T matrix of spike counts\n",
    "# d_stim: duration of stimulus filter (# time bins)\n",
    "# d_spk: duration of spike filters (# time bins)\n",
    "def construct_GLM_mat(flat_stimulus, binned_spikes, d_stim, d_spk):\n",
    "    (N,T) = binned_spikes.shape # N is number of neurons, T is number of time bins\n",
    "    (M,T) = flat_stimulus.shape # M is the size of a stimulus\n",
    "    X_dsn = np.empty((T-d_stim,M*d_stim+N*d_spk))\n",
    "    d_max = max(d_stim,d_spk)\n",
    "    for t in range(T-d_max):\n",
    "        X_dsn[t,:M*d_stim] = np.fliplr(flat_stimulus[:,t+d_max-d_stim:t+d_max]).reshape((1,-1))  #stimulus inputs\n",
    "        X_dsn[t,M*d_stim:] = np.fliplr(binned_spikes[:,t+d_max-d_spk:t+d_max]).reshape((1,-1)) #spike inputs\n",
    "    return X_dsn"
   ]
  },
  {
   "cell_type": "code",
   "execution_count": 209,
   "metadata": {},
   "outputs": [],
   "source": [
    "sweeps = get_sweeps_with_stim(epd,'Noise')\n",
    "bin_len = 0.0005\n",
    "# bin_len = 0.005\n",
    "i=0\n",
    "# (binned_spikes, binned_stim) = bin_spikes_and_stim(sweeps,bin_len)"
   ]
  },
  {
   "cell_type": "code",
   "execution_count": 214,
   "metadata": {},
   "outputs": [
    {
     "name": "stdout",
     "output_type": "stream",
     "text": [
      "['stimulus', 'index_range', 'spike_times', 'stimulus_unit', 'sampling_rate', 'response']\n"
     ]
    },
    {
     "data": {
      "image/png": "[encoded data removed]",
      "text/plain": [
       "<Figure size 432x288 with 2 Axes>"
      ]
     },
     "metadata": {},
     "output_type": "display_data"
    }
   ],
   "source": [
    "\n",
    "t = np.arange(0,sweeps[i]['index_range'][1]+1)*1.0/sweeps[i]['sampling_rate']\n",
    "fig,ax = plt.subplots(2,1,sharex=True)\n",
    "ax[1].plot(t,sweeps[i]['stimulus'])\n",
    "ax[0].plot(t,sweeps[i]['response'])\n",
    "# plt.xlim(10.3,10.31)\n",
    "# print sweeps[5]['index_range']\n",
    "# print sweeps[5]['sampling_rate']\n",
    "print sweeps[0].keys()\n"
   ]
  },
  {
   "cell_type": "code",
   "execution_count": null,
   "metadata": {},
   "outputs": [],
   "source": [
    "plt.plot(t,sweeps[i]['stimulus'])\n",
    "plt.plot((np.arange(0,binned_stim.shape[1])+0.5)*bin_len,np.squeeze(binned_stim))\n",
    "plt.xlim([10.3,10.35])"
   ]
  },
  {
   "cell_type": "code",
   "execution_count": 12,
   "metadata": {},
   "outputs": [
    {
     "data": {
      "text/plain": [
       "(10.3, 10.5)"
      ]
     },
     "execution_count": 12,
     "metadata": {},
     "output_type": "execute_result"
    },
    {
     "data": {
      "image/png": "[encoded data removed]",
      "text/plain": [
       "<Figure size 432x288 with 1 Axes>"
      ]
     },
     "metadata": {},
     "output_type": "display_data"
    }
   ],
   "source": [
    "plt.plot(t,sweeps[i]['response'])\n",
    "plt.plot((np.arange(0,binned_stim.shape[1])+0.5)*bin_len,np.squeeze(binned_spikes)*0.01)\n",
    "plt.xlim([10.3,10.5])"
   ]
  },
  {
   "cell_type": "code",
   "execution_count": 13,
   "metadata": {},
   "outputs": [
    {
     "name": "stdout",
     "output_type": "stream",
     "text": [
      "(336184, 100)\n"
     ]
    }
   ],
   "source": [
    "d = 50\n",
    "(ydsn,Xdsn) = construct_GLM_mat(binned_stim*1e9, binned_spikes, i, d, d)\n",
    "print Xdsn.shape\n",
    "# plt.imshow(Xdsn[20900:21000],aspect=0.1)\n",
    "# plt.plot(Xdsn[209090,:])"
   ]
  },
  {
   "cell_type": "code",
   "execution_count": null,
   "metadata": {},
   "outputs": [],
   "source": []
  },
  {
   "cell_type": "code",
   "execution_count": 62,
   "metadata": {},
   "outputs": [],
   "source": [
    "# from keras.engine.base_layer import Layer\n",
    "# class FPrb(Layer):\n",
    "\n",
    "#     def __init__(self,dt, **kwargs):\n",
    "#         self.dt = dt\n",
    "#         super(FPrb, self).__init__(**kwargs)\n",
    "\n",
    "#     def build(self, input_shape):\n",
    "#         # Create a trainable weight variable for this layer.\n",
    "#         self.kernel = self.add_weight(name='kernel', \n",
    "#                                       shape=(input_shape[-1],1),\n",
    "#                                       initializer='glorot_normal',\n",
    "#                                       trainable=True)\n",
    "#         self.built = True\n",
    "\n",
    "#     def call(self, x):\n",
    "#         return K.exp(K.dot(x, self.kernel))*self.dt\n",
    "# #         return (K.dot(x, self.kernel))\n",
    "\n",
    "\n",
    "#     def compute_output_shape(self, input_shape):\n",
    "#         return (None,input_shape[0])"
   ]
  },
  {
   "cell_type": "code",
   "execution_count": 15,
   "metadata": {},
   "outputs": [],
   "source": [
    "# def negloglikelihood(y_true,y_pred):\n",
    "# #     return -(-y_pred+y_true*K.log(y_pred))\n",
    "#     return -(-K.exp(y_pred)*1e-1+y_true*y_pred)\n",
    "\n"
   ]
  },
  {
   "cell_type": "code",
   "execution_count": 16,
   "metadata": {},
   "outputs": [],
   "source": [
    "# def neglog_likelihood_poisson(theta, X, y):\n",
    "#     return -np.dot(y.T,np.dot(X,theta)) + np.sum(np.exp(np.dot(X,theta))*1e-1)\n",
    "\n",
    "# X = np.random.random([20000,30])\n",
    "# beta = np.random.random([30, 1])*0.2\n",
    "# w = np.exp(np.dot(X,beta))*0.1\n",
    "# print np.max(w)\n",
    "# y = np.random.poisson(lam=w, size=np.shape(w))\n",
    "# myguess = np.random.normal(loc=0.0, scale= 1.0, size=np.shape(beta))\n",
    "# print(np.shape(myguess))\n",
    "# res = minimize(neglog_likelihood_poisson, args = (X,y), method = 'CG', x0 = myguess, options={'gtol':1e-14})\n",
    "# plt.scatter(beta, res.x)"
   ]
  },
  {
   "cell_type": "code",
   "execution_count": 184,
   "metadata": {},
   "outputs": [],
   "source": [
    "# inp = Input(shape=(Xdsn.shape[1],))\n",
    "# out = FPrb(bin_len)(inp)\n",
    "# model = Model(inputs = [inp], outputs = [out])\n",
    "# print model.summary()\n",
    "# model.compile(loss = 'poisson',optimizer = keras.optimizers.adam(lr=8e-2))"
   ]
  },
  {
   "cell_type": "code",
   "execution_count": 18,
   "metadata": {},
   "outputs": [],
   "source": [
    "# from keras import Sequential\n",
    "# from keras.layers import Dense, Lambda\n",
    "# model = Sequential()\n",
    "# model.add(Dense(1,input_dim = X.shape[1],use_bias=True))\n",
    "# model.add(Lambda(lambda x: K.exp(x)*0.1))\n",
    "# print model.summary()\n",
    "# model.compile(loss = 'poisson',optimizer = keras.optimizers.adam(lr=1e-3))\n",
    "# model.fit(x=X,y=y,epochs=200,batch_size = 1000)"
   ]
  },
  {
   "cell_type": "code",
   "execution_count": 19,
   "metadata": {},
   "outputs": [],
   "source": [
    "# print np.exp(model.get_weights()[1])\n",
    "# plt.scatter(beta, model.get_weights()[0])"
   ]
  },
  {
   "cell_type": "code",
   "execution_count": 20,
   "metadata": {},
   "outputs": [],
   "source": [
    "# from keras import Sequential\n",
    "# from keras.layers import Dense, Lambda\n",
    "# model = Sequential()\n",
    "# model.add(Dense(1,input_dim = Xdsn.shape[1],use_bias=True))\n",
    "# model.add(Lambda(lambda x: K.exp(x)*bin_len))\n",
    "# print model.summary()\n",
    "# model.compile(loss = 'poisson',optimizer = keras.optimizers.adam(lr=2e-1))\n"
   ]
  },
  {
   "cell_type": "code",
   "execution_count": 185,
   "metadata": {},
   "outputs": [],
   "source": [
    "# model.fit(x=Xdsn,y=ydsn,epochs=150,batch_size = 1000000)"
   ]
  },
  {
   "cell_type": "code",
   "execution_count": 74,
   "metadata": {
    "scrolled": true
   },
   "outputs": [
    {
     "data": {
      "text/plain": [
       "[<matplotlib.lines.Line2D at 0x7f171bf0d510>]"
      ]
     },
     "execution_count": 74,
     "metadata": {},
     "output_type": "execute_result"
    },
    {
     "data": {
      "image/png": "[encoded data removed]",
      "text/plain": [
       "<Figure size 432x288 with 1 Axes>"
      ]
     },
     "metadata": {},
     "output_type": "display_data"
    }
   ],
   "source": [
    "p = model.get_weights()[0]\n",
    "# print np.exp(model.get_weights()[1])\n",
    "plt.plot(p[:d])"
   ]
  },
  {
   "cell_type": "code",
   "execution_count": 217,
   "metadata": {},
   "outputs": [],
   "source": [
    "def GLM_network_fit(stimulus,spikes,d_stim, d_spk,bin_len,f='exp',priors=None,L1=None):\n",
    "    N = spikes.shape[0]\n",
    "    M = stimulus.shape[0]\n",
    "    F = np.empty((N,M,d_stim)) # stimulus filters\n",
    "    W = np.empty((N,N,d_spk))  # spike train filters\n",
    "    b = np.empty((N,)) # biases\n",
    "    fs = {'exp':K.exp}\n",
    "    Xdsn = construct_GLM_mat(stimulus,spikes, d_stim, d_spk)\n",
    "    for i in range(N):\n",
    "        y = spikes[i,max(d_stim,d_spk):]\n",
    "        # construct GLM model and return fit\n",
    "        model = Sequential()\n",
    "        model.add(Dense(1,input_dim = Xdsn.shape[1],use_bias=True))\n",
    "        model.add(Lambda(lambda x: fs[f](x)*bin_len))\n",
    "        model.compile(loss = 'poisson',optimizer = keras.optimizers.adam(lr=1.5e-1))\n",
    "        model.fit(x=Xdsn,y=y,epochs=200,batch_size = 1000000,verbose=0)\n",
    "        p = model.get_weights()[0]\n",
    "        F[i,:,:] = p[:M*d_stim].reshape((M,d_stim))\n",
    "        W[i,:,:] = p[M*d_stim:].reshape((N,d_spk))\n",
    "        b[i] = model.get_weights()[1]\n",
    "    return (F,W,b)"
   ]
  },
  {
   "cell_type": "code",
   "execution_count": 28,
   "metadata": {},
   "outputs": [
    {
     "name": "stdout",
     "output_type": "stream",
     "text": [
      "1031.0 1725823.5126843608\n",
      "Epoch 1/150\n",
      "336184/336184 [==============================] - 13s 38us/step - loss: 0.0233\n",
      "Epoch 2/150\n",
      "336184/336184 [==============================] - 0s 1us/step - loss: 0.0164\n",
      "Epoch 3/150\n",
      "336184/336184 [==============================] - 0s 1us/step - loss: 0.0214\n",
      "Epoch 4/150\n",
      "336184/336184 [==============================] - 0s 1us/step - loss: 0.0174\n",
      "Epoch 5/150\n",
      "336184/336184 [==============================] - 0s 1us/step - loss: 0.0214\n",
      "Epoch 6/150\n",
      "336184/336184 [==============================] - 0s 1us/step - loss: 0.0234\n",
      "Epoch 7/150\n",
      "336184/336184 [==============================] - 0s 1us/step - loss: 0.0232\n",
      "Epoch 8/150\n",
      "336184/336184 [==============================] - 0s 1us/step - loss: 0.0215\n",
      "Epoch 9/150\n",
      "336184/336184 [==============================] - 0s 1us/step - loss: 0.0185\n",
      "Epoch 10/150\n",
      "336184/336184 [==============================] - 0s 1us/step - loss: 0.0156\n",
      "Epoch 11/150\n",
      "336184/336184 [==============================] - 0s 1us/step - loss: 0.0176\n",
      "Epoch 12/150\n",
      "336184/336184 [==============================] - 0s 1us/step - loss: 0.0190\n",
      "Epoch 13/150\n",
      "336184/336184 [==============================] - 0s 1us/step - loss: 0.0152\n",
      "Epoch 14/150\n",
      "336184/336184 [==============================] - 0s 1us/step - loss: 0.0159\n",
      "Epoch 15/150\n",
      "336184/336184 [==============================] - 0s 1us/step - loss: 0.0172\n",
      "Epoch 16/150\n",
      "336184/336184 [==============================] - 0s 1us/step - loss: 0.0178\n",
      "Epoch 17/150\n",
      "336184/336184 [==============================] - 0s 1us/step - loss: 0.0174\n",
      "Epoch 18/150\n",
      "336184/336184 [==============================] - 0s 1us/step - loss: 0.0162\n",
      "Epoch 19/150\n",
      "336184/336184 [==============================] - 0s 1us/step - loss: 0.0150\n",
      "Epoch 20/150\n",
      "336184/336184 [==============================] - 0s 1us/step - loss: 0.0150\n",
      "Epoch 21/150\n",
      "336184/336184 [==============================] - 0s 1us/step - loss: 0.0165\n",
      "Epoch 22/150\n",
      "336184/336184 [==============================] - 0s 1us/step - loss: 0.0154\n",
      "Epoch 23/150\n",
      "336184/336184 [==============================] - 0s 1us/step - loss: 0.0145\n",
      "Epoch 24/150\n",
      "336184/336184 [==============================] - 0s 1us/step - loss: 0.0150\n",
      "Epoch 25/150\n",
      "336184/336184 [==============================] - 0s 1us/step - loss: 0.0155\n",
      "Epoch 26/150\n",
      "336184/336184 [==============================] - 0s 1us/step - loss: 0.0155\n",
      "Epoch 27/150\n",
      "336184/336184 [==============================] - 0s 1us/step - loss: 0.0150\n",
      "Epoch 28/150\n",
      "336184/336184 [==============================] - 0s 1us/step - loss: 0.0144\n",
      "Epoch 29/150\n",
      "336184/336184 [==============================] - 0s 1us/step - loss: 0.0144\n",
      "Epoch 30/150\n",
      "336184/336184 [==============================] - 0s 1us/step - loss: 0.0149\n",
      "Epoch 31/150\n",
      "336184/336184 [==============================] - 0s 1us/step - loss: 0.0146\n",
      "Epoch 32/150\n",
      "336184/336184 [==============================] - 0s 1us/step - loss: 0.0141\n",
      "Epoch 33/150\n",
      "336184/336184 [==============================] - 0s 1us/step - loss: 0.0142\n",
      "Epoch 34/150\n",
      "336184/336184 [==============================] - 0s 1us/step - loss: 0.0144\n",
      "Epoch 35/150\n",
      "336184/336184 [==============================] - 0s 1us/step - loss: 0.0144\n",
      "Epoch 36/150\n",
      "336184/336184 [==============================] - 0s 1us/step - loss: 0.0141\n",
      "Epoch 37/150\n",
      "336184/336184 [==============================] - 0s 1us/step - loss: 0.0138\n",
      "Epoch 38/150\n",
      "336184/336184 [==============================] - 0s 1us/step - loss: 0.0140\n",
      "Epoch 39/150\n",
      "336184/336184 [==============================] - 0s 1us/step - loss: 0.0140\n",
      "Epoch 40/150\n",
      "336184/336184 [==============================] - 0s 1us/step - loss: 0.0138\n",
      "Epoch 41/150\n",
      "336184/336184 [==============================] - 0s 1us/step - loss: 0.0136\n",
      "Epoch 42/150\n",
      "336184/336184 [==============================] - 0s 1us/step - loss: 0.0137\n",
      "Epoch 43/150\n",
      "336184/336184 [==============================] - 0s 1us/step - loss: 0.0138\n",
      "Epoch 44/150\n",
      "336184/336184 [==============================] - 0s 1us/step - loss: 0.0136\n",
      "Epoch 45/150\n",
      "336184/336184 [==============================] - 0s 1us/step - loss: 0.0135\n",
      "Epoch 46/150\n",
      "336184/336184 [==============================] - 0s 1us/step - loss: 0.0135\n",
      "Epoch 47/150\n",
      "336184/336184 [==============================] - 0s 1us/step - loss: 0.0135\n",
      "Epoch 48/150\n",
      "336184/336184 [==============================] - 0s 1us/step - loss: 0.0134\n",
      "Epoch 49/150\n",
      "336184/336184 [==============================] - 0s 1us/step - loss: 0.0133\n",
      "Epoch 50/150\n",
      "336184/336184 [==============================] - 0s 1us/step - loss: 0.0133\n",
      "Epoch 51/150\n",
      "336184/336184 [==============================] - 0s 1us/step - loss: 0.0133\n",
      "Epoch 52/150\n",
      "336184/336184 [==============================] - 0s 1us/step - loss: 0.0132\n",
      "Epoch 53/150\n",
      "336184/336184 [==============================] - 0s 1us/step - loss: 0.0131\n",
      "Epoch 54/150\n",
      "336184/336184 [==============================] - 0s 1us/step - loss: 0.0131\n",
      "Epoch 55/150\n",
      "336184/336184 [==============================] - 0s 1us/step - loss: 0.0131\n",
      "Epoch 56/150\n",
      "336184/336184 [==============================] - 0s 1us/step - loss: 0.0130\n",
      "Epoch 57/150\n",
      "336184/336184 [==============================] - 0s 1us/step - loss: 0.0129\n",
      "Epoch 58/150\n",
      "336184/336184 [==============================] - 0s 1us/step - loss: 0.0129\n",
      "Epoch 59/150\n",
      "336184/336184 [==============================] - 0s 1us/step - loss: 0.0129\n",
      "Epoch 60/150\n",
      "336184/336184 [==============================] - 0s 1us/step - loss: 0.0128\n",
      "Epoch 61/150\n",
      "336184/336184 [==============================] - 0s 1us/step - loss: 0.0128\n",
      "Epoch 62/150\n",
      "336184/336184 [==============================] - 0s 1us/step - loss: 0.0128\n",
      "Epoch 63/150\n",
      "336184/336184 [==============================] - 0s 1us/step - loss: 0.0127\n",
      "Epoch 64/150\n",
      "336184/336184 [==============================] - 0s 1us/step - loss: 0.0127\n",
      "Epoch 65/150\n",
      "336184/336184 [==============================] - 0s 1us/step - loss: 0.0126\n",
      "Epoch 66/150\n",
      "336184/336184 [==============================] - 0s 1us/step - loss: 0.0126\n",
      "Epoch 67/150\n",
      "336184/336184 [==============================] - 0s 1us/step - loss: 0.0126\n",
      "Epoch 68/150\n",
      "336184/336184 [==============================] - 0s 1us/step - loss: 0.0125\n",
      "Epoch 69/150\n",
      "336184/336184 [==============================] - 0s 1us/step - loss: 0.0125\n",
      "Epoch 70/150\n",
      "336184/336184 [==============================] - 0s 1us/step - loss: 0.0125\n",
      "Epoch 71/150\n",
      "336184/336184 [==============================] - 0s 1us/step - loss: 0.0124\n",
      "Epoch 72/150\n",
      "336184/336184 [==============================] - 0s 1us/step - loss: 0.0124\n",
      "Epoch 73/150\n",
      "336184/336184 [==============================] - 0s 1us/step - loss: 0.0124\n",
      "Epoch 74/150\n",
      "336184/336184 [==============================] - 0s 1us/step - loss: 0.0123\n",
      "Epoch 75/150\n",
      "336184/336184 [==============================] - 0s 1us/step - loss: 0.0123\n",
      "Epoch 76/150\n",
      "336184/336184 [==============================] - 0s 1us/step - loss: 0.0123\n",
      "Epoch 77/150\n",
      "336184/336184 [==============================] - 0s 1us/step - loss: 0.0122\n",
      "Epoch 78/150\n",
      "336184/336184 [==============================] - 0s 1us/step - loss: 0.0122\n",
      "Epoch 79/150\n",
      "336184/336184 [==============================] - 0s 1us/step - loss: 0.0122\n",
      "Epoch 80/150\n",
      "336184/336184 [==============================] - 0s 1us/step - loss: 0.0121\n",
      "Epoch 81/150\n",
      "336184/336184 [==============================] - 0s 1us/step - loss: 0.0121\n",
      "Epoch 82/150\n",
      "336184/336184 [==============================] - 0s 1us/step - loss: 0.0121\n",
      "Epoch 83/150\n",
      "336184/336184 [==============================] - 1s 2us/step - loss: 0.0120\n",
      "Epoch 84/150\n",
      "336184/336184 [==============================] - 1s 1us/step - loss: 0.0120\n",
      "Epoch 85/150\n",
      "336184/336184 [==============================] - 1s 1us/step - loss: 0.0120\n",
      "Epoch 86/150\n",
      "336184/336184 [==============================] - 1s 2us/step - loss: 0.0120\n",
      "Epoch 87/150\n",
      "336184/336184 [==============================] - 1s 2us/step - loss: 0.0119\n",
      "Epoch 88/150\n",
      "336184/336184 [==============================] - 0s 1us/step - loss: 0.0119\n",
      "Epoch 89/150\n",
      "336184/336184 [==============================] - 0s 1us/step - loss: 0.0119\n",
      "Epoch 90/150\n",
      "336184/336184 [==============================] - 0s 1us/step - loss: 0.0118\n",
      "Epoch 91/150\n",
      "336184/336184 [==============================] - 0s 1us/step - loss: 0.0118\n",
      "Epoch 92/150\n",
      "336184/336184 [==============================] - 0s 1us/step - loss: 0.0118\n"
     ]
    },
    {
     "name": "stdout",
     "output_type": "stream",
     "text": [
      "Epoch 93/150\n",
      "336184/336184 [==============================] - 0s 1us/step - loss: 0.0118\n",
      "Epoch 94/150\n",
      "336184/336184 [==============================] - 0s 1us/step - loss: 0.0118\n",
      "Epoch 95/150\n",
      "336184/336184 [==============================] - 0s 1us/step - loss: 0.0117\n",
      "Epoch 96/150\n",
      "336184/336184 [==============================] - 0s 1us/step - loss: 0.0117\n",
      "Epoch 97/150\n",
      "336184/336184 [==============================] - 0s 1us/step - loss: 0.0117\n",
      "Epoch 98/150\n",
      "336184/336184 [==============================] - 0s 1us/step - loss: 0.0117\n",
      "Epoch 99/150\n",
      "336184/336184 [==============================] - 0s 1us/step - loss: 0.0116\n",
      "Epoch 100/150\n",
      "336184/336184 [==============================] - 0s 1us/step - loss: 0.0116\n",
      "Epoch 101/150\n",
      "336184/336184 [==============================] - 0s 1us/step - loss: 0.0116\n",
      "Epoch 102/150\n",
      "336184/336184 [==============================] - 0s 1us/step - loss: 0.0116\n",
      "Epoch 103/150\n",
      "336184/336184 [==============================] - 0s 1us/step - loss: 0.0116\n",
      "Epoch 104/150\n",
      "336184/336184 [==============================] - 0s 1us/step - loss: 0.0115\n",
      "Epoch 105/150\n",
      "336184/336184 [==============================] - 0s 1us/step - loss: 0.0115\n",
      "Epoch 106/150\n",
      "336184/336184 [==============================] - 0s 1us/step - loss: 0.0115\n",
      "Epoch 107/150\n",
      "336184/336184 [==============================] - 0s 1us/step - loss: 0.0115\n",
      "Epoch 108/150\n",
      "336184/336184 [==============================] - 0s 1us/step - loss: 0.0115\n",
      "Epoch 109/150\n",
      "336184/336184 [==============================] - 0s 1us/step - loss: 0.0115\n",
      "Epoch 110/150\n",
      "336184/336184 [==============================] - 0s 1us/step - loss: 0.0114\n",
      "Epoch 111/150\n",
      "336184/336184 [==============================] - 0s 1us/step - loss: 0.0114\n",
      "Epoch 112/150\n",
      "336184/336184 [==============================] - 0s 1us/step - loss: 0.0114\n",
      "Epoch 113/150\n",
      "336184/336184 [==============================] - 0s 1us/step - loss: 0.0114\n",
      "Epoch 114/150\n",
      "336184/336184 [==============================] - 0s 1us/step - loss: 0.0114\n",
      "Epoch 115/150\n",
      "336184/336184 [==============================] - 0s 1us/step - loss: 0.0114\n",
      "Epoch 116/150\n",
      "336184/336184 [==============================] - 0s 1us/step - loss: 0.0114\n",
      "Epoch 117/150\n",
      "336184/336184 [==============================] - 0s 1us/step - loss: 0.0113\n",
      "Epoch 118/150\n",
      "336184/336184 [==============================] - 0s 1us/step - loss: 0.0113\n",
      "Epoch 119/150\n",
      "336184/336184 [==============================] - 0s 1us/step - loss: 0.0113\n",
      "Epoch 120/150\n",
      "336184/336184 [==============================] - 0s 1us/step - loss: 0.0113\n",
      "Epoch 121/150\n",
      "336184/336184 [==============================] - 0s 1us/step - loss: 0.0113\n",
      "Epoch 122/150\n",
      "336184/336184 [==============================] - 0s 1us/step - loss: 0.0113\n",
      "Epoch 123/150\n",
      "336184/336184 [==============================] - 0s 1us/step - loss: 0.0113\n",
      "Epoch 124/150\n",
      "336184/336184 [==============================] - 0s 1us/step - loss: 0.0113\n",
      "Epoch 125/150\n",
      "336184/336184 [==============================] - 0s 1us/step - loss: 0.0113\n",
      "Epoch 126/150\n",
      "336184/336184 [==============================] - 0s 1us/step - loss: 0.0112\n",
      "Epoch 127/150\n",
      "336184/336184 [==============================] - 0s 1us/step - loss: 0.0112\n",
      "Epoch 128/150\n",
      "336184/336184 [==============================] - 0s 1us/step - loss: 0.0112\n",
      "Epoch 129/150\n",
      "336184/336184 [==============================] - 0s 1us/step - loss: 0.0112\n",
      "Epoch 130/150\n",
      "336184/336184 [==============================] - 0s 1us/step - loss: 0.0112\n",
      "Epoch 131/150\n",
      "336184/336184 [==============================] - 0s 1us/step - loss: 0.0112\n",
      "Epoch 132/150\n",
      "336184/336184 [==============================] - 0s 1us/step - loss: 0.0112\n",
      "Epoch 133/150\n",
      "336184/336184 [==============================] - 0s 1us/step - loss: 0.0112\n",
      "Epoch 134/150\n",
      "336184/336184 [==============================] - 0s 1us/step - loss: 0.0112\n",
      "Epoch 135/150\n",
      "336184/336184 [==============================] - 0s 1us/step - loss: 0.0111\n",
      "Epoch 136/150\n",
      "336184/336184 [==============================] - 0s 1us/step - loss: 0.0111\n",
      "Epoch 137/150\n",
      "336184/336184 [==============================] - 0s 1us/step - loss: 0.0111\n",
      "Epoch 138/150\n",
      "336184/336184 [==============================] - 0s 1us/step - loss: 0.0111\n",
      "Epoch 139/150\n",
      "336184/336184 [==============================] - 0s 1us/step - loss: 0.0111\n",
      "Epoch 140/150\n",
      "336184/336184 [==============================] - 0s 1us/step - loss: 0.0111\n",
      "Epoch 141/150\n",
      "336184/336184 [==============================] - 0s 1us/step - loss: 0.0111\n",
      "Epoch 142/150\n",
      "336184/336184 [==============================] - 0s 1us/step - loss: 0.0111\n",
      "Epoch 143/150\n",
      "336184/336184 [==============================] - 0s 1us/step - loss: 0.0111\n",
      "Epoch 144/150\n",
      "336184/336184 [==============================] - 0s 1us/step - loss: 0.0111\n",
      "Epoch 145/150\n",
      "336184/336184 [==============================] - 0s 1us/step - loss: 0.0111\n",
      "Epoch 146/150\n",
      "336184/336184 [==============================] - 0s 1us/step - loss: 0.0111\n",
      "Epoch 147/150\n",
      "336184/336184 [==============================] - 0s 1us/step - loss: 0.0110\n",
      "Epoch 148/150\n",
      "336184/336184 [==============================] - 0s 1us/step - loss: 0.0110\n",
      "Epoch 149/150\n",
      "336184/336184 [==============================] - 0s 1us/step - loss: 0.0110\n",
      "Epoch 150/150\n",
      "336184/336184 [==============================] - 0s 1us/step - loss: 0.0110\n"
     ]
    }
   ],
   "source": [
    "(F,W,b) = GLM_network_fit(binned_stim*1e9,binned_spikes, d, d, bin_len)"
   ]
  },
  {
   "cell_type": "code",
   "execution_count": 53,
   "metadata": {},
   "outputs": [
    {
     "name": "stdout",
     "output_type": "stream",
     "text": [
      "[0.08559065]\n"
     ]
    },
    {
     "data": {
      "text/plain": [
       "[<matplotlib.lines.Line2D at 0x7f171c628190>]"
      ]
     },
     "execution_count": 53,
     "metadata": {},
     "output_type": "execute_result"
    },
    {
     "data": {
      "image/png": "[encoded data removed]",
      "text/plain": [
       "<Figure size 432x288 with 1 Axes>"
      ]
     },
     "metadata": {},
     "output_type": "display_data"
    }
   ],
   "source": [
    "print np.exp(b)\n",
    "plt.plot(np.arange(d)*bin_len,np.squeeze(F))"
   ]
  },
  {
   "cell_type": "code",
   "execution_count": 32,
   "metadata": {},
   "outputs": [
    {
     "data": {
      "text/plain": [
       "[<matplotlib.lines.Line2D at 0x7f1734b5d950>]"
      ]
     },
     "execution_count": 32,
     "metadata": {},
     "output_type": "execute_result"
    },
    {
     "data": {
      "image/png": "[encoded data removed]",
      "text/plain": [
       "<Figure size 432x288 with 1 Axes>"
      ]
     },
     "metadata": {},
     "output_type": "display_data"
    }
   ],
   "source": [
    "plt.plot(np.arange(d)*bin_len,np.squeeze(W))"
   ]
  },
  {
   "cell_type": "code",
   "execution_count": 79,
   "metadata": {},
   "outputs": [],
   "source": [
    "# myguess = np.random.normal(loc=0.0, scale= 1.0, size=(Xdsn.shape[1],1))\n",
    "# print(np.shape(myguess))\n",
    "# res = minimize(log_likelihood_poisson, args = (Xdsn,y), method = 'CG', x0 = myguess, options={'gtol':1e-14})"
   ]
  },
  {
   "cell_type": "code",
   "execution_count": 169,
   "metadata": {},
   "outputs": [
    {
     "name": "stdout",
     "output_type": "stream",
     "text": [
      "_________________________________________________________________\n",
      "Layer (type)                 Output Shape              Param #   \n",
      "=================================================================\n",
      "input_41 (InputLayer)        (None, 100)               0         \n",
      "_________________________________________________________________\n",
      "f_prb_40 (FPrb)              (None, None)              9         \n",
      "=================================================================\n",
      "Total params: 9\n",
      "Trainable params: 9\n",
      "Non-trainable params: 0\n",
      "_________________________________________________________________\n",
      "None\n"
     ]
    }
   ],
   "source": [
    "from keras.engine.base_layer import Layer\n",
    "class FPrb(Layer):\n",
    "\n",
    "    def __init__(self,t,num_exp=2, **kwargs):\n",
    "        self.dt = t[1]-t[0]\n",
    "        self.t = np.expand_dims(t,1)\n",
    "        self.T = len(t)\n",
    "        self.num_exp = num_exp\n",
    "        super(FPrb, self).__init__(**kwargs)\n",
    "\n",
    "    def build(self, input_shape):\n",
    "        # Create a trainable weight variable for this layer.\n",
    "        self.kernel = self.add_weight(name='kernel', \n",
    "                                      shape=(2*self.num_exp*input_shape[1]/self.T+1,),   # [4p stim1, 4p stim2, ... , 4p spk1, 4p spk2,... ]\n",
    "                                      initializer='uniform',\n",
    "                                      trainable=True)\n",
    "        self.built = True\n",
    "\n",
    "    def call(self, x):\n",
    "        F = 0.0\n",
    "        for i in range(K.int_shape(self.kernel)[0]/(2*self.num_exp)):\n",
    "#             F += K.dot(x[:,i*self.T:(i+1)*self.T],self.kernel[i*2*self.num_exp]*K.exp(self.kernel[i*2*self.num_exp+1]*self.t)+self.kernel[i*4+2]*K.exp(self.kernel[i*4+3]*self.t))\n",
    "            for j in range(self.num_exp):\n",
    "                F += K.dot(x[:,i*self.T:(i+1)*self.T],self.kernel[i*2*self.num_exp+j*2]*K.exp(self.kernel[i*2*self.num_exp+j*2+1]*self.t))\n",
    "        F+=self.kernel[-1]\n",
    "        return K.exp(F)*self.dt\n",
    "\n",
    "\n",
    "    def compute_output_shape(self, input_shape):\n",
    "        return (None,input_shape[0])\n",
    "\n",
    "inp = Input(shape=(Xdsn.shape[1],))\n",
    "out = FPrb(np.arange(d)*bin_len)(inp)\n",
    "model = Model(inputs = [inp], outputs = [out])\n",
    "model.compile(loss = 'poisson',optimizer = keras.optimizers.adam(lr=1e-1))\n",
    "print model.summary()"
   ]
  },
  {
   "cell_type": "code",
   "execution_count": 181,
   "metadata": {},
   "outputs": [
    {
     "name": "stdout",
     "output_type": "stream",
     "text": [
      "Epoch 1/50\n",
      "336184/336184 [==============================] - 1s 3us/step - loss: 0.0128\n",
      "Epoch 2/50\n",
      "336184/336184 [==============================] - 1s 3us/step - loss: 0.0126\n",
      "Epoch 3/50\n",
      "336184/336184 [==============================] - 1s 3us/step - loss: 0.0128\n",
      "Epoch 4/50\n",
      "336184/336184 [==============================] - 1s 3us/step - loss: 0.0124\n",
      "Epoch 5/50\n",
      "336184/336184 [==============================] - 1s 3us/step - loss: 0.0126\n",
      "Epoch 6/50\n",
      "336184/336184 [==============================] - 1s 3us/step - loss: 0.0126\n",
      "Epoch 7/50\n",
      "336184/336184 [==============================] - 1s 3us/step - loss: 0.0128\n",
      "Epoch 8/50\n",
      "336184/336184 [==============================] - 1s 3us/step - loss: 0.0125\n",
      "Epoch 9/50\n",
      "336184/336184 [==============================] - 1s 3us/step - loss: 0.0124\n",
      "Epoch 10/50\n",
      "336184/336184 [==============================] - 1s 3us/step - loss: 0.0127\n",
      "Epoch 11/50\n",
      "336184/336184 [==============================] - 1s 3us/step - loss: 0.0124\n",
      "Epoch 12/50\n",
      "336184/336184 [==============================] - 1s 3us/step - loss: 0.0127\n",
      "Epoch 13/50\n",
      "336184/336184 [==============================] - 1s 3us/step - loss: 0.0126\n",
      "Epoch 14/50\n",
      "336184/336184 [==============================] - 1s 3us/step - loss: 0.0126\n",
      "Epoch 15/50\n",
      "336184/336184 [==============================] - 1s 3us/step - loss: 0.0125\n",
      "Epoch 16/50\n",
      "336184/336184 [==============================] - 1s 3us/step - loss: 0.0125\n",
      "Epoch 17/50\n",
      "336184/336184 [==============================] - 1s 3us/step - loss: 0.0127\n",
      "Epoch 18/50\n",
      "336184/336184 [==============================] - 1s 3us/step - loss: 0.0125\n",
      "Epoch 19/50\n",
      "336184/336184 [==============================] - 1s 3us/step - loss: 0.0126\n",
      "Epoch 20/50\n",
      "336184/336184 [==============================] - 1s 3us/step - loss: 0.0124\n",
      "Epoch 21/50\n",
      "336184/336184 [==============================] - 1s 3us/step - loss: 0.0126\n",
      "Epoch 22/50\n",
      "336184/336184 [==============================] - 1s 3us/step - loss: 0.0124\n",
      "Epoch 23/50\n",
      "336184/336184 [==============================] - 1s 3us/step - loss: 0.0127\n",
      "Epoch 24/50\n",
      "336184/336184 [==============================] - 1s 3us/step - loss: 0.0123\n",
      "Epoch 25/50\n",
      "336184/336184 [==============================] - 1s 3us/step - loss: 0.0123\n",
      "Epoch 26/50\n",
      "336184/336184 [==============================] - 1s 3us/step - loss: 0.0126\n",
      "Epoch 27/50\n",
      "336184/336184 [==============================] - 1s 3us/step - loss: 0.0123\n",
      "Epoch 28/50\n",
      "336184/336184 [==============================] - 1s 3us/step - loss: 0.0123\n",
      "Epoch 29/50\n",
      "336184/336184 [==============================] - 1s 3us/step - loss: 0.0124\n",
      "Epoch 30/50\n",
      "336184/336184 [==============================] - 1s 3us/step - loss: 0.0124\n",
      "Epoch 31/50\n",
      "336184/336184 [==============================] - 1s 3us/step - loss: 0.0127\n",
      "Epoch 32/50\n",
      "336184/336184 [==============================] - 1s 3us/step - loss: 0.0124\n",
      "Epoch 33/50\n",
      "336184/336184 [==============================] - 1s 3us/step - loss: 0.0128\n",
      "Epoch 34/50\n",
      "336184/336184 [==============================] - 1s 3us/step - loss: 0.0124\n",
      "Epoch 35/50\n",
      "336184/336184 [==============================] - 1s 3us/step - loss: 0.0126\n",
      "Epoch 36/50\n",
      "336184/336184 [==============================] - 1s 3us/step - loss: 0.0126\n",
      "Epoch 37/50\n",
      "336184/336184 [==============================] - 1s 3us/step - loss: 0.0124\n",
      "Epoch 38/50\n",
      "336184/336184 [==============================] - 1s 3us/step - loss: 0.0125\n",
      "Epoch 39/50\n",
      "336184/336184 [==============================] - 1s 3us/step - loss: 0.0123\n",
      "Epoch 40/50\n",
      "336184/336184 [==============================] - 1s 3us/step - loss: 0.0126\n",
      "Epoch 41/50\n",
      "336184/336184 [==============================] - 1s 3us/step - loss: 0.0125\n",
      "Epoch 42/50\n",
      "336184/336184 [==============================] - 1s 3us/step - loss: 0.0125\n",
      "Epoch 43/50\n",
      "336184/336184 [==============================] - 1s 3us/step - loss: 0.0123\n",
      "Epoch 44/50\n",
      "336184/336184 [==============================] - 1s 3us/step - loss: 0.0124\n",
      "Epoch 45/50\n",
      "336184/336184 [==============================] - 1s 3us/step - loss: 0.0124\n",
      "Epoch 46/50\n",
      "336184/336184 [==============================] - 1s 3us/step - loss: 0.0124\n",
      "Epoch 47/50\n",
      "336184/336184 [==============================] - 1s 3us/step - loss: 0.0127\n",
      "Epoch 48/50\n",
      "336184/336184 [==============================] - 1s 3us/step - loss: 0.0123\n",
      "Epoch 49/50\n",
      "336184/336184 [==============================] - 1s 3us/step - loss: 0.0126\n",
      "Epoch 50/50\n",
      "336184/336184 [==============================] - 1s 3us/step - loss: 0.0125\n"
     ]
    },
    {
     "data": {
      "text/plain": [
       "<keras.callbacks.History at 0x7f17182d2110>"
      ]
     },
     "execution_count": 181,
     "metadata": {},
     "output_type": "execute_result"
    }
   ],
   "source": [
    "model.fit(x=Xdsn,y=ydsn,epochs=50,batch_size = 1000)"
   ]
  },
  {
   "cell_type": "code",
   "execution_count": 220,
   "metadata": {},
   "outputs": [
    {
     "name": "stdout",
     "output_type": "stream",
     "text": [
      "0.028834632\n",
      "[  -4.2978983 -103.29971      8.512919  -182.06879    -11.092146\n",
      " -390.3303     -11.347587  -389.92523     -3.546178 ]\n"
     ]
    },
    {
     "data": {
      "text/plain": [
       "[<matplotlib.lines.Line2D at 0x7f17155ccb90>]"
      ]
     },
     "execution_count": 220,
     "metadata": {},
     "output_type": "execute_result"
    },
    {
     "data": {
      "image/png": "[encoded data removed]",
      "text/plain": [
       "<Figure size 432x288 with 1 Axes>"
      ]
     },
     "metadata": {},
     "output_type": "display_data"
    }
   ],
   "source": [
    "t = np.arange(d)*bin_len\n",
    "# p = model.get_weights()[0]\n",
    "print np.exp(p[-1])\n",
    "print p\n",
    "w=0\n",
    "# plt.plot(t,p[2-w]*np.exp(p[3-w]*t))\n",
    "plt.plot(t,p[4-w]*np.exp(p[5-w]*t)+p[6-w]*np.exp(p[7-w]*t))"
   ]
  },
  {
   "cell_type": "code",
   "execution_count": 222,
   "metadata": {},
   "outputs": [
    {
     "data": {
      "image/png": "[encoded data removed]",
      "text/plain": [
       "<Figure size 432x288 with 2 Axes>"
      ]
     },
     "metadata": {},
     "output_type": "display_data"
    }
   ],
   "source": [
    "fig,ax = plt.subplots(2,1)\n",
    "bin_len = 0.001\n",
    "d=25\n",
    "t = np.arange(d)*bin_len\n",
    "for spec_id in inh_cells['id'].values[:1]:\n",
    "    epd = ctc.get_ephys_data(spec_id)\n",
    "    sweeps = get_sweeps_with_stim(epd,'Noise')\n",
    "    if len(sweeps)>0:\n",
    "        (binned_spikes, binned_stim) = bin_spikes_and_stim(sweeps,bin_len)\n",
    "        (F,W,b) = GLM_network_fit(binned_stim*1e9,binned_spikes, d, d, bin_len)\n",
    "        ax[0].plot(t,np.squeeze(F))\n",
    "        ax[1].plot(t,np.squeeze(W))"
   ]
  },
  {
   "cell_type": "code",
   "execution_count": 205,
   "metadata": {},
   "outputs": [],
   "source": [
    "def GLM_network_fit_exps(stimulus,spikes,d_stim, d_spk,bin_len,num_exp=2,f='exp',priors=None,L1=None):\n",
    "    N = spikes.shape[0]\n",
    "    M = stimulus.shape[0]\n",
    "    F = np.empty((N,M,num_exp*2)) # stimulus filters\n",
    "    W = np.empty((N,N,num_exp*2))  # spike train filters\n",
    "    b = np.empty((N,)) # biases\n",
    "    fs = {'exp':K.exp}\n",
    "    Xdsn = construct_GLM_mat(stimulus,spikes, d_stim, d_spk)\n",
    "    for i in range(N):\n",
    "        y = spikes[i,max(d_stim,d_spk):]\n",
    "        # construct GLM model and return fit\n",
    "        inp = Input(shape=(Xdsn.shape[1],))\n",
    "        out = FPrb(np.arange(d)*bin_len,num_exp=num_exp)(inp)\n",
    "        model = Model(inputs = [inp], outputs = [out])\n",
    "        model.compile(loss = 'poisson',optimizer = keras.optimizers.adam(lr=1e-1))\n",
    "        model.fit(x=Xdsn,y=y,epochs=150,batch_size = 1000,verbose=0)\n",
    "        p = model.get_weights()[0]\n",
    "        F[i,:,:] = p[:M*num_exp*2].reshape((M,num_exp*2))\n",
    "        W[i,:,:] = p[M*num_exp*2:-1].reshape((N,num_exp*2))\n",
    "        b[i] = p[-1]\n",
    "    return (F,W,b)"
   ]
  },
  {
   "cell_type": "code",
   "execution_count": 207,
   "metadata": {},
   "outputs": [
    {
     "name": "stdout",
     "output_type": "stream",
     "text": [
      "481127932\n",
      "475549334\n",
      "592819166\n",
      "584872371\n"
     ]
    },
    {
     "data": {
      "image/png": "[encoded data removed]",
      "text/plain": [
       "<Figure size 432x288 with 2 Axes>"
      ]
     },
     "metadata": {},
     "output_type": "display_data"
    }
   ],
   "source": [
    "fig,ax = plt.subplots(2,1)\n",
    "for spec_id in inh_cells['id'].values[:4]:\n",
    "    print spec_id\n",
    "    epd = ctc.get_ephys_data(spec_id)\n",
    "    sweeps = get_sweeps_with_stim(epd,'Noise')\n",
    "    if len(sweeps)>0:\n",
    "        (binned_spikes, binned_stim) = bin_spikes_and_stim(sweeps,bin_len)\n",
    "        (F,W,b) = GLM_network_fit_exps(binned_stim*1e9,binned_spikes, d, d, bin_len)\n",
    "        F = np.squeeze(F)\n",
    "        W = np.squeeze(W)\n",
    "        ax[0].plot(t,F[0]*np.exp(F[1]*t)+F[2]*np.exp(F[3]*t))\n",
    "        ax[1].plot(t,W[0]*np.exp(W[1]*t)+W[2]*np.exp(W[3]*t))"
   ]
  },
  {
   "cell_type": "code",
   "execution_count": 201,
   "metadata": {},
   "outputs": [
    {
     "ename": "IndexError",
     "evalue": "index 4 is out of bounds for axis 0 with size 1",
     "output_type": "error",
     "traceback": [
      "\u001b[0;31m\u001b[0m",
      "\u001b[0;31mIndexError\u001b[0mTraceback (most recent call last)",
      "\u001b[0;32m<ipython-input-201-da0596f01e46>\u001b[0m in \u001b[0;36m<module>\u001b[0;34m()\u001b[0m\n\u001b[0;32m----> 1\u001b[0;31m \u001b[0;32mprint\u001b[0m \u001b[0mF\u001b[0m\u001b[0;34m[\u001b[0m\u001b[0;36m4\u001b[0m\u001b[0;34m]\u001b[0m\u001b[0;34m\u001b[0m\u001b[0m\n\u001b[0m",
      "\u001b[0;31mIndexError\u001b[0m: index 4 is out of bounds for axis 0 with size 1"
     ]
    }
   ],
   "source": [
    "plt.plot()"
   ]
  },
  {
   "cell_type": "code",
   "execution_count": null,
   "metadata": {},
   "outputs": [],
   "source": []
  }
 ],
 "metadata": {
  "kernelspec": {
   "display_name": "conda_tensorflow_p27",
   "language": "python",
   "name": "conda_tensorflow_p27"
  },
  "language_info": {
   "codemirror_mode": {
    "name": "ipython",
    "version": 2
   },
   "file_extension": ".py",
   "mimetype": "text/x-python",
   "name": "python",
   "nbconvert_exporter": "python",
   "pygments_lexer": "ipython2",
   "version": "2.7.15"
  }
 },
 "nbformat": 4,
 "nbformat_minor": 2
}
