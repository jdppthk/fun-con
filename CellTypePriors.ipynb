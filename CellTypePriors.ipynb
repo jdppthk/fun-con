{
 "cells": [
  {
   "cell_type": "code",
   "execution_count": 1,
   "metadata": {},
   "outputs": [],
   "source": [
    "# please make sure your drive_path is set, so that the notebook can find the data files on the hard drive\n",
    "\n",
    "# OS X\n",
    "# drive_path = '/Volumes/Brain2017/data/dynamic-brain-workshop/cell_types_cache/'\n",
    "\n",
    "# Windows (a good guess)\n",
    "# drive_path = 'e:/data/dynamic-brain-workshop/cell_types_cache/'\n",
    "\n",
    "# Linux (will vary; the following is possibly what Ubuntu will do)\n",
    "# drive_path = '/media/Brain2017/data/dynamic-brain-workshop/cell_types_cache/'\n",
    "\n",
    "# AWS\n",
    "drive_path = '/data/dynamic-brain-workshop/cell_types_cache/'"
   ]
  },
  {
   "cell_type": "code",
   "execution_count": 2,
   "metadata": {},
   "outputs": [],
   "source": [
    "import os\n",
    "import numpy as np\n",
    "import matplotlib.pyplot as plt\n",
    "import pandas as pd\n",
    "%matplotlib inline\n",
    "\n",
    "from allensdk.core.cell_types_cache import CellTypesCache"
   ]
  },
  {
   "cell_type": "code",
   "execution_count": 3,
   "metadata": {},
   "outputs": [],
   "source": [
    "ctc = CellTypesCache()"
   ]
  },
  {
   "cell_type": "code",
   "execution_count": 4,
   "metadata": {},
   "outputs": [
    {
     "name": "stdout",
     "output_type": "stream",
     "text": [
      "1813\n",
      "196\n",
      "361\n"
     ]
    }
   ],
   "source": [
    "# pd.DataFrame(ctc.get_cells()).head()\n",
    "cells = pd.DataFrame(ctc.get_cells(reporter_status='positive'))\n",
    "print len(cells)\n",
    "# cells.head()\n",
    "# print cells.groupby(by='transgenic_line').size()\n",
    "region = 'VISp'\n",
    "\n",
    "inh_lines = []\n",
    "exc_lines = []\n",
    "exc_st = ['Rorb','Scnn','Nr5','Rbp','Emx','Cux','Tlx3','Sim1','Ntsr']\n",
    "inh_st = ['Gad','Htr','Pvalb','Vip','Sst']\n",
    "for line in cells.transgenic_line.unique():\n",
    "    for st in exc_st:\n",
    "        if line.startswith(st):\n",
    "            exc_lines.append(line)\n",
    "    for st in inh_st:\n",
    "        if line.startswith(st):\n",
    "            inh_lines.append(line)\n",
    "\n",
    "\n",
    "has_line = False\n",
    "# lines = ['Rorb-IRES2-Cre']\n",
    "for line in inh_lines:\n",
    "    has_line = has_line | (cells.transgenic_line==line)\n",
    "inh_cells = cells[(cells.species=='Mus musculus')& has_line & (cells.structure_area_abbrev==region) & (cells.structure_layer_name=='5')]\n",
    "print len(inh_cells)\n",
    "\n",
    "for line in exc_lines:\n",
    "    has_line = has_line | (cells.transgenic_line==line)\n",
    "exc_cells = cells[(cells.species=='Mus musculus')& has_line & (cells.structure_area_abbrev==region) & (cells.structure_layer_name=='5')]\n",
    "print len(exc_cells)\n"
   ]
  },
  {
   "cell_type": "code",
   "execution_count": 5,
   "metadata": {},
   "outputs": [
    {
     "name": "stderr",
     "output_type": "stream",
     "text": [
      "2018-08-26 00:36:39,124 allensdk.api.api.retrieve_file_over_http INFO     Downloading URL: http://api.brain-map.org/api/v2/well_known_file_download/659446233\n"
     ]
    }
   ],
   "source": [
    "#for cell in cell_types_class ...\n",
    "epd = ctc.get_ephys_data(cells['id'][0])"
   ]
  },
  {
   "cell_type": "code",
   "execution_count": 6,
   "metadata": {},
   "outputs": [
    {
     "name": "stdout",
     "output_type": "stream",
     "text": [
      "[u'Long Square' u'Noise 1' u'Noise 2' u'Ramp' u'Short Square'\n",
      " u'Square - 0.5ms Subthreshold' u'Square - 2s Suprathreshold' u'Test']\n"
     ]
    }
   ],
   "source": [
    "names = []\n",
    "for i in epd.get_experiment_sweep_numbers():\n",
    "    names.append(epd.get_sweep_metadata(i)['aibs_stimulus_name'])\n",
    "print np.unique(names)"
   ]
  },
  {
   "cell_type": "code",
   "execution_count": null,
   "metadata": {},
   "outputs": [],
   "source": []
  },
  {
   "cell_type": "code",
   "execution_count": 7,
   "metadata": {},
   "outputs": [],
   "source": [
    "def get_sweeps_with_stim(ephys_data,stim_type):\n",
    "    sweeps = []\n",
    "    for i in ephys_data.get_experiment_sweep_numbers():\n",
    "        if str.startswith(str(ephys_data.get_sweep_metadata(i)['aibs_stimulus_name']),stim_type):\n",
    "            sweep = ephys_data.get_sweep(i)\n",
    "            sweep['spike_times'] = ephys_data.get_spike_times(i)\n",
    "            sweeps.append(sweep)\n",
    "    return sweeps\n",
    "\n",
    "def bin_spikes_and_stim(sweeps,bin_len,zpad=0):\n",
    "    spikes_list = []\n",
    "    stim_list = []\n",
    "    for sweep in sweeps:\n",
    "        T = int(np.floor(sweep['index_range'][1]*1.0/(sweep['sampling_rate']*bin_len)))\n",
    "        binned_spikes = np.zeros((T,))\n",
    "        binned_stim = np.empty((T,))\n",
    "        for spike_time in sweep['spike_times']:\n",
    "            t = int(np.floor(spike_time/bin_len))\n",
    "            binned_spikes[t]+=1\n",
    "        for i in range(T):\n",
    "            binned_stim[i] = np.mean(sweep['stimulus'][int(np.round(i*bin_len*sweep['sampling_rate'])):int(np.round((i+1)*bin_len*sweep['sampling_rate']))])\n",
    "        spikes_list.append(binned_spikes)\n",
    "        stim_list.append(binned_stim)\n",
    "        if zpad>0:\n",
    "            spikes_list.append(np.zeros((int(np.floor(zpad/bin_len)),)))\n",
    "            stim_list.append(np.zeros((int(np.floor(zpad/bin_len)),)))\n",
    "    binned_spikes = np.concatenate(spikes_list)\n",
    "    binned_stim = np.concatenate(stim_list)\n",
    "    return (binned_spikes, binned_stim)\n",
    "        "
   ]
  },
  {
   "cell_type": "code",
   "execution_count": 33,
   "metadata": {},
   "outputs": [],
   "source": [
    "sweeps = get_sweeps_with_stim(epd,'Noise')\n",
    "bin_len = 0.002\n",
    "(binned_spikes, binned_stim) = bin_spikes_and_stim([sweeps[0]],bin_len)"
   ]
  },
  {
   "cell_type": "code",
   "execution_count": 34,
   "metadata": {},
   "outputs": [
    {
     "name": "stdout",
     "output_type": "stream",
     "text": [
      "(37500, 1400999)\n",
      "50000.0\n",
      "['stimulus', 'index_range', 'spike_times', 'stimulus_unit', 'sampling_rate', 'response']\n"
     ]
    },
    {
     "data": {
      "image/png": "[encoded data removed]",
      "text/plain": [
       "<Figure size 432x288 with 2 Axes>"
      ]
     },
     "metadata": {},
     "output_type": "display_data"
    }
   ],
   "source": [
    "\n",
    "i=5\n",
    "t = np.arange(0,sweeps[i]['index_range'][1]+1)*1.0/sweeps[i]['sampling_rate']\n",
    "fig,ax = plt.subplots(2,1,sharex=True)\n",
    "ax[1].plot(t,sweeps[i]['stimulus'])\n",
    "ax[0].plot(t,sweeps[i]['response'])\n",
    "plt.xlim(10.3,10.31)\n",
    "print sweeps[5]['index_range']\n",
    "print sweeps[5]['sampling_rate']\n",
    "print sweeps[5].keys()\n"
   ]
  },
  {
   "cell_type": "code",
   "execution_count": 36,
   "metadata": {},
   "outputs": [
    {
     "data": {
      "text/plain": [
       "(10.3, 10.35)"
      ]
     },
     "execution_count": 36,
     "metadata": {},
     "output_type": "execute_result"
    },
    {
     "data": {
      "image/png": "[encoded data removed]",
      "text/plain": [
       "<Figure size 432x288 with 1 Axes>"
      ]
     },
     "metadata": {},
     "output_type": "display_data"
    }
   ],
   "source": [
    "plt.plot(t,sweeps[0]['stimulus'])\n",
    "plt.plot((np.arange(0,binned_stim.shape[0])+0.5)*bin_len,binned_stim)\n",
    "plt.xlim([10.3,10.35])"
   ]
  },
  {
   "cell_type": "code",
   "execution_count": 39,
   "metadata": {},
   "outputs": [
    {
     "data": {
      "text/plain": [
       "(10.3, 10.5)"
      ]
     },
     "execution_count": 39,
     "metadata": {},
     "output_type": "execute_result"
    },
    {
     "data": {
      "image/png": "[encoded data removed]",
      "text/plain": [
       "<Figure size 432x288 with 1 Axes>"
      ]
     },
     "metadata": {},
     "output_type": "display_data"
    }
   ],
   "source": [
    "plt.plot(t,sweeps[0]['response'])\n",
    "plt.plot((np.arange(0,binned_stim.shape[0])+0.5)*bin_len,binned_spikes*0.01)\n",
    "plt.xlim([10.3,10.5])"
   ]
  },
  {
   "cell_type": "code",
   "execution_count": null,
   "metadata": {},
   "outputs": [],
   "source": [
    "(K,W) = GLM_network_fit(binned_stim,binned_spikes,100, 100)"
   ]
  },
  {
   "cell_type": "code",
   "execution_count": null,
   "metadata": {},
   "outputs": [],
   "source": [
    "plt.plot(np.squeeze(K))"
   ]
  },
  {
   "cell_type": "code",
   "execution_count": null,
   "metadata": {},
   "outputs": [],
   "source": [
    "plt.plot(np.squeeze(W))"
   ]
  },
  {
   "cell_type": "code",
   "execution_count": null,
   "metadata": {},
   "outputs": [],
   "source": []
  },
  {
   "cell_type": "code",
   "execution_count": null,
   "metadata": {},
   "outputs": [],
   "source": [
    "Ks = []\n",
    "Ws = []\n",
    "fig,ax = plt.subplots(2,1,sharex=True)\n",
    "\n",
    "for sweeps in [get_sweeps_with_stim(ctc.get_ephys_data(c_id),'Noise') for c_id in inh_cells['id']][:2]:\n",
    "    (binned_spikes, binned_stim) = bin_spikes_and_stim(sweeps,bin_len)\n",
    "    (K,W) = GLM_network_fit(binned_stim,binned_spikes,100, 100)\n",
    "    Ks.append(K)\n",
    "    Ws.append(W)\n",
    "    ax[0].plot(np.squeeze(K))\n",
    "    ax[1].plot(np.squeeze(W))"
   ]
  }
 ],
 "metadata": {
  "kernelspec": {
   "display_name": "conda_python2",
   "language": "python",
   "name": "conda_python2"
  },
  "language_info": {
   "codemirror_mode": {
    "name": "ipython",
    "version": 2
   },
   "file_extension": ".py",
   "mimetype": "text/x-python",
   "name": "python",
   "nbconvert_exporter": "python",
   "pygments_lexer": "ipython2",
   "version": "2.7.14"
  }
 },
 "nbformat": 4,
 "nbformat_minor": 2
}
