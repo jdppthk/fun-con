{
 "cells": [
  {
   "cell_type": "code",
   "execution_count": 1,
   "metadata": {},
   "outputs": [],
   "source": [
    "import numpy as np\n",
    "import pandas as pd\n",
    "import os\n",
    "import matplotlib.pyplot as plt\n",
    "import statsmodels.api as sm\n",
    "%matplotlib inline"
   ]
  },
  {
   "cell_type": "code",
   "execution_count": 2,
   "metadata": {},
   "outputs": [],
   "source": [
    "D = np.load('drifting_gratings_data.npz')\n",
    "binned_spikes = D['binned_spikes']\n",
    "stim = D['stim_array']\n",
    "CCmaxs = D['CCmaxs']\n",
    "bin_len = 0.01\n",
    "\n",
    "D = np.load('cell_types71.npz')\n",
    "cell_types = D['cell_types']"
   ]
  },
  {
   "cell_type": "code",
   "execution_count": 3,
   "metadata": {},
   "outputs": [
    {
     "name": "stdout",
     "output_type": "stream",
     "text": [
      "(array(['exc_VISp_1', 'exc_VISp_5', 'inh_VISp_1', 'inh_VISp_4',\n",
      "       'inh_VISp_5'], dtype='|S10'), array([ 3,  3,  4,  2, 16]))\n",
      "0.9199474554408273\n"
     ]
    }
   ],
   "source": [
    "ord_idxs = np.argsort(CCmaxs)[-30:]\n",
    "ord_idxs = np.concatenate((ord_idxs[:-12],ord_idxs[-11:-6],ord_idxs[-5:]))\n",
    "ord_types = cell_types[ord_idxs]\n",
    "print np.unique(cell_types[ord_idxs],return_counts=True)\n",
    "print CCmaxs[ord_idxs[-1]]"
   ]
  },
  {
   "cell_type": "code",
   "execution_count": 8,
   "metadata": {},
   "outputs": [],
   "source": [
    "\n",
    "# given binned spikes all of the same type\n",
    "def construct_Xdsn(flat_stimulus, binned_spikes, d):\n",
    "    (N,T) = binned_spikes.shape # N is number of neurons, T is number of time bins\n",
    "    (M,T1) = flat_stimulus.shape # M is the size of a stimulus\n",
    "    assert T==T1, \"arrays have different number of time samples\"\n",
    "    X_dsn = np.ones(((T-d)*N,M*N+d+1))\n",
    "    for n in range(N):\n",
    "        for t in range(T-d):\n",
    "            X_dsn[(T-d)*n+t,n*M:(n+1)*M] = flat_stimulus[:,t+d].reshape((1,-1))  #stimulus inputs\n",
    "        for t in range(T-d):\n",
    "            X_dsn[(T-d)*n+t,N*M:-1] = np.flip(binned_spikes[n,t:t+d],0).reshape((1,-1)) #spike inputs\n",
    "    y = binned_spikes[:,d:].T.reshape((1,-1)).T\n",
    "    return X_dsn,y\n",
    "\n",
    "def fit_GLM(stim,spks,d):\n",
    "    (X,y) = construct_Xdsn(stim,spks,d)\n",
    "    model =  sm.GLM(y,X,family = sm.families.Poisson())\n",
    "    model_results = model.fit()\n",
    "    p = model_results.params\n",
    "    se = model_results.bse\n",
    "    b = p[-1]\n",
    "    bse = se[-1]\n",
    "    stim_filts = p[:-1-d].reshape((spks.shape[0],-1))\n",
    "    stim_ses = se[:-1-d].reshape((spks.shape[0],-1))\n",
    "    spk_filt = p[-1-d:-1]\n",
    "    spk_se = se[-1-d:-1]\n",
    "    normnegloglike = -model_results.llf/y.size\n",
    "    return stim_filts, spk_filt, b, stim_ses, spk_se, bse, normnegloglike\n",
    "\n",
    "def val_GLM(stim,spks,d,stim_filt,spk_filt,b):\n",
    "    model =  sm.GLM(spks[0,d:],construct_Xdsn(stim,spks,d),family = sm.families.Poisson())\n",
    "    return -model.loglike(np.concatenate((stim_filt,spk_filt,np.expand_dims(b,0))))/(spks.shape[-1]-d)"
   ]
  },
  {
   "cell_type": "code",
   "execution_count": 5,
   "metadata": {},
   "outputs": [],
   "source": [
    "d = 30\n",
    "conds = np.unique(stim,axis=1)  \n",
    "mod_stim = np.zeros((conds.shape[1],stim.shape[1]))\n",
    "for t in range(stim.shape[1]):\n",
    "    ind = np.argwhere(np.all(stim[:,t:t+1]-conds==0,axis=0))\n",
    "    mod_stim[ind,t] = 1"
   ]
  },
  {
   "cell_type": "code",
   "execution_count": null,
   "metadata": {},
   "outputs": [],
   "source": [
    "conds = np.unique(stim,axis=1)  \n",
    "mod_stim2 = np.zeros((2*conds.shape[1]-1,stim.shape[1]))\n",
    "ind_old = -1\n",
    "for t in range(stim.shape[1]):\n",
    "    if stim[0,t]>0:\n",
    "        ind = np.argwhere(np.all(stim[:,t:t+1]-conds==0,axis=0))\n",
    "        if ind!=ind_old:\n",
    "            t0=t\n",
    "            ind_old=ind\n",
    "        mod_stim2[(ind-1)*2,t] = np.cos(2.0*np.pi*stim[0,t]*(t-t0)*bin_len)\n",
    "        mod_stim2[(ind-1)*2+1,t] = np.sin(2.0*np.pi*stim[0,t]*(t-t0)*bin_len)\n",
    "    else:\n",
    "        mod_stim2[-1,t] = 1\n",
    "        ind_old = -1"
   ]
  },
  {
   "cell_type": "code",
   "execution_count": 40,
   "metadata": {},
   "outputs": [
    {
     "data": {
      "text/plain": [
       "(-0.5, 79999.5, 70.5, -0.5)"
      ]
     },
     "execution_count": 40,
     "metadata": {},
     "output_type": "execute_result"
    },
    {
     "data": {
      "image/png": "[encoded data removed]",
      "text/plain": [
       "<Figure size 432x288 with 1 Axes>"
      ]
     },
     "metadata": {},
     "output_type": "display_data"
    }
   ],
   "source": [
    "# print np.unique(mod_stim2)\n",
    "x = np.hstack((mod_stim[:,:64000],mod_stim[:,156000:224000],mod_stim[:,316000:]))\n",
    "# plt.imshow(x,cmap='Greys')\n",
    "plt.imshow(binned_spikes[:,:80000])\n",
    "plt.axis('tight')"
   ]
  },
  {
   "cell_type": "code",
   "execution_count": 31,
   "metadata": {},
   "outputs": [
    {
     "name": "stdout",
     "output_type": "stream",
     "text": [
      "[[0 1 2 3]\n",
      " [4 5 6 7]] [[0 4 1 5 2 6 3 7]]\n"
     ]
    }
   ],
   "source": [
    "A = np.arange(8).reshape(2,4)\n",
    "print A, A.T.reshape(1,-1)"
   ]
  },
  {
   "cell_type": "code",
   "execution_count": 10,
   "metadata": {},
   "outputs": [
    {
     "name": "stdout",
     "output_type": "stream",
     "text": [
      "0.39432315152449876 10782863278.08911 161428401141.26196\n"
     ]
    },
    {
     "data": {
      "image/png": "[encoded data removed]",
      "text/plain": [
       "<Figure size 432x288 with 1 Axes>"
      ]
     },
     "metadata": {},
     "output_type": "display_data"
    }
   ],
   "source": [
    "# stim_filt, spk_filt, b, stim_se, spk_se, bse = fit_GLM(mod_stim/np.sum(mod_stim,axis=1,keepdims=True),np.expand_dims(binned_spikes[-1,:],0),d)\n",
    "stim_filt, spk_filt, b, stim_se, spk_se, bse, nnll = fit_GLM(mod_stim[:,:5000],binned_spikes[ord_idxs[ord_types=='exc_VISp_5'],:5000],d)\n",
    "\n",
    "plt.errorbar(np.arange(d)*bin_len,spk_filt,yerr=spk_se)\n",
    "print nnll,b, bse"
   ]
  },
  {
   "cell_type": "code",
   "execution_count": 28,
   "metadata": {},
   "outputs": [
    {
     "name": "stdout",
     "output_type": "stream",
     "text": [
      "2.2693186106475842 0.07215660171059608\n"
     ]
    },
    {
     "data": {
      "text/plain": [
       "<matplotlib.colorbar.Colorbar at 0x7fa9974d0910>"
      ]
     },
     "execution_count": 28,
     "metadata": {},
     "output_type": "execute_result"
    },
    {
     "data": {
      "image/png": "[encoded data removed]",
      "text/plain": [
       "<Figure size 432x288 with 2 Axes>"
      ]
     },
     "metadata": {},
     "output_type": "display_data"
    }
   ],
   "source": [
    "print stim_filt[0], stim_se[0]\n",
    "plt.imshow(stim_filt[1:].reshape(5,8),cmap='PiYG',vmin=-2,vmax=2)\n",
    "# print stim_filt[-1], stim_se[-1]\n",
    "# plt.imshow(np.sqrt(np.square(stim_filt[0:-1:2])+np.square(stim_filt[1:-1:2])).reshape(5,8))\n",
    "plt.colorbar()\n",
    "\n",
    "# plt.errorbar(np.arange(stim_filt.size),stim_filt,yerr=stim_se)"
   ]
  },
  {
   "cell_type": "code",
   "execution_count": 26,
   "metadata": {},
   "outputs": [
    {
     "data": {
      "text/plain": [
       "<matplotlib.colorbar.Colorbar at 0x7fa9976aae50>"
      ]
     },
     "execution_count": 26,
     "metadata": {},
     "output_type": "execute_result"
    },
    {
     "data": {
      "image/png": "[encoded data removed]",
      "text/plain": [
       "<Figure size 432x288 with 2 Axes>"
      ]
     },
     "metadata": {},
     "output_type": "display_data"
    }
   ],
   "source": [
    "plt.imshow((stim_se[1:]/np.abs(stim_filt[1:])).reshape(5,8), vmin=0, vmax=2,cmap='PiYG')\n",
    "# plt.imshow(np.sqrt(np.square(stim_se[0:-1:2])+np.square(stim_se[1:-1:2])).reshape(5,8))\n",
    "plt.colorbar()"
   ]
  },
  {
   "cell_type": "code",
   "execution_count": null,
   "metadata": {},
   "outputs": [
    {
     "name": "stdout",
     "output_type": "stream",
     "text": [
      "19\n",
      "20\n",
      "21\n",
      "22\n",
      "23\n",
      "24\n"
     ]
    }
   ],
   "source": [
    "import gc\n",
    "split_ind = 280000#-5000\n",
    "# train_nnlls = []\n",
    "# val_nnlls = []\n",
    "for idx in ord_idxs[-30+19:]:\n",
    "    stim_filt, spk_filt, b, stim_se, spk_se, bse, train_nnll = fit_GLM(mod_stim[:,:split_ind]/100,np.expand_dims(binned_spikes[idx,:split_ind],0),d)\n",
    "    train_nnlls.append(train_nnll)\n",
    "    val_nnll = val_GLM(mod_stim[:,split_ind:]/100,np.expand_dims(binned_spikes[idx,split_ind:],0),d,stim_filt, spk_filt, b)\n",
    "    val_nnlls.append(val_nnll)\n",
    "    print len(val_nnlls)\n",
    "    gc.collect()\n",
    "    "
   ]
  },
  {
   "cell_type": "code",
   "execution_count": null,
   "metadata": {},
   "outputs": [],
   "source": [
    "lims = [0,1]\n",
    "plt.plot(val_nnlls,train_nnlls,'o')\n",
    "plt.plot(lims,lims)\n",
    "plt.axis('square')\n",
    "plt.xlim(lims)\n",
    "plt.ylim(lims)\n"
   ]
  },
  {
   "cell_type": "code",
   "execution_count": null,
   "metadata": {},
   "outputs": [],
   "source": [
    "np.savez('drifting_gratings_indivfit1',train_nnlls = np.array(train_nnlls), val_nnlls = np.array(val_nnlls))"
   ]
  },
  {
   "cell_type": "code",
   "execution_count": null,
   "metadata": {},
   "outputs": [],
   "source": []
  }
 ],
 "metadata": {
  "kernelspec": {
   "display_name": "conda_tensorflow_p27",
   "language": "python",
   "name": "conda_tensorflow_p27"
  },
  "language_info": {
   "codemirror_mode": {
    "name": "ipython",
    "version": 2
   },
   "file_extension": ".py",
   "mimetype": "text/x-python",
   "name": "python",
   "nbconvert_exporter": "python",
   "pygments_lexer": "ipython2",
   "version": "2.7.15"
  }
 },
 "nbformat": 4,
 "nbformat_minor": 2
}
