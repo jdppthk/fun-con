{
 "cells": [
  {
   "cell_type": "code",
   "execution_count": 1,
   "metadata": {},
   "outputs": [],
   "source": [
    "import numpy as np\n",
    "import pandas as pd\n",
    "import os\n",
    "import matplotlib.pyplot as plt\n",
    "%matplotlib inline"
   ]
  },
  {
   "cell_type": "code",
   "execution_count": 2,
   "metadata": {},
   "outputs": [],
   "source": [
    "from GLM_helpers import *\n",
    "from swdb_2018_neuropixels.ephys_nwb_adapter import NWB_adapter    "
   ]
  },
  {
   "cell_type": "code",
   "execution_count": 3,
   "metadata": {},
   "outputs": [],
   "source": [
    "drive_path = '/data/dynamic-brain-workshop/visual_coding_neuropixels'"
   ]
  },
  {
   "cell_type": "code",
   "execution_count": 4,
   "metadata": {},
   "outputs": [],
   "source": [
    "manifest_file = os.path.join(drive_path,'ephys_manifest.csv')\n",
    "expt_info_df = pd.read_csv(manifest_file)\n",
    "multi_probe_expt_info = expt_info_df[expt_info_df.experiment_type == 'multi_probe']\n",
    "multi_probe_example = 1 # index to row in multi_probe_expt_info\n",
    "multi_probe_filename  = multi_probe_expt_info.iloc[multi_probe_example]['nwb_filename']\n",
    "nwb_file = os.path.join(drive_path,multi_probe_filename)\n",
    "data_set = NWB_adapter(nwb_file)\n"
   ]
  },
  {
   "cell_type": "code",
   "execution_count": 34,
   "metadata": {},
   "outputs": [],
   "source": [
    "(binned_spikes, cell_table) = bin_spikes(data_set,0.1,0.4,1.4,regions=['VISp'])\n"
   ]
  },
  {
   "cell_type": "code",
   "execution_count": 35,
   "metadata": {},
   "outputs": [
    {
     "data": {
      "text/plain": [
       "<matplotlib.image.AxesImage at 0x7f457b87b550>"
      ]
     },
     "execution_count": 35,
     "metadata": {},
     "output_type": "execute_result"
    },
    {
     "data": {
      "image/png": "[encoded data removed]",
      "text/plain": [
       "<Figure size 432x432 with 1 Axes>"
      ]
     },
     "metadata": {},
     "output_type": "display_data"
    }
   ],
   "source": [
    "plt.subplots(1,1,figsize=(6,6))\n",
    "plt.imshow(binned_spikes[15:25,:],aspect=0.1)"
   ]
  },
  {
   "cell_type": "code",
   "execution_count": 30,
   "metadata": {},
   "outputs": [],
   "source": [
    "# Inputs:\n",
    "# data_set: EphysObservatory data_set structure\n",
    "# bin_len: duration of a bin in seconds\n",
    "# t_start: time to start counting spikes\n",
    "# t_final: time to stop counting spikes\n",
    "# probes: list of strings of probe names to be used (default is all probes)\n",
    "# regions: list of strings of brain regions to be used (default is all regions)\n",
    "def bin_spikes(data_set,bin_len,t_start,t_final,probes=None,regions=None):\n",
    "    if probes is None:\n",
    "        probes = data_set.probe_list\n",
    "    if regions is None:\n",
    "        regions = data_set.unit_df.structure.unique()\n",
    "    \n",
    "    #gather cells from desired regions and probes into cell_table\n",
    "    use_cells = False\n",
    "    for probe in probes:\n",
    "        for region in regions:\n",
    "            use_cells |= (data_set.unit_df.probe==probe) & (data_set.unit_df.structure==region)\n",
    "    cell_table = data_set.unit_df[use_cells]\n",
    "    \n",
    "    N = len(cell_table)     #number of cells\n",
    "    T = int(np.floor((t_final-t_start)/bin_len)) #number of time bins\n",
    "    binned_spikes = np.zeros((N,T)) # binned_spikes[i,j] is the number of spikes from neuron i in time bin j\n",
    "\n",
    "    #for each cell in the table, add each spike to the appropriate bin\n",
    "    i = 0\n",
    "    for z,cell in cell_table.iterrows(): \n",
    "        for spike_time in data_set.spike_times[cell['probe']][cell['unit_id']]:\n",
    "            t = int(np.floor((spike_time-t_start)/bin_len))\n",
    "            if (t >=0) & (t<T):\n",
    "                binned_spikes[i,t] += 1\n",
    "        i+=1    \n",
    "    return (binned_spikes, cell_table)\n",
    "\n",
    "# Inputs\n",
    "# flat_stimulus: M x T matrix of stimuli\n",
    "# binned_spikes: N x T matrix of spike counts\n",
    "# i: index of the neuron we're constructing the matrix for\n",
    "# d_stim: duration of stimulus filter (# time bins)\n",
    "# d_spk: duration of spike filters (# time bins)\n",
    "def construct_GLM_mat(flat_stimulus, binned_spikes, i, d_stim, d_spk):\n",
    "    (N,T) = binned_spikes.shape # N is number of neurons, T is number of time bins\n",
    "    (M,T) = flat_stimulus.shape # M is the size of a stimulus\n",
    "    X_dsn = np.empty((T-d_stim+1,M*d_stim+N*d_spk))\n",
    "    d_max = max(d_stim,d_spk)\n",
    "    y = np.empty((T-d_max+1,))\n",
    "    for t in range(T-d_max+1):\n",
    "        y[t] = binned_spikes[i,t+d_max-1]\n",
    "        X_dsn[t,:M*d_stim] = flat_stimulus[:,t+d_max-d_stim:t+d_max].reshape((1,-1))\n",
    "        X_dsn[t,M*d_stim:] = binned_spikes[:,t+d_max-d_spk:t+d_max].reshape((1,-1))\n",
    "    return (y, X_dsn)   "
   ]
  },
  {
   "cell_type": "code",
   "execution_count": 39,
   "metadata": {},
   "outputs": [
    {
     "name": "stdout",
     "output_type": "stream",
     "text": [
      "[ 0.  0.  0.  0.  0.  5.  3.  0.  0.] [ 0.  0.  5.  3.  0.  0.]\n"
     ]
    },
    {
     "data": {
      "text/plain": [
       "<matplotlib.image.AxesImage at 0x7f457b6d6fd0>"
      ]
     },
     "execution_count": 39,
     "metadata": {},
     "output_type": "execute_result"
    },
    {
     "data": {
      "image/png": "[encoded data removed]",
      "text/plain": [
       "<Figure size 432x288 with 1 Axes>"
      ]
     },
     "metadata": {},
     "output_type": "display_data"
    }
   ],
   "source": [
    "fake_im = np.random.normal(size = (200,binned_spikes.shape[1]))\n",
    "(y, X_dsn) = construct_GLM_mat(fake_im, binned_spikes, 19, 4, 4)\n",
    "print binned_spikes[19,:], y\n",
    "plt.imshow(X_dsn,aspect=100)"
   ]
  },
  {
   "cell_type": "code",
   "execution_count": null,
   "metadata": {},
   "outputs": [],
   "source": []
  }
 ],
 "metadata": {
  "kernelspec": {
   "display_name": "conda_python2",
   "language": "python",
   "name": "conda_python2"
  },
  "language_info": {
   "codemirror_mode": {
    "name": "ipython",
    "version": 2
   },
   "file_extension": ".py",
   "mimetype": "text/x-python",
   "name": "python",
   "nbconvert_exporter": "python",
   "pygments_lexer": "ipython2",
   "version": "2.7.14"
  }
 },
 "nbformat": 4,
 "nbformat_minor": 2
}
