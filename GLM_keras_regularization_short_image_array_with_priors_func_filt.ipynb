{
 "cells": [
  {
   "cell_type": "code",
   "execution_count": 1,
   "metadata": {},
   "outputs": [],
   "source": [
    "import numpy as np\n",
    "import pandas as pd\n",
    "import os\n",
    "import matplotlib.pyplot as plt\n",
    "%matplotlib inline"
   ]
  },
  {
   "cell_type": "code",
   "execution_count": 2,
   "metadata": {},
   "outputs": [],
   "source": [
    "from swdb_2018_neuropixels.ephys_nwb_adapter import NWB_adapter    "
   ]
  },
  {
   "cell_type": "code",
   "execution_count": 3,
   "metadata": {},
   "outputs": [],
   "source": [
    "drive_path = '/data/dynamic-brain-workshop/visual_coding_neuropixels'"
   ]
  },
  {
   "cell_type": "code",
   "execution_count": 4,
   "metadata": {},
   "outputs": [],
   "source": [
    "manifest_file = os.path.join(drive_path,'ephys_manifest.csv')\n",
    "expt_info_df = pd.read_csv(manifest_file)\n",
    "multi_probe_expt_info = expt_info_df[expt_info_df.experiment_type == 'multi_probe']\n",
    "multi_probe_example = 1 # index to row in multi_probe_expt_info\n",
    "multi_probe_filename  = multi_probe_expt_info.iloc[multi_probe_example]['nwb_filename']\n",
    "nwb_file = os.path.join(drive_path,multi_probe_filename)\n",
    "data_set = NWB_adapter(nwb_file)"
   ]
  },
  {
   "cell_type": "code",
   "execution_count": null,
   "metadata": {},
   "outputs": [
    {
     "name": "stdout",
     "output_type": "stream",
     "text": [
      "ephys_single_14.nwb\n",
      "{'V1': 66}\n",
      "ephys_single_15.nwb\n",
      "{'V1': 49}\n",
      "ephys_single_16.nwb\n",
      "{'V1': 69}\n",
      "ephys_single_39.nwb\n",
      "{'V1': 47}\n",
      "ephys_single_51.nwb\n",
      "{'V1': 47}\n",
      "ephys_multi_84.nwb\n",
      "{'probeD': 91, 'probeE': 169, 'probeF': 123, 'probeA': 39, 'probeB': 218, 'probeC': 99}\n",
      "ephys_multi_58.nwb\n",
      "{'probeD': 181, 'probeE': 194, 'probeF': 56, 'probeA': 178, 'probeB': 286, 'probeC': 307}\n",
      "ephys_multi_10.nwb\n"
     ]
    }
   ],
   "source": [
    "# load all dataset objects\n",
    "data_set_all=[]\n",
    "for i in range(len(expt_info_df)): # index to row in multi_probe_expt_info\n",
    "    expt_filename  = expt_info_df.iloc[i]['nwb_filename']\n",
    "    # iloc allows you to access particular rows of dataset\n",
    "    print expt_filename\n",
    "\n",
    "    # Specify full path to the .nwb file\n",
    "    nwb_file = os.path.join(drive_path, expt_filename)\n",
    "\n",
    "    data_set_all.append(NWB_adapter(nwb_file)) # this linetakes a while\n",
    "    \n",
    "    print(data_set_all[i].number_cells)  #\"tab completion\"\n",
    "\n",
    "\n",
    "# aggregate all unit dataframe \n",
    "for i in range(len(expt_info_df)): # index to row in multi_probe_expt_info\n",
    "    unit_df_subset=data_set_all[i].unit_df.copy()\n",
    "    pds0=pd.Series([i] * unit_df_subset.shape[0])\n",
    "    unit_df_subset=unit_df_subset.assign(data_set_ind = pds0.values)\n",
    "    pds1=pd.Series([expt_info_df.iloc[i]['nwb_filename']] * unit_df_subset.shape[0])\n",
    "    unit_df_subset=unit_df_subset.assign(nwb_filename = pds1.values)\n",
    "    if i==0:\n",
    "        unit_df_all=unit_df_subset\n",
    "    else:\n",
    "        unit_df_all=unit_df_all.append(unit_df_subset)\n",
    "\n",
    "if 'index' not in unit_df_all.keys():\n",
    "    unit_df_all=unit_df_all.reset_index() #(drop=True)\n",
    "\n",
    "\n",
    "# aggregate all spike waveforms \n",
    "spike_waveforms_all=[] # empty list\n",
    "for i in range(len(expt_info_df)): \n",
    "    spike_waveforms_all.append( data_set_all[i].get_waveforms() )\n",
    "\n",
    "spikewf_all=np.zeros([unit_df_all.shape[0], 82])\n",
    "spikewftrough_all=np.zeros([unit_df_all.shape[0], 1])   \n",
    "spikewfpeak_all=np.zeros([unit_df_all.shape[0], 1])   \n",
    "for i in range(unit_df_all.shape[0]):\n",
    "    whichdataset = unit_df_all['data_set_ind'][i]\n",
    "    whichprobe = unit_df_all['probe'][i]\n",
    "    whichunit = unit_df_all['unit_id'][i]\n",
    "    \n",
    "    if whichprobe == 'V1':\n",
    "        spikewf_all[i,:]=np.nan\n",
    "        spikewftrough_all[i]=np.nan\n",
    "        spikewfpeak_all[i]=np.nan       \n",
    "    else:\n",
    "        spikewf_all[i,:]=spike_waveforms_all[whichdataset][whichprobe][whichunit]\n",
    "        spikewftrough_all[i]=spike_waveforms_all[whichdataset][whichprobe][whichunit].argmin()\n",
    "        spikewfpeak_all[i]=spike_waveforms_all[whichdataset][whichprobe][whichunit].argmax()\n",
    "\n",
    "\n",
    "if 'RSFS' not in unit_df_all.keys():\n",
    "    spikewfp2t=(spikewfpeak_all-spikewftrough_all)/30.\n",
    "    rsfs=np.array(['SU']*unit_df_all.shape[0])\n",
    "    rsinds,_=np.where(spikewfp2t>0.4)\n",
    "    rsfs[rsinds]='RS'\n",
    "    fsinds,_=np.where(spikewfp2t<=0.4)\n",
    "    rsfs[fsinds]='FS'\n",
    "    srsfs=pd.Series(rsfs)\n",
    "    unit_df_all=unit_df_all.assign(RSFS = srsfs.values)\n",
    "    print(unit_df_all.keys())\n",
    "\n",
    "\n",
    "# aggregate all spike time in the same order as unit_df_all\n",
    "spike_times_all=[] # empty list\n",
    "for i in range(unit_df_all.shape[0]):\n",
    "    whichdataset = unit_df_all['data_set_ind'][i]\n",
    "    whichprobe = unit_df_all['probe'][i]\n",
    "    whichunit = unit_df_all['unit_id'][i]\n",
    "    spike_times_all.append(data_set_all[whichdataset].spike_times[whichprobe][whichunit])\n"
   ]
  },
  {
   "cell_type": "code",
   "execution_count": null,
   "metadata": {},
   "outputs": [],
   "source": [
    "nwb_file = 'ephys_multi_58.nwb'\n",
    "unit_df = unit_df_all[unit_df_all.nwb_filename==nwb_file]\n",
    "data_set.unit_df = unit_df"
   ]
  },
  {
   "cell_type": "code",
   "execution_count": null,
   "metadata": {},
   "outputs": [],
   "source": [
    "from downsampling_module import downsample_images"
   ]
  },
  {
   "cell_type": "code",
   "execution_count": null,
   "metadata": {},
   "outputs": [],
   "source": [
    "nat_scenes = np.load('natural_scenes.npy')"
   ]
  },
  {
   "cell_type": "code",
   "execution_count": null,
   "metadata": {},
   "outputs": [],
   "source": [
    "ds_nat_scenes = np.array(downsample_images(nat_scenes, 25, 25))\n",
    "ds_nat_scenes = ds_nat_scenes*(1.0/255.0)"
   ]
  },
  {
   "cell_type": "code",
   "execution_count": null,
   "metadata": {},
   "outputs": [],
   "source": [
    "print(ds_nat_scenes.shape)\n",
    "plt.imshow(ds_nat_scenes[7], cmap='gray')\n",
    "plt.colorbar()"
   ]
  },
  {
   "cell_type": "code",
   "execution_count": null,
   "metadata": {},
   "outputs": [],
   "source": [
    "from downsampling_module import flatten_images"
   ]
  },
  {
   "cell_type": "code",
   "execution_count": null,
   "metadata": {},
   "outputs": [],
   "source": [
    "flattened_image_list = flatten_images(np.array(ds_nat_scenes))"
   ]
  },
  {
   "cell_type": "code",
   "execution_count": null,
   "metadata": {},
   "outputs": [],
   "source": [
    "plt.imshow(flattened_image_list[7].reshape(36,46), cmap='gray')"
   ]
  },
  {
   "cell_type": "code",
   "execution_count": null,
   "metadata": {},
   "outputs": [],
   "source": [
    "stim_table = data_set.get_stimulus_table('natural_scenes')"
   ]
  },
  {
   "cell_type": "code",
   "execution_count": null,
   "metadata": {},
   "outputs": [],
   "source": [
    "def get_frame_at_time(time, stim_table):\n",
    "    starts = stim_table.start.values\n",
    "    idx = np.searchsorted(starts, time)-1\n",
    "    return(stim_table.iloc[idx].values[2])"
   ]
  },
  {
   "cell_type": "code",
   "execution_count": null,
   "metadata": {},
   "outputs": [],
   "source": [
    "def get_stim_time_array(stim_table, tns_start, tns_end, bin_len, flattened_image_list):\n",
    "    T = int(np.floor((tns_end - tns_start)/bin_len))\n",
    "    time_array = np.linspace(tns_start,tns_end,T)\n",
    "    stim_array = []\n",
    "    for idx, time_point in enumerate(time_array):\n",
    "        stim_index = get_frame_at_time(time_point, stim_table)\n",
    "        stim_array.append(flattened_image_list[int(stim_index)])\n",
    "    return(stim_array, time_array)\n",
    "\n",
    "# def get_stim_time_arrays_imgs(stim_table, bin_len, flattened_image_list, imgs, nums):\n",
    "#     time_arrays = []\n",
    "#     stim_arrays = []\n",
    "#     for num in nums:\n",
    "#         stim_array = []\n",
    "#         for img in imgs:\n",
    "#             for i in range(num):   \n",
    "    "
   ]
  },
  {
   "cell_type": "code",
   "execution_count": null,
   "metadata": {},
   "outputs": [],
   "source": [
    "print np.unique(stim_table.frame.values[:200]).shape\n",
    "a = plt.hist(stim_table.frame.values[:200],bins=118)"
   ]
  },
  {
   "cell_type": "code",
   "execution_count": null,
   "metadata": {},
   "outputs": [],
   "source": [
    "bin_len = 0.001\n",
    "num_stim_rows = 100\n",
    "imgs = np.unique(stim_table.frame.values[:num_stim_rows])\n",
    "print len(imgs)\n",
    "tns_start = stim_table.iloc[0].values[0]\n",
    "tns_end = stim_table.iloc[num_stim_rows].values[1]\n",
    "print(tns_start)\n",
    "print(tns_end)"
   ]
  },
  {
   "cell_type": "code",
   "execution_count": null,
   "metadata": {},
   "outputs": [],
   "source": [
    "[stim_array, time_array] = get_stim_time_array(stim_table,tns_start,tns_end,bin_len,flattened_image_list)\n",
    "print(tns_start)\n",
    "print(tns_end)"
   ]
  },
  {
   "cell_type": "code",
   "execution_count": null,
   "metadata": {},
   "outputs": [],
   "source": [
    "print(np.shape(stim_array))\n",
    "\n",
    "print(np.shape(time_array))\n"
   ]
  },
  {
   "cell_type": "code",
   "execution_count": null,
   "metadata": {},
   "outputs": [],
   "source": [
    "# print(time_array.shape)\n",
    "# print(np.array(stim_array).shape)\n",
    "\n",
    "# time_array_short = time_array[0:len(time_array)/4]\n",
    "# stim_array_short = stim_array[:,:len(time_array)/4]\n",
    "# print(time_array_short.shape)\n",
    "# print(np.array(stim_array_short).shape)\n",
    "\n",
    "tns_start = time_array[0]\n",
    "tns_end = time_array[-1]\n",
    "print(tns_start)\n",
    "print(tns_end)\n",
    "\n",
    "print(time_array.shape)\n"
   ]
  },
  {
   "cell_type": "code",
   "execution_count": null,
   "metadata": {},
   "outputs": [],
   "source": [
    "def bin_spikes(data_set,bin_len,t_start,t_final,probes=None,regions=None):\n",
    "    if probes is None:\n",
    "        probes = data_set.probe_list\n",
    "    if regions is None:\n",
    "        regions = data_set.unit_df.structure.unique()\n",
    "    \n",
    "    #gather cells from desired regions and probes into cell_table\n",
    "    use_cells = False\n",
    "    for probe in probes:\n",
    "        for region in regions:\n",
    "            use_cells |= (data_set.unit_df.probe==probe) & (data_set.unit_df.structure==region)\n",
    "    cell_table = data_set.unit_df[use_cells]\n",
    "    \n",
    "    N = len(cell_table)     #number of cells\n",
    "    T = int(np.floor((t_final-t_start)/bin_len)) #number of time bins\n",
    "    binned_spikes = np.zeros((N,T)) # binned_spikes[i,j] is the number of spikes from neuron i in time bin j\n",
    "\n",
    "    #for each cell in the table, add each spike to the appropriate bin\n",
    "    i = 0\n",
    "    for z,cell in cell_table.iterrows(): \n",
    "        for spike_time in data_set.spike_times[cell['probe']][cell['unit_id']]:\n",
    "            t = int(np.floor((spike_time-t_start)/bin_len))\n",
    "            if (t >=0) & (t<T):\n",
    "                binned_spikes[i,t] += 1\n",
    "        i+=1    \n",
    "    return (binned_spikes, cell_table)"
   ]
  },
  {
   "cell_type": "code",
   "execution_count": null,
   "metadata": {},
   "outputs": [],
   "source": [
    "(binned_spikes, cell_table) = bin_spikes(data_set,bin_len,tns_start,tns_end,regions=['VISp'])"
   ]
  },
  {
   "cell_type": "code",
   "execution_count": null,
   "metadata": {},
   "outputs": [],
   "source": [
    "k = 2\n",
    "cell_idxs = np.argsort(binned_spikes.sum(axis=1))\n",
    "reduced_binned_spikes = binned_spikes[cell_idxs[-k:],:]\n",
    "plt.plot(binned_spikes.sum(axis=1)[cell_idxs])"
   ]
  },
  {
   "cell_type": "code",
   "execution_count": null,
   "metadata": {},
   "outputs": [],
   "source": [
    "reduced_binned_spikes.shape"
   ]
  },
  {
   "cell_type": "code",
   "execution_count": null,
   "metadata": {},
   "outputs": [],
   "source": [
    "cell_types = []\n",
    "sign_map = {'FS':'exc', 'RS':'inh'}\n",
    "for c_idx in cell_idxs[-k:]:\n",
    "    c_type = ''\n",
    "    c_type += sign_map[cell_table.RSFS.values[c_idx]] + '_'\n",
    "    c_type += cell_table.structure.values[c_idx] + '_'\n",
    "    if str.startswith(cell_table.structure.values[c_idx],'VIS'):\n",
    "        if cell_table.depth.values[c_idx] > -920:\n",
    "            c_type += '1'\n",
    "        elif cell_table.depth.values[c_idx] > -960:\n",
    "            c_type += '4'\n",
    "        else:\n",
    "            c_type += '5'\n",
    "    cell_types.append(c_type)\n",
    "print len(cell_types), np.unique(cell_types)"
   ]
  },
  {
   "cell_type": "code",
   "execution_count": 71,
   "metadata": {},
   "outputs": [],
   "source": [
    "priors = {}\n",
    "ncomp=1\n",
    "for c_type in np.unique(cell_types):\n",
    "    priors[c_type] = np.load(c_type+'ftempgaus_'+str(ncomp)+'comp.npz')"
   ]
  },
  {
   "cell_type": "code",
   "execution_count": 72,
   "metadata": {},
   "outputs": [],
   "source": [
    "import keras\n",
    "from keras import backend as K\n",
    "from keras.models import Model\n",
    "from keras.layers import Input\n",
    "from keras import Sequential\n",
    "from keras.layers import Dense, Lambda\n",
    "from keras.regularizers import Regularizer\n",
    "from keras.callbacks import ModelCheckpoint\n",
    "from keras.regularizers import Regularizer\n",
    "\n",
    "\n",
    "\n",
    "class GroupAndPriors(Regularizer):\n",
    "    \"\"\"Regularizer for group lasso regularization.\n",
    "    # Arguments\n",
    "       l1: Float; L1 regularization factor.\n",
    "       l2: Float; L2 group regularization factor.\n",
    "   \"\"\"\n",
    "\n",
    "    def __init__(self, size_stim, size_filt, prior = None, i=None, lprior = 0, lgroup = 0, ftemps = True):\n",
    "        self.lgroup = K.cast_to_floatx(lgroup)\n",
    "        self.ftemps = ftemps\n",
    "        if prior is not None:\n",
    "            self.lprior = K.cast_to_floatx(lprior)\n",
    "            self.i = i\n",
    "            if not ftemps:\n",
    "                self.W_means = prior['W_means']\n",
    "                self.W_vars = prior['W_vars']\n",
    "                self.W_weights = prior['W_weights']\n",
    "                self.lsmooth = K.cast_to_floatx(1.0*lprior) #fudge factor here to account for relationship between priors\n",
    "            else:\n",
    "                self.W_means = prior['W_means']\n",
    "                self.W_cov = prior['W_cov']\n",
    "        else:\n",
    "            self.lprior = 0\n",
    "            self.lsmooth = 0\n",
    "            \n",
    "        self.size_filt = size_filt\n",
    "        self.size_stim = size_stim\n",
    "\n",
    "    def __call__(self, x): \n",
    "        xr = K.reshape(x[self.size_stim:], (-1, self.size_filt))\n",
    "        pen = 0.\n",
    "        if self.lgroup > 0:\n",
    "            pen += self.lgroup * np.sqrt(K.int_shape(xr)[1])*K.sum(K.sqrt(K.sum(K.square(xr),axis=1)))\n",
    "        if not self.ftemps:\n",
    "            if self.lprior > 0:\n",
    "                pen += self.lprior * K.sum(-K.log(K.epsilon()+K.sum(self.W_weights*K.exp(-0.5*K.square(K.repeat_elements(K.expand_dims(xr[self.i,:],axis=0),self.W_means.shape[0],0)-self.W_means)/self.W_vars),axis=0)))\n",
    "            if self.lsmooth > 0:\n",
    "                pen += self.lsmooth * K.sum(K.square(xr[self.i,:-1]-xr[self.i,1:]))\n",
    "        else:\n",
    "            if self.lprior > 0:\n",
    "                pen += self.lprior * (xr[self.i,:]-self.W_means).dot(self.W_cov).dot((xr[self.i,:]-self.W_means).T)\n",
    "        return pen\n",
    "    \n",
    "class BiasPrior(Regularizer):\n",
    "    \"\"\"Regularizer for group lasso regularization.\n",
    "    # Arguments\n",
    "       l1: Float; L1 regularization factor.\n",
    "       l2: Float; L2 group regularization factor.\n",
    "   \"\"\"\n",
    "\n",
    "    def __init__(self, prior = None, lprior = 0):\n",
    "        if prior is not None:\n",
    "            self.lprior = K.cast_to_floatx(lprior)\n",
    "            self.b_mean = prior['b_mean']\n",
    "            self.b_std = prior['b_std']            \n",
    "        else:\n",
    "            self.lprior = 0\n",
    "\n",
    "\n",
    "    def __call__(self, x): \n",
    "        return self.lprior * K.square((x-self.b_mean)/self.b_std)\n",
    "\n"
   ]
  },
  {
   "cell_type": "code",
   "execution_count": 80,
   "metadata": {},
   "outputs": [],
   "source": [
    "# def construct_GLM_mat(flat_stimulus, binned_spikes, d_stim, d_spk):\n",
    "#     (N,T) = binned_spikes.shape # N is number of neurons, T is number of time bins\n",
    "#     (M,T) = flat_stimulus.shape # M is the size of a stimulus\n",
    "# #     print(\"N,T\", (N,T))\n",
    "# #     print(\"M,T\", (M,T))\n",
    "#     X_dsn = np.empty((T-d_stim,M*d_stim+N*d_spk))\n",
    "#     d_max = max(d_stim,d_spk)\n",
    "#     for t in range(T-d_max):\n",
    "#         X_dsn[t,:M*d_stim] = np.fliplr(flat_stimulus[:,t+d_max-d_stim:t+d_max]).reshape((1,-1))  #stimulus inputs\n",
    "#         X_dsn[t,M*d_stim:] = np.fliplr(binned_spikes[:,t+d_max-d_spk:t+d_max]).reshape((1,-1)) #spike inputs\n",
    "#     return X_dsn    \n",
    "d=40\n",
    "def construct_GLM_mat(flat_stimulus, binned_spikes, d, spk_filts=None):\n",
    "    (N,T) = binned_spikes.shape # N is number of neurons, T is number of time bins\n",
    "    (M,T) = flat_stimulus.shape # M is the size of a stimulus\n",
    "#     print(\"N,T\", (N,T))\n",
    "#     print(\"M,T\", (M,T))\n",
    "    if spk_filts is not None:\n",
    "        X_dsn = np.empty((T-d,M*d+N*spk_filts.shape[1]))\n",
    "    else:\n",
    "        X_dsn = np.empty((T-d,M*d+N*d))\n",
    "    for t in range(T-d):\n",
    "        X_dsn[t,:M*d] = np.fliplr(flat_stimulus[:,t:t+d]).reshape((1,-1))  #stimulus inputs\n",
    "    if spk_filts is not None:\n",
    "        for i in range(N):\n",
    "            for j in range(spk_filts.shape[1]):\n",
    "                X_dsn[:,M*d+i*spk_filts.shape[1]+j] = np.convolve(binned_spikes[i,:],spk_filts[:,j],mode='valid')[:T-d]\n",
    "    else:\n",
    "        for t in range(T-d):\n",
    "            X_dsn[t,M*d:] = np.fliplr(binned_spikes[:,t:t+d]).reshape((1,-1)) #spike inputs\n",
    "    return X_dsn    \n"
   ]
  },
  {
   "cell_type": "code",
   "execution_count": 82,
   "metadata": {},
   "outputs": [],
   "source": [
    "# tells keras not to use the GPU\n",
    "import os\n",
    "os.environ[\"CUDA_DEVICE_ORDER\"] = \"PCI_BUS_ID\"   # see issue #152\n",
    "os.environ[\"CUDA_VISIBLE_DEVICES\"] = \"\"\n",
    "\n",
    "from keras.callbacks import LearningRateScheduler\n",
    "from scipy.special import gamma\n",
    "\n",
    "def exp_decay(t):\n",
    "    initial_lrate = 1e-4\n",
    "    k = 0.9\n",
    "    lrate = initial_lrate * k**t\n",
    "    return lrate\n",
    "\n",
    "def filt_func(t,a,b):\n",
    "    return t**(a-1)*np.exp(-b*t)*b**a/gamma(a)\n",
    "\n",
    "def make_filts(num_filts=15,f_mean_range=(1e-3,0.04),f_var_range=(1e-6,6e-5),dt=1e-3,d=d):\n",
    "    f_means = np.logspace(np.log10(f_mean_range[0]),np.log10(f_mean_range[1]),num=num_filts)\n",
    "    f_vars = np.logspace(np.log10(f_var_range[0]),np.log10(f_var_range[1]),num=num_filts)\n",
    "#    print f_means, f_vars\n",
    "    f_bs = f_means/f_vars\n",
    "    f_as = f_means*f_bs\n",
    "    t = np.arange(1,d+1)*dt\n",
    "    filts = np.empty((d,num_filts))\n",
    "    for i in range(num_filts):\n",
    "        filts[:,i] = filt_func(t,f_as[i],f_bs[i])\n",
    "        filts[:,i] /= sum(filts[:,i])\n",
    "#    print np.sum(filts*np.tile(t,(num_filts,1)).T,axis=0)\n",
    "    return filts\n",
    "    \n",
    "# Inputs:\n",
    "# stimulus: video shown to the mouse in some form (M pixels x T time points)\n",
    "# spikes: spikes recorded from each neuron in some form (N neurons x T time points)\n",
    "# d: length of filters in samples\n",
    "# f: string for the firing rate function used. options are {'exp'}\n",
    "# priors: a dictionary of dictionaries, mapping a cell type (string of form '<inh or exc>_<region>_<layer>') to a prior (dictionary with keys 'W_means', 'W_vars', 'W_weights' corresponding to GMM parameters)\n",
    "# cell_types: a list of the cell types for each cell (string of form  '<inh or exc>_<region>_<layer>')\n",
    "\n",
    "def GLM_network_fit(stimulus,spikes,d,bin_len,f='exp',priors=None,cell_types=None,dt=1e-3,filts=None):\n",
    "    Xdsn = construct_GLM_mat(stimulus,spikes, d, spk_filts=filts)\n",
    "    \n",
    "    N = spikes.shape[0]\n",
    "#     print(\"N\", N)\n",
    "    M = stimulus.shape[0]\n",
    "#     print(\"M\", M)\n",
    "    F = np.empty((N,M,d)) # stimulus filters\n",
    "    if filts is not None:\n",
    "        W = np.empty((N,N,filts.shape[1]))  # spike train filters\n",
    "    else:\n",
    "        W = np.empty((N,N,d))  # spike train filters\n",
    "    b = np.empty((N,)) # biases\n",
    "    losses = np.empty((N,))\n",
    "    models = []\n",
    "    fs = {'exp':K.exp}\n",
    "    \n",
    "    for i in range(N):\n",
    "        y = spikes[i,d:]\n",
    "        # construct GLM model and return fit\n",
    "        model = Sequential()\n",
    "        if priors is not None:\n",
    "            model.add(Dense(1,input_dim = Xdsn.shape[1],use_bias=True,\n",
    "                            kernel_regularizer=GroupAndPriors(M*d,filts.shape[1],lgroup=0,lprior = 1e-5,prior=priors[cell_types[i]],i=i),\n",
    "                            kernel_initializer=keras.initializers.RandomUniform(minval=priors[cell_types[i]]['W_means']-2*np.sqrt(np.diagonal(priors[cell_types[i]]['W_cov'])),maxval=riors[cell_types[i]]['W_means']+2*np.sqrt(np.diagonal(priors[cell_types[i]]['W_cov']))),\n",
    "                            bias_regularizer=BiasPrior(prior=priors[cell_types[i]],lprior=1e-5),\n",
    "                            bias_initializer=keras.initializers.RandomNormal(mean=priors[cell_types[i]]['b_mean'],stddev=priors[cell_types[i]]['b_std'])\n",
    "                           ))\n",
    "        else:\n",
    "            model.add(Dense(1,input_dim = Xdsn.shape[1],use_bias=True))\n",
    "        model.add(Lambda(lambda x: fs[f](x)*bin_len))\n",
    "        model.compile(loss = 'poisson',optimizer = keras.optimizers.adam(lr=1e-4))\n",
    "#        checkpointer = ModelCheckpoint(filepath='weights.hdf5', verbose=1, save_best_only=False)\n",
    "        model.fit(x=Xdsn,y=y,batch_size=5000,epochs=8,verbose=2,callbacks=[LearningRateScheduler(exp_decay)])\n",
    "        p = model.get_weights()[0]\n",
    "        F[i,:,:] = p[:M*d].reshape((M,d))\n",
    "        if filts is not None == 0:\n",
    "            W[i,:,:] = p[M*d:].reshape((N,d))\n",
    "        else:\n",
    "            W[i,:,:] = p[M*d:].reshape((N,filts.shape[1]))\n",
    "        b[i] = model.get_weights()[1]\n",
    "#         losses[i] = model.evaluate(x=Xdsn,y=y,verbose=0)\n",
    "        models.append(model)\n",
    "    return (F,W,b,losses,models)\n"
   ]
  },
  {
   "cell_type": "code",
   "execution_count": 83,
   "metadata": {},
   "outputs": [
    {
     "name": "stdout",
     "output_type": "stream",
     "text": [
      "Epoch 1/8\n",
      " - 16s - loss: 0.1833\n",
      "Epoch 2/8\n",
      " - 16s - loss: 0.2026\n",
      "Epoch 3/8\n",
      " - 16s - loss: 0.1442\n",
      "Epoch 4/8\n",
      " - 16s - loss: 0.1288\n",
      "Epoch 5/8\n",
      " - 16s - loss: 0.1252\n",
      "Epoch 6/8\n",
      " - 16s - loss: 0.1230\n",
      "Epoch 7/8\n",
      " - 16s - loss: 0.1215\n",
      "Epoch 8/8\n",
      " - 16s - loss: 0.1200\n",
      "Epoch 1/8\n",
      " - 16s - loss: 0.1903\n",
      "Epoch 2/8\n",
      " - 16s - loss: 0.1628\n",
      "Epoch 3/8\n",
      " - 16s - loss: 0.1648\n",
      "Epoch 4/8\n",
      " - 16s - loss: 0.1647\n",
      "Epoch 5/8\n",
      " - 16s - loss: 0.1626\n",
      "Epoch 6/8\n",
      " - 16s - loss: 0.1650\n",
      "Epoch 7/8\n",
      " - 16s - loss: 0.1650\n",
      "Epoch 8/8\n",
      " - 16s - loss: 0.1631\n"
     ]
    }
   ],
   "source": [
    "d = 50\n",
    "(F, W, b, losses, models) = GLM_network_fit(np.array(stim_array).T,reduced_binned_spikes,d, bin_len,priors=None, cell_types=cell_types, filts=make_filts())\n"
   ]
  },
  {
   "cell_type": "code",
   "execution_count": 117,
   "metadata": {},
   "outputs": [
    {
     "ename": "NameError",
     "evalue": "name 'F' is not defined",
     "output_type": "error",
     "traceback": [
      "\u001b[0;31m\u001b[0m",
      "\u001b[0;31mNameError\u001b[0mTraceback (most recent call last)",
      "\u001b[0;32m<ipython-input-117-e1843059a8ab>\u001b[0m in \u001b[0;36m<module>\u001b[0;34m()\u001b[0m\n\u001b[0;32m----> 1\u001b[0;31m \u001b[0mnp\u001b[0m\u001b[0;34m.\u001b[0m\u001b[0msavez\u001b[0m\u001b[0;34m(\u001b[0m\u001b[0;34m'net_fit_priors3'\u001b[0m\u001b[0;34m,\u001b[0m\u001b[0mF\u001b[0m\u001b[0;34m=\u001b[0m\u001b[0mF\u001b[0m\u001b[0;34m,\u001b[0m\u001b[0mW\u001b[0m\u001b[0;34m=\u001b[0m\u001b[0mW\u001b[0m\u001b[0;34m,\u001b[0m\u001b[0mb\u001b[0m\u001b[0;34m=\u001b[0m\u001b[0mb\u001b[0m\u001b[0;34m,\u001b[0m\u001b[0mlosses\u001b[0m\u001b[0;34m=\u001b[0m\u001b[0mlosses\u001b[0m\u001b[0;34m)\u001b[0m\u001b[0;34m\u001b[0m\u001b[0m\n\u001b[0m",
      "\u001b[0;31mNameError\u001b[0m: name 'F' is not defined"
     ]
    }
   ],
   "source": [
    "np.savez('net_fit_priors3',F=F,W=W,b=b,losses=losses)"
   ]
  },
  {
   "cell_type": "code",
   "execution_count": 267,
   "metadata": {},
   "outputs": [
    {
     "name": "stdout",
     "output_type": "stream",
     "text": [
      "[-4.63344483e-03 -3.21596186e-03  5.47586614e-03 -1.71776279e-03\n",
      "  2.79063988e-03 -7.80980568e-03 -6.31864509e-03 -5.16731571e-03\n",
      "  4.13818234e-05  1.71366133e-04 -6.66455133e-03  6.37853565e-03\n",
      " -7.49306288e-03 -7.07841432e-03  3.34481196e-03] 0.00010925929382210597\n"
     ]
    },
    {
     "data": {
      "text/plain": [
       "[<matplotlib.lines.Line2D at 0x7fb48e78c7d0>]"
      ]
     },
     "execution_count": 267,
     "metadata": {},
     "output_type": "execute_result"
    },
    {
     "data": {
      "image/png": "[encoded data removed]",
      "text/plain": [
       "<Figure size 432x288 with 1 Axes>"
      ]
     },
     "metadata": {},
     "output_type": "display_data"
    }
   ],
   "source": [
    "i=1\n",
    "print W[i,i,:], b[i]\n",
    "plt.plot(W[i,i,:].dot(make_filts().T))\n",
    "# plt.plot(W[i,i,:])"
   ]
  },
  {
   "cell_type": "code",
   "execution_count": 109,
   "metadata": {},
   "outputs": [
    {
     "name": "stdout",
     "output_type": "stream",
     "text": [
      "exc_VISp_5\n"
     ]
    },
    {
     "data": {
      "image/png": "[encoded data removed]",
      "text/plain": [
       "<Figure size 432x288 with 1 Axes>"
      ]
     },
     "metadata": {},
     "output_type": "display_data"
    }
   ],
   "source": [
    "i=24\n",
    "plt.plot(W[i,i,:])\n",
    "print cell_types[i]\n"
   ]
  },
  {
   "cell_type": "code",
   "execution_count": 68,
   "metadata": {},
   "outputs": [
    {
     "name": "stdout",
     "output_type": "stream",
     "text": [
      "-3.328787425468708 -3.3347363471984863\n"
     ]
    }
   ],
   "source": [
    "print priors[cell_types[1]]['b_mean'], b[1]"
   ]
  },
  {
   "cell_type": "code",
   "execution_count": 77,
   "metadata": {},
   "outputs": [
    {
     "data": {
      "text/plain": [
       "[<matplotlib.lines.Line2D at 0x7fdeff8f0410>,\n",
       " <matplotlib.lines.Line2D at 0x7fdeff8f04d0>]"
      ]
     },
     "execution_count": 77,
     "metadata": {},
     "output_type": "execute_result"
    },
    {
     "data": {
      "image/png": "[encoded data removed]",
      "text/plain": [
       "<Figure size 432x288 with 1 Axes>"
      ]
     },
     "metadata": {},
     "output_type": "display_data"
    }
   ],
   "source": [
    "plt.plot(priors['inh_VISp_5']['W_means'].T)"
   ]
  },
  {
   "cell_type": "code",
   "execution_count": 78,
   "metadata": {},
   "outputs": [
    {
     "data": {
      "text/plain": [
       "[<matplotlib.lines.Line2D at 0x7fdeff06f6d0>,\n",
       " <matplotlib.lines.Line2D at 0x7fdeff06f790>]"
      ]
     },
     "execution_count": 78,
     "metadata": {},
     "output_type": "execute_result"
    },
    {
     "data": {
      "image/png": "[encoded data removed]",
      "text/plain": [
       "<Figure size 432x288 with 1 Axes>"
      ]
     },
     "metadata": {},
     "output_type": "display_data"
    }
   ],
   "source": [
    "plt.plot(priors['inh_VISp_5']['W_weights'].T)"
   ]
  },
  {
   "cell_type": "code",
   "execution_count": 87,
   "metadata": {},
   "outputs": [
    {
     "name": "stdout",
     "output_type": "stream",
     "text": [
      "[61 90]\n",
      "0.5\n"
     ]
    }
   ],
   "source": [
    "def evaluate_network(stimulus,spikes, d_stim, d_spk, models):\n",
    "    N = spikes.shape[0]\n",
    "    loss = 0\n",
    "    Xdsn = construct_GLM_mat(stimulus,spikes, d_stim, d_spk)\n",
    "    for i in range(N):\n",
    "        y = spikes[i,max(d_stim,d_spk):]\n",
    "        loss += models[i].evaluate(x=Xdsn, y=y, batch_size = 100000000, verbose=0)\n",
    "        if loss is list:\n",
    "            loss = loss[0]\n",
    "    return loss\n",
    "\n",
    "val_per_img = 40\n",
    "num_correct = 0\n",
    "n_img_val = 2\n",
    "img_inds = np.argsort(np.bincount(stim_table[stim_table.frame>=0].frame.values[:num_stim_rows].astype(int)))[-n_img_val:]\n",
    "print img_inds\n",
    "for img in imgs[img_inds]:\n",
    "    for i in range(val_per_img):\n",
    "        t_start = stim_table[(stim_table.index>num_stim_rows) & (stim_table.frame==img)].start.values[i]\n",
    "        t_end = stim_table[(stim_table.index>num_stim_rows) & (stim_table.frame==img)].end.values[i]\n",
    "        (binned_spikes, _) = bin_spikes(data_set,bin_len,t_start,t_end,regions=['VISp'])\n",
    "        reduced_binned_spikes = binned_spikes[cell_idxs[-k:],:]\n",
    "        T = reduced_binned_spikes.shape[1]\n",
    "        losses = []\n",
    "        for check_img in imgs[img_inds]:\n",
    "            flat_stimulus = np.tile(np.expand_dims(flattened_image_list[int(check_img)],1),(1,T)) #flatten check_img for the right number of time points\n",
    "            losses.append(evaluate_network(flat_stimulus,reduced_binned_spikes,d,d,models))\n",
    "        if imgs[img_inds[np.argmin(losses)]] == img:\n",
    "            num_correct += 1\n",
    "accuracy = num_correct*1.0/(val_per_img*n_img_val)\n",
    "print accuracy"
   ]
  },
  {
   "cell_type": "code",
   "execution_count": 88,
   "metadata": {},
   "outputs": [],
   "source": [
    "np.savez('net_fit_priors3',F=F,W=W,b=b,losses=losses,accuracy=accuracy)"
   ]
  },
  {
   "cell_type": "code",
   "execution_count": null,
   "metadata": {},
   "outputs": [],
   "source": [
    "#kernel_regularizer=SparseGroupLasso(M*d_stim,d_spk,lgroup=0))"
   ]
  },
  {
   "cell_type": "code",
   "execution_count": 49,
   "metadata": {},
   "outputs": [
    {
     "data": {
      "text/plain": [
       "(2,)"
      ]
     },
     "execution_count": 49,
     "metadata": {},
     "output_type": "execute_result"
    }
   ],
   "source": [
    "norms = np.linalg.norm(W[0], axis = 1)\n",
    "norms.shape"
   ]
  },
  {
   "cell_type": "code",
   "execution_count": 50,
   "metadata": {},
   "outputs": [
    {
     "data": {
      "image/png": "[encoded data removed]",
      "text/plain": [
       "<Figure size 432x288 with 1 Axes>"
      ]
     },
     "metadata": {},
     "output_type": "display_data"
    }
   ],
   "source": [
    "plt.hist(norms, bins = 50);"
   ]
  },
  {
   "cell_type": "code",
   "execution_count": 67,
   "metadata": {},
   "outputs": [
    {
     "name": "stdout",
     "output_type": "stream",
     "text": [
      "28.0\n",
      "(array([-2.81284339]), array([0.00491056]))\n"
     ]
    }
   ],
   "source": [
    "from statsmodels.stats.proportion import proportions_ztest\n",
    "print 0.35*80\n",
    "print proportions_ztest([28],[80],value=0.5)"
   ]
  },
  {
   "cell_type": "code",
   "execution_count": null,
   "metadata": {},
   "outputs": [],
   "source": [
    "# def construct_GLM_mat(flat_stimulus, binned_spikes, i, d_stim, d_spk):\n",
    "#     (N,T) = binned_spikes.shape # N is number of neurons, T is number of time bins\n",
    "#     print(\"T\",T)\n",
    "#     (M,T) = flat_stimulus.shape # M is the size of a stimulus\n",
    "#     X_dsn = np.empty((T-d_stim+1,M*d_stim+N*d_spk))\n",
    "#     d_max = max(d_stim,d_spk)\n",
    "#     y = np.empty((T-d_max+1,))\n",
    "#     for t in range(T-d_max+1):\n",
    "#         y[t] = binned_spikes[i,t+d_max-1]\n",
    "#         X_dsn[t,:M*d_stim] = flat_stimulus[:,t+d_max-d_stim:t+d_max].reshape((1,-1))\n",
    "#         X_dsn[t,M*d_stim:] = binned_spikes[:,t+d_max-d_spk:t+d_max].reshape((1,-1))\n",
    "#     return (y, X_dsn)   "
   ]
  },
  {
   "cell_type": "code",
   "execution_count": null,
   "metadata": {},
   "outputs": [],
   "source": [
    "# import keras\n",
    "# from keras import backend as K\n",
    "# from keras.models import Model\n",
    "# from keras.layers import Input\n",
    "# from keras import Sequential\n",
    "# from keras.layers import Dense, Lambda\n",
    "# from keras.regularizers import Regularizer\n",
    "# def GLM_network_fit(stimulus,spikes,d_stim, d_spk,bin_len,f='exp',priors=None,L1=None):\n",
    "#     N = spikes.shape[0]\n",
    "#     print(\"N\", N)\n",
    "#     M = stimulus.shape[0]\n",
    "#     print(\"M\", M)\n",
    "#     F = np.empty((N,M,d_stim)) # stimulus filters\n",
    "#     W = np.empty((N,N,d_spk))  # spike train filters\n",
    "#     b = np.empty((N,)) # biases\n",
    "#     fs = {'exp':K.exp}\n",
    "#     for i in range(1):\n",
    "#         [y, Xdsn] = construct_GLM_mat(np.array(stim_array), binned_spikes, i, d_stim, d_spk)\n",
    "#         print(\"yshape\",y.shape)\n",
    "#         model = Sequential()\n",
    "#         model.add(Dense(1,input_dim = Xdsn.shape[1],use_bias=True, kernel_regularizer=SparseGroupLasso(M*d_stim,d_spk,lgroup=1e-10)))\n",
    "#         model.add(Lambda(lambda x: fs[f](x)*bin_len))\n",
    "#         model.compile(loss = 'poisson',optimizer = keras.optimizers.adam(lr=5e-1))\n",
    "#         model.fit(x=Xdsn,y=y,epochs=50, batch_size = 1000,  verbose=1)\n",
    "#         p = model.get_weights()[0]\n",
    "#         print(\"pshape\", p.shape)\n",
    "#         print(\"Mdstim\", M*d_stim)\n",
    "#         F[i,:,:] = p[:M*d_stim].reshape((M,d_stim))\n",
    "#         W[i,:,:] = p[M*d_stim:].reshape((N,d_spk))\n",
    "#         b[i] = model.get_weights()[1]\n",
    "#     return (F,W,b)\n"
   ]
  }
 ],
 "metadata": {
  "kernelspec": {
   "display_name": "conda_tensorflow_p27",
   "language": "python",
   "name": "conda_tensorflow_p27"
  },
  "language_info": {
   "codemirror_mode": {
    "name": "ipython",
    "version": 2
   },
   "file_extension": ".py",
   "mimetype": "text/x-python",
   "name": "python",
   "nbconvert_exporter": "python",
   "pygments_lexer": "ipython2",
   "version": "2.7.15"
  }
 },
 "nbformat": 4,
 "nbformat_minor": 2
}
