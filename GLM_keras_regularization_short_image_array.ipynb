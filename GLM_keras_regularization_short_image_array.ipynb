{
 "cells": [
  {
   "cell_type": "code",
   "execution_count": 91,
   "metadata": {},
   "outputs": [],
   "source": [
    "import numpy as np\n",
    "import pandas as pd\n",
    "import os\n",
    "import matplotlib.pyplot as plt\n",
    "%matplotlib inline"
   ]
  },
  {
   "cell_type": "code",
   "execution_count": 92,
   "metadata": {},
   "outputs": [],
   "source": [
    "from swdb_2018_neuropixels.ephys_nwb_adapter import NWB_adapter    "
   ]
  },
  {
   "cell_type": "code",
   "execution_count": 93,
   "metadata": {},
   "outputs": [],
   "source": [
    "drive_path = '/data/dynamic-brain-workshop/visual_coding_neuropixels'"
   ]
  },
  {
   "cell_type": "code",
   "execution_count": 94,
   "metadata": {},
   "outputs": [],
   "source": [
    "manifest_file = os.path.join(drive_path,'ephys_manifest.csv')\n",
    "expt_info_df = pd.read_csv(manifest_file)\n",
    "multi_probe_expt_info = expt_info_df[expt_info_df.experiment_type == 'multi_probe']\n",
    "multi_probe_example = 1 # index to row in multi_probe_expt_info\n",
    "multi_probe_filename  = multi_probe_expt_info.iloc[multi_probe_example]['nwb_filename']\n",
    "nwb_file = os.path.join(drive_path,multi_probe_filename)\n",
    "data_set = NWB_adapter(nwb_file)"
   ]
  },
  {
   "cell_type": "code",
   "execution_count": 95,
   "metadata": {},
   "outputs": [],
   "source": [
    "from downsampling_module import downsample_images"
   ]
  },
  {
   "cell_type": "code",
   "execution_count": 96,
   "metadata": {},
   "outputs": [],
   "source": [
    "nat_scenes = np.load('natural_scenes.npy')"
   ]
  },
  {
   "cell_type": "code",
   "execution_count": 162,
   "metadata": {},
   "outputs": [],
   "source": [
    "ds_nat_scenes = np.array(downsample_images(nat_scenes, 25, 25))\n",
    "ds_nat_scenes = ds_nat_scenes*(1.0/255.0)"
   ]
  },
  {
   "cell_type": "code",
   "execution_count": 163,
   "metadata": {},
   "outputs": [
    {
     "name": "stdout",
     "output_type": "stream",
     "text": [
      "(36, 46)\n"
     ]
    },
    {
     "data": {
      "text/plain": [
       "<matplotlib.colorbar.Colorbar at 0x7f46995f6690>"
      ]
     },
     "execution_count": 163,
     "metadata": {},
     "output_type": "execute_result"
    },
    {
     "data": {
      "image/png": "[encoded data removed]",
      "text/plain": [
       "<Figure size 432x288 with 2 Axes>"
      ]
     },
     "metadata": {},
     "output_type": "display_data"
    }
   ],
   "source": [
    "print(ds_nat_scenes[1].shape)\n",
    "plt.imshow(ds_nat_scenes[7], cmap='gray')\n",
    "plt.colorbar()"
   ]
  },
  {
   "cell_type": "code",
   "execution_count": 164,
   "metadata": {},
   "outputs": [],
   "source": [
    "from downsampling_module import flatten_images"
   ]
  },
  {
   "cell_type": "code",
   "execution_count": 165,
   "metadata": {},
   "outputs": [],
   "source": [
    "flattened_image_list = flatten_images(np.array(ds_nat_scenes))"
   ]
  },
  {
   "cell_type": "code",
   "execution_count": 166,
   "metadata": {},
   "outputs": [],
   "source": [
    "stim_table = data_set.get_stimulus_table('natural_scenes')"
   ]
  },
  {
   "cell_type": "code",
   "execution_count": 167,
   "metadata": {},
   "outputs": [],
   "source": [
    "def get_frame_at_time(time, stim_table):\n",
    "    starts = stim_table.start.values\n",
    "    idx = np.searchsorted(starts, time)-1\n",
    "    return(stim_table.iloc[idx].values[2])"
   ]
  },
  {
   "cell_type": "code",
   "execution_count": 168,
   "metadata": {},
   "outputs": [],
   "source": [
    "def get_stim_time_array(stim_table, tns_start, tns_end, bin_len, flattened_image_list):\n",
    "    T = int(np.floor((tns_end - tns_start)/bin_len))\n",
    "    time_array = np.linspace(tns_start,tns_end,T)\n",
    "    stim_array = []\n",
    "    for idx, time_point in enumerate(time_array):\n",
    "        stim_index = get_frame_at_time(time_point, stim_table)\n",
    "        stim_array.append(flattened_image_list[int(stim_index)])\n",
    "    return(stim_array, time_array)"
   ]
  },
  {
   "cell_type": "code",
   "execution_count": null,
   "metadata": {},
   "outputs": [],
   "source": []
  },
  {
   "cell_type": "code",
   "execution_count": 169,
   "metadata": {},
   "outputs": [
    {
     "name": "stdout",
     "output_type": "stream",
     "text": [
      "5908.725920000001\n",
      "6009.07438\n"
     ]
    }
   ],
   "source": [
    "bin_len = 0.001\n",
    "num_stim_rows = 400\n",
    "tns_start = stim_table.iloc[0].values[0]\n",
    "tns_end = stim_table.iloc[num_stim_rows].values[1]\n",
    "print(tns_start)\n",
    "print(tns_end)"
   ]
  },
  {
   "cell_type": "code",
   "execution_count": 170,
   "metadata": {},
   "outputs": [
    {
     "name": "stdout",
     "output_type": "stream",
     "text": [
      "5908.725920000001\n",
      "6009.07438\n"
     ]
    }
   ],
   "source": [
    "[stim_array, time_array] = get_stim_time_array(stim_table,tns_start,tns_end,bin_len,flattened_image_list)\n",
    "print(tns_start)\n",
    "print(tns_end)"
   ]
  },
  {
   "cell_type": "code",
   "execution_count": 171,
   "metadata": {},
   "outputs": [
    {
     "name": "stdout",
     "output_type": "stream",
     "text": [
      "(100348, 1656)\n"
     ]
    }
   ],
   "source": [
    "print(np.shape(stim_array))"
   ]
  },
  {
   "cell_type": "code",
   "execution_count": 172,
   "metadata": {},
   "outputs": [
    {
     "name": "stdout",
     "output_type": "stream",
     "text": [
      "5908.725920000001\n",
      "6009.07438\n",
      "(100348,)\n"
     ]
    }
   ],
   "source": [
    "# print(time_array.shape)\n",
    "# print(np.array(stim_array).shape)\n",
    "\n",
    "# time_array_short = time_array[0:len(time_array)/4]\n",
    "# stim_array_short = stim_array[:,:len(time_array)/4]\n",
    "# print(time_array_short.shape)\n",
    "# print(np.array(stim_array_short).shape)\n",
    "\n",
    "tns_start = time_array[0]\n",
    "tns_end = time_array[-1]\n",
    "print(tns_start)\n",
    "print(tns_end)\n",
    "\n",
    "print(time_array.shape)\n"
   ]
  },
  {
   "cell_type": "code",
   "execution_count": 173,
   "metadata": {},
   "outputs": [],
   "source": [
    "from GLM_helpers import bin_spikes\n",
    "(binned_spikes, cell_table) = bin_spikes(data_set,bin_len,tns_start,tns_end,regions=['VISp'])"
   ]
  },
  {
   "cell_type": "code",
   "execution_count": 174,
   "metadata": {},
   "outputs": [],
   "source": [
    "reduced_spikes = binned_spikes[0:5,:]"
   ]
  },
  {
   "cell_type": "code",
   "execution_count": 175,
   "metadata": {},
   "outputs": [
    {
     "data": {
      "text/plain": [
       "(5, 100348)"
      ]
     },
     "execution_count": 175,
     "metadata": {},
     "output_type": "execute_result"
    }
   ],
   "source": [
    "reduced_spikes.shape"
   ]
  },
  {
   "cell_type": "code",
   "execution_count": 176,
   "metadata": {},
   "outputs": [],
   "source": [
    "def construct_GLM_mat(flat_stimulus, binned_spikes, i, d_stim, d_spk):\n",
    "    (N,T) = binned_spikes.shape # N is number of neurons, T is number of time bins\n",
    "    (M,T) = flat_stimulus.shape # M is the size of a stimulus\n",
    "    X_dsn = np.empty((T-d_stim+1,M*d_stim+N*d_spk))\n",
    "    d_max = max(d_stim,d_spk)\n",
    "    y = np.empty((T-d_max+1,))\n",
    "    for t in range(T-d_max+1):\n",
    "        y[t] = binned_spikes[i,t+d_max-1]\n",
    "        X_dsn[t,:M*d_stim] = flat_stimulus[:,t+d_max-d_stim:t+d_max].reshape((1,-1))\n",
    "        X_dsn[t,M*d_stim:] = binned_spikes[:,t+d_max-d_spk:t+d_max].reshape((1,-1))\n",
    "    return (y, X_dsn)   "
   ]
  },
  {
   "cell_type": "code",
   "execution_count": 177,
   "metadata": {},
   "outputs": [],
   "source": [
    "import keras\n",
    "from keras import backend as K\n",
    "from keras.models import Model\n",
    "from keras.layers import Input\n",
    "from keras import Sequential\n",
    "from keras.layers import Dense, Lambda\n",
    "from keras.regularizers import Regularizer\n",
    "def GLM_network_fit(stimulus,spikes,d_stim, d_spk,bin_len,f='exp',priors=None,L1=None):\n",
    "    N = spikes.shape[0]\n",
    "    print(\"N\", N)\n",
    "    M = stimulus.shape[0]\n",
    "    print(\"M\", M)\n",
    "    F = np.empty((N,M,d_stim)) # stimulus filters\n",
    "    W = np.empty((N,N,d_spk))  # spike train filters\n",
    "    b = np.empty((N,)) # biases\n",
    "    fs = {'exp':K.exp}\n",
    "    for i in range(1):\n",
    "        [y, Xdsn] = construct_GLM_mat(np.array(stim_array), binned_spikes, i, d_stim, d_spk)\n",
    "        print(y.shape)\n",
    "        model = Sequential()\n",
    "        model.add(Dense(1,input_dim = Xdsn.shape[1],use_bias=True))\n",
    "        model.add(Lambda(lambda x: fs[f](x)*bin_len))\n",
    "        model.compile(loss = 'poisson',optimizer = keras.optimizers.adam(lr=1e-3, clipnorm=1))\n",
    "        model.fit(x=Xdsn,y=y,epochs=10, batch_size = 128, verbose=2)\n",
    "        p = model.get_weights()[0]\n",
    "        print(\"pshape\", p.shape)\n",
    "        print(\"Mdstim\", M*d_stim)\n",
    "        F[i,:,:] = p[:M*d_stim].reshape((M,d_stim))\n",
    "        W[i,:,:] = p[M*d_stim:].reshape((N,d_spk))\n",
    "        b[i] = model.get_weights()[1]\n",
    "    return (F,W,b)\n"
   ]
  },
  {
   "cell_type": "code",
   "execution_count": 178,
   "metadata": {},
   "outputs": [],
   "source": [
    "#kernel_regularizer=SparseGroupLasso(M*d_stim,d_spk,lgroup=0))"
   ]
  },
  {
   "cell_type": "code",
   "execution_count": 179,
   "metadata": {},
   "outputs": [],
   "source": [
    "from keras.regularizers import Regularizer\n",
    "from keras import backend as K\n",
    "\n",
    "class SparseGroupLasso(Regularizer):\n",
    "    \"\"\"Regularizer for group lasso regularization.\n",
    "    # Arguments\n",
    "       l1: Float; L1 regularization factor.\n",
    "       l2: Float; L2 group regularization factor.\n",
    "   \"\"\"\n",
    "\n",
    "    def __init__(self, size_stim, d_spike, lgroup = 1.):\n",
    "        self.lgroup = K.cast_to_floatx(lgroup)\n",
    "        self.d_spike = d_spike\n",
    "        self.size_stim = size_stim\n",
    "\n",
    "    def __call__(self, x): \n",
    "        xr = K.reshape(x[self.size_stim:], (-1, self.d_spike))\n",
    "        return(self.lgroup * np.sqrt(K.int_shape(xr)[1])*K.sum(K.sqrt(K.sum(K.square(xr),axis=1))))\n"
   ]
  },
  {
   "cell_type": "code",
   "execution_count": 185,
   "metadata": {},
   "outputs": [
    {
     "name": "stdout",
     "output_type": "stream",
     "text": [
      "('N', 71)\n",
      "('M', 100348)\n",
      "(1652,)\n",
      "Epoch 1/10\n",
      " - 7s - loss: 7.4787e-05\n",
      "Epoch 2/10\n",
      " - 7s - loss: 0.0000e+00\n",
      "Epoch 3/10\n",
      " - 7s - loss: 0.0000e+00\n",
      "Epoch 4/10\n",
      " - 7s - loss: 0.0000e+00\n",
      "Epoch 5/10\n",
      " - 7s - loss: 0.0000e+00\n",
      "Epoch 6/10\n",
      " - 7s - loss: 0.0000e+00\n",
      "Epoch 7/10\n",
      " - 7s - loss: 0.0000e+00\n",
      "Epoch 8/10\n",
      " - 7s - loss: 0.0000e+00\n",
      "Epoch 9/10\n",
      " - 7s - loss: 0.0000e+00\n",
      "Epoch 10/10\n",
      " - 7s - loss: 0.0000e+00\n",
      "('pshape', (502095, 1))\n",
      "('Mdstim', 501740)\n"
     ]
    }
   ],
   "source": [
    "[F, W, b] = GLM_network_fit(np.array(stim_array),binned_spikes,5,5, bin_len)"
   ]
  },
  {
   "cell_type": "code",
   "execution_count": 188,
   "metadata": {},
   "outputs": [
    {
     "data": {
      "text/plain": [
       "[<matplotlib.lines.Line2D at 0x7f469d990750>]"
      ]
     },
     "execution_count": 188,
     "metadata": {},
     "output_type": "execute_result"
    },
    {
     "data": {
      "image/png": "[encoded data removed]",
      "text/plain": [
       "<Figure size 432x288 with 1 Axes>"
      ]
     },
     "metadata": {},
     "output_type": "display_data"
    }
   ],
   "source": [
    "plt.plot(W[0][10]) "
   ]
  },
  {
   "cell_type": "code",
   "execution_count": null,
   "metadata": {},
   "outputs": [],
   "source": []
  },
  {
   "cell_type": "code",
   "execution_count": null,
   "metadata": {},
   "outputs": [],
   "source": []
  }
 ],
 "metadata": {
  "kernelspec": {
   "display_name": "conda_tensorflow_p27",
   "language": "python",
   "name": "conda_tensorflow_p27"
  },
  "language_info": {
   "codemirror_mode": {
    "name": "ipython",
    "version": 2
   },
   "file_extension": ".py",
   "mimetype": "text/x-python",
   "name": "python",
   "nbconvert_exporter": "python",
   "pygments_lexer": "ipython2",
   "version": "2.7.14"
  }
 },
 "nbformat": 4,
 "nbformat_minor": 2
}
