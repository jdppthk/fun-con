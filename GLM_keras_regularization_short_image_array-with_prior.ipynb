{
 "cells": [
  {
   "cell_type": "code",
   "execution_count": 1,
   "metadata": {},
   "outputs": [],
   "source": [
    "import numpy as np\n",
    "import pandas as pd\n",
    "import os\n",
    "import matplotlib.pyplot as plt\n",
    "%matplotlib inline"
   ]
  },
  {
   "cell_type": "code",
   "execution_count": 2,
   "metadata": {},
   "outputs": [],
   "source": [
    "from swdb_2018_neuropixels.ephys_nwb_adapter import NWB_adapter    "
   ]
  },
  {
   "cell_type": "code",
   "execution_count": 3,
   "metadata": {},
   "outputs": [],
   "source": [
    "drive_path = '/data/dynamic-brain-workshop/visual_coding_neuropixels'"
   ]
  },
  {
   "cell_type": "code",
   "execution_count": 4,
   "metadata": {},
   "outputs": [],
   "source": [
    "manifest_file = os.path.join(drive_path,'ephys_manifest.csv')\n",
    "expt_info_df = pd.read_csv(manifest_file)\n",
    "multi_probe_expt_info = expt_info_df[expt_info_df.experiment_type == 'multi_probe']\n",
    "multi_probe_example = 1 # index to row in multi_probe_expt_info\n",
    "multi_probe_filename  = multi_probe_expt_info.iloc[multi_probe_example]['nwb_filename']\n",
    "nwb_file = os.path.join(drive_path,multi_probe_filename)\n",
    "data_set = NWB_adapter(nwb_file)"
   ]
  },
  {
   "cell_type": "code",
   "execution_count": 5,
   "metadata": {},
   "outputs": [
    {
     "name": "stdout",
     "output_type": "stream",
     "text": [
      "ephys_single_14.nwb\n",
      "{'V1': 66}\n",
      "ephys_single_15.nwb\n",
      "{'V1': 49}\n",
      "ephys_single_16.nwb\n",
      "{'V1': 69}\n",
      "ephys_single_39.nwb\n",
      "{'V1': 47}\n",
      "ephys_single_51.nwb\n",
      "{'V1': 47}\n",
      "ephys_multi_84.nwb\n",
      "{'probeD': 91, 'probeE': 169, 'probeF': 123, 'probeA': 39, 'probeB': 218, 'probeC': 99}\n",
      "ephys_multi_58.nwb\n",
      "{'probeD': 181, 'probeE': 194, 'probeF': 56, 'probeA': 178, 'probeB': 286, 'probeC': 307}\n",
      "ephys_multi_10.nwb\n",
      "{'probeD': 157, 'probeE': 221, 'probeF': 160, 'probeA': 222, 'probeB': 173, 'probeC': 236}\n",
      "ephys_multi_21.nwb\n",
      "{'probeD': 90, 'probeA': 109, 'probeB': 106, 'probeC': 178}\n",
      "Index([u'index', u'unit_id', u'probe', u'structure', u'snr', u'depth',\n",
      "       u'channel', u'data_set_ind', u'nwb_filename', u'RSFS'],\n",
      "      dtype='object')\n"
     ]
    },
    {
     "name": "stderr",
     "output_type": "stream",
     "text": [
      "/home/ec2-user/anaconda3/envs/tensorflow_p27/lib/python2.7/site-packages/ipykernel/__main__.py:58: RuntimeWarning: invalid value encountered in greater\n",
      "/home/ec2-user/anaconda3/envs/tensorflow_p27/lib/python2.7/site-packages/ipykernel/__main__.py:60: RuntimeWarning: invalid value encountered in less_equal\n"
     ]
    }
   ],
   "source": [
    "# load all dataset objects\n",
    "data_set_all=[]\n",
    "for i in range(len(expt_info_df)): # index to row in multi_probe_expt_info\n",
    "    expt_filename  = expt_info_df.iloc[i]['nwb_filename']\n",
    "    # iloc allows you to access particular rows of dataset\n",
    "    print expt_filename\n",
    "\n",
    "    # Specify full path to the .nwb file\n",
    "    nwb_file = os.path.join(drive_path, expt_filename)\n",
    "\n",
    "    data_set_all.append(NWB_adapter(nwb_file)) # this linetakes a while\n",
    "    \n",
    "    print(data_set_all[i].number_cells)  #\"tab completion\"\n",
    "\n",
    "\n",
    "# aggregate all unit dataframe \n",
    "for i in range(len(expt_info_df)): # index to row in multi_probe_expt_info\n",
    "    unit_df_subset=data_set_all[i].unit_df.copy()\n",
    "    pds0=pd.Series([i] * unit_df_subset.shape[0])\n",
    "    unit_df_subset=unit_df_subset.assign(data_set_ind = pds0.values)\n",
    "    pds1=pd.Series([expt_info_df.iloc[i]['nwb_filename']] * unit_df_subset.shape[0])\n",
    "    unit_df_subset=unit_df_subset.assign(nwb_filename = pds1.values)\n",
    "    if i==0:\n",
    "        unit_df_all=unit_df_subset\n",
    "    else:\n",
    "        unit_df_all=unit_df_all.append(unit_df_subset)\n",
    "\n",
    "if 'index' not in unit_df_all.keys():\n",
    "    unit_df_all=unit_df_all.reset_index() #(drop=True)\n",
    "\n",
    "\n",
    "# aggregate all spike waveforms \n",
    "spike_waveforms_all=[] # empty list\n",
    "for i in range(len(expt_info_df)): \n",
    "    spike_waveforms_all.append( data_set_all[i].get_waveforms() )\n",
    "\n",
    "spikewf_all=np.zeros([unit_df_all.shape[0], 82])\n",
    "spikewftrough_all=np.zeros([unit_df_all.shape[0], 1])   \n",
    "spikewfpeak_all=np.zeros([unit_df_all.shape[0], 1])   \n",
    "for i in range(unit_df_all.shape[0]):\n",
    "    whichdataset = unit_df_all['data_set_ind'][i]\n",
    "    whichprobe = unit_df_all['probe'][i]\n",
    "    whichunit = unit_df_all['unit_id'][i]\n",
    "    \n",
    "    if whichprobe == 'V1':\n",
    "        spikewf_all[i,:]=np.nan\n",
    "        spikewftrough_all[i]=np.nan\n",
    "        spikewfpeak_all[i]=np.nan       \n",
    "    else:\n",
    "        spikewf_all[i,:]=spike_waveforms_all[whichdataset][whichprobe][whichunit]\n",
    "        spikewftrough_all[i]=spike_waveforms_all[whichdataset][whichprobe][whichunit].argmin()\n",
    "        spikewfpeak_all[i]=spike_waveforms_all[whichdataset][whichprobe][whichunit].argmax()\n",
    "\n",
    "\n",
    "if 'RSFS' not in unit_df_all.keys():\n",
    "    spikewfp2t=(spikewfpeak_all-spikewftrough_all)/30.\n",
    "    rsfs=np.array(['SU']*unit_df_all.shape[0])\n",
    "    rsinds,_=np.where(spikewfp2t>0.4)\n",
    "    rsfs[rsinds]='RS'\n",
    "    fsinds,_=np.where(spikewfp2t<=0.4)\n",
    "    rsfs[fsinds]='FS'\n",
    "    srsfs=pd.Series(rsfs)\n",
    "    unit_df_all=unit_df_all.assign(RSFS = srsfs.values)\n",
    "    print(unit_df_all.keys())\n",
    "\n",
    "\n",
    "# aggregate all spike time in the same order as unit_df_all\n",
    "spike_times_all=[] # empty list\n",
    "for i in range(unit_df_all.shape[0]):\n",
    "    whichdataset = unit_df_all['data_set_ind'][i]\n",
    "    whichprobe = unit_df_all['probe'][i]\n",
    "    whichunit = unit_df_all['unit_id'][i]\n",
    "    spike_times_all.append(data_set_all[whichdataset].spike_times[whichprobe][whichunit])\n"
   ]
  },
  {
   "cell_type": "code",
   "execution_count": 6,
   "metadata": {},
   "outputs": [],
   "source": [
    "nwb_file = 'ephys_multi_58.nwb'\n",
    "unit_df = unit_df_all[unit_df_all.nwb_filename==nwb_file]\n",
    "data_set.unit_df = unit_df"
   ]
  },
  {
   "cell_type": "code",
   "execution_count": 7,
   "metadata": {},
   "outputs": [],
   "source": [
    "from downsampling_module import downsample_images"
   ]
  },
  {
   "cell_type": "code",
   "execution_count": 8,
   "metadata": {},
   "outputs": [],
   "source": [
    "nat_scenes = np.load('natural_scenes.npy')"
   ]
  },
  {
   "cell_type": "code",
   "execution_count": 9,
   "metadata": {},
   "outputs": [],
   "source": [
    "ds_nat_scenes = np.array(downsample_images(nat_scenes, 25, 25))\n",
    "ds_nat_scenes = ds_nat_scenes*(1.0/255.0)"
   ]
  },
  {
   "cell_type": "code",
   "execution_count": 10,
   "metadata": {},
   "outputs": [
    {
     "name": "stdout",
     "output_type": "stream",
     "text": [
      "(118, 36, 46)\n"
     ]
    },
    {
     "data": {
      "text/plain": [
       "<matplotlib.colorbar.Colorbar at 0x7fb84815dcd0>"
      ]
     },
     "execution_count": 10,
     "metadata": {},
     "output_type": "execute_result"
    },
    {
     "data": {
      "image/png": "[encoded data removed]",
      "text/plain": [
       "<Figure size 432x288 with 2 Axes>"
      ]
     },
     "metadata": {},
     "output_type": "display_data"
    }
   ],
   "source": [
    "print(ds_nat_scenes.shape)\n",
    "plt.imshow(ds_nat_scenes[7], cmap='gray')\n",
    "plt.colorbar()"
   ]
  },
  {
   "cell_type": "code",
   "execution_count": 11,
   "metadata": {},
   "outputs": [],
   "source": [
    "from downsampling_module import flatten_images"
   ]
  },
  {
   "cell_type": "code",
   "execution_count": 12,
   "metadata": {},
   "outputs": [],
   "source": [
    "flattened_image_list = flatten_images(np.array(ds_nat_scenes))"
   ]
  },
  {
   "cell_type": "code",
   "execution_count": 13,
   "metadata": {},
   "outputs": [
    {
     "data": {
      "text/plain": [
       "<matplotlib.image.AxesImage at 0x7fb8448a9c90>"
      ]
     },
     "execution_count": 13,
     "metadata": {},
     "output_type": "execute_result"
    },
    {
     "data": {
      "image/png": "[encoded data removed]",
      "text/plain": [
       "<Figure size 432x288 with 1 Axes>"
      ]
     },
     "metadata": {},
     "output_type": "display_data"
    }
   ],
   "source": [
    "plt.imshow(flattened_image_list[7].reshape(36,46), cmap='gray')"
   ]
  },
  {
   "cell_type": "code",
   "execution_count": 14,
   "metadata": {},
   "outputs": [],
   "source": [
    "stim_table = data_set.get_stimulus_table('natural_scenes')"
   ]
  },
  {
   "cell_type": "code",
   "execution_count": 15,
   "metadata": {},
   "outputs": [],
   "source": [
    "def get_frame_at_time(time, stim_table):\n",
    "    starts = stim_table.start.values\n",
    "    idx = np.searchsorted(starts, time)-1\n",
    "    return(stim_table.iloc[idx].values[2])"
   ]
  },
  {
   "cell_type": "code",
   "execution_count": 16,
   "metadata": {},
   "outputs": [],
   "source": [
    "def get_stim_time_array(stim_table, tns_start, tns_end, bin_len, flattened_image_list):\n",
    "    T = int(np.floor((tns_end - tns_start)/bin_len))\n",
    "    time_array = np.linspace(tns_start,tns_end,T)\n",
    "    stim_array = []\n",
    "    for idx, time_point in enumerate(time_array):\n",
    "        stim_index = get_frame_at_time(time_point, stim_table)\n",
    "        stim_array.append(flattened_image_list[int(stim_index)])\n",
    "    return(stim_array, time_array)\n",
    "\n",
    "# def get_stim_time_arrays_imgs(stim_table, bin_len, flattened_image_list, imgs, nums):\n",
    "#     time_arrays = []\n",
    "#     stim_arrays = []\n",
    "#     for num in nums:\n",
    "#         stim_array = []\n",
    "#         for img in imgs:\n",
    "#             for i in range(num):   \n",
    "    "
   ]
  },
  {
   "cell_type": "code",
   "execution_count": 17,
   "metadata": {},
   "outputs": [
    {
     "name": "stdout",
     "output_type": "stream",
     "text": [
      "(97,)\n"
     ]
    },
    {
     "data": {
      "image/png": "[encoded data removed]",
      "text/plain": [
       "<Figure size 432x288 with 1 Axes>"
      ]
     },
     "metadata": {},
     "output_type": "display_data"
    }
   ],
   "source": [
    "print np.unique(stim_table.frame.values[:200]).shape\n",
    "a = plt.hist(stim_table.frame.values[:200],bins=118)"
   ]
  },
  {
   "cell_type": "code",
   "execution_count": 40,
   "metadata": {},
   "outputs": [
    {
     "name": "stdout",
     "output_type": "stream",
     "text": [
      "112\n",
      "5908.725920000001\n",
      "5984.037139999999\n"
     ]
    }
   ],
   "source": [
    "bin_len = 0.001\n",
    "num_stim_rows = 300\n",
    "imgs = np.unique(stim_table.frame.values[:num_stim_rows])\n",
    "print len(imgs)\n",
    "tns_start = stim_table.iloc[0].values[0]\n",
    "tns_end = stim_table.iloc[num_stim_rows].values[1]\n",
    "print(tns_start)\n",
    "print(tns_end)"
   ]
  },
  {
   "cell_type": "code",
   "execution_count": 41,
   "metadata": {},
   "outputs": [
    {
     "name": "stdout",
     "output_type": "stream",
     "text": [
      "5908.725920000001\n",
      "5984.037139999999\n"
     ]
    }
   ],
   "source": [
    "[stim_array, time_array] = get_stim_time_array(stim_table,tns_start,tns_end,bin_len,flattened_image_list)\n",
    "print(tns_start)\n",
    "print(tns_end)"
   ]
  },
  {
   "cell_type": "code",
   "execution_count": 42,
   "metadata": {},
   "outputs": [
    {
     "name": "stdout",
     "output_type": "stream",
     "text": [
      "(75311, 1656)\n",
      "(75311,)\n"
     ]
    }
   ],
   "source": [
    "print(np.shape(stim_array))\n",
    "\n",
    "print(np.shape(time_array))\n"
   ]
  },
  {
   "cell_type": "code",
   "execution_count": 43,
   "metadata": {},
   "outputs": [
    {
     "name": "stdout",
     "output_type": "stream",
     "text": [
      "5908.725920000001\n",
      "5984.037139999999\n",
      "(75311,)\n"
     ]
    }
   ],
   "source": [
    "# print(time_array.shape)\n",
    "# print(np.array(stim_array).shape)\n",
    "\n",
    "# time_array_short = time_array[0:len(time_array)/4]\n",
    "# stim_array_short = stim_array[:,:len(time_array)/4]\n",
    "# print(time_array_short.shape)\n",
    "# print(np.array(stim_array_short).shape)\n",
    "\n",
    "tns_start = time_array[0]\n",
    "tns_end = time_array[-1]\n",
    "print(tns_start)\n",
    "print(tns_end)\n",
    "\n",
    "print(time_array.shape)\n"
   ]
  },
  {
   "cell_type": "code",
   "execution_count": 44,
   "metadata": {},
   "outputs": [],
   "source": [
    "def bin_spikes(data_set,bin_len,t_start,t_final,probes=None,regions=None):\n",
    "    if probes is None:\n",
    "        probes = data_set.probe_list\n",
    "    if regions is None:\n",
    "        regions = data_set.unit_df.structure.unique()\n",
    "    \n",
    "    #gather cells from desired regions and probes into cell_table\n",
    "    use_cells = False\n",
    "    for probe in probes:\n",
    "        for region in regions:\n",
    "            use_cells |= (data_set.unit_df.probe==probe) & (data_set.unit_df.structure==region)\n",
    "    cell_table = data_set.unit_df[use_cells]\n",
    "    \n",
    "    N = len(cell_table)     #number of cells\n",
    "    T = int(np.floor((t_final-t_start)/bin_len)) #number of time bins\n",
    "    binned_spikes = np.zeros((N,T)) # binned_spikes[i,j] is the number of spikes from neuron i in time bin j\n",
    "\n",
    "    #for each cell in the table, add each spike to the appropriate bin\n",
    "    i = 0\n",
    "    for z,cell in cell_table.iterrows(): \n",
    "        for spike_time in data_set.spike_times[cell['probe']][cell['unit_id']]:\n",
    "            t = int(np.floor((spike_time-t_start)/bin_len))\n",
    "            if (t >=0) & (t<T):\n",
    "                binned_spikes[i,t] += 1\n",
    "        i+=1    \n",
    "    return (binned_spikes, cell_table)"
   ]
  },
  {
   "cell_type": "code",
   "execution_count": 45,
   "metadata": {},
   "outputs": [],
   "source": [
    "(binned_spikes, cell_table) = bin_spikes(data_set,bin_len,tns_start,tns_end,regions=['VISp'])"
   ]
  },
  {
   "cell_type": "code",
   "execution_count": 78,
   "metadata": {},
   "outputs": [
    {
     "data": {
      "text/plain": [
       "[<matplotlib.lines.Line2D at 0x7fb7f73f1850>]"
      ]
     },
     "execution_count": 78,
     "metadata": {},
     "output_type": "execute_result"
    },
    {
     "data": {
      "image/png": "[encoded data removed]",
      "text/plain": [
       "<Figure size 432x288 with 1 Axes>"
      ]
     },
     "metadata": {},
     "output_type": "display_data"
    }
   ],
   "source": [
    "k = 25\n",
    "cell_idxs = np.argsort(binned_spikes.sum(axis=1))\n",
    "reduced_binned_spikes = binned_spikes[cell_idxs[-k:],:]\n",
    "plt.plot(binned_spikes.sum(axis=1)[cell_idxs])"
   ]
  },
  {
   "cell_type": "code",
   "execution_count": 79,
   "metadata": {},
   "outputs": [
    {
     "data": {
      "text/plain": [
       "(25, 75311)"
      ]
     },
     "execution_count": 79,
     "metadata": {},
     "output_type": "execute_result"
    }
   ],
   "source": [
    "reduced_binned_spikes.shape"
   ]
  },
  {
   "cell_type": "code",
   "execution_count": 80,
   "metadata": {},
   "outputs": [],
   "source": [
    "def construct_GLM_mat(flat_stimulus, binned_spikes, d_stim, d_spk):\n",
    "    (N,T) = binned_spikes.shape # N is number of neurons, T is number of time bins\n",
    "    (M,T) = flat_stimulus.shape # M is the size of a stimulus\n",
    "#     print(\"N,T\", (N,T))\n",
    "#     print(\"M,T\", (M,T))\n",
    "    X_dsn = np.empty((T-d_stim,M*d_stim+N*d_spk))\n",
    "    d_max = max(d_stim,d_spk)\n",
    "    for t in range(T-d_max):\n",
    "        X_dsn[t,:M*d_stim] = np.fliplr(flat_stimulus[:,t+d_max-d_stim:t+d_max]).reshape((1,-1))  #stimulus inputs\n",
    "        X_dsn[t,M*d_stim:] = np.fliplr(binned_spikes[:,t+d_max-d_spk:t+d_max]).reshape((1,-1)) #spike inputs\n",
    "    return X_dsn    \n"
   ]
  },
  {
   "cell_type": "code",
   "execution_count": 81,
   "metadata": {},
   "outputs": [
    {
     "name": "stdout",
     "output_type": "stream",
     "text": [
      "25 ['exc_VISp_1' 'exc_VISp_5' 'inh_VISp_1' 'inh_VISp_4' 'inh_VISp_5']\n"
     ]
    }
   ],
   "source": [
    "cell_types = []\n",
    "sign_map = {'FS':'exc', 'RS':'inh'}\n",
    "for c_idx in cell_idxs[-k:]:\n",
    "    c_type = ''\n",
    "    c_type += sign_map[cell_table.RSFS.values[c_idx]] + '_'\n",
    "    c_type += cell_table.structure.values[c_idx] + '_'\n",
    "    if str.startswith(cell_table.structure.values[c_idx],'VIS'):\n",
    "        if cell_table.depth.values[c_idx] > -920:\n",
    "            c_type += '1'\n",
    "        elif cell_table.depth.values[c_idx] > -960:\n",
    "            c_type += '4'\n",
    "        else:\n",
    "            c_type += '5'\n",
    "    cell_types.append(c_type)\n",
    "print len(cell_types), np.unique(cell_types)"
   ]
  },
  {
   "cell_type": "code",
   "execution_count": 82,
   "metadata": {},
   "outputs": [],
   "source": [
    "priors = {}\n",
    "ncomp=2\n",
    "for c_type in np.unique(cell_types):\n",
    "    priors[c_type] = np.load(c_type+'GMM_'+str(ncomp)+'comp.npz')"
   ]
  },
  {
   "cell_type": "code",
   "execution_count": 83,
   "metadata": {},
   "outputs": [],
   "source": [
    "import keras\n",
    "from keras import backend as K\n",
    "from keras.models import Model\n",
    "from keras.layers import Input\n",
    "from keras import Sequential\n",
    "from keras.layers import Dense, Lambda\n",
    "from keras.regularizers import Regularizer\n",
    "from keras.callbacks import ModelCheckpoint\n",
    "from keras.regularizers import Regularizer\n",
    "\n",
    "\n",
    "\n",
    "class GroupAndPriors(Regularizer):\n",
    "    \"\"\"Regularizer for group lasso regularization.\n",
    "    # Arguments\n",
    "       l1: Float; L1 regularization factor.\n",
    "       l2: Float; L2 group regularization factor.\n",
    "   \"\"\"\n",
    "\n",
    "    def __init__(self, size_stim, d_spike, prior = None, i=None, lprior = 0, lgroup = 0.):\n",
    "        self.lgroup = K.cast_to_floatx(lgroup)\n",
    "        if prior is not None:\n",
    "            self.lprior = K.cast_to_floatx(lprior)\n",
    "            self.i = i\n",
    "            self.W_means = prior['W_means']\n",
    "            self.W_vars = prior['W_vars']\n",
    "            self.W_weights = prior['W_weights']\n",
    "            self.lsmooth = K.cast_to_floatx(1.0*lprior) #fudge factor here to account for relationship between priors\n",
    "        else:\n",
    "            self.lprior = 0\n",
    "            \n",
    "        self.d_spike = d_spike\n",
    "        self.size_stim = size_stim\n",
    "\n",
    "    def __call__(self, x): \n",
    "        xr = K.reshape(x[self.size_stim:], (-1, self.d_spike))\n",
    "        pen = 0.\n",
    "        if self.lgroup > 0:\n",
    "            pen += self.lgroup * np.sqrt(K.int_shape(xr)[1])*K.sum(K.sqrt(K.sum(K.square(xr),axis=1)))\n",
    "        if self.lprior > 0:\n",
    "            pen += self.lprior * K.sum(-K.log(K.epsilon()+K.sum(self.W_weights*K.exp(-0.5*K.square(K.repeat_elements(K.expand_dims(xr[self.i,:],axis=0),self.W_means.shape[0],0)-self.W_means)/self.W_vars),axis=0)))\n",
    "        if self.lsmooth > 0:\n",
    "            pen += self.lsmooth * K.sum(K.square(xr[self.i,:-1]-xr[self.i,1:]))\n",
    "        return pen\n",
    "    \n",
    "class BiasPrior(Regularizer):\n",
    "    \"\"\"Regularizer for group lasso regularization.\n",
    "    # Arguments\n",
    "       l1: Float; L1 regularization factor.\n",
    "       l2: Float; L2 group regularization factor.\n",
    "   \"\"\"\n",
    "\n",
    "    def __init__(self, prior = None, lprior = 0):\n",
    "        if prior is not None:\n",
    "            self.lprior = K.cast_to_floatx(lprior)\n",
    "            self.b_mean = prior['b_mean']\n",
    "            self.b_std = prior['b_std']            \n",
    "        else:\n",
    "            self.lprior = 0\n",
    "\n",
    "\n",
    "    def __call__(self, x): \n",
    "        return self.lprior * K.square((x-self.b_mean)/self.b_std)\n",
    "\n"
   ]
  },
  {
   "cell_type": "code",
   "execution_count": 84,
   "metadata": {},
   "outputs": [],
   "source": [
    "# tells keras not to use the GPU\n",
    "import os\n",
    "os.environ[\"CUDA_DEVICE_ORDER\"] = \"PCI_BUS_ID\"   # see issue #152\n",
    "os.environ[\"CUDA_VISIBLE_DEVICES\"] = \"\"\n",
    "\n",
    "from keras.callbacks import LearningRateScheduler\n",
    "\n",
    "def exp_decay(t):\n",
    "    initial_lrate = 5e-1\n",
    "    k = 0.9\n",
    "    lrate = initial_lrate * k**t\n",
    "    return lrate\n",
    "\n",
    "# Inputs:\n",
    "# stimulus: video shown to the mouse in some form (M pixels x T time points)\n",
    "# spikes: spikes recorded from each neuron in some form (N neurons x T time points)\n",
    "# d_stim: length of stimulus filters in samples\n",
    "# d_spk: length of spike filters in samples\n",
    "# f: string for the firing rate function used. options are {'exp'}\n",
    "# priors: a dictionary of dictionaries, mapping a cell type (string of form '<inh or exc>_<region>_<layer>') to a prior (dictionary with keys 'W_means', 'W_vars', 'W_weights' corresponding to GMM parameters)\n",
    "# cell_types: a list of the cell types for each cell (string of form  '<inh or exc>_<region>_<layer>')\n",
    "\n",
    "def GLM_network_fit(stimulus,spikes,d_stim, d_spk,bin_len,f='exp',priors=None,cell_types=None):\n",
    "    N = spikes.shape[0]\n",
    "#     print(\"N\", N)\n",
    "    M = stimulus.shape[0]\n",
    "#     print(\"M\", M)\n",
    "    F = np.empty((N,M,d_stim)) # stimulus filters\n",
    "    W = np.empty((N,N,d_spk))  # spike train filters\n",
    "    b = np.empty((N,)) # biases\n",
    "    losses = np.empty((N,))\n",
    "    models = []\n",
    "    fs = {'exp':K.exp}\n",
    "    Xdsn = construct_GLM_mat(stimulus,spikes, d_stim, d_spk)\n",
    "    for i in range(N):\n",
    "        y = spikes[i,max(d_stim,d_spk):]\n",
    "        # construct GLM model and return fit\n",
    "        model = Sequential()\n",
    "        model.add(Dense(1,input_dim = Xdsn.shape[1],use_bias=True,\n",
    "                        kernel_regularizer=GroupAndPriors(M*d_stim,d_spk,lgroup=0,lprior = 1e-5,prior=priors[cell_types[i]],i=i),\n",
    "                        kernel_initializer=keras.initializers.RandomUniform(minval=np.min(priors[cell_types[i]]['W_means'][0,:]-2*np.sqrt(priors[cell_types[i]]['W_vars'][0,:])),maxval=np.max(priors[cell_types[i]]['W_means'][-1,:]+2*np.sqrt(priors[cell_types[i]]['W_vars'][-1,:]))),\n",
    "                        bias_regularizer=BiasPrior(prior=priors[cell_types[i]],lprior=1e-5),\n",
    "                        bias_initializer=keras.initializers.RandomNormal(mean=priors[cell_types[i]]['b_mean'],stddev=priors[cell_types[i]]['b_std'])\n",
    "                       ))\n",
    "        model.add(Lambda(lambda x: fs[f](x)*bin_len))\n",
    "        model.compile(loss = 'poisson',optimizer = keras.optimizers.adam(lr=5e-1))\n",
    "#        checkpointer = ModelCheckpoint(filepath='weights.hdf5', verbose=1, save_best_only=False)\n",
    "        model.fit(x=Xdsn,y=y,batch_size=5000,epochs=5,verbose=2,callbacks=[LearningRateScheduler(exp_decay)])\n",
    "        p = model.get_weights()[0]\n",
    "        F[i,:,:] = p[:M*d_stim].reshape((M,d_stim))\n",
    "        W[i,:,:] = p[M*d_stim:].reshape((N,d_spk))\n",
    "        b[i] = model.get_weights()[1]\n",
    "#         losses[i] = model.evaluate(x=Xdsn,y=y,verbose=0)\n",
    "        models.append(model)\n",
    "    return (F,W,b,losses,models)\n"
   ]
  },
  {
   "cell_type": "code",
   "execution_count": 85,
   "metadata": {},
   "outputs": [
    {
     "name": "stdout",
     "output_type": "stream",
     "text": [
      "Epoch 1/5\n",
      " - 54s - loss: 0.1160\n",
      "Epoch 2/5\n",
      " - 53s - loss: 0.1133\n",
      "Epoch 3/5\n",
      " - 53s - loss: 0.1129\n",
      "Epoch 4/5\n",
      " - 53s - loss: 0.1126\n",
      "Epoch 5/5\n",
      " - 53s - loss: 0.1126\n",
      "Epoch 1/5\n",
      " - 54s - loss: 0.1186\n",
      "Epoch 2/5\n",
      " - 53s - loss: 0.1154\n",
      "Epoch 3/5\n",
      " - 53s - loss: 0.1149\n",
      "Epoch 4/5\n",
      " - 53s - loss: 0.1148\n",
      "Epoch 5/5\n",
      " - 53s - loss: 0.1148\n",
      "Epoch 1/5\n",
      " - 54s - loss: 0.1214\n",
      "Epoch 2/5\n",
      " - 53s - loss: 0.1186\n",
      "Epoch 3/5\n",
      " - 53s - loss: 0.1182\n",
      "Epoch 4/5\n",
      " - 53s - loss: 0.1181\n",
      "Epoch 5/5\n",
      " - 53s - loss: 0.1179\n",
      "Epoch 1/5\n",
      " - 54s - loss: 0.1373\n",
      "Epoch 2/5\n",
      " - 53s - loss: 0.1348\n",
      "Epoch 3/5\n",
      " - 53s - loss: 0.1344\n",
      "Epoch 4/5\n",
      " - 53s - loss: 0.1343\n",
      "Epoch 5/5\n",
      " - 53s - loss: 0.1343\n",
      "Epoch 1/5\n",
      " - 54s - loss: 0.1466\n",
      "Epoch 2/5\n",
      " - 53s - loss: 0.1438\n",
      "Epoch 3/5\n",
      " - 53s - loss: 0.1434\n",
      "Epoch 4/5\n",
      " - 53s - loss: 0.1433\n",
      "Epoch 5/5\n",
      " - 53s - loss: 0.1433\n",
      "Epoch 1/5\n",
      " - 54s - loss: 0.1558\n",
      "Epoch 2/5\n",
      " - 53s - loss: 0.1540\n",
      "Epoch 3/5\n",
      " - 53s - loss: 0.1537\n",
      "Epoch 4/5\n",
      " - 53s - loss: 0.1537\n",
      "Epoch 5/5\n",
      " - 53s - loss: 0.1537\n",
      "Epoch 1/5\n",
      " - 54s - loss: 0.1587\n",
      "Epoch 2/5\n",
      " - 53s - loss: 0.1569\n",
      "Epoch 3/5\n",
      " - 53s - loss: 0.1566\n",
      "Epoch 4/5\n",
      " - 53s - loss: 0.1566\n",
      "Epoch 5/5\n",
      " - 53s - loss: 0.1565\n",
      "Epoch 1/5\n",
      " - 55s - loss: 0.1671\n",
      "Epoch 2/5\n",
      " - 53s - loss: 0.1652\n",
      "Epoch 3/5\n",
      " - 53s - loss: 0.1649\n",
      "Epoch 4/5\n",
      " - 53s - loss: 0.1648\n",
      "Epoch 5/5\n",
      " - 53s - loss: 0.1648\n",
      "Epoch 1/5\n",
      " - 55s - loss: 0.1792\n",
      "Epoch 2/5\n",
      " - 53s - loss: 0.1770\n",
      "Epoch 3/5\n",
      " - 53s - loss: 0.1766\n",
      "Epoch 4/5\n",
      " - 53s - loss: 0.1765\n",
      "Epoch 5/5\n",
      " - 53s - loss: 0.1765\n",
      "Epoch 1/5\n",
      " - 55s - loss: 0.1898\n",
      "Epoch 2/5\n",
      " - 53s - loss: 0.1871\n",
      "Epoch 3/5\n",
      " - 53s - loss: 0.1867\n",
      "Epoch 4/5\n",
      " - 53s - loss: 0.1866\n",
      "Epoch 5/5\n",
      " - 53s - loss: 0.1865\n",
      "Epoch 1/5\n",
      " - 55s - loss: 0.1914\n",
      "Epoch 2/5\n",
      " - 53s - loss: 0.1893\n",
      "Epoch 3/5\n",
      " - 53s - loss: 0.1890\n",
      "Epoch 4/5\n",
      " - 53s - loss: 0.1889\n",
      "Epoch 5/5\n",
      " - 53s - loss: 0.1888\n",
      "Epoch 1/5\n",
      " - 55s - loss: 0.1951\n",
      "Epoch 2/5\n",
      " - 53s - loss: 0.1913\n",
      "Epoch 3/5\n",
      " - 53s - loss: 0.1906\n",
      "Epoch 4/5\n",
      " - 53s - loss: 0.1905\n",
      "Epoch 5/5\n",
      " - 53s - loss: 0.1903\n",
      "Epoch 1/5\n",
      " - 55s - loss: 0.1954\n",
      "Epoch 2/5\n",
      " - 53s - loss: 0.1934\n",
      "Epoch 3/5\n",
      " - 53s - loss: 0.1931\n",
      "Epoch 4/5\n",
      " - 53s - loss: 0.1929\n",
      "Epoch 5/5\n",
      " - 53s - loss: 0.1929\n",
      "Epoch 1/5\n",
      " - 55s - loss: 0.2200\n",
      "Epoch 2/5\n",
      " - 53s - loss: 0.2173\n",
      "Epoch 3/5\n",
      " - 53s - loss: 0.2168\n",
      "Epoch 4/5\n",
      " - 53s - loss: 0.2166\n",
      "Epoch 5/5\n",
      " - 53s - loss: 0.2166\n",
      "Epoch 1/5\n",
      " - 55s - loss: 0.2207\n",
      "Epoch 2/5\n",
      " - 53s - loss: 0.2179\n",
      "Epoch 3/5\n",
      " - 53s - loss: 0.2173\n",
      "Epoch 4/5\n",
      " - 53s - loss: 0.2172\n",
      "Epoch 5/5\n",
      " - 53s - loss: 0.2172\n",
      "Epoch 1/5\n",
      " - 55s - loss: 0.2278\n",
      "Epoch 2/5\n",
      " - 53s - loss: 0.2258\n",
      "Epoch 3/5\n",
      " - 53s - loss: 0.2255\n",
      "Epoch 4/5\n",
      " - 53s - loss: 0.2254\n",
      "Epoch 5/5\n",
      " - 53s - loss: 0.2253\n",
      "Epoch 1/5\n",
      " - 55s - loss: 0.2422\n",
      "Epoch 2/5\n",
      " - 53s - loss: 0.2401\n",
      "Epoch 3/5\n",
      " - 53s - loss: 0.2399\n",
      "Epoch 4/5\n",
      " - 53s - loss: 0.2398\n",
      "Epoch 5/5\n",
      " - 53s - loss: 0.2398\n",
      "Epoch 1/5\n",
      " - 55s - loss: 0.2540\n",
      "Epoch 2/5\n",
      " - 53s - loss: 0.2521\n",
      "Epoch 3/5\n",
      " - 53s - loss: 0.2518\n",
      "Epoch 4/5\n",
      " - 53s - loss: 0.2517\n",
      "Epoch 5/5\n",
      " - 53s - loss: 0.2516\n",
      "Epoch 1/5\n",
      " - 55s - loss: 0.2774\n",
      "Epoch 2/5\n",
      " - 53s - loss: 0.2742\n",
      "Epoch 3/5\n",
      " - 53s - loss: 0.2737\n",
      "Epoch 4/5\n",
      " - 53s - loss: 0.2736\n",
      "Epoch 5/5\n",
      " - 53s - loss: 0.2735\n",
      "Epoch 1/5\n",
      " - 55s - loss: 0.2793\n",
      "Epoch 2/5\n",
      " - 53s - loss: 0.2765\n",
      "Epoch 3/5\n",
      " - 53s - loss: 0.2761\n",
      "Epoch 4/5\n",
      " - 53s - loss: 0.2760\n",
      "Epoch 5/5\n",
      " - 53s - loss: 0.2760\n",
      "Epoch 1/5\n",
      " - 55s - loss: 0.2799\n",
      "Epoch 2/5\n",
      " - 53s - loss: 0.2783\n",
      "Epoch 3/5\n",
      " - 53s - loss: 0.2780\n",
      "Epoch 4/5\n",
      " - 53s - loss: 0.2779\n",
      "Epoch 5/5\n",
      " - 53s - loss: 0.2779\n",
      "Epoch 1/5\n",
      " - 55s - loss: 0.3286\n",
      "Epoch 2/5\n",
      " - 53s - loss: 0.3261\n",
      "Epoch 3/5\n",
      " - 53s - loss: 0.3256\n",
      "Epoch 4/5\n",
      " - 53s - loss: 0.3255\n",
      "Epoch 5/5\n",
      " - 53s - loss: 0.3255\n",
      "Epoch 1/5\n",
      " - 55s - loss: 0.3873\n",
      "Epoch 2/5\n",
      " - 53s - loss: 0.3852\n",
      "Epoch 3/5\n",
      " - 53s - loss: 0.3848\n",
      "Epoch 4/5\n",
      " - 53s - loss: 0.3847\n",
      "Epoch 5/5\n",
      " - 53s - loss: 0.3846\n",
      "Epoch 1/5\n",
      " - 55s - loss: 0.4287\n",
      "Epoch 2/5\n",
      " - 53s - loss: 0.4261\n",
      "Epoch 3/5\n",
      " - 53s - loss: 0.4257\n",
      "Epoch 4/5\n",
      " - 53s - loss: 0.4255\n",
      "Epoch 5/5\n",
      " - 53s - loss: 0.4255\n",
      "Epoch 1/5\n",
      " - 55s - loss: 0.6618\n",
      "Epoch 2/5\n",
      " - 53s - loss: 0.6595\n",
      "Epoch 3/5\n",
      " - 53s - loss: 0.6590\n",
      "Epoch 4/5\n",
      " - 53s - loss: 0.6589\n",
      "Epoch 5/5\n",
      " - 53s - loss: 0.6589\n"
     ]
    }
   ],
   "source": [
    "d = 40\n",
    "(F, W, b, losses, models) = GLM_network_fit(np.array(stim_array).T,reduced_binned_spikes,d,d, bin_len,priors=priors, cell_types=cell_types)\n"
   ]
  },
  {
   "cell_type": "code",
   "execution_count": 86,
   "metadata": {},
   "outputs": [],
   "source": [
    "np.savez('net_fit_priors3',F=F,W=W,b=b,losses=losses)"
   ]
  },
  {
   "cell_type": "code",
   "execution_count": 109,
   "metadata": {},
   "outputs": [
    {
     "name": "stdout",
     "output_type": "stream",
     "text": [
      "exc_VISp_5\n"
     ]
    },
    {
     "data": {
      "image/png": "[encoded data removed]",
      "text/plain": [
       "<Figure size 432x288 with 1 Axes>"
      ]
     },
     "metadata": {},
     "output_type": "display_data"
    }
   ],
   "source": [
    "i=24\n",
    "plt.plot(W[i,i,:])\n",
    "print cell_types[i]\n",
    "np.logspace()"
   ]
  },
  {
   "cell_type": "code",
   "execution_count": 68,
   "metadata": {},
   "outputs": [
    {
     "name": "stdout",
     "output_type": "stream",
     "text": [
      "-3.328787425468708 -3.3347363471984863\n"
     ]
    }
   ],
   "source": [
    "print priors[cell_types[1]]['b_mean'], b[1]"
   ]
  },
  {
   "cell_type": "code",
   "execution_count": 77,
   "metadata": {},
   "outputs": [
    {
     "data": {
      "text/plain": [
       "[<matplotlib.lines.Line2D at 0x7fdeff8f0410>,\n",
       " <matplotlib.lines.Line2D at 0x7fdeff8f04d0>]"
      ]
     },
     "execution_count": 77,
     "metadata": {},
     "output_type": "execute_result"
    },
    {
     "data": {
      "image/png": "[encoded data removed]",
      "text/plain": [
       "<Figure size 432x288 with 1 Axes>"
      ]
     },
     "metadata": {},
     "output_type": "display_data"
    }
   ],
   "source": [
    "plt.plot(priors['inh_VISp_5']['W_means'].T)"
   ]
  },
  {
   "cell_type": "code",
   "execution_count": 78,
   "metadata": {},
   "outputs": [
    {
     "data": {
      "text/plain": [
       "[<matplotlib.lines.Line2D at 0x7fdeff06f6d0>,\n",
       " <matplotlib.lines.Line2D at 0x7fdeff06f790>]"
      ]
     },
     "execution_count": 78,
     "metadata": {},
     "output_type": "execute_result"
    },
    {
     "data": {
      "image/png": "[encoded data removed]",
      "text/plain": [
       "<Figure size 432x288 with 1 Axes>"
      ]
     },
     "metadata": {},
     "output_type": "display_data"
    }
   ],
   "source": [
    "plt.plot(priors['inh_VISp_5']['W_weights'].T)"
   ]
  },
  {
   "cell_type": "code",
   "execution_count": 87,
   "metadata": {},
   "outputs": [
    {
     "name": "stdout",
     "output_type": "stream",
     "text": [
      "[61 90]\n",
      "0.5\n"
     ]
    }
   ],
   "source": [
    "def evaluate_network(stimulus,spikes, d_stim, d_spk, models):\n",
    "    N = spikes.shape[0]\n",
    "    loss = 0\n",
    "    Xdsn = construct_GLM_mat(stimulus,spikes, d_stim, d_spk)\n",
    "    for i in range(N):\n",
    "        y = spikes[i,max(d_stim,d_spk):]\n",
    "        loss += models[i].evaluate(x=Xdsn, y=y, batch_size = 100000000, verbose=0)\n",
    "        if loss is list:\n",
    "            loss = loss[0]\n",
    "    return loss\n",
    "\n",
    "val_per_img = 40\n",
    "num_correct = 0\n",
    "n_img_val = 2\n",
    "img_inds = np.argsort(np.bincount(stim_table[stim_table.frame>=0].frame.values[:num_stim_rows].astype(int)))[-n_img_val:]\n",
    "print img_inds\n",
    "for img in imgs[img_inds]:\n",
    "    for i in range(val_per_img):\n",
    "        t_start = stim_table[(stim_table.index>num_stim_rows) & (stim_table.frame==img)].start.values[i]\n",
    "        t_end = stim_table[(stim_table.index>num_stim_rows) & (stim_table.frame==img)].end.values[i]\n",
    "        (binned_spikes, _) = bin_spikes(data_set,bin_len,t_start,t_end,regions=['VISp'])\n",
    "        reduced_binned_spikes = binned_spikes[cell_idxs[-k:],:]\n",
    "        T = reduced_binned_spikes.shape[1]\n",
    "        losses = []\n",
    "        for check_img in imgs[img_inds]:\n",
    "            flat_stimulus = np.tile(np.expand_dims(flattened_image_list[int(check_img)],1),(1,T)) #flatten check_img for the right number of time points\n",
    "            losses.append(evaluate_network(flat_stimulus,reduced_binned_spikes,d,d,models))\n",
    "        if imgs[img_inds[np.argmin(losses)]] == img:\n",
    "            num_correct += 1\n",
    "accuracy = num_correct*1.0/(val_per_img*n_img_val)\n",
    "print accuracy"
   ]
  },
  {
   "cell_type": "code",
   "execution_count": 88,
   "metadata": {},
   "outputs": [],
   "source": [
    "np.savez('net_fit_priors3',F=F,W=W,b=b,losses=losses,accuracy=accuracy)"
   ]
  },
  {
   "cell_type": "code",
   "execution_count": null,
   "metadata": {},
   "outputs": [],
   "source": [
    "#kernel_regularizer=SparseGroupLasso(M*d_stim,d_spk,lgroup=0))"
   ]
  },
  {
   "cell_type": "code",
   "execution_count": 49,
   "metadata": {},
   "outputs": [
    {
     "data": {
      "text/plain": [
       "(2,)"
      ]
     },
     "execution_count": 49,
     "metadata": {},
     "output_type": "execute_result"
    }
   ],
   "source": [
    "norms = np.linalg.norm(W[0], axis = 1)\n",
    "norms.shape"
   ]
  },
  {
   "cell_type": "code",
   "execution_count": 50,
   "metadata": {},
   "outputs": [
    {
     "data": {
      "image/png": "[encoded data removed]",
      "text/plain": [
       "<Figure size 432x288 with 1 Axes>"
      ]
     },
     "metadata": {},
     "output_type": "display_data"
    }
   ],
   "source": [
    "plt.hist(norms, bins = 50);"
   ]
  },
  {
   "cell_type": "code",
   "execution_count": 67,
   "metadata": {},
   "outputs": [
    {
     "name": "stdout",
     "output_type": "stream",
     "text": [
      "28.0\n",
      "(array([-2.81284339]), array([0.00491056]))\n"
     ]
    }
   ],
   "source": [
    "from statsmodels.stats.proportion import proportions_ztest\n",
    "print 0.35*80\n",
    "print proportions_ztest([28],[80],value=0.5)"
   ]
  },
  {
   "cell_type": "code",
   "execution_count": null,
   "metadata": {},
   "outputs": [],
   "source": [
    "# def construct_GLM_mat(flat_stimulus, binned_spikes, i, d_stim, d_spk):\n",
    "#     (N,T) = binned_spikes.shape # N is number of neurons, T is number of time bins\n",
    "#     print(\"T\",T)\n",
    "#     (M,T) = flat_stimulus.shape # M is the size of a stimulus\n",
    "#     X_dsn = np.empty((T-d_stim+1,M*d_stim+N*d_spk))\n",
    "#     d_max = max(d_stim,d_spk)\n",
    "#     y = np.empty((T-d_max+1,))\n",
    "#     for t in range(T-d_max+1):\n",
    "#         y[t] = binned_spikes[i,t+d_max-1]\n",
    "#         X_dsn[t,:M*d_stim] = flat_stimulus[:,t+d_max-d_stim:t+d_max].reshape((1,-1))\n",
    "#         X_dsn[t,M*d_stim:] = binned_spikes[:,t+d_max-d_spk:t+d_max].reshape((1,-1))\n",
    "#     return (y, X_dsn)   "
   ]
  },
  {
   "cell_type": "code",
   "execution_count": null,
   "metadata": {},
   "outputs": [],
   "source": [
    "# import keras\n",
    "# from keras import backend as K\n",
    "# from keras.models import Model\n",
    "# from keras.layers import Input\n",
    "# from keras import Sequential\n",
    "# from keras.layers import Dense, Lambda\n",
    "# from keras.regularizers import Regularizer\n",
    "# def GLM_network_fit(stimulus,spikes,d_stim, d_spk,bin_len,f='exp',priors=None,L1=None):\n",
    "#     N = spikes.shape[0]\n",
    "#     print(\"N\", N)\n",
    "#     M = stimulus.shape[0]\n",
    "#     print(\"M\", M)\n",
    "#     F = np.empty((N,M,d_stim)) # stimulus filters\n",
    "#     W = np.empty((N,N,d_spk))  # spike train filters\n",
    "#     b = np.empty((N,)) # biases\n",
    "#     fs = {'exp':K.exp}\n",
    "#     for i in range(1):\n",
    "#         [y, Xdsn] = construct_GLM_mat(np.array(stim_array), binned_spikes, i, d_stim, d_spk)\n",
    "#         print(\"yshape\",y.shape)\n",
    "#         model = Sequential()\n",
    "#         model.add(Dense(1,input_dim = Xdsn.shape[1],use_bias=True, kernel_regularizer=SparseGroupLasso(M*d_stim,d_spk,lgroup=1e-10)))\n",
    "#         model.add(Lambda(lambda x: fs[f](x)*bin_len))\n",
    "#         model.compile(loss = 'poisson',optimizer = keras.optimizers.adam(lr=5e-1))\n",
    "#         model.fit(x=Xdsn,y=y,epochs=50, batch_size = 1000,  verbose=1)\n",
    "#         p = model.get_weights()[0]\n",
    "#         print(\"pshape\", p.shape)\n",
    "#         print(\"Mdstim\", M*d_stim)\n",
    "#         F[i,:,:] = p[:M*d_stim].reshape((M,d_stim))\n",
    "#         W[i,:,:] = p[M*d_stim:].reshape((N,d_spk))\n",
    "#         b[i] = model.get_weights()[1]\n",
    "#     return (F,W,b)\n"
   ]
  }
 ],
 "metadata": {
  "kernelspec": {
   "display_name": "conda_tensorflow_p27",
   "language": "python",
   "name": "conda_tensorflow_p27"
  },
  "language_info": {
   "codemirror_mode": {
    "name": "ipython",
    "version": 2
   },
   "file_extension": ".py",
   "mimetype": "text/x-python",
   "name": "python",
   "nbconvert_exporter": "python",
   "pygments_lexer": "ipython2",
   "version": "2.7.15"
  }
 },
 "nbformat": 4,
 "nbformat_minor": 2
}
